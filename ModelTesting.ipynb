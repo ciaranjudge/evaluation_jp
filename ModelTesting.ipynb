{
 "cells": [
  {
   "cell_type": "markdown",
   "metadata": {},
   "source": [
    "# Model testing"
   ]
  },
  {
   "cell_type": "markdown",
   "metadata": {},
   "source": [
    "## import modules and merge data"
   ]
  },
  {
   "cell_type": "code",
   "execution_count": 1,
   "metadata": {},
   "outputs": [
    {
     "name": "stderr",
     "output_type": "stream",
     "text": [
      "C:\\ProgramData\\Anaconda3\\lib\\site-packages\\statsmodels\\compat\\pandas.py:56: FutureWarning: The pandas.core.datetools module is deprecated and will be removed in a future version. Please use the pandas.tseries module instead.\n",
      "  from pandas.core import datetools\n"
     ]
    }
   ],
   "source": [
    "\n",
    "import sys\n",
    "import pandas as pd              # python package for dataframes\n",
    "import os                        # used to change directory paths\n",
    "import matplotlib.pyplot as plt  # python package for plotting\n",
    "import numpy as np\n",
    "import seaborn as sns #package for plotting\n",
    "from scipy.stats import norm\n",
    "from sklearn.preprocessing import StandardScaler\n",
    "from scipy import stats\n",
    "from IPython.display import display, HTML  # Make tables pretty\n",
    "from datetime import datetime\n",
    "from sklearn.ensemble import RandomForestClassifier, RandomForestRegressor\n",
    "from sklearn.linear_model import LogisticRegression\n",
    "from sklearn.metrics import roc_curve\n",
    "from sklearn.metrics import roc_auc_score\n",
    "from sklearn import preprocessing\n",
    "from sklearn.linear_model import Lasso\n",
    "from sklearn.model_selection import GridSearchCV\n",
    "from sklearn.model_selection import cross_val_score\n",
    "from sklearn.neighbors import KNeighborsClassifier\n",
    "from sklearn.metrics import classification_report\n",
    "from sklearn.metrics import confusion_matrix\n",
    "from sklearn.naive_bayes import GaussianNB\n",
    "from sklearn.calibration import CalibratedClassifierCV\n",
    "from sklearn.preprocessing import LabelEncoder\n",
    "from sklearn.model_selection import train_test_split\n",
    "import statsmodels.api as sm\n",
    "#import sklearn.cross_validation.Bootstrap as bootstrap\n",
    "import scipy\n",
    "import zipfile\n",
    "import gzip\n",
    "\n",
    "#no need to open here\n",
    "#with gzip.open('\\\\\\\\cskma0294\\\\F\\\\Evaluations\\\\JobPath\\\\WeeklyStatus_flags2018-12-28.gz') as f:\n",
    "#    df= pd.read_csv(f).iloc[:,1:] # drop 1st column (an artefact of the zipping process)\n",
    "                            \n",
    "#df.head()"
   ]
  },
  {
   "cell_type": "code",
   "execution_count": 2,
   "metadata": {
    "collapsed": true
   },
   "outputs": [],
   "source": [
    "path_data = \"\\\\\\cskma0294\\\\F\\\\Evaluations\\\\JobPath\"\n",
    "os.chdir(path_data)\n",
    "\n",
    "#df = pd.read_csv('Dec2015_anonx.csv', parse_dates = ['StartDate', 'EndDate', 'dob'])\n",
    "# %% [markdown]\n",
    "# ## Import outcomes dataset and tidy up\n",
    "\n",
    "# %%\n",
    "df = pd.read_csv(\"jp_outcomes.csv\")\n"
   ]
  },
  {
   "cell_type": "code",
   "execution_count": 3,
   "metadata": {
    "collapsed": true
   },
   "outputs": [],
   "source": [
    "\n",
    "# Convert floats to ints to make reporting easier\n",
    "numerics = [\"float64\"]\n",
    "for col in df.select_dtypes(include=numerics).columns:\n",
    "    if df[col].isnull().sum() == 0:\n",
    "        # print(col)\n",
    "        df[col] = df[col].astype(\"int\")\n",
    "# for col in df.columns:\n",
    "#     print(col)\n"
   ]
  },
  {
   "cell_type": "code",
   "execution_count": 4,
   "metadata": {
    "collapsed": true
   },
   "outputs": [],
   "source": [
    "path_data = \"\\\\\\cskma0294\\\\F\\\\Evaluations\\\\JobPath\\\\Quarterly_status\"\n",
    "os.chdir(path_data)\n",
    "\n",
    "#df = pd.read_csv('Dec2015_anonx.csv', parse_dates = ['StartDate', 'EndDate', 'dob'])\n",
    "# %% [markdown]\n",
    "# ## Import outcomes dataset and tidy up\n",
    "\n",
    "# %%\n",
    "df_shares = pd.read_csv(\"shares_2017.zip\")\n",
    "df2=pd.merge(df, df_shares, on='ppsn', how='left')"
   ]
  },
  {
   "cell_type": "code",
   "execution_count": 5,
   "metadata": {},
   "outputs": [
    {
     "name": "stderr",
     "output_type": "stream",
     "text": [
      "C:\\ProgramData\\Anaconda3\\lib\\site-packages\\pandas\\core\\indexing.py:179: SettingWithCopyWarning: \n",
      "A value is trying to be set on a copy of a slice from a DataFrame\n",
      "\n",
      "See the caveats in the documentation: http://pandas.pydata.org/pandas-docs/stable/indexing.html#indexing-view-versus-copy\n",
      "  self._setitem_with_indexer(indexer, value)\n"
     ]
    }
   ],
   "source": [
    "# Tidy up T and C columns to make processing easier\n",
    "periods = []\n",
    "for i in range(1, 9):\n",
    "    this_period = 'period_'+str(i)\n",
    "    df2[this_period] = df2['Group'+str(i)].str[:1]\n",
    "    periods.append(this_period)\n",
    "\n",
    "# Eliminate earlier T people from later period C\n",
    "for i in range(1, 9):\n",
    "    for j in range(i+1, 9):\n",
    "        df2['period_'+str(j)].loc[df2['period_'+str(i)] == 'T'] = 0\n",
    "\n",
    "# %% [markdown]\n",
    "# ## Look - a group triangle!\n",
    "\n"
   ]
  },
  {
   "cell_type": "code",
   "execution_count": 7,
   "metadata": {
    "collapsed": true
   },
   "outputs": [],
   "source": [
    "\n",
    "ys=[]\n",
    "for i in range(1,9):\n",
    "    this_period = 'period_'+str(i)\n",
    "    this_y='y_'+str(i)\n",
    "    df2[this_y] = df2[this_period].replace(['T', 'C', '0'],[1, 0, np.NaN])\n",
    "    ys.append(this_y)\n"
   ]
  },
  {
   "cell_type": "code",
   "execution_count": 8,
   "metadata": {
    "scrolled": true
   },
   "outputs": [
    {
     "data": {
      "text/plain": [
       "0.0    88767\n",
       "1.0     5581\n",
       "Name: y_1, dtype: int64"
      ]
     },
     "execution_count": 8,
     "metadata": {},
     "output_type": "execute_result"
    }
   ],
   "source": [
    "df2['y_1'].value_counts()\n"
   ]
  },
  {
   "cell_type": "code",
   "execution_count": 10,
   "metadata": {},
   "outputs": [
    {
     "data": {
      "text/html": [
       "<div>\n",
       "<style>\n",
       "    .dataframe thead tr:only-child th {\n",
       "        text-align: right;\n",
       "    }\n",
       "\n",
       "    .dataframe thead th {\n",
       "        text-align: left;\n",
       "    }\n",
       "\n",
       "    .dataframe tbody tr th {\n",
       "        vertical-align: top;\n",
       "    }\n",
       "</style>\n",
       "<table border=\"1\" class=\"dataframe\">\n",
       "  <thead>\n",
       "    <tr style=\"text-align: right;\">\n",
       "      <th></th>\n",
       "      <th>Unnamed: 0</th>\n",
       "      <th>id</th>\n",
       "      <th>ppsn</th>\n",
       "      <th>cluster</th>\n",
       "      <th>age</th>\n",
       "      <th>duration_days_0</th>\n",
       "      <th>sex</th>\n",
       "      <th>LM_code_rank_P1</th>\n",
       "      <th>occupation_rank_P1</th>\n",
       "      <th>ada_code_rank_P1</th>\n",
       "      <th>...</th>\n",
       "      <th>period_7</th>\n",
       "      <th>period_8</th>\n",
       "      <th>y_1</th>\n",
       "      <th>y_2</th>\n",
       "      <th>y_3</th>\n",
       "      <th>y_4</th>\n",
       "      <th>y_5</th>\n",
       "      <th>y_6</th>\n",
       "      <th>y_7</th>\n",
       "      <th>y_8</th>\n",
       "    </tr>\n",
       "  </thead>\n",
       "  <tbody>\n",
       "    <tr>\n",
       "      <th>0</th>\n",
       "      <td>0</td>\n",
       "      <td>0</td>\n",
       "      <td>0099665M</td>\n",
       "      <td>2</td>\n",
       "      <td>54</td>\n",
       "      <td>6316</td>\n",
       "      <td>1</td>\n",
       "      <td>6</td>\n",
       "      <td>2.0</td>\n",
       "      <td>5</td>\n",
       "      <td>...</td>\n",
       "      <td>0</td>\n",
       "      <td>0</td>\n",
       "      <td>0.0</td>\n",
       "      <td>0.0</td>\n",
       "      <td>1.0</td>\n",
       "      <td>0.0</td>\n",
       "      <td>0.0</td>\n",
       "      <td>0.0</td>\n",
       "      <td>0.0</td>\n",
       "      <td>0.0</td>\n",
       "    </tr>\n",
       "    <tr>\n",
       "      <th>1</th>\n",
       "      <td>1</td>\n",
       "      <td>1</td>\n",
       "      <td>0206477C</td>\n",
       "      <td>2</td>\n",
       "      <td>59</td>\n",
       "      <td>3964</td>\n",
       "      <td>2</td>\n",
       "      <td>6</td>\n",
       "      <td>5.0</td>\n",
       "      <td>5</td>\n",
       "      <td>...</td>\n",
       "      <td>C</td>\n",
       "      <td>C</td>\n",
       "      <td>0.0</td>\n",
       "      <td>0.0</td>\n",
       "      <td>0.0</td>\n",
       "      <td>0.0</td>\n",
       "      <td>0.0</td>\n",
       "      <td>0.0</td>\n",
       "      <td>0.0</td>\n",
       "      <td>0.0</td>\n",
       "    </tr>\n",
       "    <tr>\n",
       "      <th>2</th>\n",
       "      <td>2</td>\n",
       "      <td>2</td>\n",
       "      <td>0202920T</td>\n",
       "      <td>2</td>\n",
       "      <td>59</td>\n",
       "      <td>1285</td>\n",
       "      <td>2</td>\n",
       "      <td>6</td>\n",
       "      <td>7.0</td>\n",
       "      <td>4</td>\n",
       "      <td>...</td>\n",
       "      <td>0</td>\n",
       "      <td>0</td>\n",
       "      <td>0.0</td>\n",
       "      <td>1.0</td>\n",
       "      <td>0.0</td>\n",
       "      <td>0.0</td>\n",
       "      <td>0.0</td>\n",
       "      <td>0.0</td>\n",
       "      <td>0.0</td>\n",
       "      <td>0.0</td>\n",
       "    </tr>\n",
       "    <tr>\n",
       "      <th>3</th>\n",
       "      <td>3</td>\n",
       "      <td>3</td>\n",
       "      <td>0205276K</td>\n",
       "      <td>5</td>\n",
       "      <td>55</td>\n",
       "      <td>1415</td>\n",
       "      <td>2</td>\n",
       "      <td>6</td>\n",
       "      <td>2.0</td>\n",
       "      <td>6</td>\n",
       "      <td>...</td>\n",
       "      <td>0</td>\n",
       "      <td>0</td>\n",
       "      <td>NaN</td>\n",
       "      <td>NaN</td>\n",
       "      <td>NaN</td>\n",
       "      <td>NaN</td>\n",
       "      <td>NaN</td>\n",
       "      <td>NaN</td>\n",
       "      <td>NaN</td>\n",
       "      <td>NaN</td>\n",
       "    </tr>\n",
       "    <tr>\n",
       "      <th>4</th>\n",
       "      <td>4</td>\n",
       "      <td>4</td>\n",
       "      <td>0202425J</td>\n",
       "      <td>2</td>\n",
       "      <td>59</td>\n",
       "      <td>2445</td>\n",
       "      <td>2</td>\n",
       "      <td>6</td>\n",
       "      <td>7.0</td>\n",
       "      <td>5</td>\n",
       "      <td>...</td>\n",
       "      <td>C</td>\n",
       "      <td>C</td>\n",
       "      <td>0.0</td>\n",
       "      <td>0.0</td>\n",
       "      <td>0.0</td>\n",
       "      <td>0.0</td>\n",
       "      <td>0.0</td>\n",
       "      <td>0.0</td>\n",
       "      <td>0.0</td>\n",
       "      <td>0.0</td>\n",
       "    </tr>\n",
       "  </tbody>\n",
       "</table>\n",
       "<p>5 rows × 163 columns</p>\n",
       "</div>"
      ],
      "text/plain": [
       "   Unnamed: 0  id      ppsn  cluster  age  duration_days_0  sex  \\\n",
       "0           0   0  0099665M        2   54             6316    1   \n",
       "1           1   1  0206477C        2   59             3964    2   \n",
       "2           2   2  0202920T        2   59             1285    2   \n",
       "3           3   3  0205276K        5   55             1415    2   \n",
       "4           4   4  0202425J        2   59             2445    2   \n",
       "\n",
       "   LM_code_rank_P1  occupation_rank_P1  ada_code_rank_P1 ...   period_7  \\\n",
       "0                6                 2.0                 5 ...          0   \n",
       "1                6                 5.0                 5 ...          C   \n",
       "2                6                 7.0                 4 ...          0   \n",
       "3                6                 2.0                 6 ...          0   \n",
       "4                6                 7.0                 5 ...          C   \n",
       "\n",
       "   period_8  y_1  y_2  y_3  y_4  y_5  y_6  y_7  y_8  \n",
       "0         0  0.0  0.0  1.0  0.0  0.0  0.0  0.0  0.0  \n",
       "1         C  0.0  0.0  0.0  0.0  0.0  0.0  0.0  0.0  \n",
       "2         0  0.0  1.0  0.0  0.0  0.0  0.0  0.0  0.0  \n",
       "3         0  NaN  NaN  NaN  NaN  NaN  NaN  NaN  NaN  \n",
       "4         C  0.0  0.0  0.0  0.0  0.0  0.0  0.0  0.0  \n",
       "\n",
       "[5 rows x 163 columns]"
      ]
     },
     "execution_count": 10,
     "metadata": {},
     "output_type": "execute_result"
    }
   ],
   "source": [
    "df2.head()"
   ]
  },
  {
   "cell_type": "markdown",
   "metadata": {},
   "source": [
    "### Select features"
   ]
  },
  {
   "cell_type": "code",
   "execution_count": 11,
   "metadata": {
    "scrolled": true
   },
   "outputs": [
    {
     "name": "stderr",
     "output_type": "stream",
     "text": [
      "C:\\ProgramData\\Anaconda3\\lib\\site-packages\\ipykernel_launcher.py:29: SettingWithCopyWarning: \n",
      "A value is trying to be set on a copy of a slice from a DataFrame.\n",
      "Try using .loc[row_indexer,col_indexer] = value instead\n",
      "\n",
      "See the caveats in the documentation: http://pandas.pydata.org/pandas-docs/stable/indexing.html#indexing-view-versus-copy\n"
     ]
    }
   ],
   "source": [
    "#features =['sw_pay_mean_1315', 'earn_tot_mean_1315', 'age', 'occupation_rank_P1','Duration Bands', 'cluster', \n",
    "#  'family_flag_rank_P1', 'WSW_13_15share', 'Ed_or_Training_13_15share', 'LM_WSW_13_15share']\n",
    "features =['sw_pay_mean_1315', \n",
    "           'earn_tot_mean_1315', \n",
    "           'age', \n",
    "           'occupation_rank_P1',\n",
    "          'Duration Bands',\n",
    "           #'LM_code_rank_P1',\n",
    "          #'LM_WSW_13_15share',\n",
    "           #'family_flag_rank_P1',\n",
    "           #'LM_WSW_13_15share',\n",
    "           #'hist_lr_0',\n",
    "           #'total_duration_days',\n",
    "           # 'Duration Bands',\n",
    "           #'Empl_13_15share',\n",
    "            #'Empl_13_15sum',\n",
    " 'Ed_or_Training_13_15share',\n",
    " #'Ed_or_Training_13_15sum',\n",
    " 'LM_WSW_13_15share',\n",
    " #'LM_WSW_13_15sum',\n",
    " #'LR_13_15share',\n",
    " #'LR_13_15sum',\n",
    " 'WSW_13_15share',\n",
    " #'WSW_13_15sum',\n",
    "           #'Ed_or_Training_13_15share',\n",
    "          ]\n",
    "\n",
    "df = df2[features] # to enforce column order\n",
    "df['y']=df2['y_1']\n",
    "#y=['y_1']\n"
   ]
  },
  {
   "cell_type": "code",
   "execution_count": 12,
   "metadata": {},
   "outputs": [
    {
     "data": {
      "text/plain": [
       "0.0    88767\n",
       "1.0     5581\n",
       "Name: y, dtype: int64"
      ]
     },
     "execution_count": 12,
     "metadata": {},
     "output_type": "execute_result"
    }
   ],
   "source": [
    "df['y'].value_counts()"
   ]
  },
  {
   "cell_type": "code",
   "execution_count": 13,
   "metadata": {},
   "outputs": [
    {
     "data": {
      "text/plain": [
       "['sw_pay_mean_1315',\n",
       " 'earn_tot_mean_1315',\n",
       " 'age',\n",
       " 'occupation_rank_P1',\n",
       " 'Duration Bands',\n",
       " 'Ed_or_Training_13_15share',\n",
       " 'LM_WSW_13_15share',\n",
       " 'WSW_13_15share',\n",
       " 'y']"
      ]
     },
     "execution_count": 13,
     "metadata": {},
     "output_type": "execute_result"
    }
   ],
   "source": [
    "\n",
    "df=df.dropna()\n",
    "list(df)\n"
   ]
  },
  {
   "cell_type": "code",
   "execution_count": 14,
   "metadata": {
    "collapsed": true
   },
   "outputs": [],
   "source": [
    "y=df['y'].values\n",
    "X=df.drop('y', axis='columns').values"
   ]
  },
  {
   "cell_type": "code",
   "execution_count": 74,
   "metadata": {},
   "outputs": [
    {
     "data": {
      "text/plain": [
       "(91352, 8)"
      ]
     },
     "execution_count": 74,
     "metadata": {},
     "output_type": "execute_result"
    }
   ],
   "source": [
    "X.shape"
   ]
  },
  {
   "cell_type": "markdown",
   "metadata": {},
   "source": [
    "## train test split"
   ]
  },
  {
   "cell_type": "code",
   "execution_count": 80,
   "metadata": {
    "collapsed": true
   },
   "outputs": [],
   "source": [
    "X_train, X_test, y_train, y_test = train_test_split(X, y, test_size=0.4, random_state=21, stratify=y)"
   ]
  },
  {
   "cell_type": "markdown",
   "metadata": {},
   "source": [
    "## Testing K-nearest neighbours"
   ]
  },
  {
   "cell_type": "code",
   "execution_count": 62,
   "metadata": {
    "collapsed": true
   },
   "outputs": [],
   "source": [
    "knn = KNeighborsClassifier(n_neighbors=3)"
   ]
  },
  {
   "cell_type": "code",
   "execution_count": 19,
   "metadata": {},
   "outputs": [
    {
     "data": {
      "text/plain": [
       "KNeighborsClassifier(algorithm='auto', leaf_size=30, metric='minkowski',\n",
       "           metric_params=None, n_jobs=1, n_neighbors=3, p=2,\n",
       "           weights='uniform')"
      ]
     },
     "execution_count": 19,
     "metadata": {},
     "output_type": "execute_result"
    }
   ],
   "source": [
    "knn.fit(X_train, y_train)"
   ]
  },
  {
   "cell_type": "code",
   "execution_count": 20,
   "metadata": {
    "collapsed": true
   },
   "outputs": [],
   "source": [
    "y_pred = knn.predict(X_test)"
   ]
  },
  {
   "cell_type": "code",
   "execution_count": 21,
   "metadata": {},
   "outputs": [
    {
     "name": "stdout",
     "output_type": "stream",
     "text": [
      "0.930762704907\n"
     ]
    }
   ],
   "source": [
    "print(knn.score(X_test, y_test))"
   ]
  },
  {
   "cell_type": "code",
   "execution_count": 22,
   "metadata": {},
   "outputs": [
    {
     "name": "stdout",
     "output_type": "stream",
     "text": [
      "[[33980   370]\n",
      " [ 2160    31]]\n",
      "             precision    recall  f1-score   support\n",
      "\n",
      "        0.0       0.94      0.99      0.96     34350\n",
      "        1.0       0.08      0.01      0.02      2191\n",
      "\n",
      "avg / total       0.89      0.93      0.91     36541\n",
      "\n"
     ]
    }
   ],
   "source": [
    "print(confusion_matrix(y_test, y_pred))\n",
    "print(classification_report(y_test, y_pred))\n"
   ]
  },
  {
   "cell_type": "code",
   "execution_count": 64,
   "metadata": {},
   "outputs": [
    {
     "name": "stdout",
     "output_type": "stream",
     "text": [
      "0.940039955119\n"
     ]
    },
    {
     "data": {
      "image/png": "[encoded data removed]",
      "text/plain": [
       "<matplotlib.figure.Figure at 0xe538908>"
      ]
     },
     "metadata": {},
     "output_type": "display_data"
    }
   ],
   "source": [
    "neighbors = np.arange(1, 15)\n",
    "train_accuracy = np.empty(len(neighbors))\n",
    "test_accuracy = np.empty(len(neighbors))\n",
    "\n",
    "for i, k in enumerate(neighbors):\n",
    "    # Setup a k-NN Classifier with k neighbors: knn\n",
    "    knn =KNeighborsClassifier(n_neighbors=i)\n",
    "\n",
    "    # Fit the classifier to the training data\n",
    "knn.fit(X_train, y_train)\n",
    "   \n",
    "    #Compute accuracy on the training set\n",
    "train_accuracy[i] = knn.score(X_train, y_train)\n",
    "\n",
    "    #Compute accuracy on the testing set\n",
    "test_accuracy[i] = knn.score(X_test, y_test)\n",
    "print(test_accuracy[i])    \n",
    "\n",
    "# Generate plot\n",
    "plt.title('k-NN: Varying Number of Neighbors')\n",
    "plt.plot(neighbors, test_accuracy, label = 'Testing Accuracy')\n",
    "plt.plot(neighbors, train_accuracy, label = 'Training Accuracy')\n",
    "plt.legend()\n",
    "plt.xlabel('Number of Neighbors')\n",
    "plt.ylabel('Accuracy')\n",
    "plt.show()"
   ]
  },
  {
   "cell_type": "code",
   "execution_count": null,
   "metadata": {
    "collapsed": true
   },
   "outputs": [],
   "source": []
  },
  {
   "cell_type": "code",
   "execution_count": null,
   "metadata": {
    "collapsed": true
   },
   "outputs": [],
   "source": []
  },
  {
   "cell_type": "markdown",
   "metadata": {},
   "source": [
    "## Testing Logistic regression"
   ]
  },
  {
   "cell_type": "code",
   "execution_count": 81,
   "metadata": {
    "collapsed": true
   },
   "outputs": [],
   "source": [
    "logreg = LogisticRegression()"
   ]
  },
  {
   "cell_type": "code",
   "execution_count": 82,
   "metadata": {},
   "outputs": [
    {
     "data": {
      "text/plain": [
       "LogisticRegression(C=1.0, class_weight=None, dual=False, fit_intercept=True,\n",
       "          intercept_scaling=1, max_iter=100, multi_class='ovr', n_jobs=1,\n",
       "          penalty='l2', random_state=None, solver='liblinear', tol=0.0001,\n",
       "          verbose=0, warm_start=False)"
      ]
     },
     "execution_count": 82,
     "metadata": {},
     "output_type": "execute_result"
    }
   ],
   "source": [
    "logreg.fit(X_train, y_train)"
   ]
  },
  {
   "cell_type": "code",
   "execution_count": 83,
   "metadata": {
    "collapsed": true
   },
   "outputs": [],
   "source": [
    "y_pred = logreg.predict(X_test)"
   ]
  },
  {
   "cell_type": "markdown",
   "metadata": {},
   "source": [
    "##### redirect to save images"
   ]
  },
  {
   "cell_type": "code",
   "execution_count": 64,
   "metadata": {
    "collapsed": true
   },
   "outputs": [],
   "source": [
    "path_data = \"\\\\\\cskma0294\\\\F\\\\Evaluations\\\\JobPath\\\\Python\\\\Analysis\\\\ModellingTreatment\\\\Images\"\n",
    "os.chdir(path_data)\n"
   ]
  },
  {
   "cell_type": "code",
   "execution_count": 84,
   "metadata": {},
   "outputs": [
    {
     "data": {
      "image/png": "[encoded data removed]",
      "text/plain": [
       "<matplotlib.figure.Figure at 0x29478be0>"
      ]
     },
     "metadata": {},
     "output_type": "display_data"
    }
   ],
   "source": [
    "logit_roc_auc = roc_auc_score(y_test, logreg.predict(X_test))\n",
    "fpr, tpr, thresholds = roc_curve(y_test, logreg.predict_proba(X_test)[:,1])\n",
    "plt.figure()\n",
    "plt.plot(fpr, tpr, label='Logistic Regression (area = %0.2f)' % logit_roc_auc)\n",
    "plt.plot([0, 1], [0, 1],'r--')\n",
    "plt.xlim([0.0, 1.0])\n",
    "plt.ylim([0.0, 1.05])\n",
    "plt.xlabel('False Positive Rate')\n",
    "plt.ylabel('True Positive Rate')\n",
    "plt.title('Receiver operating characteristic')\n",
    "plt.legend(loc=\"lower right\")\n",
    "#plt.savefig('Log_ROC')\n",
    "plt.show()"
   ]
  },
  {
   "cell_type": "code",
   "execution_count": 85,
   "metadata": {
    "scrolled": true
   },
   "outputs": [
    {
     "data": {
      "text/plain": [
       "0.50400910461694126"
      ]
     },
     "execution_count": 85,
     "metadata": {},
     "output_type": "execute_result"
    }
   ],
   "source": [
    "y_pred_prob = logreg.predict_proba(X_test)[:,1]\n",
    "roc_auc_score(y_test, y_pred_prob)"
   ]
  },
  {
   "cell_type": "code",
   "execution_count": 17,
   "metadata": {},
   "outputs": [
    {
     "data": {
      "image/png": "[encoded data removed]",
      "text/plain": [
       "<matplotlib.figure.Figure at 0x480f438>"
      ]
     },
     "metadata": {},
     "output_type": "display_data"
    }
   ],
   "source": [
    "\n",
    "\n",
    "\n",
    "\n",
    "y_pred_prob = logreg.predict_proba(X_test)[:,1]\n",
    "fpr, tpr, thresholds = roc_curve(y_test, y_pred_prob)\n",
    "plt.plot([0, 1], [0, 1], 'k--')\n",
    "plt.plot(fpr, tpr, label='Logistic Regression')\n",
    "#plt.xlabel('False Positive Rate’)\n",
    "plt.ylabel('True Positive Rate')\n",
    "plt.title('Logistic Regression ROC Curve')\n",
    "#plt.savefig(\"reg2.png\", format='png', dpi=100,  bbox_inches='tight')\n",
    "plt.show();"
   ]
  },
  {
   "cell_type": "markdown",
   "metadata": {},
   "source": [
    "## Testing Lasso"
   ]
  },
  {
   "cell_type": "code",
   "execution_count": 30,
   "metadata": {
    "collapsed": true
   },
   "outputs": [],
   "source": [
    "lasso = Lasso(alpha=0.1, normalize=True)"
   ]
  },
  {
   "cell_type": "code",
   "execution_count": 31,
   "metadata": {
    "collapsed": true
   },
   "outputs": [],
   "source": [
    "lasso.fit(X_train, y_train)\n",
    "lasso_pred = lasso.predict(X_test)\n"
   ]
  },
  {
   "cell_type": "code",
   "execution_count": 32,
   "metadata": {
    "scrolled": true
   },
   "outputs": [
    {
     "name": "stdout",
     "output_type": "stream",
     "text": [
      "-1.65872870994e-09\n"
     ]
    }
   ],
   "source": [
    "print(lasso.score(X_test, y_test))"
   ]
  },
  {
   "cell_type": "markdown",
   "metadata": {},
   "source": [
    "Feature selection using lasso"
   ]
  },
  {
   "cell_type": "code",
   "execution_count": 33,
   "metadata": {
    "collapsed": true
   },
   "outputs": [],
   "source": [
    "names = df.drop('y', axis=1).columns"
   ]
  },
  {
   "cell_type": "code",
   "execution_count": 34,
   "metadata": {},
   "outputs": [
    {
     "data": {
      "image/png": "[encoded data removed]",
      "text/plain": [
       "<matplotlib.figure.Figure at 0x1da4b278>"
      ]
     },
     "metadata": {},
     "output_type": "display_data"
    }
   ],
   "source": [
    "lasso = Lasso(alpha=0.1)\n",
    "lasso_coef = lasso.fit(X, y).coef_\n",
    "_ = plt.plot(range(len(names)), lasso_coef)\n",
    "_ = plt.xticks(range(len(names)), names, rotation=60)\n",
    "_ = plt.ylabel('Coefficients')\n",
    "plt.show()"
   ]
  },
  {
   "cell_type": "code",
   "execution_count": 36,
   "metadata": {},
   "outputs": [
    {
     "name": "stdout",
     "output_type": "stream",
     "text": [
      "training score: 0.00388729409025\n",
      "test score:  0.00351551641266\n",
      "number of features used:  4\n"
     ]
    }
   ],
   "source": [
    "train_score=lasso.score(X_train,y_train)\n",
    "test_score=lasso.score(X_test,y_test)\n",
    "coeff_used = np.sum(lasso.coef_!=0)\n",
    "print (\"training score:\", train_score )\n",
    "print (\"test score: \", test_score)\n",
    "print (\"number of features used: \", coeff_used)\n"
   ]
  },
  {
   "cell_type": "code",
   "execution_count": null,
   "metadata": {
    "collapsed": true
   },
   "outputs": [],
   "source": []
  },
  {
   "cell_type": "code",
   "execution_count": null,
   "metadata": {
    "collapsed": true
   },
   "outputs": [],
   "source": []
  },
  {
   "cell_type": "code",
   "execution_count": 42,
   "metadata": {},
   "outputs": [
    {
     "name": "stdout",
     "output_type": "stream",
     "text": [
      "training score for alpha=0.09: 0.00202130572888\n",
      "test score for alpha =0.09:  0.00479898670286\n",
      "number of features used: for alpha =0.09: 3\n"
     ]
    }
   ],
   "source": [
    "lasso009 = Lasso(alpha=0.9, max_iter=10e5)\n",
    "lasso009.fit(X_train,y_train)\n",
    "train_score009=lasso009.score(X_train,y_train)\n",
    "test_score009=lasso002.score(X_test,y_test)\n",
    "coeff_used009 = np.sum(lasso009.coef_!=0)\n",
    "print (\"training score for alpha=0.09:\", train_score009 )\n",
    "print (\"test score for alpha =0.09: \", test_score009)\n",
    "print (\"number of features used: for alpha =0.09:\", coeff_used009)"
   ]
  },
  {
   "cell_type": "code",
   "execution_count": 39,
   "metadata": {},
   "outputs": [
    {
     "name": "stdout",
     "output_type": "stream",
     "text": [
      "training score for alpha=0.02: 0.00550527814745\n",
      "test score for alpha =0.02:  0.00479898670286\n",
      "number of features used: for alpha =0.02: 6\n"
     ]
    }
   ],
   "source": [
    "lasso002 = Lasso(alpha=0.02, max_iter=10e5)\n",
    "lasso002.fit(X_train,y_train)\n",
    "train_score002=lasso002.score(X_train,y_train)\n",
    "test_score002=lasso002.score(X_test,y_test)\n",
    "coeff_used002 = np.sum(lasso002.coef_!=0)\n",
    "print (\"training score for alpha=0.02:\", train_score002 )\n",
    "print (\"test score for alpha =0.02: \", test_score002)\n",
    "print (\"number of features used: for alpha =0.02:\", coeff_used002)"
   ]
  },
  {
   "cell_type": "code",
   "execution_count": 40,
   "metadata": {},
   "outputs": [
    {
     "name": "stdout",
     "output_type": "stream",
     "text": [
      "training score for alpha=0.0001: 0.00583970262363\n",
      "test score for alpha =0.0001:  0.00507264613939\n",
      "number of features used: for alpha =0.0001: 12\n"
     ]
    }
   ],
   "source": [
    "lasso00001 = Lasso(alpha=0.0001, max_iter=10e5)\n",
    "lasso00001.fit(X_train,y_train)\n",
    "train_score00001=lasso00001.score(X_train,y_train)\n",
    "test_score00001=lasso00001.score(X_test,y_test)\n",
    "coeff_used00001 = np.sum(lasso00001.coef_!=0)\n",
    "print (\"training score for alpha=0.0001:\", train_score00001 )\n",
    "print (\"test score for alpha =0.0001: \", test_score00001)\n",
    "print (\"number of features used: for alpha =0.0001:\", coeff_used00001)\n"
   ]
  },
  {
   "cell_type": "code",
   "execution_count": 41,
   "metadata": {},
   "outputs": [
    {
     "name": "stdout",
     "output_type": "stream",
     "text": [
      "training score for alpha=0.00001: 0.0058417218196\n",
      "test score for alpha =0.00001:  0.00506779700771\n",
      "number of features used: for alpha =0.00001: 14\n"
     ]
    }
   ],
   "source": [
    "lasso000001 = Lasso(alpha=0.00001, max_iter=10e5)\n",
    "lasso000001.fit(X_train,y_train)\n",
    "train_score000001=lasso000001.score(X_train,y_train)\n",
    "test_score000001=lasso000001.score(X_test,y_test)\n",
    "coeff_used000001 = np.sum(lasso000001.coef_!=0)\n",
    "print (\"training score for alpha=0.00001:\", train_score000001 )\n",
    "print (\"test score for alpha =0.00001: \", test_score000001)\n",
    "print (\"number of features used: for alpha =0.00001:\", coeff_used000001)"
   ]
  },
  {
   "cell_type": "code",
   "execution_count": 46,
   "metadata": {},
   "outputs": [
    {
     "name": "stderr",
     "output_type": "stream",
     "text": [
      "C:\\ProgramData\\Anaconda3\\lib\\site-packages\\matplotlib\\cbook\\deprecation.py:106: MatplotlibDeprecationWarning: Adding an axes using the same arguments as a previous axes currently reuses the earlier instance.  In a future version, a new instance will always be created and returned.  Meanwhile, this warning can be suppressed, and the future behavior ensured, by passing a unique label to each axes instance.\n",
      "  warnings.warn(message, mplDeprecation, stacklevel=1)\n"
     ]
    },
    {
     "data": {
      "image/png": "[encoded data removed]",
      "text/plain": [
       "<matplotlib.figure.Figure at 0x1c305438>"
      ]
     },
     "metadata": {},
     "output_type": "display_data"
    }
   ],
   "source": [
    "\n",
    "\n",
    "\n",
    "\n",
    "\n",
    "\n",
    "# lr = LinearRegression()\n",
    "# lr.fit(X_train,y_train)\n",
    "# lr_train_score=lr.score(X_train,y_train)\n",
    "# lr_test_score=lr.score(X_test,y_test)\n",
    "# print \"LR training score:\", lr_train_score \n",
    "# print \"LR test score: \", lr_test_score\n",
    "# plt.subplot(1,2,1)\n",
    "# plt.plot(lasso.coef_,alpha=0.7,linestyle='none',marker='*',markersize=5,color='red',label=r'Lasso; $\\alpha = 1$',zorder=7) # alpha here is for transparency\n",
    "# plt.plot(lasso001.coef_,alpha=0.5,linestyle='none',marker='d',markersize=6,color='blue',label=r'Lasso; $\\alpha = 0.01$') # alpha here is for transparency\n",
    "\n",
    "#plt.xlabel('Coefficient Index',fontsize=16)\n",
    "#plt.ylabel('Coefficient Magnitude',fontsize=16)\n",
    "plt.legend(fontsize=13,loc=4)\n",
    "plt.subplot(1,2,2)\n",
    "plt.plot(lasso.coef_,alpha=0.7,linestyle='none',marker='*',markersize=5,color='red',label=r'Lasso; $\\alpha = 1$',zorder=7) # alpha here is for transparency\n",
    "plt.plot(lasso002.coef_,alpha=0.5,linestyle='none',marker='d',markersize=6,color='blue',label=r'Lasso; $\\alpha = 0.01$') # alpha here is for transparency\n",
    "plt.plot(lasso00001.coef_,alpha=0.8,linestyle='none',marker='v',markersize=6,color='black',label=r'Lasso; $\\alpha = 0.00001$') # alpha here is for transparency\n",
    "#plt.plot(lr.coef_,alpha=0.7,linestyle='none',marker='o',markersize=5,color='green',label='Linear Regression',zorder=2)\n",
    "plt.xlabel('Coefficient Index',fontsize=16)\n",
    "plt.ylabel('Coefficient Magnitude',fontsize=16)\n",
    "plt.legend(fontsize=13,loc=4)\n",
    "plt.tight_layout()\n",
    "plt.show()\n"
   ]
  },
  {
   "cell_type": "markdown",
   "metadata": {},
   "source": [
    "## Testing Random forest"
   ]
  },
  {
   "cell_type": "code",
   "execution_count": null,
   "metadata": {
    "collapsed": true
   },
   "outputs": [],
   "source": []
  },
  {
   "cell_type": "markdown",
   "metadata": {},
   "source": [
    "## Hyperparameter tuning"
   ]
  },
  {
   "cell_type": "markdown",
   "metadata": {},
   "source": [
    "#### For logistic"
   ]
  },
  {
   "cell_type": "code",
   "execution_count": 18,
   "metadata": {
    "collapsed": true
   },
   "outputs": [],
   "source": [
    "c_space = np.logspace(-5, 8, 15)\n",
    "param_grid = {'C': c_space}\n"
   ]
  },
  {
   "cell_type": "code",
   "execution_count": 19,
   "metadata": {
    "scrolled": false
   },
   "outputs": [
    {
     "data": {
      "text/plain": [
       "GridSearchCV(cv=5, error_score='raise',\n",
       "       estimator=LogisticRegression(C=1.0, class_weight=None, dual=False, fit_intercept=True,\n",
       "          intercept_scaling=1, max_iter=100, multi_class='ovr', n_jobs=1,\n",
       "          penalty='l2', random_state=None, solver='liblinear', tol=0.0001,\n",
       "          verbose=0, warm_start=False),\n",
       "       fit_params=None, iid=True, n_jobs=1,\n",
       "       param_grid={'C': array([  1.00000e-05,   8.48343e-05,   7.19686e-04,   6.10540e-03,\n",
       "         5.17947e-02,   4.39397e-01,   3.72759e+00,   3.16228e+01,\n",
       "         2.68270e+02,   2.27585e+03,   1.93070e+04,   1.63789e+05,\n",
       "         1.38950e+06,   1.17877e+07,   1.00000e+08])},\n",
       "       pre_dispatch='2*n_jobs', refit=True, return_train_score='warn',\n",
       "       scoring=None, verbose=0)"
      ]
     },
     "execution_count": 19,
     "metadata": {},
     "output_type": "execute_result"
    }
   ],
   "source": [
    "logreg= LogisticRegression()\n",
    "\n",
    "logreg_cv = GridSearchCV(logreg, param_grid, cv=5)\n",
    "\n",
    "logreg_cv.fit(X,y)\n"
   ]
  },
  {
   "cell_type": "code",
   "execution_count": 20,
   "metadata": {},
   "outputs": [
    {
     "name": "stdout",
     "output_type": "stream",
     "text": [
      "[ 0.94000591  0.94000591  0.94000591  0.94000591  0.94000591  0.94\n",
      "  0.94009262  0.94009262  0.94009262]\n",
      "Tuned Logistic Regression Parameters: {'C': 1.0000000000000001e-05}\n",
      "Best score is 0.9400341536036431\n",
      "0:00:06.389561\n"
     ]
    }
   ],
   "source": [
    "start=datetime.now()\n",
    "\n",
    "cv_results=cross_val_score(logreg, X, y, cv=9)\n",
    "print(cv_results)\n",
    "\n",
    "print(\"Tuned Logistic Regression Parameters: {}\".format(logreg_cv.best_params_)) \n",
    "\n",
    "print(\"Best score is {}\".format(logreg_cv.best_score_))\n",
    "\n",
    "print (datetime.now()-start)\n"
   ]
  },
  {
   "cell_type": "code",
   "execution_count": 21,
   "metadata": {},
   "outputs": [
    {
     "data": {
      "image/png": "[encoded data removed]",
      "text/plain": [
       "<matplotlib.figure.Figure at 0xda888d0>"
      ]
     },
     "metadata": {},
     "output_type": "display_data"
    }
   ],
   "source": [
    "\n",
    "y_pred_prob = logreg_cv.predict_proba(X_test)[:,1]\n",
    "fpr, tpr, thresholds = roc_curve(y_test, y_pred_prob)\n",
    "plt.plot([0, 1], [0, 1], 'k--')\n",
    "plt.plot(fpr, tpr, label='Logistic Regression')\n",
    "#plt.xlabel('False Positive Rate’)\n",
    "plt.ylabel('True Positive Rate')\n",
    "plt.title('Logistic Regression ROC Curve - features: sw_pay_mean_1315,earn_tot_mean_1315, age,dur_band,occ')\n",
    "#plt.savefig(\"reg2.png\", format='png', dpi=100,  bbox_inches='tight')\n",
    "plt.show();"
   ]
  },
  {
   "cell_type": "code",
   "execution_count": 22,
   "metadata": {},
   "outputs": [
    {
     "data": {
      "text/plain": [
       "0.50280376849318076"
      ]
     },
     "execution_count": 22,
     "metadata": {},
     "output_type": "execute_result"
    }
   ],
   "source": [
    "y_pred_prob = logreg_cv.predict_proba(X_test)[:,1]\n",
    "roc_auc_score(y_test, y_pred_prob)"
   ]
  },
  {
   "cell_type": "markdown",
   "metadata": {},
   "source": [
    "#### Hyper - KNN"
   ]
  },
  {
   "cell_type": "code",
   "execution_count": 57,
   "metadata": {
    "collapsed": true
   },
   "outputs": [],
   "source": [
    "param_grid = {'n_neighbors': np.arange(1, 14)}"
   ]
  },
  {
   "cell_type": "code",
   "execution_count": 58,
   "metadata": {},
   "outputs": [
    {
     "name": "stdout",
     "output_type": "stream",
     "text": [
      "0:06:13.601768\n"
     ]
    }
   ],
   "source": [
    "knn = KNeighborsClassifier()\n",
    "knn_cv = GridSearchCV(knn, param_grid, cv=5)\n",
    "\n",
    "start=datetime.now()\n",
    "knn_cv.fit(X, y)\n",
    "\n",
    "print (datetime.now()-start)"
   ]
  },
  {
   "cell_type": "code",
   "execution_count": 59,
   "metadata": {},
   "outputs": [
    {
     "name": "stdout",
     "output_type": "stream",
     "text": [
      "{'n_neighbors': 12}\n",
      "0.940034153604\n",
      "[[34350     0]\n",
      " [ 2191     0]]\n",
      "             precision    recall  f1-score   support\n",
      "\n",
      "        0.0       0.94      1.00      0.97     34350\n",
      "        1.0       0.00      0.00      0.00      2191\n",
      "\n",
      "avg / total       0.88      0.94      0.91     36541\n",
      "\n"
     ]
    },
    {
     "name": "stderr",
     "output_type": "stream",
     "text": [
      "C:\\ProgramData\\Anaconda3\\lib\\site-packages\\sklearn\\metrics\\classification.py:1135: UndefinedMetricWarning: Precision and F-score are ill-defined and being set to 0.0 in labels with no predicted samples.\n",
      "  'precision', 'predicted', average, warn_for)\n"
     ]
    }
   ],
   "source": [
    "print(knn_cv.best_params_)\n",
    "print(knn_cv.best_score_)\n",
    "print(confusion_matrix(y_test, y_pred))\n",
    "print(classification_report(y_test, y_pred))\n"
   ]
  },
  {
   "cell_type": "code",
   "execution_count": 75,
   "metadata": {},
   "outputs": [
    {
     "name": "stderr",
     "output_type": "stream",
     "text": [
      "C:\\ProgramData\\Anaconda3\\lib\\site-packages\\sklearn\\linear_model\\coordinate_descent.py:491: ConvergenceWarning: Objective did not converge. You might want to increase the number of iterations. Fitting data with very small alpha may cause precision problems.\n",
      "  ConvergenceWarning)\n",
      "C:\\ProgramData\\Anaconda3\\lib\\site-packages\\sklearn\\linear_model\\coordinate_descent.py:491: ConvergenceWarning: Objective did not converge. You might want to increase the number of iterations. Fitting data with very small alpha may cause precision problems.\n",
      "  ConvergenceWarning)\n",
      "C:\\ProgramData\\Anaconda3\\lib\\site-packages\\sklearn\\linear_model\\coordinate_descent.py:491: ConvergenceWarning: Objective did not converge. You might want to increase the number of iterations. Fitting data with very small alpha may cause precision problems.\n",
      "  ConvergenceWarning)\n",
      "C:\\ProgramData\\Anaconda3\\lib\\site-packages\\sklearn\\linear_model\\coordinate_descent.py:491: ConvergenceWarning: Objective did not converge. You might want to increase the number of iterations. Fitting data with very small alpha may cause precision problems.\n",
      "  ConvergenceWarning)\n",
      "C:\\ProgramData\\Anaconda3\\lib\\site-packages\\sklearn\\linear_model\\coordinate_descent.py:491: ConvergenceWarning: Objective did not converge. You might want to increase the number of iterations. Fitting data with very small alpha may cause precision problems.\n",
      "  ConvergenceWarning)\n"
     ]
    },
    {
     "name": "stdout",
     "output_type": "stream",
     "text": [
      "Tuned ElasticNet l1 ratio: {'l1_ratio': 0.0}\n",
      "Tuned ElasticNet R squared: 0.005065086889448178\n",
      "Tuned ElasticNet MSE: 0.056079345097482\n"
     ]
    },
    {
     "name": "stderr",
     "output_type": "stream",
     "text": [
      "C:\\ProgramData\\Anaconda3\\lib\\site-packages\\sklearn\\linear_model\\coordinate_descent.py:491: ConvergenceWarning: Objective did not converge. You might want to increase the number of iterations. Fitting data with very small alpha may cause precision problems.\n",
      "  ConvergenceWarning)\n"
     ]
    }
   ],
   "source": [
    "from sklearn.linear_model import ElasticNet\n",
    "from sklearn.metrics import mean_squared_error\n",
    "from sklearn.model_selection import GridSearchCV\n",
    "from sklearn.model_selection import train_test_split\n",
    "\n",
    "# Create the hyperparameter grid\n",
    "l1_space = np.linspace(0, 1, 30)\n",
    "param_grid = {'l1_ratio': l1_space}\n",
    "\n",
    "\n",
    "# Instantiate the ElasticNet regressor: elastic_net\n",
    "elastic_net = ElasticNet()\n",
    "\n",
    "# Setup the GridSearchCV object: gm_cv\n",
    "gm_cv = GridSearchCV(elastic_net, param_grid, cv=5)\n",
    "\n",
    "# Fit it to the training data\n",
    "gm_cv.fit(X_train, y_train)\n",
    "\n",
    "# Predict on the test set and compute metrics\n",
    "y_pred = gm_cv.predict(X_test)\n",
    "r2 = gm_cv.score(X_test, y_test)\n",
    "mse = mean_squared_error(y_test, y_pred)\n",
    "print(\"Tuned ElasticNet l1 ratio: {}\".format(gm_cv.best_params_))\n",
    "print(\"Tuned ElasticNet R squared: {}\".format(r2))\n",
    "print(\"Tuned ElasticNet MSE: {}\".format(mse))\n"
   ]
  },
  {
   "cell_type": "code",
   "execution_count": null,
   "metadata": {
    "collapsed": true
   },
   "outputs": [],
   "source": []
  },
  {
   "cell_type": "markdown",
   "metadata": {},
   "source": [
    "## Sensitivity"
   ]
  },
  {
   "cell_type": "markdown",
   "metadata": {},
   "source": [
    "## graphical output reproduced"
   ]
  },
  {
   "cell_type": "code",
   "execution_count": 71,
   "metadata": {},
   "outputs": [
    {
     "ename": "SyntaxError",
     "evalue": "invalid syntax (<ipython-input-71-0272121f4aba>, line 1)",
     "output_type": "error",
     "traceback": [
      "\u001b[1;36m  File \u001b[1;32m\"<ipython-input-71-0272121f4aba>\"\u001b[1;36m, line \u001b[1;32m1\u001b[0m\n\u001b[1;33m    df['earn_tot_mean_1315'].plot(type=barh bin=100)\u001b[0m\n\u001b[1;37m                                              ^\u001b[0m\n\u001b[1;31mSyntaxError\u001b[0m\u001b[1;31m:\u001b[0m invalid syntax\n"
     ]
    }
   ],
   "source": [
    "df['earn_tot_mean_1315'].plot(type=barh bin=100)\n",
    "plt.show()"
   ]
  },
  {
   "cell_type": "code",
   "execution_count": 74,
   "metadata": {
    "collapsed": true
   },
   "outputs": [],
   "source": [
    "df['Duration Bands'].plot\n",
    "plt.show()"
   ]
  },
  {
   "cell_type": "markdown",
   "metadata": {},
   "source": [
    "## Conclusion"
   ]
  },
  {
   "cell_type": "markdown",
   "metadata": {},
   "source": [
    "  fit a logistic regression model and output predicted probabilities of y"
   ]
  },
  {
   "cell_type": "code",
   "execution_count": 78,
   "metadata": {},
   "outputs": [
    {
     "data": {
      "text/plain": [
       "LogisticRegression(C=1.0, class_weight='balanced', dual=False,\n",
       "          fit_intercept=True, intercept_scaling=1, max_iter=100,\n",
       "          multi_class='ovr', n_jobs=1, penalty='l2', random_state=None,\n",
       "          solver='liblinear', tol=0.0001, verbose=0, warm_start=False)"
      ]
     },
     "execution_count": 78,
     "metadata": {},
     "output_type": "execute_result"
    }
   ],
   "source": [
    "logreg = LogisticRegression(class_weight='balanced')\n",
    "logreg.fit(X, y)"
   ]
  },
  {
   "cell_type": "code",
   "execution_count": 79,
   "metadata": {},
   "outputs": [
    {
     "name": "stdout",
     "output_type": "stream",
     "text": [
      "[ 0.55769409  0.58541036  0.58757194 ...,  0.57025876  0.42179012\n",
      "  0.58768381]\n"
     ]
    },
    {
     "data": {
      "text/plain": [
       "numpy.ndarray"
      ]
     },
     "execution_count": 79,
     "metadata": {},
     "output_type": "execute_result"
    }
   ],
   "source": [
    "y_pred = logreg.predict(X)\n",
    "y_pred_prob = logreg.predict_proba(X)[:,1]\n",
    "print(y_pred_prob)\n",
    "type(y_pred_prob)"
   ]
  },
  {
   "cell_type": "markdown",
   "metadata": {
    "collapsed": true
   },
   "source": [
    "convert the ndarray into a dataframe and add that one column dataframe to the df dataframe"
   ]
  },
  {
   "cell_type": "code",
   "execution_count": 90,
   "metadata": {
    "collapsed": true
   },
   "outputs": [],
   "source": [
    "df['Propensity'] = pd.Series(y_pred_prob)\n"
   ]
  },
  {
   "cell_type": "code",
   "execution_count": 91,
   "metadata": {},
   "outputs": [
    {
     "data": {
      "text/plain": [
       "(91352, 10)"
      ]
     },
     "execution_count": 91,
     "metadata": {},
     "output_type": "execute_result"
    }
   ],
   "source": [
    "df.shape"
   ]
  },
  {
   "cell_type": "code",
   "execution_count": 93,
   "metadata": {
    "scrolled": false
   },
   "outputs": [
    {
     "data": {
      "text/plain": [
       "count    7.600900e+04\n",
       "mean     4.912774e-01\n",
       "std      7.807691e-02\n",
       "min      2.280562e-08\n",
       "25%      4.655020e-01\n",
       "50%      5.108584e-01\n",
       "75%      5.446192e-01\n",
       "max      5.968601e-01\n",
       "Name: Propensity, dtype: float64"
      ]
     },
     "execution_count": 93,
     "metadata": {},
     "output_type": "execute_result"
    }
   ],
   "source": [
    "df['Propensity'].describe()"
   ]
  },
  {
   "cell_type": "markdown",
   "metadata": {},
   "source": [
    "calculate inverse probability weights - note the separate columns for c and t. Better to do the c calculation conditional on y_1  being 0, and then weight is 1 if y_1 is 1"
   ]
  },
  {
   "cell_type": "code",
   "execution_count": 38,
   "metadata": {
    "collapsed": true
   },
   "outputs": [],
   "source": [
    "\n",
    "#if y_1=1 then ipw= 1/0 + (1-1)/(1-0)\n",
    "#if y_1=0 then ipw= 0/'0' + (1-0)/(1-'0')\n",
    "\n",
    "#final['iptw_t']=1/0+(1-1)/(1-0)\n",
    "final['iptw_c']= 0/final['Propensity'] + (1-0)/(1-final['Propensity'])\n",
    "final['iptw_t']= 1\n",
    "\n",
    "#final['iptw'] = np.where(final['iptw_c']!=NaN, final['iptw_c'], 'no')\n"
   ]
  },
  {
   "cell_type": "code",
   "execution_count": 96,
   "metadata": {},
   "outputs": [
    {
     "data": {
      "text/plain": [
       "array([ 0.,  1.])"
      ]
     },
     "execution_count": 96,
     "metadata": {},
     "output_type": "execute_result"
    }
   ],
   "source": [
    "list(df)\n",
    "df['y'].unique()"
   ]
  },
  {
   "cell_type": "markdown",
   "metadata": {},
   "source": [
    " unsuccessful attempt to either show graphically the distribution of scores by y, or groupby y to calculate means"
   ]
  },
  {
   "cell_type": "code",
   "execution_count": 128,
   "metadata": {},
   "outputs": [],
   "source": [
    "df=df.reset_index()\n",
    "df=df.rename(columns={'index': 'id'})\n"
   ]
  },
  {
   "cell_type": "code",
   "execution_count": 184,
   "metadata": {},
   "outputs": [
    {
     "data": {
      "text/plain": [
       "y\n",
       "0.0    [0.557694086394, 0.585410355448, 0.58757194016...\n",
       "1.0    [0.497419858823, 0.552419073728, 0.43106114293...\n",
       "Name: Propensity, dtype: object"
      ]
     },
     "execution_count": 184,
     "metadata": {},
     "output_type": "execute_result"
    }
   ],
   "source": [
    "df.groupby(\"y\")[\"Propensity\"].unique()"
   ]
  },
  {
   "cell_type": "code",
   "execution_count": 176,
   "metadata": {},
   "outputs": [
    {
     "name": "stdout",
     "output_type": "stream",
     "text": [
      "5478\n",
      "     level_0   id  sw_pay_mean_1315  earn_tot_mean_1315  age  \\\n",
      "bin                                                            \n",
      "0        777  777               777                 777  777   \n",
      "1        693  693               693                 693  693   \n",
      "2        613  613               613                 613  613   \n",
      "3        838  838               838                 838  838   \n",
      "4        876  876               876                 876  876   \n",
      "5        655  655               655                 655  655   \n",
      "6        599  599               599                 599  599   \n",
      "7        688  688               688                 688  688   \n",
      "8        927  927               927                 927  927   \n",
      "9        649  649               649                 649  649   \n",
      "10       673  673               673                 673  673   \n",
      "11       770  770               770                 770  770   \n",
      "12       611  611               611                 611  611   \n",
      "13       723  723               723                 723  723   \n",
      "14       727  727               727                 727  727   \n",
      "15       688  688               688                 688  688   \n",
      "16       754  754               754                 754  754   \n",
      "17       646  646               646                 646  646   \n",
      "18       902  902               902                 902  902   \n",
      "19       588  588               588                 588  588   \n",
      "20       753  753               753                 753  753   \n",
      "21       642  642               642                 642  642   \n",
      "22       764  764               764                 764  764   \n",
      "23       719  719               719                 719  719   \n",
      "24       817  817               817                 817  817   \n",
      "25       892  892               892                 892  892   \n",
      "26       841  841               841                 841  841   \n",
      "27       685  685               685                 685  685   \n",
      "28       797  797               797                 797  797   \n",
      "29       621  621               621                 621  621   \n",
      "..       ...  ...               ...                 ...  ...   \n",
      "71       756  756               756                 756  756   \n",
      "72       648  648               648                 648  648   \n",
      "73       569  569               569                 569  569   \n",
      "74       650  650               650                 650  650   \n",
      "75       787  787               787                 787  787   \n",
      "76       794  794               794                 794  794   \n",
      "77       898  898               898                 898  898   \n",
      "78       822  822               822                 822  822   \n",
      "79       681  681               681                 681  681   \n",
      "80       702  702               702                 702  702   \n",
      "81       709  709               709                 709  709   \n",
      "82       709  709               709                 709  709   \n",
      "83       845  845               845                 845  845   \n",
      "84       630  630               630                 630  630   \n",
      "85       697  697               697                 697  697   \n",
      "86       633  633               633                 633  633   \n",
      "87       698  698               698                 698  698   \n",
      "88       670  670               670                 670  670   \n",
      "89       614  614               614                 614  614   \n",
      "90       721  721               721                 721  721   \n",
      "91       724  724               724                 724  724   \n",
      "92       728  728               728                 728  728   \n",
      "93       520  520               520                 520  520   \n",
      "94       602  602               602                 602  602   \n",
      "95       663  663               663                 663  663   \n",
      "96       590  590               590                 590  590   \n",
      "97       673  673               673                 673  673   \n",
      "98       699  699               699                 699  699   \n",
      "99       524  524               524                 524  524   \n",
      "999        0    0                 0                   0    0   \n",
      "\n",
      "     occupation_rank_P1  Duration Bands  Ed_or_Training_13_15share  \\\n",
      "bin                                                                  \n",
      "0                   777             777                        777   \n",
      "1                   693             693                        693   \n",
      "2                   613             613                        613   \n",
      "3                   838             838                        838   \n",
      "4                   876             876                        876   \n",
      "5                   655             655                        655   \n",
      "6                   599             599                        599   \n",
      "7                   688             688                        688   \n",
      "8                   927             927                        927   \n",
      "9                   649             649                        649   \n",
      "10                  673             673                        673   \n",
      "11                  770             770                        770   \n",
      "12                  611             611                        611   \n",
      "13                  723             723                        723   \n",
      "14                  727             727                        727   \n",
      "15                  688             688                        688   \n",
      "16                  754             754                        754   \n",
      "17                  646             646                        646   \n",
      "18                  902             902                        902   \n",
      "19                  588             588                        588   \n",
      "20                  753             753                        753   \n",
      "21                  642             642                        642   \n",
      "22                  764             764                        764   \n",
      "23                  719             719                        719   \n",
      "24                  817             817                        817   \n",
      "25                  892             892                        892   \n",
      "26                  841             841                        841   \n",
      "27                  685             685                        685   \n",
      "28                  797             797                        797   \n",
      "29                  621             621                        621   \n",
      "..                  ...             ...                        ...   \n",
      "71                  756             756                        756   \n",
      "72                  648             648                        648   \n",
      "73                  569             569                        569   \n",
      "74                  650             650                        650   \n",
      "75                  787             787                        787   \n",
      "76                  794             794                        794   \n",
      "77                  898             898                        898   \n",
      "78                  822             822                        822   \n",
      "79                  681             681                        681   \n",
      "80                  702             702                        702   \n",
      "81                  709             709                        709   \n",
      "82                  709             709                        709   \n",
      "83                  845             845                        845   \n",
      "84                  630             630                        630   \n",
      "85                  697             697                        697   \n",
      "86                  633             633                        633   \n",
      "87                  698             698                        698   \n",
      "88                  670             670                        670   \n",
      "89                  614             614                        614   \n",
      "90                  721             721                        721   \n",
      "91                  724             724                        724   \n",
      "92                  728             728                        728   \n",
      "93                  520             520                        520   \n",
      "94                  602             602                        602   \n",
      "95                  663             663                        663   \n",
      "96                  590             590                        590   \n",
      "97                  673             673                        673   \n",
      "98                  699             699                        699   \n",
      "99                  524             524                        524   \n",
      "999                   0               0                          0   \n",
      "\n",
      "     LM_WSW_13_15share  WSW_13_15share    y  Propensity  \n",
      "bin                                                      \n",
      "0                  777             777  777         777  \n",
      "1                  693             693  693         693  \n",
      "2                  613             613  613         613  \n",
      "3                  838             838  838         838  \n",
      "4                  876             876  876         876  \n",
      "5                  655             655  655         655  \n",
      "6                  599             599  599         599  \n",
      "7                  688             688  688         688  \n",
      "8                  927             927  927         927  \n",
      "9                  649             649  649         649  \n",
      "10                 673             673  673         673  \n",
      "11                 770             770  770         770  \n",
      "12                 611             611  611         611  \n",
      "13                 723             723  723         723  \n",
      "14                 727             727  727         727  \n",
      "15                 688             688  688         688  \n",
      "16                 754             754  754         754  \n",
      "17                 646             646  646         646  \n",
      "18                 902             902  902         902  \n",
      "19                 588             588  588         588  \n",
      "20                 753             753  753         753  \n",
      "21                 642             642  642         642  \n",
      "22                 764             764  764         764  \n",
      "23                 719             719  719         719  \n",
      "24                 817             817  817         817  \n",
      "25                 892             892  892         892  \n",
      "26                 841             841  841         841  \n",
      "27                 685             685  685         685  \n",
      "28                 797             797  797         797  \n",
      "29                 621             621  621         621  \n",
      "..                 ...             ...  ...         ...  \n",
      "71                 756             756  756         756  \n",
      "72                 648             648  648         648  \n",
      "73                 569             569  569         569  \n",
      "74                 650             650  650         650  \n",
      "75                 787             787  787         787  \n",
      "76                 794             794  794         794  \n",
      "77                 898             898  898         898  \n",
      "78                 822             822  822         822  \n",
      "79                 681             681  681         681  \n",
      "80                 702             702  702         702  \n",
      "81                 709             709  709         709  \n",
      "82                 709             709  709         709  \n",
      "83                 845             845  845         845  \n",
      "84                 630             630  630         630  \n",
      "85                 697             697  697         697  \n",
      "86                 633             633  633         633  \n",
      "87                 698             698  698         698  \n",
      "88                 670             670  670         670  \n",
      "89                 614             614  614         614  \n",
      "90                 721             721  721         721  \n",
      "91                 724             724  724         724  \n",
      "92                 728             728  728         728  \n",
      "93                 520             520  520         520  \n",
      "94                 602             602  602         602  \n",
      "95                 663             663  663         663  \n",
      "96                 590             590  590         590  \n",
      "97                 673             673  673         673  \n",
      "98                 699             699  699         699  \n",
      "99                 524             524  524         524  \n",
      "999                  0               0    0           0  \n",
      "\n",
      "[101 rows x 12 columns]\n",
      "Size of T dataframe, (5478, 13)\n",
      "(71290, 13)\n",
      "(91352, 12)\n"
     ]
    },
    {
     "name": "stderr",
     "output_type": "stream",
     "text": [
      "C:\\ProgramData\\Anaconda3\\lib\\site-packages\\pandas\\core\\indexes\\category.py:138: RuntimeWarning: Values and categories have different dtypes. Did you mean to use\n",
      "'Categorical.from_codes(codes, categories)'?\n",
      "  data = Categorical(data, categories=categories, ordered=ordered)\n"
     ]
    }
   ],
   "source": [
    "# %%\n",
    "def add_weights(df, period):\n",
    "    # 1. Create scores\n",
    "    # Currently done above with global ranks but need to replace\n",
    "\n",
    "    # 2. Create bins based on scores\n",
    "    # Create a temporary df for T and C groups\n",
    "    df_T = df.loc[df[period] == 1].copy()\n",
    "    df_C = df.loc[df[period] == 0].copy()\n",
    "        # Split T group into equal sized bins\n",
    "    \n",
    "    df_T[\"bin\"], bins = pd.qcut(df_T[\"Propensity\"], 100, retbins=True, labels=False)\n",
    "\n",
    "    # Put C group into T bins based on T bin edges\n",
    "    #df_T[\"bin\"]=df_T[\"bin\"].astype('int')\n",
    "    #print(df_T[df_T[\"bin\"].isna()])\n",
    "    print(df_T[\"bin\"].isnull().count())\n",
    "    df_T[\"bin\"]=df_T[\"bin\"].astype('category')\n",
    "    df_C[\"bin\"] = pd.cut(df_C[\"Propensity\"], bins, labels=range(len(bins) - 1))\n",
    "    df_C[\"bin\"]=df_C[\"bin\"].cat.add_categories([999])\n",
    "    df_T[\"bin\"]=df_T[\"bin\"].cat.add_categories([999])\n",
    "    print(df_C.groupby(\"bin\").count())\n",
    "\n",
    "    \n",
    "    #df_C[\"bin\"]=df_C[\"bin\"].fillna(999)\n",
    "    # Exclude unassigned C group members to eliminate outliers\n",
    "    df_C = df_C.dropna(subset=[\"bin\"])\n",
    "    df_C[\"bin\"] = df_C[\"bin\"].astype(\"int\")\n",
    "    print(f\"Size of T dataframe, {df_T.shape}\")\n",
    "    print(df_C.shape)\n",
    "    print(df.shape)\n",
    "\n",
    "    # 3. Add weights based on bins\n",
    "    # Create counts for T and C by bin\n",
    "    t_bin_counts = pd.Series(df_T.groupby(\"bin\")[\"Propensity\"].count(), name=\"t_bin_counts\")\n",
    "    c_bin_counts = pd.Series(df_C.groupby(\"bin\")[\"Propensity\"].count(), name=\"c_bin_counts\")\n",
    "    bin_counts = pd.concat([t_bin_counts, c_bin_counts], axis=\"columns\")\n",
    "\n",
    "    # Divide T by C to get weights for C group\n",
    "    bin_counts[\"abs_weight\"] = bin_counts[\"t_bin_counts\"] / bin_counts[\"c_bin_counts\"]\n",
    "    c_total = df_C.shape[0]\n",
    "    t_total = df_T.shape[0]\n",
    "    bin_counts[\"weight\"] = bin_counts[\"abs_weight\"] * c_total / t_total\n",
    "\n",
    "    # All Ts have weight = 1\n",
    "    df_T[\"weight\"] = 1\n",
    "    df_T[\"abs_weight\"] = 1\n",
    "\n",
    "    # Assign C weights based on weights in bin_counts dataframe\n",
    "    # Have to reset and then set index to avoid losing it!\n",
    "    df_C = df_C.reset_index()\n",
    "    df_C = df_C.merge(bin_counts, how=\"left\", left_on=\"bin\", right_index=True )\n",
    "    df_C = df_C.set_index(\"id\")\n",
    "\n",
    "#     # Append T and C dataframes together\n",
    "    out_df = df_T.append(df_C)\n",
    "   #out_df = out_df[[\"weight\", \"abs_weight\", 'bin']]\n",
    "    \n",
    "    return out_df\n",
    "\n",
    "# %%\n",
    "\n",
    "w_df = add_weights(df, 'y')\n"
   ]
  },
  {
   "cell_type": "code",
   "execution_count": 143,
   "metadata": {},
   "outputs": [
    {
     "data": {
      "text/plain": [
       "(76768, 18)"
      ]
     },
     "execution_count": 143,
     "metadata": {},
     "output_type": "execute_result"
    }
   ],
   "source": [
    "w_df.shape"
   ]
  },
  {
   "cell_type": "code",
   "execution_count": null,
   "metadata": {
    "collapsed": true
   },
   "outputs": [],
   "source": [
    "\n",
    "unique_vals = final['y'].unique()\n",
    "print(unique_vals)\n",
    "final['y'].value_counts()\n",
    "\n",
    "# # Sort the dataframe by target\n",
    "# # Use a list comprehension to create list of sliced dataframes\n",
    "targets = [final.loc[final['y'] == val] for val in unique_vals]\n",
    "for index, group in enumerate(['Control', 'Treatment']):\n",
    "    subset=final.loc[df['y'] ==index]\n",
    "    print(subset.shape)\n",
    "    sns.kdeplot(subset[0], kernel='gau', label = group )\n",
    "plt.legend()\n",
    "plt.show()"
   ]
  },
  {
   "cell_type": "code",
   "execution_count": 44,
   "metadata": {},
   "outputs": [],
   "source": [
    "#final['iptw']short_term = dataframe.loc[dataframe['StartDate'].dt.year == year]\n",
    "\n",
    "final['iptw'] = np.where(final['iptw_c']!=1, final['iptw_c'], final['iptw_t'])"
   ]
  },
  {
   "cell_type": "markdown",
   "metadata": {},
   "source": [
    "the code above may have assigned the inverse probability weights to iptw when iptw_c was not 1 and otherwise inserted iptw_t"
   ]
  },
  {
   "cell_type": "code",
   "execution_count": null,
   "metadata": {},
   "outputs": [],
   "source": [
    "#code doesnt' work\n",
    "print(final['iptw'].groupby(final['periods']).median()          "
   ]
  },
  {
   "cell_type": "markdown",
   "metadata": {},
   "source": [
    "#### final dataframe has twice as many rows as it should have"
   ]
  },
  {
   "cell_type": "code",
   "execution_count": 66,
   "metadata": {},
   "outputs": [
    {
     "data": {
      "text/plain": [
       "(182704, 13)"
      ]
     },
     "execution_count": 66,
     "metadata": {},
     "output_type": "execute_result"
    }
   ],
   "source": [
    "final.shape"
   ]
  },
  {
   "cell_type": "code",
   "execution_count": 147,
   "metadata": {},
   "outputs": [
    {
     "name": "stdout",
     "output_type": "stream",
     "text": [
      "[ 0.  1.]\n",
      "(85874, 12)\n",
      "(5478, 12)\n"
     ]
    },
    {
     "name": "stderr",
     "output_type": "stream",
     "text": [
      "C:\\ProgramData\\Anaconda3\\lib\\site-packages\\statsmodels\\nonparametric\\kde.py:454: RuntimeWarning: invalid value encountered in greater\n",
      "  X = X[np.logical_and(X>clip[0], X<clip[1])] # won't work for two columns.\n",
      "C:\\ProgramData\\Anaconda3\\lib\\site-packages\\statsmodels\\nonparametric\\kde.py:454: RuntimeWarning: invalid value encountered in less\n",
      "  X = X[np.logical_and(X>clip[0], X<clip[1])] # won't work for two columns.\n"
     ]
    },
    {
     "data": {
      "image/png": "[encoded data removed]",
      "text/plain": [
       "<matplotlib.figure.Figure at 0xd7522b0>"
      ]
     },
     "metadata": {},
     "output_type": "display_data"
    }
   ],
   "source": [
    "\n",
    "unique_vals = df['y'].unique()\n",
    "print(unique_vals)\n",
    "df['y'].value_counts()\n",
    "\n",
    "# # Sort the dataframe by target\n",
    "# # Use a list comprehension to create list of sliced dataframes\n",
    "targets = [df.loc[df['y'] == val] for val in unique_vals]\n",
    "for index, group in enumerate(['Control', 'Treatment']):\n",
    "    subset=df.loc[df['y'] ==index]\n",
    "    print(subset.shape)\n",
    "    sns.kdeplot(subset['Propensity'], kernel='gau', label = group )\n",
    "plt.legend()\n",
    "plt.show()"
   ]
  },
  {
   "cell_type": "code",
   "execution_count": 152,
   "metadata": {},
   "outputs": [
    {
     "name": "stdout",
     "output_type": "stream",
     "text": [
      "[ 0.  1.]\n"
     ]
    },
    {
     "data": {
      "image/png": "[encoded data removed]",
      "text/plain": [
       "<matplotlib.figure.Figure at 0xd4e1da0>"
      ]
     },
     "metadata": {},
     "output_type": "display_data"
    }
   ],
   "source": [
    "\n",
    "unique_vals = df['y'].unique()\n",
    "print(unique_vals)\n",
    "df['y'].value_counts()\n",
    "\n",
    "sns.boxplot(x=\"y\", y='Propensity', data=df )\n",
    "plt.legend()\n",
    "plt.show()"
   ]
  },
  {
   "cell_type": "code",
   "execution_count": 185,
   "metadata": {},
   "outputs": [
    {
     "name": "stdout",
     "output_type": "stream",
     "text": [
      "[ 0.  1.]\n"
     ]
    },
    {
     "ename": "AttributeError",
     "evalue": "module 'seaborn' has no attribute 'scatterplot'",
     "output_type": "error",
     "traceback": [
      "\u001b[1;31m---------------------------------------------------------------------------\u001b[0m",
      "\u001b[1;31mAttributeError\u001b[0m                            Traceback (most recent call last)",
      "\u001b[1;32m<ipython-input-185-0a55fa4edce0>\u001b[0m in \u001b[0;36m<module>\u001b[1;34m()\u001b[0m\n\u001b[0;32m      4\u001b[0m \u001b[0mdf\u001b[0m\u001b[1;33m[\u001b[0m\u001b[1;34m'y'\u001b[0m\u001b[1;33m]\u001b[0m\u001b[1;33m.\u001b[0m\u001b[0mvalue_counts\u001b[0m\u001b[1;33m(\u001b[0m\u001b[1;33m)\u001b[0m\u001b[1;33m\u001b[0m\u001b[0m\n\u001b[0;32m      5\u001b[0m \u001b[1;33m\u001b[0m\u001b[0m\n\u001b[1;32m----> 6\u001b[1;33m \u001b[0msns\u001b[0m\u001b[1;33m.\u001b[0m\u001b[0mscatterplot\u001b[0m\u001b[1;33m(\u001b[0m\u001b[0mx\u001b[0m\u001b[1;33m=\u001b[0m\u001b[1;34m\"y\"\u001b[0m\u001b[1;33m,\u001b[0m \u001b[0my\u001b[0m\u001b[1;33m=\u001b[0m\u001b[1;34m'Propensity'\u001b[0m\u001b[1;33m,\u001b[0m \u001b[0mdata\u001b[0m\u001b[1;33m=\u001b[0m\u001b[0mdf\u001b[0m \u001b[1;33m)\u001b[0m\u001b[1;33m\u001b[0m\u001b[0m\n\u001b[0m\u001b[0;32m      7\u001b[0m \u001b[0mplt\u001b[0m\u001b[1;33m.\u001b[0m\u001b[0mlegend\u001b[0m\u001b[1;33m(\u001b[0m\u001b[1;33m)\u001b[0m\u001b[1;33m\u001b[0m\u001b[0m\n\u001b[0;32m      8\u001b[0m \u001b[0mplt\u001b[0m\u001b[1;33m.\u001b[0m\u001b[0mshow\u001b[0m\u001b[1;33m(\u001b[0m\u001b[1;33m)\u001b[0m\u001b[1;33m\u001b[0m\u001b[0m\n",
      "\u001b[1;31mAttributeError\u001b[0m: module 'seaborn' has no attribute 'scatterplot'"
     ]
    }
   ],
   "source": [
    "\n",
    "unique_vals = df['y'].unique()\n",
    "print(unique_vals)\n",
    "df['y'].value_counts()\n",
    "\n",
    "sns.scatterplot(x=\"y\", y='Propensity', data=df )\n",
    "plt.legend()\n",
    "plt.show()"
   ]
  },
  {
   "cell_type": "code",
   "execution_count": null,
   "metadata": {
    "collapsed": true
   },
   "outputs": [],
   "source": [
    " #select the important variables and demonstrate how weights (analogous to scaling here) have transformed the data\n",
    "    #weighted_df['x2'] replaces scaled_df['x2']  \n",
    "    \n",
    "#Use StandardScaler\n",
    "scaler = preprocessing.StandardScaler()\n",
    "scaled_df = scaler.fit_transform(df)\n",
    "scaled_df = pd.DataFrame(scaled_df, columns=['x1', 'x2', 'x3'])\n",
    "# Plot and visualize\n",
    "fig, (ax1, ax2) = plt.subplots(ncols=2, figsize=(6, 5))\n",
    "\n",
    "ax1.set_title('Before Scaling')\n",
    "sns.kdeplot(df['x1'], ax=ax1)\n",
    "sns.kdeplot(df['x2'], ax=ax1)\n",
    "sns.kdeplot(df['x3'], ax=ax1)\n",
    "\n",
    "ax2.set_title('After Standard Scaler')\n",
    "sns.kdeplot(scaled_df['x1'], ax=ax2)\n",
    "sns.kdeplot(scaled_df['x2'], ax=ax2)\n",
    "sns.kdeplot(scaled_df['x3'], ax=ax2)\n",
    "\n",
    "plt.show()"
   ]
  },
  {
   "cell_type": "code",
   "execution_count": null,
   "metadata": {
    "collapsed": true
   },
   "outputs": [],
   "source": [
    " #select the important variables and demonstrate how weights (analogous to scaling above) have transformed the data\n",
    "    #weighted_df['x2'] replaces scaled_df['x2']  \n",
    "    \n",
    "\n",
    "\n",
    "weighted_df = pd.DataFrame(weighted_df, columns=['sw_pay_mean_1315',  'earn_tot_mean_1315', 'age'])\n",
    "# Plot and visualize\n",
    "fig, (ax1, ax2) = plt.subplots(ncols=2, figsize=(6, 5))\n",
    "\n",
    "ax1.set_title('Before weighting')\n",
    "sns.kdeplot(df['sw_pay_mean_1315'], ax=ax1)\n",
    "sns.kdeplot(df['earn_tot_mean_1315'], ax=ax1)\n",
    "sns.kdeplot(df['age'], ax=ax1)\n",
    "\n",
    "ax2.set_title('After weighting')\n",
    "sns.kdeplot(scaled_df['sw_pay_mean_1315'], ax=ax2)\n",
    "sns.kdeplot(scaled_df['earn_tot_mean_1315'], ax=ax2)\n",
    "sns.kdeplot(scaled_df['age'], ax=ax2)\n",
    "\n",
    "plt.show()"
   ]
  },
  {
   "cell_type": "markdown",
   "metadata": {},
   "source": [
    "#### Next, having assigned weights to the dataset, compare "
   ]
  },
  {
   "cell_type": "markdown",
   "metadata": {
    "collapsed": true
   },
   "source": [
    "absolute standardised differences for each of the baseline covariates inthe unweighted sample and in the sample weighted by weights derived from the specification of the propensity score model\n",
    "\n",
    " superimpose a line at 10% to indicat the limit of negligible imbalance\n",
    "\n",
    "    calculate for weighted_df and df for the following variables:\n",
    "\n",
    "sw_pay_mean_1315',\n",
    " 'earn_tot_mean_1315',\n",
    " 'age',\n",
    " 'occupation_rank_P1',\n",
    " 'Duration Bands',\n",
    " 'Ed_or_Training_13_15share',\n",
    " 'LM_WSW_13_15share',\n",
    " 'WSW_13_15share',\n",
    " 'y']\n",
    " \n",
    " split into four datasets to calculate std dev?"
   ]
  },
  {
   "cell_type": "code",
   "execution_count": 73,
   "metadata": {
    "scrolled": true
   },
   "outputs": [
    {
     "data": {
      "text/plain": [
       "y\n",
       "0.0    38.912663\n",
       "1.0    40.424790\n",
       "Name: age, dtype: float64"
      ]
     },
     "execution_count": 73,
     "metadata": {},
     "output_type": "execute_result"
    }
   ],
   "source": [
    "#df.groupby(\"y\").std(ddof=0) \n",
    "\n",
    "\n",
    "\n",
    "df.groupby(['y'])['age'].apply(np.std)\n",
    "\n",
    "df.groupby(['y'])['age'].apply(np.mean)"
   ]
  },
  {
   "cell_type": "code",
   "execution_count": null,
   "metadata": {
    "collapsed": true
   },
   "outputs": [],
   "source": [
    "# is it possible to loop through the columns in the dataframe and calculate a value for smd\n",
    "# this needs to subtract mean values where y =0 from those where y=1; then add std dev values for both y groups and divide by two\n",
    "\n",
    "for col in df.columns:\n",
    "    df['smd']=df.groupby(['y']).apply(np.mean)/df.groupby(['y']).apply(np.std)\n",
    "            # print(col)\n",
    "        df[col] = df[col].astype(\"int\")\n"
   ]
  },
  {
   "cell_type": "code",
   "execution_count": null,
   "metadata": {
    "collapsed": true
   },
   "outputs": [],
   "source": [
    "scipy.stats.zscore()"
   ]
  },
  {
   "cell_type": "markdown",
   "metadata": {},
   "source": [
    "\n",
    "\n",
    "[treatment mean (age) - control mean (age)]/sq root (sample variance treatment + sample variance control)/2\n",
    "for var in vars:\n",
    "df(var).mean()/statistics.stdev(df(var))\n",
    "\n",
    "df.loc[:,\"age\"].std()\n",
    "\n",
    "sw_pay_mean_1315',\n",
    " 'earn_tot_mean_1315',\n",
    " 'age',\n",
    " 'occupation_rank_P1',\n",
    " 'Duration Bands',\n",
    " 'Ed_or_Training_13_15share',\n",
    " 'LM_WSW_13_15share',\n",
    " 'WSW_13_15share',\n",
    " 'y']\n",
    "\n",
    "calculate mean difference for each variable and std dev, then\n",
    "df\n",
    "mean()\n",
    "statistics.stdev(data)\n",
    "\n",
    "\n",
    "df.groupby(\"y\").std(ddof=0) "
   ]
  },
  {
   "cell_type": "code",
   "execution_count": 27,
   "metadata": {},
   "outputs": [
    {
     "name": "stdout",
     "output_type": "stream",
     "text": [
      "[ 0.  1.]\n",
      "(85874, 15)\n",
      "(5478, 15)\n"
     ]
    },
    {
     "name": "stderr",
     "output_type": "stream",
     "text": [
      "C:\\ProgramData\\Anaconda3\\lib\\site-packages\\statsmodels\\nonparametric\\kde.py:494: RuntimeWarning: invalid value encountered in true_divide\n",
      "  binned = fast_linbin(X,a,b,gridsize)/(delta*nobs)\n",
      "C:\\ProgramData\\Anaconda3\\lib\\site-packages\\statsmodels\\nonparametric\\kdetools.py:34: RuntimeWarning: invalid value encountered in double_scalars\n",
      "  FAC1 = 2*(np.pi*bw/RANGE)**2\n"
     ]
    },
    {
     "data": {
      "image/png": "[encoded data removed]",
      "text/plain": [
       "<matplotlib.figure.Figure at 0xe5639e8>"
      ]
     },
     "metadata": {},
     "output_type": "display_data"
    }
   ],
   "source": [
    "\n",
    "unique_vals = df['y'].unique()\n",
    "print(unique_vals)\n",
    "df['y'].value_counts()\n",
    "\n",
    "# # Sort the dataframe by target\n",
    "# # Use a list comprehension to create list of sliced dataframes\n",
    "targets = [df.loc[df['y'] == val] for val in unique_vals]\n",
    "for index, group in enumerate(['Control', 'Treatment']):\n",
    "    subset=df.loc[df['y'] ==index]\n",
    "    print(subset.shape)\n",
    "    sns.kdeplot(subset['Propensity_LR'], kernel='gau', label = group )\n",
    "plt.legend()\n",
    "plt.show()"
   ]
  },
  {
   "cell_type": "code",
   "execution_count": null,
   "metadata": {
    "collapsed": true
   },
   "outputs": [],
   "source": []
  }
 ],
 "metadata": {
  "kernelspec": {
   "display_name": "Python 3",
   "language": "python",
   "name": "python3"
  },
  "language_info": {
   "codemirror_mode": {
    "name": "ipython",
    "version": 3
   },
   "file_extension": ".py",
   "mimetype": "text/x-python",
   "name": "python",
   "nbconvert_exporter": "python",
   "pygments_lexer": "ipython3",
   "version": "3.6.3"
  }
 },
 "nbformat": 4,
 "nbformat_minor": 2
}
