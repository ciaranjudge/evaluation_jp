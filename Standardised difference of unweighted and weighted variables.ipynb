{
 "cells": [
  {
   "cell_type": "code",
   "execution_count": 208,
   "metadata": {},
   "outputs": [],
   "source": [
    "# These libraries are required for the functions below\n",
    "import math\n",
    "import pandas as pd"
   ]
  },
  {
   "cell_type": "code",
   "execution_count": 209,
   "metadata": {},
   "outputs": [],
   "source": [
    "# Function takes two lists. The first contains unweighted values. The second contains the same values weighted.\n",
    "# Returns: the weighted mean and the weighted standard deviation for Inverse Probability of Treatment Weights.\n",
    "#\n",
    "# Assumption: in the case where there is treatment and control data, it is assumed that data has already been filtered and\n",
    "# the input is one or the other.\n",
    "def weighted_mean_and_stdev (x, weighted_x):\n",
    "        \n",
    "    # calculate weights. Set weight to 1 if unweighted value is zero\n",
    "    weights = [wx / ux if ux!=0 else 1 for wx, ux in zip(weighted_x, x)]\n",
    "    \n",
    "    weights_sum = sum(weights)\n",
    "    \n",
    "    # Calculated the weighted mean\n",
    "    weighted_mean_x = sum(weighted_x) / weights_sum    \n",
    "    # Calculated the weighted standard deviation  \n",
    "    weighted_std_x = math.sqrt(weights_sum * (sum([w*((ux - weighted_mean_x)**2) for w, ux in zip(weights, x)])) / (\n",
    "        (sum(weights)**2) - sum([i**2 for i in weights])\n",
    "    ))\n",
    "\n",
    "    return weighted_mean_x, weighted_std_x"
   ]
  },
  {
   "cell_type": "code",
   "execution_count": 210,
   "metadata": {},
   "outputs": [],
   "source": [
    "# This function takes 4 parameters:\n",
    "# a dataframe;\n",
    "# a list of column headings for unweighted variables;\n",
    "# a list of one-to-one corresponding column headings for weighted variables;\n",
    "# a string, which is the name of the column containing the values indicating treatment or control. \n",
    "#\n",
    "# Returns: A dataframe where the column headings are the unweighted variable names. \n",
    "# The first row contains the unweighted standardised differences and the 2nd row contains the weighted standardised differences.\n",
    "def unweighted_weighted_standardised_difference (df, X, weighted_X, y):\n",
    "    outdf = pd.DataFrame(index=['d', 'd_weighted'])\n",
    "    for i in range(0,len(X)):\n",
    "        u = X[i]\n",
    "        w = weighted_X[i]\n",
    "        u_control = df.loc[(df[y]==0), u]\n",
    "        #print(u_control)\n",
    "        u_treatment = df.loc[(df[y]==1), u]\n",
    "       #print(u_treatment)\n",
    "        w_control = df.loc[(df[y]==0), w]\n",
    "       # print(w_control)\n",
    "        w_treatment = df.loc[(df[y]==1),w]\n",
    "       # print(w_treatment)\n",
    "        weighted_mean_control, weighted_std_control = weighted_mean_and_stdev(u_control.tolist(), w_control.tolist())\n",
    "       # print(weighted_mean_control, weighted_std_control)\n",
    "        weighted_mean_treatment, weighted_std_treatment = weighted_mean_and_stdev(u_treatment.tolist(), w_treatment.tolist())      \n",
    "      # print(weighted_mean_treatment, weighted_std_treatment)\n",
    "        mean_treatment = u_treatment.mean()\n",
    "        mean_control = u_control.mean()\n",
    "        std_treatment = u_treatment.std()\n",
    "        std_control = u_control.std()\n",
    "        d = 100*(mean_treatment - mean_control) / math.sqrt(\n",
    "            ((std_treatment**2)+(std_control**2))/2)\n",
    "        dw = 100*(weighted_mean_treatment - weighted_mean_control) / math.sqrt(\n",
    "            ((weighted_std_treatment**2)+(weighted_std_control**2))/2)\n",
    "        outdf[u] = [d,dw]\n",
    "        \n",
    "    return outdf\n",
    "    "
   ]
  },
  {
   "cell_type": "code",
   "execution_count": 227,
   "metadata": {},
   "outputs": [],
   "source": [
    "#Example\n",
    "a =[15, 12, 12, 10]\n",
    "b = [9, 10, 10, 13]\n",
    "c = [15, 14, 16, 14]\n",
    "d = [9, 10, 9, 11]"
   ]
  },
  {
   "cell_type": "code",
   "execution_count": 228,
   "metadata": {},
   "outputs": [],
   "source": [
    "df1 = pd.DataFrame()"
   ]
  },
  {
   "cell_type": "code",
   "execution_count": 229,
   "metadata": {},
   "outputs": [],
   "source": [
    "df1['a']= a\n",
    "df1['b']= b\n",
    "df1['c']= c\n",
    "df1['d']= d\n",
    "df1['y']=[0,0,1,1]"
   ]
  },
  {
   "cell_type": "code",
   "execution_count": 230,
   "metadata": {},
   "outputs": [
    {
     "data": {
      "text/html": [
       "<div>\n",
       "<style scoped>\n",
       "    .dataframe tbody tr th:only-of-type {\n",
       "        vertical-align: middle;\n",
       "    }\n",
       "\n",
       "    .dataframe tbody tr th {\n",
       "        vertical-align: top;\n",
       "    }\n",
       "\n",
       "    .dataframe thead th {\n",
       "        text-align: right;\n",
       "    }\n",
       "</style>\n",
       "<table border=\"1\" class=\"dataframe\">\n",
       "  <thead>\n",
       "    <tr style=\"text-align: right;\">\n",
       "      <th></th>\n",
       "      <th>a</th>\n",
       "      <th>b</th>\n",
       "      <th>c</th>\n",
       "      <th>d</th>\n",
       "      <th>y</th>\n",
       "    </tr>\n",
       "  </thead>\n",
       "  <tbody>\n",
       "    <tr>\n",
       "      <th>0</th>\n",
       "      <td>15</td>\n",
       "      <td>9</td>\n",
       "      <td>15</td>\n",
       "      <td>9</td>\n",
       "      <td>0</td>\n",
       "    </tr>\n",
       "    <tr>\n",
       "      <th>1</th>\n",
       "      <td>12</td>\n",
       "      <td>10</td>\n",
       "      <td>14</td>\n",
       "      <td>10</td>\n",
       "      <td>0</td>\n",
       "    </tr>\n",
       "    <tr>\n",
       "      <th>2</th>\n",
       "      <td>12</td>\n",
       "      <td>10</td>\n",
       "      <td>16</td>\n",
       "      <td>9</td>\n",
       "      <td>1</td>\n",
       "    </tr>\n",
       "    <tr>\n",
       "      <th>3</th>\n",
       "      <td>10</td>\n",
       "      <td>13</td>\n",
       "      <td>14</td>\n",
       "      <td>11</td>\n",
       "      <td>1</td>\n",
       "    </tr>\n",
       "  </tbody>\n",
       "</table>\n",
       "</div>"
      ],
      "text/plain": [
       "    a   b   c   d  y\n",
       "0  15   9  15   9  0\n",
       "1  12  10  14  10  0\n",
       "2  12  10  16   9  1\n",
       "3  10  13  14  11  1"
      ]
     },
     "execution_count": 230,
     "metadata": {},
     "output_type": "execute_result"
    }
   ],
   "source": [
    "df1"
   ]
  },
  {
   "cell_type": "code",
   "execution_count": 231,
   "metadata": {},
   "outputs": [
    {
     "data": {
      "text/html": [
       "<div>\n",
       "<style scoped>\n",
       "    .dataframe tbody tr th:only-of-type {\n",
       "        vertical-align: middle;\n",
       "    }\n",
       "\n",
       "    .dataframe tbody tr th {\n",
       "        vertical-align: top;\n",
       "    }\n",
       "\n",
       "    .dataframe thead th {\n",
       "        text-align: right;\n",
       "    }\n",
       "</style>\n",
       "<table border=\"1\" class=\"dataframe\">\n",
       "  <thead>\n",
       "    <tr style=\"text-align: right;\">\n",
       "      <th></th>\n",
       "      <th>a</th>\n",
       "      <th>b</th>\n",
       "    </tr>\n",
       "  </thead>\n",
       "  <tbody>\n",
       "    <tr>\n",
       "      <th>d</th>\n",
       "      <td>-138.675049</td>\n",
       "      <td>126.491106</td>\n",
       "    </tr>\n",
       "    <tr>\n",
       "      <th>d_weighted</th>\n",
       "      <td>-133.627589</td>\n",
       "      <td>123.565651</td>\n",
       "    </tr>\n",
       "  </tbody>\n",
       "</table>\n",
       "</div>"
      ],
      "text/plain": [
       "                     a           b\n",
       "d          -138.675049  126.491106\n",
       "d_weighted -133.627589  123.565651"
      ]
     },
     "execution_count": 231,
     "metadata": {},
     "output_type": "execute_result"
    }
   ],
   "source": [
    "unweighted_weighted_standardised_difference (df1, ['a', 'b'], ['c', 'd'], 'y')"
   ]
  },
  {
   "cell_type": "code",
   "execution_count": null,
   "metadata": {},
   "outputs": [],
   "source": []
  }
 ],
 "metadata": {
  "kernelspec": {
   "display_name": "Python 3",
   "language": "python",
   "name": "python3"
  },
  "language_info": {
   "codemirror_mode": {
    "name": "ipython",
    "version": 3
   },
   "file_extension": ".py",
   "mimetype": "text/x-python",
   "name": "python",
   "nbconvert_exporter": "python",
   "pygments_lexer": "ipython3",
   "version": "3.6.5"
  }
 },
 "nbformat": 4,
 "nbformat_minor": 2
}
