{
 "cells": [
  {
   "cell_type": "code",
   "execution_count": 1,
   "metadata": {},
   "outputs": [],
   "source": [
    "from sas7bdat import SAS7BDAT\n",
    "import csv\n",
    "import pandas as pd\n",
    "import datetime as dt\n",
    "import time"
   ]
  },
  {
   "cell_type": "markdown",
   "metadata": {},
   "source": [
    "# Inputs/Outputs"
   ]
  },
  {
   "cell_type": "code",
   "execution_count": 2,
   "metadata": {},
   "outputs": [],
   "source": [
    "# To convert SAS into CSV\n",
    "sasfilename = 'D:/Data/linkedclaims_casuals_2018m04.sas7bdat'\n",
    "csvfilename = sasfilename.replace('.sas7bdat','.csv')"
   ]
  },
  {
   "cell_type": "markdown",
   "metadata": {},
   "source": [
    "# Convert SAS into CSV"
   ]
  },
  {
   "cell_type": "code",
   "execution_count": 3,
   "metadata": {},
   "outputs": [
    {
     "name": "stdout",
     "output_type": "stream",
     "text": [
      "Rows processed = 200000\n",
      "Rows processed = 400000\n",
      "Rows processed = 600000\n",
      "Rows processed = 800000\n",
      "Rows processed = 1000000\n",
      "Rows processed = 1200000\n",
      "Rows processed = 1400000\n",
      "Rows processed = 1600000\n",
      "Rows processed = 1800000\n",
      "Rows processed = 1907398\n",
      "Elapsed time: 00:03:30\n",
      "\n",
      "ALL DONE\n"
     ]
    }
   ],
   "source": [
    "# initiate timing\n",
    "start_time = time.time()\n",
    "\n",
    "batch_size = 200000\n",
    "with SAS7BDAT(sasfilename) as sasfile:\n",
    "    with open(csvfilename, 'w', newline='') as csvfile:\n",
    "        wr = csv.writer(csvfile)\n",
    "        processed = 0\n",
    "        count = 0\n",
    "        row_batch = []\n",
    "        \n",
    "        eof = 0\n",
    "        sasfile_iter = sasfile._iter\n",
    "        while eof == 0:\n",
    "            row = next(sasfile_iter, None)\n",
    "            if row is not None:\n",
    "                row_batch.append(row)\n",
    "                count = count + 1\n",
    "            else:\n",
    "                eof = 1\n",
    "            if eof or count == batch_size:\n",
    "                wr.writerows(row_batch)\n",
    "                processed = processed + count\n",
    "                print ('Rows processed = %d' %processed)\n",
    "                count = 0\n",
    "                row_batch = []\n",
    "                \n",
    "elapsed_time = time.time() - start_time\n",
    "print ('Elapsed time: '+ time.strftime(\"%H:%M:%S\", time.gmtime(elapsed_time)))\n",
    "\n",
    "print ('\\nALL DONE')"
   ]
  },
  {
   "cell_type": "code",
   "execution_count": null,
   "metadata": {},
   "outputs": [],
   "source": []
  }
 ],
 "metadata": {
  "kernelspec": {
   "display_name": "Python 3",
   "language": "python",
   "name": "python3"
  },
  "language_info": {
   "codemirror_mode": {
    "name": "ipython",
    "version": 3
   },
   "file_extension": ".py",
   "mimetype": "text/x-python",
   "name": "python",
   "nbconvert_exporter": "python",
   "pygments_lexer": "ipython3",
   "version": "3.6.4"
  }
 },
 "nbformat": 4,
 "nbformat_minor": 2
}
