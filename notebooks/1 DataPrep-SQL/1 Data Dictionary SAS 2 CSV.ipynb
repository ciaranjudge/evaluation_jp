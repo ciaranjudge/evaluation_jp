{
 "cells": [
  {
   "cell_type": "code",
   "execution_count": 1,
   "metadata": {},
   "outputs": [],
   "source": [
    "from sas7bdat import SAS7BDAT\n",
    "import pandas as pd\n",
    "import datetime as dt"
   ]
  },
  {
   "cell_type": "markdown",
   "metadata": {},
   "source": [
    "# Input/Output Definitions"
   ]
  },
  {
   "cell_type": "code",
   "execution_count": 2,
   "metadata": {},
   "outputs": [],
   "source": [
    "sasfilename = 'D:/Data/linkedclaims_casuals_2018m04.sas7bdat'\n",
    "ddictionaryfilename = sasfilename.replace('.sas7bdat', '_variables_types.csv')"
   ]
  },
  {
   "cell_type": "markdown",
   "metadata": {},
   "source": [
    "## Predefined Data Dictionary Field Values (LinkedClaims_casuals)"
   ]
  },
  {
   "cell_type": "code",
   "execution_count": 3,
   "metadata": {},
   "outputs": [],
   "source": [
    "dateformat = '%Y-%m-%d'\n",
    "variable_event_start = ['StartDate']\n",
    "variable_event_end = ['EndDate']\n",
    "variable_as_index = ['ppsn','StartDate', 'EndDate']\n",
    "variable_uid = ['ppsn']\n",
    "variable_date_of_birth = ['life_event_date']\n",
    "pii_variables = ['ppsn','sex']\n",
    "total_summary_variables = ['hist_lr','CasualFlag','PenaltyFlag','End_weekly_rate','Start_weekly_rate', 'occupation',\n",
    "                           'location','ada_code','marital_status','nat_code','county','family_flag','cda_number']\n",
    "\n",
    "total_summary_variables.extend(['penaltyflag','casualflag1', 'CDA_flag1', 'ADA_flag1', 'LM_code'])\n",
    "\n",
    "episode_summary_variables = ['hist_lr','CasualFlag','PenaltyFlag','End_weekly_rate','Start_weekly_rate',\n",
    "                             'life_event_date','location','ada_code','marital_status','nat_code',\n",
    "                             'occupation','county','family_flag', 'cda_number']\n",
    "\n",
    "episode_summary_variables.extend(['penaltyflag','casualflag1', 'CDA_flag1', 'ADA_flag1', 'LM_code', 'StartDate', 'EndDate'])"
   ]
  },
  {
   "cell_type": "markdown",
   "metadata": {},
   "source": [
    "## Export DataDictionary"
   ]
  },
  {
   "cell_type": "code",
   "execution_count": 4,
   "metadata": {},
   "outputs": [
    {
     "name": "stdout",
     "output_type": "stream",
     "text": [
      "\n",
      "ALL DONE\n"
     ]
    }
   ],
   "source": [
    "sasfile = SAS7BDAT(sasfilename) \n",
    "col_names_types = [sasfile.column_names, sasfile.column_types]\n",
    "sasfile.close()\n",
    "\n",
    "names_types = pd.DataFrame(col_names_types)\n",
    "names_types = names_types.T\n",
    "names_types.columns = ['Variable', 'Type']\n",
    "names_types.Variable = names_types.Variable.apply(lambda x:  x.decode('UTF-8').strip())\n",
    "names_types.Type = names_types.Type.apply(lambda x:  x.replace('string','Char'))\n",
    "names_types.Type = names_types.Type.apply(lambda x:  x.replace('number','Num'))\n",
    "\n",
    "formats = []\n",
    "for i in names_types.index:\n",
    "    if (names_types.Variable.loc[i].lower().find('date') != -1 \\\n",
    "        and names_types.Variable.loc[i].lower().find('flag') == -1) \\\n",
    "        or names_types.Variable.loc[i].lower().find('dob') != -1 \\\n",
    "        or names_types.Variable.loc[i].lower().find('proposedfinish') != -1 :\n",
    "        names_types.Type.loc[i] = 'Date'\n",
    "        formats.append(dateformat)\n",
    "    else:\n",
    "        formats.append('')\n",
    "names_types['Format'] = formats\n",
    "\n",
    "is_index = []\n",
    "for i in names_types.index:\n",
    "    if names_types.Variable.loc[i] in variable_as_index:\n",
    "        is_index.append('1')\n",
    "    else:\n",
    "        is_index.append('')\n",
    "names_types['AsHDF5Index'] = is_index\n",
    "\n",
    "is_event_start = []\n",
    "for i in names_types.index:\n",
    "    if names_types.Variable.loc[i] in variable_event_start:\n",
    "        is_event_start.append('1')\n",
    "    else:\n",
    "        is_event_start.append('')\n",
    "names_types['EventStart'] = is_event_start\n",
    "\n",
    "is_event_end = []\n",
    "for i in names_types.index:\n",
    "    if names_types.Variable.loc[i] in variable_event_end:\n",
    "        is_event_end.append('1')\n",
    "    else:\n",
    "        is_event_end.append('')\n",
    "names_types['EventEnd'] = is_event_end\n",
    "\n",
    "is_dob = []\n",
    "for i in names_types.index:\n",
    "    if names_types.Variable.loc[i] in variable_date_of_birth:\n",
    "        is_dob.append('1')\n",
    "    else:\n",
    "        is_dob.append('')\n",
    "names_types['DOB'] = is_dob\n",
    "\n",
    "is_uid = []\n",
    "for i in names_types.index:\n",
    "    if names_types.Variable.loc[i] in variable_uid:\n",
    "        is_uid.append('1')\n",
    "    else:\n",
    "        is_uid.append('')\n",
    "names_types['UID'] = is_uid\n",
    "\n",
    "is_pinfo = []\n",
    "for i in names_types.index:\n",
    "    if names_types.Variable.loc[i] in pii_variables:\n",
    "        is_pinfo.append('1')\n",
    "    else:\n",
    "        is_pinfo.append('')\n",
    "names_types['Pinfo'] = is_pinfo\n",
    "\n",
    "is_totsumvar = []\n",
    "for i in names_types.index:\n",
    "    if names_types.Variable.loc[i] in total_summary_variables:\n",
    "        is_totsumvar.append('1')\n",
    "    else:\n",
    "        is_totsumvar.append('')\n",
    "names_types['TotalSummary'] = is_totsumvar\n",
    "\n",
    "is_episumvar = []\n",
    "for i in names_types.index:\n",
    "    if names_types.Variable.loc[i] in episode_summary_variables:\n",
    "        is_episumvar.append('1')\n",
    "    else:\n",
    "        is_episumvar.append('')\n",
    "names_types['EpisodeSummary'] = is_episumvar\n",
    "        \n",
    "names_types.to_csv(ddictionaryfilename, index=False)\n",
    "\n",
    "print ('\\nALL DONE')"
   ]
  },
  {
   "cell_type": "code",
   "execution_count": null,
   "metadata": {},
   "outputs": [],
   "source": []
  }
 ],
 "metadata": {
  "kernelspec": {
   "display_name": "Python 3",
   "language": "python",
   "name": "python3"
  },
  "language_info": {
   "codemirror_mode": {
    "name": "ipython",
    "version": 3
   },
   "file_extension": ".py",
   "mimetype": "text/x-python",
   "name": "python",
   "nbconvert_exporter": "python",
   "pygments_lexer": "ipython3",
   "version": "3.6.4"
  }
 },
 "nbformat": 4,
 "nbformat_minor": 2
}
