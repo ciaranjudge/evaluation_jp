{
 "cells": [
  {
   "cell_type": "code",
   "execution_count": 2,
   "metadata": {},
   "outputs": [],
   "source": [
    "import pandas as pd\n",
    "# import pandas.io.sql as psql\n",
    "import numpy as np\n",
    "from sqlalchemy import create_engine, event\n",
    "import urllib.parse\n",
    "from datetime import datetime"
   ]
  },
  {
   "cell_type": "markdown",
   "metadata": {},
   "source": [
    "# Inputs & Outputs"
   ]
  },
  {
   "cell_type": "code",
   "execution_count": 3,
   "metadata": {},
   "outputs": [],
   "source": [
    "# SQL\n",
    "server = 'CSKMA0400\\RDB_Data'\n",
    "db = 'JLDJobPath'\n",
    "odbc_connection_string = 'DRIVER={SQL Server Native Client 11.0};SERVER='+server+';DATABASE='+db+';Trusted_Connection=yes'\n",
    "sql_table = \"linkedclaims_casuals_2018m04_v2_flat_20140101_with_income_with_edu\"\n",
    "\n",
    "#Selection threshold\n",
    "selection_nan_treshold = 0.55\n",
    "select_only_num = True\n",
    "\n",
    "# Output\n",
    "varprofile_csvfilename = \"D:/DATA/\" + sql_table + \"_variable_profile.csv\""
   ]
  },
  {
   "cell_type": "markdown",
   "metadata": {},
   "source": [
    "# Profiling"
   ]
  },
  {
   "cell_type": "code",
   "execution_count": 4,
   "metadata": {},
   "outputs": [
    {
     "name": "stdout",
     "output_type": "stream",
     "text": [
      "Reading Data from table: linkedclaims_casuals_2018m04_v2_flat_20140101_with_income_with_edu\n",
      "Reading Data done\n",
      "\n",
      "ALL DONE\n"
     ]
    }
   ],
   "source": [
    "# Connect to SQL and retrieve data\n",
    "params = urllib.parse.quote_plus(odbc_connection_string)\n",
    "engine = create_engine('mssql+pyodbc:///?odbc_connect=%s' % params)\n",
    "conn = engine.connect().connection\n",
    "\n",
    "@event.listens_for(engine, 'before_cursor_execute')\n",
    "def receive_before_cursor_execute(conn, cursor, statement, params, context, executemany):\n",
    "    if executemany:\n",
    "        cursor.fast_executemany = True\n",
    "print ('Reading Data from table: %s' %(sql_table))\n",
    "df = pd.read_sql_table(sql_table, engine)\n",
    "conn.close()\n",
    "print ('Reading Data done')\n",
    "\n",
    "## Profile features\n",
    "# convert data types\n",
    "var_names = df.columns\n",
    "var_types = df.dtypes\n",
    "\n",
    "myvar_types = pd.DataFrame(var_types.tolist())\n",
    "myvar_types[myvar_types[0] == 'float64'] = 'Num'\n",
    "myvar_types[myvar_types[0] == 'object'] = 'Char'\n",
    "myvar_types[myvar_types[0] == 'int64'] = 'Num'\n",
    "myvar_types[myvar_types[0] =='<M8[ns]'] = 'Date'\n",
    "\n",
    "# create stats feature selection output structure\n",
    "df_sel = pd.DataFrame()\n",
    "df_sel['Variable']=  var_names\n",
    "df_sel['Type'] = myvar_types[0]\n",
    "df_sel['Num_of_NaN'] = [np.NaN]*len(df_sel.index)\n",
    "df_sel['Num_NOT_NaN'] = [np.NaN]*len(df_sel.index)\n",
    "df_sel['NaN_of_Total'] = [np.NaN]*len(df_sel.index)\n",
    "df_sel['Num_of_ZERO'] = [np.NaN]*len(df_sel.index)\n",
    "df_sel['Num_NOT_ZERO'] = [np.NaN]*len(df_sel.index)\n",
    "df_sel['ZERO_of_Total'] = [np.NaN]*len(df_sel.index)\n",
    "\n",
    "# calculate number of null/not null & percentage of null\n",
    "for i in df_sel.index:\n",
    "    mytype = df_sel.Type.loc[i]\n",
    "\n",
    "    NofNaN = (df[df_sel.Variable.loc[i]]).isnull().sum()\n",
    "    df_sel.loc[df_sel['Variable'] == df_sel.Variable.loc[i], 'Num_of_NaN'] = NofNaN\n",
    "\n",
    "    Nof_NOT_NaN = len(df) - NofNaN\n",
    "    df_sel.loc[df_sel['Variable'] == df_sel.Variable.loc[i], 'Num_NOT_NaN'] = Nof_NOT_NaN\n",
    "\n",
    "    NaN_of_Total = NofNaN/len(df)\n",
    "    df_sel.loc[df_sel['Variable'] == df_sel.Variable.loc[i], 'NaN_of_Total'] = round(NaN_of_Total,2)\n",
    "    \n",
    "    if mytype == 'Num':\n",
    "        \n",
    "        Num_NOT_ZERO = (df[df_sel.Variable.loc[i]]).fillna(0).astype(bool).sum()\n",
    "        df_sel.loc[df_sel['Variable'] == df_sel.Variable.loc[i], 'Num_NOT_ZERO'] = Num_NOT_ZERO\n",
    "    \n",
    "        Num_of_ZERO = len(df) - Num_NOT_ZERO\n",
    "        df_sel.loc[df_sel['Variable'] == df_sel.Variable.loc[i], 'Num_of_ZERO'] = Num_of_ZERO\n",
    "    \n",
    "        ZERO_of_Total = Num_of_ZERO/len(df)\n",
    "        df_sel.loc[df_sel['Variable'] == df_sel.Variable.loc[i], 'ZERO_of_Total'] = round(ZERO_of_Total,2)\n",
    "#         print ('\\n\\t Num_of_ZERO = %d' %(Num_of_ZERO))\n",
    "    else:\n",
    "        df_sel.loc[df_sel['Variable'] == df_sel.Variable.loc[i], 'Num_of_ZERO'] = np.nan\n",
    "        df_sel.loc[df_sel['Variable'] == df_sel.Variable.loc[i], 'Num_NOT_ZERO'] = np.nan\n",
    "        df_sel.loc[df_sel['Variable'] == df_sel.Variable.loc[i], 'ZERO_of_Total'] = np.nan\n",
    "    \n",
    "    \n",
    "\n",
    "# create Stats feature selection function, adding \"selected\" 0/1   \n",
    "def insert_select(data, treshold):\n",
    "    data['selected'] = np.nan\n",
    "    for index, row in data.iterrows():\n",
    "        if select_only_num == True and row['Type'] != 'Num':\n",
    "            data.at[index, 'selected'] = 0\n",
    "        elif row['NaN_of_Total'] > treshold or row['Variable']=='ppsn':\n",
    "            data.at[index, 'selected'] = 0\n",
    "        else:\n",
    "            data.at[index, 'selected'] = 1\n",
    "    return data\n",
    "\n",
    "# run stats feature selection\n",
    "df_sel = insert_select(df_sel, selection_nan_treshold)\n",
    "\n",
    "# export stats feature selection output to csv\n",
    "df_sel.to_csv(varprofile_csvfilename, index=False)\n",
    "\n",
    "print ('\\nALL DONE')"
   ]
  },
  {
   "cell_type": "code",
   "execution_count": null,
   "metadata": {},
   "outputs": [],
   "source": []
  }
 ],
 "metadata": {
  "kernelspec": {
   "display_name": "Python 3",
   "language": "python",
   "name": "python3"
  },
  "language_info": {
   "codemirror_mode": {
    "name": "ipython",
    "version": 3
   },
   "file_extension": ".py",
   "mimetype": "text/x-python",
   "name": "python",
   "nbconvert_exporter": "python",
   "pygments_lexer": "ipython3",
   "version": "3.6.4"
  }
 },
 "nbformat": 4,
 "nbformat_minor": 2
}
