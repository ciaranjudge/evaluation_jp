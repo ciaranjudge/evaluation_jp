{
 "cells": [
  {
   "cell_type": "code",
   "execution_count": 1,
   "metadata": {},
   "outputs": [],
   "source": [
    "import pandas as pd\n",
    "# import pandas.io.sql as psql\n",
    "# import numpy as np\n",
    "from sqlalchemy import create_engine, event\n",
    "import urllib.parse\n",
    "import time\n",
    "# import gc"
   ]
  },
  {
   "cell_type": "markdown",
   "metadata": {},
   "source": [
    "# Inputs & Outputs"
   ]
  },
  {
   "cell_type": "code",
   "execution_count": 2,
   "metadata": {},
   "outputs": [],
   "source": [
    "#SQL\n",
    "server = 'CSKMA0400\\RDB_Data'\n",
    "db = 'JLDJobPath'\n",
    "odbc_connection_string = 'DRIVER={SQL Server Native Client 11.0};SERVER='+server+';DATABASE='+db+';Trusted_Connection=yes'\n",
    "\n",
    "sql_table_0 = \"linkedclaims_casuals_2018m04_v2_flat_20140101_with_income\"\n",
    "sql_table_1 = \"linkedclaims_casuals_2018m04_v2_flat_20141001_with_income\"\n",
    "sql_table_2 = \"linkedclaims_casuals_2018m04_v2_flat_20150401_with_income\"\n",
    "sql_table_3 = \"linkedclaims_casuals_2018m04_v2_flat_20160101_with_income\"\n",
    "\n",
    "sql_tables_all = [sql_table_0, sql_table_1, sql_table_2, sql_table_3]\n",
    "\n",
    "sql_table_out = \"linkedclaims_casuals_2018m04_v2_flat_multi_with_income\"\n",
    "\n",
    "varprofile_csvfilename = \"D:/DATA/linkedclaims_casuals_2018m04_v2_flat_20140101_with_income_with_edu_variable_profile.csv\"\n",
    "variables_to_add= ['ppsn','EndDate_0']"
   ]
  },
  {
   "cell_type": "markdown",
   "metadata": {},
   "source": [
    "# Procedure"
   ]
  },
  {
   "cell_type": "code",
   "execution_count": 3,
   "metadata": {},
   "outputs": [
    {
     "name": "stdout",
     "output_type": "stream",
     "text": [
      "Output table linkedclaims_casuals_2018m04_v2_flat_multi_with_income\n",
      "Copy table linkedclaims_casuals_2018m04_v2_flat_20140101_with_income\n",
      "SELECT End_weekly_rate_0,LM_code_rank_0,age,duration_days_0,sex,total_duration_days,total_duration_days_nat_code_Irish,total_max_LM_code_rank,total_max_ada_code_rank,total_max_family_flag_rank,total_max_marital_status_rank,total_max_occupation_rank,total_min_LM_code_rank,total_min_ada_code_rank,total_min_family_flag_rank,total_min_marital_status_rank,total_min_occupation_rank,Class_A_Earn0,Class_A_Earn1,Class_A_Earn2,Class_A_Earn3,Class_A_Earn4,Class_S_Earn0,Class_S_Earn1,Class_S_Earn2,Class_S_Earn3,Class_S_Earn4,Class_Other_Earn0,Class_Other_Earn1,Class_Other_Earn2,Class_Other_Earn3,Class_Other_Earn4,Class_A_weeks0,Class_A_weeks1,Class_A_weeks2,Class_A_weeks3,Class_A_weeks4,ppsn,EndDate_0 INTO linkedclaims_casuals_2018m04_v2_flat_multi_with_income FROM linkedclaims_casuals_2018m04_v2_flat_20140101_with_income\n",
      "Merge table linkedclaims_casuals_2018m04_v2_flat_20141001_with_income\n",
      "Insert into linkedclaims_casuals_2018m04_v2_flat_multi_with_income select End_weekly_rate_0,LM_code_rank_0,age,duration_days_0,sex,total_duration_days,total_duration_days_nat_code_Irish,total_max_LM_code_rank,total_max_ada_code_rank,total_max_family_flag_rank,total_max_marital_status_rank,total_max_occupation_rank,total_min_LM_code_rank,total_min_ada_code_rank,total_min_family_flag_rank,total_min_marital_status_rank,total_min_occupation_rank,Class_A_Earn0,Class_A_Earn1,Class_A_Earn2,Class_A_Earn3,Class_A_Earn4,Class_S_Earn0,Class_S_Earn1,Class_S_Earn2,Class_S_Earn3,Class_S_Earn4,Class_Other_Earn0,Class_Other_Earn1,Class_Other_Earn2,Class_Other_Earn3,Class_Other_Earn4,Class_A_weeks0,Class_A_weeks1,Class_A_weeks2,Class_A_weeks3,Class_A_weeks4,ppsn,EndDate_0 from linkedclaims_casuals_2018m04_v2_flat_20141001_with_income\n",
      "Merge table linkedclaims_casuals_2018m04_v2_flat_20150401_with_income\n",
      "Insert into linkedclaims_casuals_2018m04_v2_flat_multi_with_income select End_weekly_rate_0,LM_code_rank_0,age,duration_days_0,sex,total_duration_days,total_duration_days_nat_code_Irish,total_max_LM_code_rank,total_max_ada_code_rank,total_max_family_flag_rank,total_max_marital_status_rank,total_max_occupation_rank,total_min_LM_code_rank,total_min_ada_code_rank,total_min_family_flag_rank,total_min_marital_status_rank,total_min_occupation_rank,Class_A_Earn0,Class_A_Earn1,Class_A_Earn2,Class_A_Earn3,Class_A_Earn4,Class_S_Earn0,Class_S_Earn1,Class_S_Earn2,Class_S_Earn3,Class_S_Earn4,Class_Other_Earn0,Class_Other_Earn1,Class_Other_Earn2,Class_Other_Earn3,Class_Other_Earn4,Class_A_weeks0,Class_A_weeks1,Class_A_weeks2,Class_A_weeks3,Class_A_weeks4,ppsn,EndDate_0 from linkedclaims_casuals_2018m04_v2_flat_20150401_with_income\n",
      "Merge table linkedclaims_casuals_2018m04_v2_flat_20160101_with_income\n",
      "Insert into linkedclaims_casuals_2018m04_v2_flat_multi_with_income select End_weekly_rate_0,LM_code_rank_0,age,duration_days_0,sex,total_duration_days,total_duration_days_nat_code_Irish,total_max_LM_code_rank,total_max_ada_code_rank,total_max_family_flag_rank,total_max_marital_status_rank,total_max_occupation_rank,total_min_LM_code_rank,total_min_ada_code_rank,total_min_family_flag_rank,total_min_marital_status_rank,total_min_occupation_rank,Class_A_Earn0,Class_A_Earn1,Class_A_Earn2,Class_A_Earn3,Class_A_Earn4,Class_S_Earn0,Class_S_Earn1,Class_S_Earn2,Class_S_Earn3,Class_S_Earn4,Class_Other_Earn0,Class_Other_Earn1,Class_Other_Earn2,Class_Other_Earn3,Class_Other_Earn4,Class_A_weeks0,Class_A_weeks1,Class_A_weeks2,Class_A_weeks3,Class_A_weeks4,ppsn,EndDate_0 from linkedclaims_casuals_2018m04_v2_flat_20160101_with_income\n",
      "ALL DONE\n"
     ]
    }
   ],
   "source": [
    "def drop_sql_table(odbc_connection_string, sql_table):\n",
    "    # Connect to SQL\n",
    "    params = urllib.parse.quote_plus(odbc_connection_string)\n",
    "    engine = create_engine('mssql+pyodbc:///?odbc_connect=%s' % params)\n",
    "    conn = engine.connect().connection\n",
    "    cursor = conn.cursor()\n",
    "\n",
    "    # Drop table if exists\n",
    "    sql_string_drop = \"IF OBJECT_ID('\"+ sql_table + \"', 'U') IS NOT NULL\" +'\\n'+ \"DROP TABLE \" + sql_table\n",
    "    cursor.execute(sql_string_drop)\n",
    "    conn.commit()\n",
    "    conn.close()\n",
    "\n",
    "def copy_data_from_to_sql(odbc_connection_string, sql_table_from, sql_table_to, variables):\n",
    "    # Connect to SQL\n",
    "    params = urllib.parse.quote_plus(odbc_connection_string)\n",
    "    engine = create_engine('mssql+pyodbc:///?odbc_connect=%s' % params)\n",
    "    conn = engine.connect().connection\n",
    "    cursor = conn.cursor()\n",
    "    \n",
    "    sel_var= (',').join(variables)\n",
    "    sql_statement = 'SELECT ' + sel_var + ' INTO '+ sql_table_to + ' FROM ' + sql_table_from\n",
    "    \n",
    "    cursor.execute(sql_statement)\n",
    "    conn.commit()\n",
    "    \n",
    "    #Close SQL Connection\n",
    "    conn.close()\n",
    "    return\n",
    "\n",
    "def merge_data_from_to_sql(odbc_connection_string, sql_table_from, sql_table_to, variables):\n",
    "    # Connect to SQL\n",
    "    params = urllib.parse.quote_plus(odbc_connection_string)\n",
    "    engine = create_engine('mssql+pyodbc:///?odbc_connect=%s' % params)\n",
    "    conn = engine.connect().connection\n",
    "    cursor = conn.cursor()\n",
    "    \n",
    "    sel_var= (',').join(variables)\n",
    "    sql_statement = 'Insert into ' + sql_table_to + ' select '+ sel_var + ' from ' + sql_table_from\n",
    "    \n",
    "    cursor.execute(sql_statement)\n",
    "    conn.commit()\n",
    "    \n",
    "    #Close SQL Connection\n",
    "    conn.close()\n",
    "    return\n",
    "\n",
    "\n",
    "variables = pd.read_csv(varprofile_csvfilename)\n",
    "variables = variables[variables.selected==1].Variable.tolist()\n",
    "variables.extend(variables_to_add)\n",
    "\n",
    "\n",
    "print (\"Output table %s\" %(sql_table_out))\n",
    "drop_sql_table(odbc_connection_string, sql_table_out)\n",
    "\n",
    "print (\"Copy table %s\" %(sql_tables_all[0]))\n",
    "copy_data_from_to_sql(odbc_connection_string, sql_tables_all[0], sql_table_out, variables)\n",
    "\n",
    "for dt in range(1,len(sql_tables_all)):\n",
    "    \n",
    "    print (\"Merge table %s\" %(sql_tables_all[dt]))\n",
    "    merge_data_from_to_sql(odbc_connection_string, sql_tables_all[dt], sql_table_out, variables)\n",
    "    \n",
    "print (\"ALL DONE\")"
   ]
  },
  {
   "cell_type": "code",
   "execution_count": null,
   "metadata": {},
   "outputs": [],
   "source": []
  }
 ],
 "metadata": {
  "kernelspec": {
   "display_name": "Python 3",
   "language": "python",
   "name": "python3"
  },
  "language_info": {
   "codemirror_mode": {
    "name": "ipython",
    "version": 3
   },
   "file_extension": ".py",
   "mimetype": "text/x-python",
   "name": "python",
   "nbconvert_exporter": "python",
   "pygments_lexer": "ipython3",
   "version": "3.6.4"
  }
 },
 "nbformat": 4,
 "nbformat_minor": 2
}
