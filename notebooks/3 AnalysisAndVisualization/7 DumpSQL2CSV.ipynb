{
 "cells": [
  {
   "cell_type": "code",
   "execution_count": 1,
   "metadata": {},
   "outputs": [],
   "source": [
    "from sqlalchemy import create_engine, event\n",
    "import urllib.parse\n",
    "\n",
    "import pandas as pd\n",
    "import datetime as dt\n",
    "import numpy as np\n",
    "import time"
   ]
  },
  {
   "cell_type": "markdown",
   "metadata": {},
   "source": [
    "# Input & Output"
   ]
  },
  {
   "cell_type": "code",
   "execution_count": 2,
   "metadata": {},
   "outputs": [],
   "source": [
    "# SQL database\n",
    "server = 'CSKMA0400\\RDB_Data'\n",
    "db = 'JLDJobPath'\n",
    "odbc_connection_string = 'DRIVER={SQL Server Native Client 11.0};SERVER='+server+';DATABASE='+db+';Trusted_Connection=yes'\n",
    "\n",
    "#Input Table\n",
    "input_sql_table = \"linkedclaims_casuals_2018m04_v2_flat_20160101_with_income_36Vars__7BGM_full_clusters_jp_summary_with_outcomes_edu_selected_jld\"\n",
    "\n",
    "output_csv_file = \"//cskma0294/F/Evaluations/JobPath/Python/Data/OutputAnalysis/\"+input_sql_table+\".csv\"\n",
    "out_cols_drop = []\n",
    "exportIndex = False"
   ]
  },
  {
   "cell_type": "markdown",
   "metadata": {},
   "source": [
    "# Procedure"
   ]
  },
  {
   "cell_type": "code",
   "execution_count": 3,
   "metadata": {},
   "outputs": [
    {
     "name": "stdout",
     "output_type": "stream",
     "text": [
      "ALL DONE!\n"
     ]
    }
   ],
   "source": [
    "def read_data_from_sql(sql_table):\n",
    "    # Connect to SQL\n",
    "    params = urllib.parse.quote_plus(odbc_connection_string)\n",
    "    engine = create_engine('mssql+pyodbc:///?odbc_connect=%s' % params)\n",
    "    conn = engine.connect().connection\n",
    "\n",
    "    @event.listens_for(engine, 'before_cursor_execute')\n",
    "    def receive_before_cursor_execute(conn, cursor, statement, params, context, executemany):\n",
    "        if executemany:\n",
    "            cursor.fast_executemany = True\n",
    "\n",
    "    df = pd.read_sql_table(sql_table, engine)\n",
    "    conn.close()\n",
    "    return df\n",
    "\n",
    "\n",
    "data = read_data_from_sql(input_sql_table)\n",
    "if len (out_cols_drop) > 0:\n",
    "    for elem in out_cols_drop:\n",
    "        data.drop(columns=elem)\n",
    "data.to_csv(output_csv_file, index=exportIndex)\n",
    "\n",
    "print ('ALL DONE!')"
   ]
  },
  {
   "cell_type": "code",
   "execution_count": null,
   "metadata": {},
   "outputs": [],
   "source": []
  }
 ],
 "metadata": {
  "kernelspec": {
   "display_name": "Python 3",
   "language": "python",
   "name": "python3"
  },
  "language_info": {
   "codemirror_mode": {
    "name": "ipython",
    "version": 3
   },
   "file_extension": ".py",
   "mimetype": "text/x-python",
   "name": "python",
   "nbconvert_exporter": "python",
   "pygments_lexer": "ipython3",
   "version": "3.6.4"
  }
 },
 "nbformat": 4,
 "nbformat_minor": 2
}
