{
 "cells": [
  {
   "cell_type": "code",
   "execution_count": 2,
   "metadata": {},
   "outputs": [],
   "source": [
    "import sys\n",
    "import pandas as pd              # python package for dataframes\n",
    "import os                        # used to change directory paths\n",
    "import matplotlib.pyplot as plt  # python package for plotting\n",
    "import numpy as np\n",
    "#can't import seaborn\n",
    "import seaborn as sns #package for plotting\n",
    "from scipy.stats import norm\n",
    "from sklearn.preprocessing import StandardScaler\n",
    "from scipy import stats\n",
    "from IPython.display import display, HTML  # Make tables pretty\n",
    "from datetime import datetime\n",
    "import pandas as pd\n"
   ]
  },
  {
   "cell_type": "markdown",
   "metadata": {},
   "source": [
    "## Import Data"
   ]
  },
  {
   "cell_type": "code",
   "execution_count": 3,
   "metadata": {},
   "outputs": [],
   "source": [
    "path_jp = '//cskma0294/F/Evaluations/JobPath/Python/Analysis/JPOutcomes/'\n",
    "filename_jp = 'linkedclaims_casuals_2018m04_v2_flat_20160101_with_income_36Vars__7BGM_full_clusters_jp_summary_status.csv'\n",
    "path_earnings='//cskma0294/F/Evaluations/JobPath/Python/Data/Earnings/'\n",
    "filename_earnings = 'new_earnings_11jul2018.csv'\n",
    "data_jp = pd.read_csv(path_jp+filename_jp, encoding= 'utf-8')\n",
    "data_jp=data_jp[~data_jp['hist_lr_0'].str.contains('C', case=False)]\n",
    "data_jp=data_jp[data_jp['age']<60]\n",
    "data_jp=data_jp[data_jp['jp_flag_before_aw']!= 1]\n",
    "data_jp=data_jp[data_jp['duration_days_0'] > 299]\n",
    "data_earnings = pd.read_csv(path_earnings+filename_earnings, encoding= 'utf-8')"
   ]
  },
  {
   "cell_type": "code",
   "execution_count": 4,
   "metadata": {},
   "outputs": [
    {
     "data": {
      "text/plain": [
       "746286"
      ]
     },
     "execution_count": 4,
     "metadata": {},
     "output_type": "execute_result"
    }
   ],
   "source": [
    "new_path_jp = '//cskma0294/F/Evaluations/JobPath/Quarterly_status/'\n",
    "new_filename_jp = 'q_status_all.csv'\n",
    "new_data_jp = pd.read_csv(new_path_jp+new_filename_jp, encoding= 'utf-8')\n",
    "new_data_jp['ppsn'].nunique()"
   ]
  },
  {
   "cell_type": "code",
   "execution_count": 5,
   "metadata": {},
   "outputs": [
    {
     "data": {
      "text/plain": [
       "['ppsn',\n",
       " 'StatusEnd_Q12014',\n",
       " 'StatusEnd_Q22014',\n",
       " 'StatusEnd_Q32014',\n",
       " 'StatusEnd_Q42014',\n",
       " 'StatusEnd_Q12015',\n",
       " 'StatusEnd_Q22015',\n",
       " 'StatusEnd_Q32015',\n",
       " 'StatusEnd_Q42015',\n",
       " 'StatusEnd_Q12016',\n",
       " 'StatusEnd_Q22016',\n",
       " 'StatusEnd_Q32016',\n",
       " 'StatusEnd_Q42016',\n",
       " 'StatusEnd_Q12017',\n",
       " 'StatusEnd_Q22017',\n",
       " 'StatusEnd_Q32017',\n",
       " 'StatusEnd_Q42017',\n",
       " 'StatusEnd_Q12018',\n",
       " 'StatusEnd_Q22018',\n",
       " 'StatusEnd_Q32018',\n",
       " 'Earn2014',\n",
       " 'WIES2014',\n",
       " 'Earn2015',\n",
       " 'WIES2015',\n",
       " 'Earn2016',\n",
       " 'WIES2016',\n",
       " 'Earn2017',\n",
       " 'WIES2017']"
      ]
     },
     "execution_count": 5,
     "metadata": {},
     "output_type": "execute_result"
    }
   ],
   "source": [
    "list(new_data_jp)"
   ]
  },
  {
   "cell_type": "code",
   "execution_count": 6,
   "metadata": {},
   "outputs": [
    {
     "data": {
      "text/plain": [
       "['cluster',\n",
       " 'ppsn',\n",
       " 'Amended Referral Status',\n",
       " 'Cancellationsubcategory',\n",
       " 'Claim Office Code',\n",
       " 'Claim Office Name',\n",
       " 'Date of Cancellation',\n",
       " 'Date of Interview',\n",
       " 'Date_paused',\n",
       " 'Dateresumed',\n",
       " 'End Date',\n",
       " 'Local Office Code',\n",
       " 'Local Office Name',\n",
       " 'PPP Agreed Date',\n",
       " 'Paused_reason',\n",
       " 'Reason for Cancellation',\n",
       " 'Referal Status Description',\n",
       " 'Referral Id',\n",
       " 'Start Date',\n",
       " 'prev_jp_completed',\n",
       " 'imputed_ph1_end_date',\n",
       " 'analysis_start_date',\n",
       " 'analysis_end_date',\n",
       " 'jp_started_before_aw_completed_ph1_in_aw',\n",
       " 'jp_started_in_aw_completed_ph1_after_aw',\n",
       " 'jp_ph1_completed_in_aw_firstQ_year2_var',\n",
       " 'jp_ph1_completed_in_aw_secondQ_year2_var',\n",
       " 'jp_ph1_completed_in_aw_thirdQ_year2_var',\n",
       " 'jp_ph1_completed_in_aw_fourthQ_year2_var',\n",
       " 'jp_ph1_not_completed_in_aw',\n",
       " 'jp_flag_in_aw',\n",
       " 'cancelled_flag_in_aw',\n",
       " 'jp_cancelled_before_start_in_aw',\n",
       " 'jp_cancelled_in_aw_start_before_aw',\n",
       " 'jp_cancelled_in_aw_start_in_aw_var',\n",
       " 'jp_cancelled_afer_aw_start_in_aw',\n",
       " 'paused_flag_in_aw',\n",
       " 'jp_paused_days_in_aw',\n",
       " 'jp_referral_days_in_aw',\n",
       " 'jp_days_in_aw',\n",
       " 'cancelled_flag_before_aw',\n",
       " 'paused_flag_before_aw',\n",
       " 'jp_flag_before_aw',\n",
       " 'completed_ph1_jp_before_aw',\n",
       " 'jp_flag_after_aw',\n",
       " 'started_jp_after_aw',\n",
       " 'jobpath_category_in_aw',\n",
       " 'age',\n",
       " 'duration_days_0',\n",
       " 'hist_lr_0',\n",
       " 'occupation_0',\n",
       " 'sex',\n",
       " 'total_duration_days',\n",
       " 'total_sum_penaltyflag',\n",
       " 'jp_elegible_P0',\n",
       " 'jp_elegible_P1',\n",
       " 'jp_started_P1',\n",
       " 'EndDate_P1',\n",
       " 'LM_code_rank_P1',\n",
       " 'LastLR_P1',\n",
       " 'StartDate_P1',\n",
       " 'ada_code_rank_P1',\n",
       " 'family_flag_rank_P1',\n",
       " 'hist_lls_P1',\n",
       " 'hist_lr_P1',\n",
       " 'lr_flag_P1',\n",
       " 'marital_status_rank_P1',\n",
       " 'occupation_rank_P1',\n",
       " 'status_simple_P1',\n",
       " 'status_P1',\n",
       " 'jp_elegible_P2',\n",
       " 'jp_started_P2',\n",
       " 'EndDate_P2',\n",
       " 'LM_code_rank_P2',\n",
       " 'LastLR_P2',\n",
       " 'StartDate_P2',\n",
       " 'ada_code_rank_P2',\n",
       " 'family_flag_rank_P2',\n",
       " 'hist_lls_P2',\n",
       " 'hist_lr_P2',\n",
       " 'lr_flag_P2',\n",
       " 'marital_status_rank_P2',\n",
       " 'occupation_rank_P2',\n",
       " 'status_simple_P2',\n",
       " 'status_P2',\n",
       " 'jp_elegible_P3',\n",
       " 'jp_started_P3',\n",
       " 'EndDate_P3',\n",
       " 'LM_code_rank_P3',\n",
       " 'LastLR_P3',\n",
       " 'StartDate_P3',\n",
       " 'ada_code_rank_P3',\n",
       " 'family_flag_rank_P3',\n",
       " 'hist_lls_P3',\n",
       " 'hist_lr_P3',\n",
       " 'lr_flag_P3',\n",
       " 'marital_status_rank_P3',\n",
       " 'occupation_rank_P3',\n",
       " 'status_simple_P3',\n",
       " 'status_P3',\n",
       " 'jp_elegible_P4',\n",
       " 'jp_started_P4',\n",
       " 'EndDate_P4',\n",
       " 'LM_code_rank_P4',\n",
       " 'LastLR_P4',\n",
       " 'StartDate_P4',\n",
       " 'ada_code_rank_P4',\n",
       " 'family_flag_rank_P4',\n",
       " 'hist_lls_P4',\n",
       " 'hist_lr_P4',\n",
       " 'lr_flag_P4',\n",
       " 'marital_status_rank_P4',\n",
       " 'occupation_rank_P4',\n",
       " 'status_simple_P4',\n",
       " 'status_P4',\n",
       " 'jp_elegible_P5',\n",
       " 'jp_started_P5',\n",
       " 'EndDate_P5',\n",
       " 'LM_code_rank_P5',\n",
       " 'LastLR_P5',\n",
       " 'StartDate_P5',\n",
       " 'ada_code_rank_P5',\n",
       " 'family_flag_rank_P5',\n",
       " 'hist_lls_P5',\n",
       " 'hist_lr_P5',\n",
       " 'lr_flag_P5',\n",
       " 'marital_status_rank_P5',\n",
       " 'occupation_rank_P5',\n",
       " 'status_simple_P5',\n",
       " 'status_P5',\n",
       " 'jp_elegible_P6',\n",
       " 'jp_started_P6',\n",
       " 'EndDate_P6',\n",
       " 'LM_code_rank_P6',\n",
       " 'LastLR_P6',\n",
       " 'StartDate_P6',\n",
       " 'ada_code_rank_P6',\n",
       " 'family_flag_rank_P6',\n",
       " 'hist_lls_P6',\n",
       " 'hist_lr_P6',\n",
       " 'lr_flag_P6',\n",
       " 'marital_status_rank_P6',\n",
       " 'occupation_rank_P6',\n",
       " 'status_simple_P6',\n",
       " 'status_P6',\n",
       " 'jp_elegible_P7',\n",
       " 'jp_started_P7',\n",
       " 'EndDate_P7',\n",
       " 'LM_code_rank_P7',\n",
       " 'LastLR_P7',\n",
       " 'StartDate_P7',\n",
       " 'ada_code_rank_P7',\n",
       " 'family_flag_rank_P7',\n",
       " 'hist_lls_P7',\n",
       " 'hist_lr_P7',\n",
       " 'lr_flag_P7',\n",
       " 'marital_status_rank_P7',\n",
       " 'occupation_rank_P7',\n",
       " 'status_simple_P7',\n",
       " 'status_P7',\n",
       " 'jp_elegible_P8',\n",
       " 'jp_started_P8',\n",
       " 'EndDate_P8',\n",
       " 'LM_code_rank_P8',\n",
       " 'LastLR_P8',\n",
       " 'StartDate_P8',\n",
       " 'ada_code_rank_P8',\n",
       " 'family_flag_rank_P8',\n",
       " 'hist_lls_P8',\n",
       " 'hist_lr_P8',\n",
       " 'lr_flag_P8',\n",
       " 'marital_status_rank_P8',\n",
       " 'occupation_rank_P8',\n",
       " 'status_simple_P8',\n",
       " 'status_P8',\n",
       " 'jp_elegible_P9',\n",
       " 'jp_started_P9',\n",
       " 'EndDate_P9',\n",
       " 'LM_code_rank_P9',\n",
       " 'LastLR_P9',\n",
       " 'StartDate_P9',\n",
       " 'ada_code_rank_P9',\n",
       " 'family_flag_rank_P9',\n",
       " 'hist_lls_P9',\n",
       " 'hist_lr_P9',\n",
       " 'lr_flag_P9',\n",
       " 'marital_status_rank_P9',\n",
       " 'occupation_rank_P9',\n",
       " 'status_simple_P9',\n",
       " 'status_P9',\n",
       " 'jp_elegible_P10',\n",
       " 'jp_started_P10',\n",
       " 'EndDate_P10',\n",
       " 'LM_code_rank_P10',\n",
       " 'LastLR_P10',\n",
       " 'StartDate_P10',\n",
       " 'ada_code_rank_P10',\n",
       " 'family_flag_rank_P10',\n",
       " 'hist_lls_P10',\n",
       " 'hist_lr_P10',\n",
       " 'lr_flag_P10',\n",
       " 'marital_status_rank_P10',\n",
       " 'occupation_rank_P10',\n",
       " 'status_simple_P10',\n",
       " 'status_P10',\n",
       " 'jp_elegible_P11',\n",
       " 'jp_started_P11',\n",
       " 'EndDate_P11',\n",
       " 'LM_code_rank_P11',\n",
       " 'LastLR_P11',\n",
       " 'StartDate_P11',\n",
       " 'ada_code_rank_P11',\n",
       " 'family_flag_rank_P11',\n",
       " 'hist_lls_P11',\n",
       " 'hist_lr_P11',\n",
       " 'lr_flag_P11',\n",
       " 'marital_status_rank_P11',\n",
       " 'occupation_rank_P11',\n",
       " 'status_simple_P11',\n",
       " 'status_P11',\n",
       " 'jp_elegible_P12',\n",
       " 'jp_started_P12',\n",
       " 'EndDate_P12',\n",
       " 'LM_code_rank_P12',\n",
       " 'LastLR_P12',\n",
       " 'StartDate_P12',\n",
       " 'ada_code_rank_P12',\n",
       " 'family_flag_rank_P12',\n",
       " 'hist_lls_P12',\n",
       " 'hist_lr_P12',\n",
       " 'lr_flag_P12',\n",
       " 'marital_status_rank_P12',\n",
       " 'occupation_rank_P12',\n",
       " 'status_simple_P12',\n",
       " 'status_P12',\n",
       " 'jp_elegible_P13',\n",
       " 'jp_started_P13',\n",
       " 'EndDate_P13',\n",
       " 'LM_code_rank_P13',\n",
       " 'LastLR_P13',\n",
       " 'StartDate_P13',\n",
       " 'ada_code_rank_P13',\n",
       " 'family_flag_rank_P13',\n",
       " 'hist_lls_P13',\n",
       " 'hist_lr_P13',\n",
       " 'lr_flag_P13',\n",
       " 'marital_status_rank_P13',\n",
       " 'occupation_rank_P13',\n",
       " 'status_simple_P13',\n",
       " 'status_P13',\n",
       " 'jp_elegible_P14',\n",
       " 'jp_started_P14',\n",
       " 'EndDate_P14',\n",
       " 'LM_code_rank_P14',\n",
       " 'LastLR_P14',\n",
       " 'StartDate_P14',\n",
       " 'ada_code_rank_P14',\n",
       " 'family_flag_rank_P14',\n",
       " 'hist_lls_P14',\n",
       " 'hist_lr_P14',\n",
       " 'lr_flag_P14',\n",
       " 'marital_status_rank_P14',\n",
       " 'occupation_rank_P14',\n",
       " 'status_simple_P14',\n",
       " 'status_P14',\n",
       " 'jp_elegible_P15',\n",
       " 'jp_started_P15',\n",
       " 'EndDate_P15',\n",
       " 'LM_code_rank_P15',\n",
       " 'LastLR_P15',\n",
       " 'StartDate_P15',\n",
       " 'ada_code_rank_P15',\n",
       " 'family_flag_rank_P15',\n",
       " 'hist_lls_P15',\n",
       " 'hist_lr_P15',\n",
       " 'lr_flag_P15',\n",
       " 'marital_status_rank_P15',\n",
       " 'occupation_rank_P15',\n",
       " 'status_simple_P15',\n",
       " 'status_P15',\n",
       " 'jp_elegible_P16',\n",
       " 'jp_started_P16',\n",
       " 'EndDate_P16',\n",
       " 'LM_code_rank_P16',\n",
       " 'LastLR_P16',\n",
       " 'StartDate_P16',\n",
       " 'ada_code_rank_P16',\n",
       " 'family_flag_rank_P16',\n",
       " 'hist_lls_P16',\n",
       " 'hist_lr_P16',\n",
       " 'lr_flag_P16',\n",
       " 'marital_status_rank_P16',\n",
       " 'occupation_rank_P16',\n",
       " 'status_simple_P16',\n",
       " 'status_P16']"
      ]
     },
     "execution_count": 6,
     "metadata": {},
     "output_type": "execute_result"
    }
   ],
   "source": [
    "list(data_jp)"
   ]
  },
  {
   "cell_type": "code",
   "execution_count": 9,
   "metadata": {},
   "outputs": [
    {
     "data": {
      "text/plain": [
       "['ppsn',\n",
       " 'StatusEnd_Q12014',\n",
       " 'StatusEnd_Q22014',\n",
       " 'StatusEnd_Q32014',\n",
       " 'StatusEnd_Q42014',\n",
       " 'StatusEnd_Q12015',\n",
       " 'StatusEnd_Q22015',\n",
       " 'StatusEnd_Q32015',\n",
       " 'StatusEnd_Q42015',\n",
       " 'StatusEnd_Q12016',\n",
       " 'StatusEnd_Q22016',\n",
       " 'StatusEnd_Q32016',\n",
       " 'StatusEnd_Q42016',\n",
       " 'StatusEnd_Q12017',\n",
       " 'StatusEnd_Q22017',\n",
       " 'StatusEnd_Q32017',\n",
       " 'StatusEnd_Q42017',\n",
       " 'StatusEnd_Q12018',\n",
       " 'StatusEnd_Q22018',\n",
       " 'StatusEnd_Q32018',\n",
       " 'Earn2014',\n",
       " 'WIES2014',\n",
       " 'Earn2015',\n",
       " 'WIES2015',\n",
       " 'Earn2016',\n",
       " 'WIES2016',\n",
       " 'Earn2017',\n",
       " 'WIES2017',\n",
       " 'cluster',\n",
       " 'Amended Referral Status',\n",
       " 'Cancellationsubcategory',\n",
       " 'Claim Office Code',\n",
       " 'Claim Office Name',\n",
       " 'Date of Cancellation',\n",
       " 'Date of Interview',\n",
       " 'Date_paused',\n",
       " 'Dateresumed',\n",
       " 'End Date',\n",
       " 'Local Office Code',\n",
       " 'Local Office Name',\n",
       " 'PPP Agreed Date',\n",
       " 'Paused_reason',\n",
       " 'Reason for Cancellation',\n",
       " 'Referal Status Description',\n",
       " 'Referral Id',\n",
       " 'Start Date',\n",
       " 'prev_jp_completed',\n",
       " 'imputed_ph1_end_date',\n",
       " 'analysis_start_date',\n",
       " 'analysis_end_date',\n",
       " 'jp_started_before_aw_completed_ph1_in_aw',\n",
       " 'jp_started_in_aw_completed_ph1_after_aw',\n",
       " 'jp_ph1_completed_in_aw_firstQ_year2_var',\n",
       " 'jp_ph1_completed_in_aw_secondQ_year2_var',\n",
       " 'jp_ph1_completed_in_aw_thirdQ_year2_var',\n",
       " 'jp_ph1_completed_in_aw_fourthQ_year2_var',\n",
       " 'jp_ph1_not_completed_in_aw',\n",
       " 'jp_flag_in_aw',\n",
       " 'cancelled_flag_in_aw',\n",
       " 'jp_cancelled_before_start_in_aw',\n",
       " 'jp_cancelled_in_aw_start_before_aw',\n",
       " 'jp_cancelled_in_aw_start_in_aw_var',\n",
       " 'jp_cancelled_afer_aw_start_in_aw',\n",
       " 'paused_flag_in_aw',\n",
       " 'jp_paused_days_in_aw',\n",
       " 'jp_referral_days_in_aw',\n",
       " 'jp_days_in_aw',\n",
       " 'cancelled_flag_before_aw',\n",
       " 'paused_flag_before_aw',\n",
       " 'jp_flag_before_aw',\n",
       " 'completed_ph1_jp_before_aw',\n",
       " 'jp_flag_after_aw',\n",
       " 'started_jp_after_aw',\n",
       " 'jobpath_category_in_aw',\n",
       " 'age',\n",
       " 'duration_days_0',\n",
       " 'hist_lr_0',\n",
       " 'occupation_0',\n",
       " 'sex',\n",
       " 'total_duration_days',\n",
       " 'total_sum_penaltyflag',\n",
       " 'jp_elegible_P0',\n",
       " 'jp_elegible_P1',\n",
       " 'jp_started_P1',\n",
       " 'EndDate_P1',\n",
       " 'LM_code_rank_P1',\n",
       " 'LastLR_P1',\n",
       " 'StartDate_P1',\n",
       " 'ada_code_rank_P1',\n",
       " 'family_flag_rank_P1',\n",
       " 'hist_lls_P1',\n",
       " 'hist_lr_P1',\n",
       " 'lr_flag_P1',\n",
       " 'marital_status_rank_P1',\n",
       " 'occupation_rank_P1',\n",
       " 'status_simple_P1',\n",
       " 'status_P1',\n",
       " 'jp_elegible_P2',\n",
       " 'jp_started_P2',\n",
       " 'EndDate_P2',\n",
       " 'LM_code_rank_P2',\n",
       " 'LastLR_P2',\n",
       " 'StartDate_P2',\n",
       " 'ada_code_rank_P2',\n",
       " 'family_flag_rank_P2',\n",
       " 'hist_lls_P2',\n",
       " 'hist_lr_P2',\n",
       " 'lr_flag_P2',\n",
       " 'marital_status_rank_P2',\n",
       " 'occupation_rank_P2',\n",
       " 'status_simple_P2',\n",
       " 'status_P2',\n",
       " 'jp_elegible_P3',\n",
       " 'jp_started_P3',\n",
       " 'EndDate_P3',\n",
       " 'LM_code_rank_P3',\n",
       " 'LastLR_P3',\n",
       " 'StartDate_P3',\n",
       " 'ada_code_rank_P3',\n",
       " 'family_flag_rank_P3',\n",
       " 'hist_lls_P3',\n",
       " 'hist_lr_P3',\n",
       " 'lr_flag_P3',\n",
       " 'marital_status_rank_P3',\n",
       " 'occupation_rank_P3',\n",
       " 'status_simple_P3',\n",
       " 'status_P3',\n",
       " 'jp_elegible_P4',\n",
       " 'jp_started_P4',\n",
       " 'EndDate_P4',\n",
       " 'LM_code_rank_P4',\n",
       " 'LastLR_P4',\n",
       " 'StartDate_P4',\n",
       " 'ada_code_rank_P4',\n",
       " 'family_flag_rank_P4',\n",
       " 'hist_lls_P4',\n",
       " 'hist_lr_P4',\n",
       " 'lr_flag_P4',\n",
       " 'marital_status_rank_P4',\n",
       " 'occupation_rank_P4',\n",
       " 'status_simple_P4',\n",
       " 'status_P4',\n",
       " 'jp_elegible_P5',\n",
       " 'jp_started_P5',\n",
       " 'EndDate_P5',\n",
       " 'LM_code_rank_P5',\n",
       " 'LastLR_P5',\n",
       " 'StartDate_P5',\n",
       " 'ada_code_rank_P5',\n",
       " 'family_flag_rank_P5',\n",
       " 'hist_lls_P5',\n",
       " 'hist_lr_P5',\n",
       " 'lr_flag_P5',\n",
       " 'marital_status_rank_P5',\n",
       " 'occupation_rank_P5',\n",
       " 'status_simple_P5',\n",
       " 'status_P5',\n",
       " 'jp_elegible_P6',\n",
       " 'jp_started_P6',\n",
       " 'EndDate_P6',\n",
       " 'LM_code_rank_P6',\n",
       " 'LastLR_P6',\n",
       " 'StartDate_P6',\n",
       " 'ada_code_rank_P6',\n",
       " 'family_flag_rank_P6',\n",
       " 'hist_lls_P6',\n",
       " 'hist_lr_P6',\n",
       " 'lr_flag_P6',\n",
       " 'marital_status_rank_P6',\n",
       " 'occupation_rank_P6',\n",
       " 'status_simple_P6',\n",
       " 'status_P6',\n",
       " 'jp_elegible_P7',\n",
       " 'jp_started_P7',\n",
       " 'EndDate_P7',\n",
       " 'LM_code_rank_P7',\n",
       " 'LastLR_P7',\n",
       " 'StartDate_P7',\n",
       " 'ada_code_rank_P7',\n",
       " 'family_flag_rank_P7',\n",
       " 'hist_lls_P7',\n",
       " 'hist_lr_P7',\n",
       " 'lr_flag_P7',\n",
       " 'marital_status_rank_P7',\n",
       " 'occupation_rank_P7',\n",
       " 'status_simple_P7',\n",
       " 'status_P7',\n",
       " 'jp_elegible_P8',\n",
       " 'jp_started_P8',\n",
       " 'EndDate_P8',\n",
       " 'LM_code_rank_P8',\n",
       " 'LastLR_P8',\n",
       " 'StartDate_P8',\n",
       " 'ada_code_rank_P8',\n",
       " 'family_flag_rank_P8',\n",
       " 'hist_lls_P8',\n",
       " 'hist_lr_P8',\n",
       " 'lr_flag_P8',\n",
       " 'marital_status_rank_P8',\n",
       " 'occupation_rank_P8',\n",
       " 'status_simple_P8',\n",
       " 'status_P8',\n",
       " 'jp_elegible_P9',\n",
       " 'jp_started_P9',\n",
       " 'EndDate_P9',\n",
       " 'LM_code_rank_P9',\n",
       " 'LastLR_P9',\n",
       " 'StartDate_P9',\n",
       " 'ada_code_rank_P9',\n",
       " 'family_flag_rank_P9',\n",
       " 'hist_lls_P9',\n",
       " 'hist_lr_P9',\n",
       " 'lr_flag_P9',\n",
       " 'marital_status_rank_P9',\n",
       " 'occupation_rank_P9',\n",
       " 'status_simple_P9',\n",
       " 'status_P9',\n",
       " 'jp_elegible_P10',\n",
       " 'jp_started_P10',\n",
       " 'EndDate_P10',\n",
       " 'LM_code_rank_P10',\n",
       " 'LastLR_P10',\n",
       " 'StartDate_P10',\n",
       " 'ada_code_rank_P10',\n",
       " 'family_flag_rank_P10',\n",
       " 'hist_lls_P10',\n",
       " 'hist_lr_P10',\n",
       " 'lr_flag_P10',\n",
       " 'marital_status_rank_P10',\n",
       " 'occupation_rank_P10',\n",
       " 'status_simple_P10',\n",
       " 'status_P10',\n",
       " 'jp_elegible_P11',\n",
       " 'jp_started_P11',\n",
       " 'EndDate_P11',\n",
       " 'LM_code_rank_P11',\n",
       " 'LastLR_P11',\n",
       " 'StartDate_P11',\n",
       " 'ada_code_rank_P11',\n",
       " 'family_flag_rank_P11',\n",
       " 'hist_lls_P11',\n",
       " 'hist_lr_P11',\n",
       " 'lr_flag_P11',\n",
       " 'marital_status_rank_P11',\n",
       " 'occupation_rank_P11',\n",
       " 'status_simple_P11',\n",
       " 'status_P11',\n",
       " 'jp_elegible_P12',\n",
       " 'jp_started_P12',\n",
       " 'EndDate_P12',\n",
       " 'LM_code_rank_P12',\n",
       " 'LastLR_P12',\n",
       " 'StartDate_P12',\n",
       " 'ada_code_rank_P12',\n",
       " 'family_flag_rank_P12',\n",
       " 'hist_lls_P12',\n",
       " 'hist_lr_P12',\n",
       " 'lr_flag_P12',\n",
       " 'marital_status_rank_P12',\n",
       " 'occupation_rank_P12',\n",
       " 'status_simple_P12',\n",
       " 'status_P12',\n",
       " 'jp_elegible_P13',\n",
       " 'jp_started_P13',\n",
       " 'EndDate_P13',\n",
       " 'LM_code_rank_P13',\n",
       " 'LastLR_P13',\n",
       " 'StartDate_P13',\n",
       " 'ada_code_rank_P13',\n",
       " 'family_flag_rank_P13',\n",
       " 'hist_lls_P13',\n",
       " 'hist_lr_P13',\n",
       " 'lr_flag_P13',\n",
       " 'marital_status_rank_P13',\n",
       " 'occupation_rank_P13',\n",
       " 'status_simple_P13',\n",
       " 'status_P13',\n",
       " 'jp_elegible_P14',\n",
       " 'jp_started_P14',\n",
       " 'EndDate_P14',\n",
       " 'LM_code_rank_P14',\n",
       " 'LastLR_P14',\n",
       " 'StartDate_P14',\n",
       " 'ada_code_rank_P14',\n",
       " 'family_flag_rank_P14',\n",
       " 'hist_lls_P14',\n",
       " 'hist_lr_P14',\n",
       " 'lr_flag_P14',\n",
       " 'marital_status_rank_P14',\n",
       " 'occupation_rank_P14',\n",
       " 'status_simple_P14',\n",
       " 'status_P14',\n",
       " 'jp_elegible_P15',\n",
       " 'jp_started_P15',\n",
       " 'EndDate_P15',\n",
       " 'LM_code_rank_P15',\n",
       " 'LastLR_P15',\n",
       " 'StartDate_P15',\n",
       " 'ada_code_rank_P15',\n",
       " 'family_flag_rank_P15',\n",
       " 'hist_lls_P15',\n",
       " 'hist_lr_P15',\n",
       " 'lr_flag_P15',\n",
       " 'marital_status_rank_P15',\n",
       " 'occupation_rank_P15',\n",
       " 'status_simple_P15',\n",
       " 'status_P15',\n",
       " 'jp_elegible_P16',\n",
       " 'jp_started_P16',\n",
       " 'EndDate_P16',\n",
       " 'LM_code_rank_P16',\n",
       " 'LastLR_P16',\n",
       " 'StartDate_P16',\n",
       " 'ada_code_rank_P16',\n",
       " 'family_flag_rank_P16',\n",
       " 'hist_lls_P16',\n",
       " 'hist_lr_P16',\n",
       " 'lr_flag_P16',\n",
       " 'marital_status_rank_P16',\n",
       " 'occupation_rank_P16',\n",
       " 'status_simple_P16',\n",
       " 'status_P16']"
      ]
     },
     "execution_count": 9,
     "metadata": {},
     "output_type": "execute_result"
    }
   ],
   "source": [
    "data_jp_m = pd.merge(new_data_jp, data_jp, on=['ppsn']) #, how='left')\n",
    "list(data_jp_m)"
   ]
  },
  {
   "cell_type": "code",
   "execution_count": 10,
   "metadata": {},
   "outputs": [
    {
     "data": {
      "text/plain": [
       "110364"
      ]
     },
     "execution_count": 10,
     "metadata": {},
     "output_type": "execute_result"
    }
   ],
   "source": [
    "data_jp_m['ppsn'].nunique()"
   ]
  },
  {
   "cell_type": "code",
   "execution_count": 14,
   "metadata": {},
   "outputs": [
    {
     "data": {
      "text/plain": [
       "UA          91798\n",
       "C-UA         1229\n",
       "BTW           900\n",
       "DA+UA         805\n",
       "CA+UA         735\n",
       "UB            526\n",
       "DA            513\n",
       "SEMP          368\n",
       "INTN          332\n",
       "CA            285\n",
       "BTE           254\n",
       "OFP           242\n",
       "Deceased       68\n",
       "UBCO           62\n",
       "FASS           39\n",
       "FIS            33\n",
       "BTW+FIS        31\n",
       "FIS+BTW        26\n",
       "PTJI           23\n",
       "IP+UA          19\n",
       "OFPJST         17\n",
       "IP             13\n",
       "C-UB           11\n",
       "WCP            10\n",
       "WCP+UA          8\n",
       "WPGO            7\n",
       "SPFT            7\n",
       "FISH            5\n",
       "OFP+UA          5\n",
       "CA+OFP          5\n",
       "CA+C-UA         3\n",
       "YDI             3\n",
       "LMAF            3\n",
       "UA+OFP          2\n",
       "UA+FIS          1\n",
       "DA+SEMP         1\n",
       "CA+DA+UA        1\n",
       "CA+DA           1\n",
       "FIS+UA          1\n",
       "CA+BTE          1\n",
       "DA+BTE          1\n",
       "DA+INTN         1\n",
       "BTW+UBCO        1\n",
       "Name: StatusEnd_Q12016, dtype: int64"
      ]
     },
     "execution_count": 14,
     "metadata": {},
     "output_type": "execute_result"
    }
   ],
   "source": [
    "data_jp_m['StatusEnd_Q12016'].value_counts()"
   ]
  },
  {
   "cell_type": "code",
   "execution_count": 14,
   "metadata": {},
   "outputs": [
    {
     "data": {
      "text/html": [
       "<div>\n",
       "<style scoped>\n",
       "    .dataframe tbody tr th:only-of-type {\n",
       "        vertical-align: middle;\n",
       "    }\n",
       "\n",
       "    .dataframe tbody tr th {\n",
       "        vertical-align: top;\n",
       "    }\n",
       "\n",
       "    .dataframe thead th {\n",
       "        text-align: right;\n",
       "    }\n",
       "</style>\n",
       "<table border=\"1\" class=\"dataframe\">\n",
       "  <thead>\n",
       "    <tr style=\"text-align: right;\">\n",
       "      <th></th>\n",
       "      <th>cluster</th>\n",
       "      <th>ppsn</th>\n",
       "      <th>Amended Referral Status</th>\n",
       "      <th>Cancellationsubcategory</th>\n",
       "      <th>Claim Office Code</th>\n",
       "      <th>Claim Office Name</th>\n",
       "      <th>Date of Cancellation</th>\n",
       "      <th>Date of Interview</th>\n",
       "      <th>Date_paused</th>\n",
       "      <th>Dateresumed</th>\n",
       "      <th>...</th>\n",
       "      <th>StartDate_P16</th>\n",
       "      <th>ada_code_rank_P16</th>\n",
       "      <th>family_flag_rank_P16</th>\n",
       "      <th>hist_lls_P16</th>\n",
       "      <th>hist_lr_P16</th>\n",
       "      <th>lr_flag_P16</th>\n",
       "      <th>marital_status_rank_P16</th>\n",
       "      <th>occupation_rank_P16</th>\n",
       "      <th>status_simple_P16</th>\n",
       "      <th>status_P16</th>\n",
       "    </tr>\n",
       "  </thead>\n",
       "  <tbody>\n",
       "    <tr>\n",
       "      <th>0</th>\n",
       "      <td>2</td>\n",
       "      <td>0099665M</td>\n",
       "      <td>b'nan'</td>\n",
       "      <td>b'nan'</td>\n",
       "      <td>NaN</td>\n",
       "      <td>NaN</td>\n",
       "      <td>NaN</td>\n",
       "      <td>2016-08-15</td>\n",
       "      <td>NaN</td>\n",
       "      <td>NaN</td>\n",
       "      <td>...</td>\n",
       "      <td>1998-09-16</td>\n",
       "      <td>5</td>\n",
       "      <td>3</td>\n",
       "      <td>UA-UAJPTH-UA</td>\n",
       "      <td>UA</td>\n",
       "      <td>1</td>\n",
       "      <td>2.0</td>\n",
       "      <td>2.0</td>\n",
       "      <td>On Live Register</td>\n",
       "      <td>On Live Register (excluding casual workers) - JA</td>\n",
       "    </tr>\n",
       "    <tr>\n",
       "      <th>11</th>\n",
       "      <td>2</td>\n",
       "      <td>0206477C</td>\n",
       "      <td>NaN</td>\n",
       "      <td>NaN</td>\n",
       "      <td>NaN</td>\n",
       "      <td>NaN</td>\n",
       "      <td>NaN</td>\n",
       "      <td>NaN</td>\n",
       "      <td>NaN</td>\n",
       "      <td>NaN</td>\n",
       "      <td>...</td>\n",
       "      <td>2005-02-23</td>\n",
       "      <td>5</td>\n",
       "      <td>3</td>\n",
       "      <td>UA</td>\n",
       "      <td>UA</td>\n",
       "      <td>1</td>\n",
       "      <td>2.0</td>\n",
       "      <td>5.0</td>\n",
       "      <td>On Live Register</td>\n",
       "      <td>On Live Register (excluding casual workers) - JA</td>\n",
       "    </tr>\n",
       "    <tr>\n",
       "      <th>15</th>\n",
       "      <td>2</td>\n",
       "      <td>0202920T</td>\n",
       "      <td>b'nan'</td>\n",
       "      <td>b'nan'</td>\n",
       "      <td>NaN</td>\n",
       "      <td>NaN</td>\n",
       "      <td>NaN</td>\n",
       "      <td>2016-04-22</td>\n",
       "      <td>NaN</td>\n",
       "      <td>NaN</td>\n",
       "      <td>...</td>\n",
       "      <td>2012-06-25</td>\n",
       "      <td>4</td>\n",
       "      <td>1</td>\n",
       "      <td>UB-UA-UAJPTH-UA</td>\n",
       "      <td>UB-UA</td>\n",
       "      <td>1</td>\n",
       "      <td>2.0</td>\n",
       "      <td>7.0</td>\n",
       "      <td>On Live Register</td>\n",
       "      <td>On Live Register (excluding casual workers) - JA</td>\n",
       "    </tr>\n",
       "    <tr>\n",
       "      <th>25</th>\n",
       "      <td>5</td>\n",
       "      <td>0205276K</td>\n",
       "      <td>NaN</td>\n",
       "      <td>NaN</td>\n",
       "      <td>NaN</td>\n",
       "      <td>NaN</td>\n",
       "      <td>NaN</td>\n",
       "      <td>NaN</td>\n",
       "      <td>NaN</td>\n",
       "      <td>NaN</td>\n",
       "      <td>...</td>\n",
       "      <td>2012-02-16</td>\n",
       "      <td>6</td>\n",
       "      <td>3</td>\n",
       "      <td>UA</td>\n",
       "      <td>UA</td>\n",
       "      <td>1</td>\n",
       "      <td>2.0</td>\n",
       "      <td>2.0</td>\n",
       "      <td>On Live Register</td>\n",
       "      <td>On Live Register (excluding casual workers) - JA</td>\n",
       "    </tr>\n",
       "    <tr>\n",
       "      <th>29</th>\n",
       "      <td>2</td>\n",
       "      <td>0202425J</td>\n",
       "      <td>NaN</td>\n",
       "      <td>NaN</td>\n",
       "      <td>NaN</td>\n",
       "      <td>NaN</td>\n",
       "      <td>NaN</td>\n",
       "      <td>NaN</td>\n",
       "      <td>NaN</td>\n",
       "      <td>NaN</td>\n",
       "      <td>...</td>\n",
       "      <td>2009-04-22</td>\n",
       "      <td>5</td>\n",
       "      <td>3</td>\n",
       "      <td>UA</td>\n",
       "      <td>UA</td>\n",
       "      <td>1</td>\n",
       "      <td>2.0</td>\n",
       "      <td>7.0</td>\n",
       "      <td>On Live Register</td>\n",
       "      <td>On Live Register (excluding casual workers) - JA</td>\n",
       "    </tr>\n",
       "  </tbody>\n",
       "</table>\n",
       "<p>5 rows × 295 columns</p>\n",
       "</div>"
      ],
      "text/plain": [
       "    cluster      ppsn Amended Referral Status Cancellationsubcategory  \\\n",
       "0         2  0099665M                  b'nan'                  b'nan'   \n",
       "11        2  0206477C                     NaN                     NaN   \n",
       "15        2  0202920T                  b'nan'                  b'nan'   \n",
       "25        5  0205276K                     NaN                     NaN   \n",
       "29        2  0202425J                     NaN                     NaN   \n",
       "\n",
       "    Claim Office Code Claim Office Name Date of Cancellation  \\\n",
       "0                 NaN               NaN                  NaN   \n",
       "11                NaN               NaN                  NaN   \n",
       "15                NaN               NaN                  NaN   \n",
       "25                NaN               NaN                  NaN   \n",
       "29                NaN               NaN                  NaN   \n",
       "\n",
       "   Date of Interview Date_paused Dateresumed  \\\n",
       "0         2016-08-15         NaN         NaN   \n",
       "11               NaN         NaN         NaN   \n",
       "15        2016-04-22         NaN         NaN   \n",
       "25               NaN         NaN         NaN   \n",
       "29               NaN         NaN         NaN   \n",
       "\n",
       "                          ...                        StartDate_P16  \\\n",
       "0                         ...                           1998-09-16   \n",
       "11                        ...                           2005-02-23   \n",
       "15                        ...                           2012-06-25   \n",
       "25                        ...                           2012-02-16   \n",
       "29                        ...                           2009-04-22   \n",
       "\n",
       "    ada_code_rank_P16 family_flag_rank_P16     hist_lls_P16 hist_lr_P16  \\\n",
       "0                   5                    3     UA-UAJPTH-UA          UA   \n",
       "11                  5                    3               UA          UA   \n",
       "15                  4                    1  UB-UA-UAJPTH-UA       UB-UA   \n",
       "25                  6                    3               UA          UA   \n",
       "29                  5                    3               UA          UA   \n",
       "\n",
       "   lr_flag_P16 marital_status_rank_P16  occupation_rank_P16 status_simple_P16  \\\n",
       "0            1                     2.0                  2.0  On Live Register   \n",
       "11           1                     2.0                  5.0  On Live Register   \n",
       "15           1                     2.0                  7.0  On Live Register   \n",
       "25           1                     2.0                  2.0  On Live Register   \n",
       "29           1                     2.0                  7.0  On Live Register   \n",
       "\n",
       "                                          status_P16  \n",
       "0   On Live Register (excluding casual workers) - JA  \n",
       "11  On Live Register (excluding casual workers) - JA  \n",
       "15  On Live Register (excluding casual workers) - JA  \n",
       "25  On Live Register (excluding casual workers) - JA  \n",
       "29  On Live Register (excluding casual workers) - JA  \n",
       "\n",
       "[5 rows x 295 columns]"
      ]
     },
     "execution_count": 14,
     "metadata": {},
     "output_type": "execute_result"
    }
   ],
   "source": [
    "data_jp.head()"
   ]
  },
  {
   "cell_type": "code",
   "execution_count": 11,
   "metadata": {},
   "outputs": [],
   "source": [
    "data_jp_m.to_csv(path_jp+'qstatus_'+filename_jp, encoding= 'utf-8')"
   ]
  },
  {
   "cell_type": "code",
   "execution_count": 4,
   "metadata": {},
   "outputs": [
    {
     "data": {
      "text/plain": [
       "['RSI_NO',\n",
       " 'Class_A_Earn2005',\n",
       " 'Class_A_Earn2006',\n",
       " 'Class_A_Earn2007',\n",
       " 'Class_A_Earn2008',\n",
       " 'Class_A_Earn2009',\n",
       " 'Class_A_Earn2010',\n",
       " 'Class_A_Earn2011',\n",
       " 'Class_A_Earn2012',\n",
       " 'Class_A_Earn2013',\n",
       " 'Class_A_Earn2014',\n",
       " 'Class_A_Earn2015',\n",
       " 'Class_A_Earn2016',\n",
       " 'Class_A_Earn2017',\n",
       " 'Class_S_Earn2005',\n",
       " 'Class_S_Earn2006',\n",
       " 'Class_S_Earn2007',\n",
       " 'Class_S_Earn2008',\n",
       " 'Class_S_Earn2009',\n",
       " 'Class_S_Earn2010',\n",
       " 'Class_S_Earn2011',\n",
       " 'Class_S_Earn2012',\n",
       " 'Class_S_Earn2013',\n",
       " 'Class_S_Earn2014',\n",
       " 'Class_S_Earn2015',\n",
       " 'Class_S_Earn2016',\n",
       " 'Class_S_Earn2017',\n",
       " 'Class_Other_Earn2005',\n",
       " 'Class_Other_Earn2006',\n",
       " 'Class_Other_Earn2007',\n",
       " 'Class_Other_Earn2008',\n",
       " 'Class_Other_Earn2009',\n",
       " 'Class_Other_Earn2010',\n",
       " 'Class_Other_Earn2011',\n",
       " 'Class_Other_Earn2012',\n",
       " 'Class_Other_Earn2013',\n",
       " 'Class_Other_Earn2014',\n",
       " 'Class_Other_Earn2015',\n",
       " 'Class_Other_Earn2016',\n",
       " 'Class_Other_Earn2017',\n",
       " 'Class_A_weeks2005',\n",
       " 'Class_A_weeks2006',\n",
       " 'Class_A_weeks2007',\n",
       " 'Class_A_weeks2008',\n",
       " 'Class_A_weeks2009',\n",
       " 'Class_A_weeks2010',\n",
       " 'Class_A_weeks2011',\n",
       " 'Class_A_weeks2012',\n",
       " 'Class_A_weeks2013',\n",
       " 'Class_A_weeks2014',\n",
       " 'Class_A_weeks2015',\n",
       " 'Class_A_weeks2016',\n",
       " 'Class_A_weeks2017']"
      ]
     },
     "execution_count": 4,
     "metadata": {},
     "output_type": "execute_result"
    }
   ],
   "source": [
    "list(data_earnings)"
   ]
  },
  {
   "cell_type": "code",
   "execution_count": 5,
   "metadata": {},
   "outputs": [
    {
     "name": "stdout",
     "output_type": "stream",
     "text": [
      "(1907397, 53)\n"
     ]
    },
    {
     "data": {
      "text/html": [
       "<div>\n",
       "<style scoped>\n",
       "    .dataframe tbody tr th:only-of-type {\n",
       "        vertical-align: middle;\n",
       "    }\n",
       "\n",
       "    .dataframe tbody tr th {\n",
       "        vertical-align: top;\n",
       "    }\n",
       "\n",
       "    .dataframe thead th {\n",
       "        text-align: right;\n",
       "    }\n",
       "</style>\n",
       "<table border=\"1\" class=\"dataframe\">\n",
       "  <thead>\n",
       "    <tr style=\"text-align: right;\">\n",
       "      <th></th>\n",
       "      <th>RSI_NO</th>\n",
       "      <th>Class_A_Earn2005</th>\n",
       "      <th>Class_A_Earn2006</th>\n",
       "      <th>Class_A_Earn2007</th>\n",
       "      <th>Class_A_Earn2008</th>\n",
       "      <th>Class_A_Earn2009</th>\n",
       "      <th>Class_A_Earn2010</th>\n",
       "      <th>Class_A_Earn2011</th>\n",
       "      <th>Class_A_Earn2012</th>\n",
       "      <th>Class_A_Earn2013</th>\n",
       "      <th>...</th>\n",
       "      <th>Class_A_weeks2008</th>\n",
       "      <th>Class_A_weeks2009</th>\n",
       "      <th>Class_A_weeks2010</th>\n",
       "      <th>Class_A_weeks2011</th>\n",
       "      <th>Class_A_weeks2012</th>\n",
       "      <th>Class_A_weeks2013</th>\n",
       "      <th>Class_A_weeks2014</th>\n",
       "      <th>Class_A_weeks2015</th>\n",
       "      <th>Class_A_weeks2016</th>\n",
       "      <th>Class_A_weeks2017</th>\n",
       "    </tr>\n",
       "  </thead>\n",
       "  <tbody>\n",
       "    <tr>\n",
       "      <th>0</th>\n",
       "      <td>0006908M</td>\n",
       "      <td>NaN</td>\n",
       "      <td>NaN</td>\n",
       "      <td>NaN</td>\n",
       "      <td>NaN</td>\n",
       "      <td>NaN</td>\n",
       "      <td>12500.0</td>\n",
       "      <td>16866.0</td>\n",
       "      <td>1023.0</td>\n",
       "      <td>NaN</td>\n",
       "      <td>...</td>\n",
       "      <td>NaN</td>\n",
       "      <td>NaN</td>\n",
       "      <td>28.0</td>\n",
       "      <td>46.0</td>\n",
       "      <td>5.0</td>\n",
       "      <td>NaN</td>\n",
       "      <td>NaN</td>\n",
       "      <td>NaN</td>\n",
       "      <td>NaN</td>\n",
       "      <td>NaN</td>\n",
       "    </tr>\n",
       "    <tr>\n",
       "      <th>1</th>\n",
       "      <td>0028794W</td>\n",
       "      <td>5572.0</td>\n",
       "      <td>NaN</td>\n",
       "      <td>NaN</td>\n",
       "      <td>NaN</td>\n",
       "      <td>NaN</td>\n",
       "      <td>NaN</td>\n",
       "      <td>NaN</td>\n",
       "      <td>NaN</td>\n",
       "      <td>NaN</td>\n",
       "      <td>...</td>\n",
       "      <td>NaN</td>\n",
       "      <td>NaN</td>\n",
       "      <td>NaN</td>\n",
       "      <td>NaN</td>\n",
       "      <td>NaN</td>\n",
       "      <td>NaN</td>\n",
       "      <td>NaN</td>\n",
       "      <td>NaN</td>\n",
       "      <td>NaN</td>\n",
       "      <td>NaN</td>\n",
       "    </tr>\n",
       "  </tbody>\n",
       "</table>\n",
       "<p>2 rows × 53 columns</p>\n",
       "</div>"
      ],
      "text/plain": [
       "     RSI_NO  Class_A_Earn2005  Class_A_Earn2006  Class_A_Earn2007  \\\n",
       "0  0006908M               NaN               NaN               NaN   \n",
       "1  0028794W            5572.0               NaN               NaN   \n",
       "\n",
       "   Class_A_Earn2008  Class_A_Earn2009  Class_A_Earn2010  Class_A_Earn2011  \\\n",
       "0               NaN               NaN           12500.0           16866.0   \n",
       "1               NaN               NaN               NaN               NaN   \n",
       "\n",
       "   Class_A_Earn2012  Class_A_Earn2013        ...          Class_A_weeks2008  \\\n",
       "0            1023.0               NaN        ...                        NaN   \n",
       "1               NaN               NaN        ...                        NaN   \n",
       "\n",
       "   Class_A_weeks2009  Class_A_weeks2010  Class_A_weeks2011  Class_A_weeks2012  \\\n",
       "0                NaN               28.0               46.0                5.0   \n",
       "1                NaN                NaN                NaN                NaN   \n",
       "\n",
       "   Class_A_weeks2013  Class_A_weeks2014  Class_A_weeks2015  Class_A_weeks2016  \\\n",
       "0                NaN                NaN                NaN                NaN   \n",
       "1                NaN                NaN                NaN                NaN   \n",
       "\n",
       "   Class_A_weeks2017  \n",
       "0                NaN  \n",
       "1                NaN  \n",
       "\n",
       "[2 rows x 53 columns]"
      ]
     },
     "execution_count": 5,
     "metadata": {},
     "output_type": "execute_result"
    }
   ],
   "source": [
    "print (data_earnings.shape)\n",
    "data_earnings.head(2)"
   ]
  },
  {
   "cell_type": "code",
   "execution_count": 6,
   "metadata": {},
   "outputs": [
    {
     "name": "stdout",
     "output_type": "stream",
     "text": [
      "(110364, 295)\n"
     ]
    },
    {
     "data": {
      "text/html": [
       "<div>\n",
       "<style scoped>\n",
       "    .dataframe tbody tr th:only-of-type {\n",
       "        vertical-align: middle;\n",
       "    }\n",
       "\n",
       "    .dataframe tbody tr th {\n",
       "        vertical-align: top;\n",
       "    }\n",
       "\n",
       "    .dataframe thead th {\n",
       "        text-align: right;\n",
       "    }\n",
       "</style>\n",
       "<table border=\"1\" class=\"dataframe\">\n",
       "  <thead>\n",
       "    <tr style=\"text-align: right;\">\n",
       "      <th></th>\n",
       "      <th>cluster</th>\n",
       "      <th>ppsn</th>\n",
       "      <th>Amended Referral Status</th>\n",
       "      <th>Cancellationsubcategory</th>\n",
       "      <th>Claim Office Code</th>\n",
       "      <th>Claim Office Name</th>\n",
       "      <th>Date of Cancellation</th>\n",
       "      <th>Date of Interview</th>\n",
       "      <th>Date_paused</th>\n",
       "      <th>Dateresumed</th>\n",
       "      <th>...</th>\n",
       "      <th>StartDate_P16</th>\n",
       "      <th>ada_code_rank_P16</th>\n",
       "      <th>family_flag_rank_P16</th>\n",
       "      <th>hist_lls_P16</th>\n",
       "      <th>hist_lr_P16</th>\n",
       "      <th>lr_flag_P16</th>\n",
       "      <th>marital_status_rank_P16</th>\n",
       "      <th>occupation_rank_P16</th>\n",
       "      <th>status_simple_P16</th>\n",
       "      <th>status_P16</th>\n",
       "    </tr>\n",
       "  </thead>\n",
       "  <tbody>\n",
       "    <tr>\n",
       "      <th>0</th>\n",
       "      <td>2</td>\n",
       "      <td>0099665M</td>\n",
       "      <td>b'nan'</td>\n",
       "      <td>b'nan'</td>\n",
       "      <td>NaN</td>\n",
       "      <td>NaN</td>\n",
       "      <td>NaN</td>\n",
       "      <td>2016-08-15</td>\n",
       "      <td>NaN</td>\n",
       "      <td>NaN</td>\n",
       "      <td>...</td>\n",
       "      <td>1998-09-16</td>\n",
       "      <td>5</td>\n",
       "      <td>3</td>\n",
       "      <td>UA-UAJPTH-UA</td>\n",
       "      <td>UA</td>\n",
       "      <td>1</td>\n",
       "      <td>2.0</td>\n",
       "      <td>2.0</td>\n",
       "      <td>On Live Register</td>\n",
       "      <td>On Live Register (excluding casual workers) - JA</td>\n",
       "    </tr>\n",
       "    <tr>\n",
       "      <th>11</th>\n",
       "      <td>2</td>\n",
       "      <td>0206477C</td>\n",
       "      <td>NaN</td>\n",
       "      <td>NaN</td>\n",
       "      <td>NaN</td>\n",
       "      <td>NaN</td>\n",
       "      <td>NaN</td>\n",
       "      <td>NaN</td>\n",
       "      <td>NaN</td>\n",
       "      <td>NaN</td>\n",
       "      <td>...</td>\n",
       "      <td>2005-02-23</td>\n",
       "      <td>5</td>\n",
       "      <td>3</td>\n",
       "      <td>UA</td>\n",
       "      <td>UA</td>\n",
       "      <td>1</td>\n",
       "      <td>2.0</td>\n",
       "      <td>5.0</td>\n",
       "      <td>On Live Register</td>\n",
       "      <td>On Live Register (excluding casual workers) - JA</td>\n",
       "    </tr>\n",
       "  </tbody>\n",
       "</table>\n",
       "<p>2 rows × 295 columns</p>\n",
       "</div>"
      ],
      "text/plain": [
       "    cluster      ppsn Amended Referral Status Cancellationsubcategory  \\\n",
       "0         2  0099665M                  b'nan'                  b'nan'   \n",
       "11        2  0206477C                     NaN                     NaN   \n",
       "\n",
       "    Claim Office Code Claim Office Name Date of Cancellation  \\\n",
       "0                 NaN               NaN                  NaN   \n",
       "11                NaN               NaN                  NaN   \n",
       "\n",
       "   Date of Interview Date_paused Dateresumed  \\\n",
       "0         2016-08-15         NaN         NaN   \n",
       "11               NaN         NaN         NaN   \n",
       "\n",
       "                          ...                        StartDate_P16  \\\n",
       "0                         ...                           1998-09-16   \n",
       "11                        ...                           2005-02-23   \n",
       "\n",
       "    ada_code_rank_P16 family_flag_rank_P16  hist_lls_P16 hist_lr_P16  \\\n",
       "0                   5                    3  UA-UAJPTH-UA          UA   \n",
       "11                  5                    3            UA          UA   \n",
       "\n",
       "   lr_flag_P16 marital_status_rank_P16  occupation_rank_P16 status_simple_P16  \\\n",
       "0            1                     2.0                  2.0  On Live Register   \n",
       "11           1                     2.0                  5.0  On Live Register   \n",
       "\n",
       "                                          status_P16  \n",
       "0   On Live Register (excluding casual workers) - JA  \n",
       "11  On Live Register (excluding casual workers) - JA  \n",
       "\n",
       "[2 rows x 295 columns]"
      ]
     },
     "execution_count": 6,
     "metadata": {},
     "output_type": "execute_result"
    }
   ],
   "source": [
    "print (data_jp.shape)\n",
    "data_jp.head(2)"
   ]
  },
  {
   "cell_type": "markdown",
   "metadata": {},
   "source": [
    "##  Data merging & manipulation"
   ]
  },
  {
   "cell_type": "code",
   "execution_count": 7,
   "metadata": {},
   "outputs": [
    {
     "data": {
      "text/html": [
       "<div>\n",
       "<style scoped>\n",
       "    .dataframe tbody tr th:only-of-type {\n",
       "        vertical-align: middle;\n",
       "    }\n",
       "\n",
       "    .dataframe tbody tr th {\n",
       "        vertical-align: top;\n",
       "    }\n",
       "\n",
       "    .dataframe thead th {\n",
       "        text-align: right;\n",
       "    }\n",
       "</style>\n",
       "<table border=\"1\" class=\"dataframe\">\n",
       "  <thead>\n",
       "    <tr style=\"text-align: right;\">\n",
       "      <th></th>\n",
       "      <th>Class_A_Earn2005</th>\n",
       "      <th>Class_A_Earn2006</th>\n",
       "      <th>Class_A_Earn2007</th>\n",
       "      <th>Class_A_Earn2008</th>\n",
       "      <th>Class_A_Earn2009</th>\n",
       "      <th>Class_A_Earn2010</th>\n",
       "      <th>Class_A_Earn2011</th>\n",
       "      <th>Class_A_Earn2012</th>\n",
       "      <th>Class_A_Earn2013</th>\n",
       "      <th>Class_A_Earn2014</th>\n",
       "      <th>...</th>\n",
       "      <th>Class_A_weeks2008</th>\n",
       "      <th>Class_A_weeks2009</th>\n",
       "      <th>Class_A_weeks2010</th>\n",
       "      <th>Class_A_weeks2011</th>\n",
       "      <th>Class_A_weeks2012</th>\n",
       "      <th>Class_A_weeks2013</th>\n",
       "      <th>Class_A_weeks2014</th>\n",
       "      <th>Class_A_weeks2015</th>\n",
       "      <th>Class_A_weeks2016</th>\n",
       "      <th>Class_A_weeks2017</th>\n",
       "    </tr>\n",
       "  </thead>\n",
       "  <tbody>\n",
       "    <tr>\n",
       "      <th>count</th>\n",
       "      <td>1.907397e+06</td>\n",
       "      <td>1.907397e+06</td>\n",
       "      <td>1.907397e+06</td>\n",
       "      <td>1.907397e+06</td>\n",
       "      <td>1.907397e+06</td>\n",
       "      <td>1.907397e+06</td>\n",
       "      <td>1.907397e+06</td>\n",
       "      <td>1.907397e+06</td>\n",
       "      <td>1.907397e+06</td>\n",
       "      <td>1.907397e+06</td>\n",
       "      <td>...</td>\n",
       "      <td>1.907397e+06</td>\n",
       "      <td>1.907397e+06</td>\n",
       "      <td>1.907397e+06</td>\n",
       "      <td>1.907397e+06</td>\n",
       "      <td>1.907397e+06</td>\n",
       "      <td>1.907397e+06</td>\n",
       "      <td>1.907397e+06</td>\n",
       "      <td>1.907397e+06</td>\n",
       "      <td>1.907397e+06</td>\n",
       "      <td>1.907397e+06</td>\n",
       "    </tr>\n",
       "    <tr>\n",
       "      <th>mean</th>\n",
       "      <td>1.157814e+04</td>\n",
       "      <td>1.320052e+04</td>\n",
       "      <td>1.470237e+04</td>\n",
       "      <td>1.488343e+04</td>\n",
       "      <td>1.247458e+04</td>\n",
       "      <td>1.140092e+04</td>\n",
       "      <td>1.128966e+04</td>\n",
       "      <td>1.166683e+04</td>\n",
       "      <td>1.181458e+04</td>\n",
       "      <td>1.262499e+04</td>\n",
       "      <td>...</td>\n",
       "      <td>2.633050e+01</td>\n",
       "      <td>2.305344e+01</td>\n",
       "      <td>2.185866e+01</td>\n",
       "      <td>2.178265e+01</td>\n",
       "      <td>2.193495e+01</td>\n",
       "      <td>2.166851e+01</td>\n",
       "      <td>2.314401e+01</td>\n",
       "      <td>2.413756e+01</td>\n",
       "      <td>2.509801e+01</td>\n",
       "      <td>2.550060e+01</td>\n",
       "    </tr>\n",
       "    <tr>\n",
       "      <th>std</th>\n",
       "      <td>1.787285e+04</td>\n",
       "      <td>1.906936e+04</td>\n",
       "      <td>2.069154e+04</td>\n",
       "      <td>2.221673e+04</td>\n",
       "      <td>1.997413e+04</td>\n",
       "      <td>1.798272e+04</td>\n",
       "      <td>1.810695e+04</td>\n",
       "      <td>1.966912e+04</td>\n",
       "      <td>2.071185e+04</td>\n",
       "      <td>2.115282e+04</td>\n",
       "      <td>...</td>\n",
       "      <td>2.318673e+01</td>\n",
       "      <td>2.336954e+01</td>\n",
       "      <td>2.336978e+01</td>\n",
       "      <td>2.341282e+01</td>\n",
       "      <td>2.351141e+01</td>\n",
       "      <td>2.357444e+01</td>\n",
       "      <td>2.366190e+01</td>\n",
       "      <td>2.379077e+01</td>\n",
       "      <td>2.391175e+01</td>\n",
       "      <td>2.402538e+01</td>\n",
       "    </tr>\n",
       "    <tr>\n",
       "      <th>min</th>\n",
       "      <td>0.000000e+00</td>\n",
       "      <td>0.000000e+00</td>\n",
       "      <td>0.000000e+00</td>\n",
       "      <td>0.000000e+00</td>\n",
       "      <td>0.000000e+00</td>\n",
       "      <td>0.000000e+00</td>\n",
       "      <td>0.000000e+00</td>\n",
       "      <td>0.000000e+00</td>\n",
       "      <td>0.000000e+00</td>\n",
       "      <td>0.000000e+00</td>\n",
       "      <td>...</td>\n",
       "      <td>0.000000e+00</td>\n",
       "      <td>0.000000e+00</td>\n",
       "      <td>0.000000e+00</td>\n",
       "      <td>0.000000e+00</td>\n",
       "      <td>0.000000e+00</td>\n",
       "      <td>0.000000e+00</td>\n",
       "      <td>0.000000e+00</td>\n",
       "      <td>0.000000e+00</td>\n",
       "      <td>0.000000e+00</td>\n",
       "      <td>0.000000e+00</td>\n",
       "    </tr>\n",
       "    <tr>\n",
       "      <th>25%</th>\n",
       "      <td>0.000000e+00</td>\n",
       "      <td>0.000000e+00</td>\n",
       "      <td>0.000000e+00</td>\n",
       "      <td>0.000000e+00</td>\n",
       "      <td>0.000000e+00</td>\n",
       "      <td>0.000000e+00</td>\n",
       "      <td>0.000000e+00</td>\n",
       "      <td>0.000000e+00</td>\n",
       "      <td>0.000000e+00</td>\n",
       "      <td>0.000000e+00</td>\n",
       "      <td>...</td>\n",
       "      <td>0.000000e+00</td>\n",
       "      <td>0.000000e+00</td>\n",
       "      <td>0.000000e+00</td>\n",
       "      <td>0.000000e+00</td>\n",
       "      <td>0.000000e+00</td>\n",
       "      <td>0.000000e+00</td>\n",
       "      <td>0.000000e+00</td>\n",
       "      <td>0.000000e+00</td>\n",
       "      <td>0.000000e+00</td>\n",
       "      <td>0.000000e+00</td>\n",
       "    </tr>\n",
       "    <tr>\n",
       "      <th>50%</th>\n",
       "      <td>3.661000e+03</td>\n",
       "      <td>6.144000e+03</td>\n",
       "      <td>8.428000e+03</td>\n",
       "      <td>8.345000e+03</td>\n",
       "      <td>3.840000e+03</td>\n",
       "      <td>1.910000e+03</td>\n",
       "      <td>1.654000e+03</td>\n",
       "      <td>1.573000e+03</td>\n",
       "      <td>1.038000e+03</td>\n",
       "      <td>3.135000e+03</td>\n",
       "      <td>...</td>\n",
       "      <td>2.900000e+01</td>\n",
       "      <td>1.400000e+01</td>\n",
       "      <td>9.000000e+00</td>\n",
       "      <td>8.000000e+00</td>\n",
       "      <td>8.000000e+00</td>\n",
       "      <td>6.000000e+00</td>\n",
       "      <td>1.400000e+01</td>\n",
       "      <td>1.800000e+01</td>\n",
       "      <td>2.300000e+01</td>\n",
       "      <td>2.600000e+01</td>\n",
       "    </tr>\n",
       "    <tr>\n",
       "      <th>75%</th>\n",
       "      <td>1.916100e+04</td>\n",
       "      <td>2.170900e+04</td>\n",
       "      <td>2.389000e+04</td>\n",
       "      <td>2.429200e+04</td>\n",
       "      <td>2.078500e+04</td>\n",
       "      <td>1.906800e+04</td>\n",
       "      <td>1.878000e+04</td>\n",
       "      <td>1.890700e+04</td>\n",
       "      <td>1.937700e+04</td>\n",
       "      <td>2.077000e+04</td>\n",
       "      <td>...</td>\n",
       "      <td>5.200000e+01</td>\n",
       "      <td>5.200000e+01</td>\n",
       "      <td>5.200000e+01</td>\n",
       "      <td>5.200000e+01</td>\n",
       "      <td>5.200000e+01</td>\n",
       "      <td>5.200000e+01</td>\n",
       "      <td>5.200000e+01</td>\n",
       "      <td>5.200000e+01</td>\n",
       "      <td>5.200000e+01</td>\n",
       "      <td>5.200000e+01</td>\n",
       "    </tr>\n",
       "    <tr>\n",
       "      <th>max</th>\n",
       "      <td>3.992043e+06</td>\n",
       "      <td>4.792412e+06</td>\n",
       "      <td>6.597313e+06</td>\n",
       "      <td>1.103540e+07</td>\n",
       "      <td>9.956779e+06</td>\n",
       "      <td>3.286646e+06</td>\n",
       "      <td>1.231165e+06</td>\n",
       "      <td>6.765317e+06</td>\n",
       "      <td>7.805156e+06</td>\n",
       "      <td>6.756370e+06</td>\n",
       "      <td>...</td>\n",
       "      <td>5.200000e+01</td>\n",
       "      <td>5.200000e+01</td>\n",
       "      <td>5.200000e+01</td>\n",
       "      <td>5.200000e+01</td>\n",
       "      <td>5.200000e+01</td>\n",
       "      <td>5.200000e+01</td>\n",
       "      <td>5.200000e+01</td>\n",
       "      <td>5.200000e+01</td>\n",
       "      <td>5.200000e+01</td>\n",
       "      <td>5.200000e+01</td>\n",
       "    </tr>\n",
       "  </tbody>\n",
       "</table>\n",
       "<p>8 rows × 52 columns</p>\n",
       "</div>"
      ],
      "text/plain": [
       "       Class_A_Earn2005  Class_A_Earn2006  Class_A_Earn2007  Class_A_Earn2008  \\\n",
       "count      1.907397e+06      1.907397e+06      1.907397e+06      1.907397e+06   \n",
       "mean       1.157814e+04      1.320052e+04      1.470237e+04      1.488343e+04   \n",
       "std        1.787285e+04      1.906936e+04      2.069154e+04      2.221673e+04   \n",
       "min        0.000000e+00      0.000000e+00      0.000000e+00      0.000000e+00   \n",
       "25%        0.000000e+00      0.000000e+00      0.000000e+00      0.000000e+00   \n",
       "50%        3.661000e+03      6.144000e+03      8.428000e+03      8.345000e+03   \n",
       "75%        1.916100e+04      2.170900e+04      2.389000e+04      2.429200e+04   \n",
       "max        3.992043e+06      4.792412e+06      6.597313e+06      1.103540e+07   \n",
       "\n",
       "       Class_A_Earn2009  Class_A_Earn2010  Class_A_Earn2011  Class_A_Earn2012  \\\n",
       "count      1.907397e+06      1.907397e+06      1.907397e+06      1.907397e+06   \n",
       "mean       1.247458e+04      1.140092e+04      1.128966e+04      1.166683e+04   \n",
       "std        1.997413e+04      1.798272e+04      1.810695e+04      1.966912e+04   \n",
       "min        0.000000e+00      0.000000e+00      0.000000e+00      0.000000e+00   \n",
       "25%        0.000000e+00      0.000000e+00      0.000000e+00      0.000000e+00   \n",
       "50%        3.840000e+03      1.910000e+03      1.654000e+03      1.573000e+03   \n",
       "75%        2.078500e+04      1.906800e+04      1.878000e+04      1.890700e+04   \n",
       "max        9.956779e+06      3.286646e+06      1.231165e+06      6.765317e+06   \n",
       "\n",
       "       Class_A_Earn2013  Class_A_Earn2014        ...          \\\n",
       "count      1.907397e+06      1.907397e+06        ...           \n",
       "mean       1.181458e+04      1.262499e+04        ...           \n",
       "std        2.071185e+04      2.115282e+04        ...           \n",
       "min        0.000000e+00      0.000000e+00        ...           \n",
       "25%        0.000000e+00      0.000000e+00        ...           \n",
       "50%        1.038000e+03      3.135000e+03        ...           \n",
       "75%        1.937700e+04      2.077000e+04        ...           \n",
       "max        7.805156e+06      6.756370e+06        ...           \n",
       "\n",
       "       Class_A_weeks2008  Class_A_weeks2009  Class_A_weeks2010  \\\n",
       "count       1.907397e+06       1.907397e+06       1.907397e+06   \n",
       "mean        2.633050e+01       2.305344e+01       2.185866e+01   \n",
       "std         2.318673e+01       2.336954e+01       2.336978e+01   \n",
       "min         0.000000e+00       0.000000e+00       0.000000e+00   \n",
       "25%         0.000000e+00       0.000000e+00       0.000000e+00   \n",
       "50%         2.900000e+01       1.400000e+01       9.000000e+00   \n",
       "75%         5.200000e+01       5.200000e+01       5.200000e+01   \n",
       "max         5.200000e+01       5.200000e+01       5.200000e+01   \n",
       "\n",
       "       Class_A_weeks2011  Class_A_weeks2012  Class_A_weeks2013  \\\n",
       "count       1.907397e+06       1.907397e+06       1.907397e+06   \n",
       "mean        2.178265e+01       2.193495e+01       2.166851e+01   \n",
       "std         2.341282e+01       2.351141e+01       2.357444e+01   \n",
       "min         0.000000e+00       0.000000e+00       0.000000e+00   \n",
       "25%         0.000000e+00       0.000000e+00       0.000000e+00   \n",
       "50%         8.000000e+00       8.000000e+00       6.000000e+00   \n",
       "75%         5.200000e+01       5.200000e+01       5.200000e+01   \n",
       "max         5.200000e+01       5.200000e+01       5.200000e+01   \n",
       "\n",
       "       Class_A_weeks2014  Class_A_weeks2015  Class_A_weeks2016  \\\n",
       "count       1.907397e+06       1.907397e+06       1.907397e+06   \n",
       "mean        2.314401e+01       2.413756e+01       2.509801e+01   \n",
       "std         2.366190e+01       2.379077e+01       2.391175e+01   \n",
       "min         0.000000e+00       0.000000e+00       0.000000e+00   \n",
       "25%         0.000000e+00       0.000000e+00       0.000000e+00   \n",
       "50%         1.400000e+01       1.800000e+01       2.300000e+01   \n",
       "75%         5.200000e+01       5.200000e+01       5.200000e+01   \n",
       "max         5.200000e+01       5.200000e+01       5.200000e+01   \n",
       "\n",
       "       Class_A_weeks2017  \n",
       "count       1.907397e+06  \n",
       "mean        2.550060e+01  \n",
       "std         2.402538e+01  \n",
       "min         0.000000e+00  \n",
       "25%         0.000000e+00  \n",
       "50%         2.600000e+01  \n",
       "75%         5.200000e+01  \n",
       "max         5.200000e+01  \n",
       "\n",
       "[8 rows x 52 columns]"
      ]
     },
     "execution_count": 7,
     "metadata": {},
     "output_type": "execute_result"
    }
   ],
   "source": [
    "data_earnings.fillna(0, inplace=True)\n",
    "data_earnings.describe()"
   ]
  },
  {
   "cell_type": "code",
   "execution_count": 8,
   "metadata": {},
   "outputs": [],
   "source": [
    "#col_list2013_2015= ['Class_A_Earn2013', 'Class_A_Earn2014', 'Class_A_Earn2015', 'Class_S_Earn2013', 'Class_S_Earn2014', \n",
    "#                    'Class_S_Earn2015', 'Class_Other_Earn2013', 'Class_Other_Earn2014','Class_Other_Earn2015']\n",
    "\n",
    "#data_earnings['Sum_2013_2015'] = (data_earnings[col_list2013_2015].sum(axis=1))\n",
    "\n",
    "# Can't use Class S as it's not available for 2017\n",
    "#col_list2013 = ['Class_A_Earn2013', 'Class_S_Earn2013', 'Class_Other_Earn2013']\n",
    "#col_list2014 = ['Class_A_Earn2014', 'Class_S_Earn2014', 'Class_Other_Earn2014']\n",
    "#col_list2015 = ['Class_A_Earn2015', 'Class_S_Earn2015', 'Class_Other_Earn2015']\n",
    "\n",
    "\n",
    "\n",
    "#data_earnings['Sum_2013'] = (data_earnings[col_list2013].sum(axis=1))\n",
    "#data_earnings['Sum_2014'] = (data_earnings[col_list2014].sum(axis=1))\n",
    "#data_earnings['Sum_2015'] = (data_earnings[col_list2015].sum(axis=1))\n",
    "\n",
    "#col_list_sum_2013_2015 = ['Sum_2013', 'Sum_2014', 'Sum_2015']\n",
    "\n",
    "#data_earnings['mean_2013_2015'] = (data_earnings[col_list_sum_2013_2015].mean(axis=1))\n",
    "to_keep=['RSI_NO',\n",
    "         'Class_A_Earn2013',\n",
    "     'Class_A_Earn2014',\n",
    "     'Class_A_Earn2015',\n",
    "     'Class_A_Earn2016',\n",
    "     'Class_A_Earn2017',]\n",
    "data_earnings=data_earnings[to_keep]\n",
    "#data_earnings.isnull().any()\n",
    "data_earnings.rename(columns={'RSI_NO': 'ppsn'}, inplace=True)"
   ]
  },
  {
   "cell_type": "code",
   "execution_count": 9,
   "metadata": {},
   "outputs": [],
   "source": [
    "\n",
    "to_keep_jp = ['cluster','ppsn','age',\n",
    "'duration_days_0',\n",
    "'sex',\n",
    "'LM_code_rank_P1',\n",
    "'occupation_rank_P1',\n",
    "'ada_code_rank_P1',\n",
    "'family_flag_rank_P1',\n",
    "'marital_status_rank_P1',\n",
    "'LM_code_rank_P2',\n",
    "'occupation_rank_P2',\n",
    "'ada_code_rank_P2',\n",
    "'family_flag_rank_P2',\n",
    "'marital_status_rank_P2',\n",
    "'LM_code_rank_P3',\n",
    "'occupation_rank_P3',\n",
    "'ada_code_rank_P3',\n",
    "'family_flag_rank_P3',\n",
    "'marital_status_rank_P3',\n",
    "'LM_code_rank_P4',\n",
    "'occupation_rank_P4',\n",
    "'ada_code_rank_P4',\n",
    "'family_flag_rank_P4',\n",
    "'marital_status_rank_P4',\n",
    "'LM_code_rank_P5',\n",
    "'occupation_rank_P5',\n",
    "'ada_code_rank_P5',\n",
    "'family_flag_rank_P5',\n",
    "'marital_status_rank_P5',\n",
    "'LM_code_rank_P6',\n",
    "'occupation_rank_P6',\n",
    "'ada_code_rank_P6',\n",
    "'family_flag_rank_P6',\n",
    "'marital_status_rank_P6',\n",
    "'LM_code_rank_P7',\n",
    "'occupation_rank_P7',\n",
    "'ada_code_rank_P7',\n",
    "'family_flag_rank_P7',\n",
    "'LM_code_rank_P8',\n",
    "'occupation_rank_P8',\n",
    "'ada_code_rank_P8',\n",
    "'family_flag_rank_P8',\n",
    "'marital_status_rank_P7',\n",
    "'marital_status_rank_P8',\n",
    "'jp_started_P1',\n",
    "'jp_started_P2',\n",
    "'jp_started_P3', 'jp_started_P4', 'jp_started_P5', 'jp_started_P6', \n",
    "'jp_started_P7', 'jp_started_P8']\n",
    "\n",
    "data_jp=data_jp[to_keep_jp]\n",
    "data_jp.loc[:, 'Duration Bands'] = (data_jp['duration_days_0']).apply(lambda x : \"0\" if x < 365 else (\"1\"   if x < 730 else (\"2\" if x < 1095 else (\"3\"))))\n",
    "data_jp['Duration Bands']=data_jp['Duration Bands'].astype(int)\n",
    "data_final=pd.merge(data_jp, data_earnings, on='ppsn', how='left')\n",
    "#data_final.fillna({'Sum_2013_2015':0, 'Sum_2013':0, 'Sum_2014':0, 'Sum_2015':0, 'mean_2013_2015':0, 'Sum_2017':0}, inplace=True)\n",
    "#data_final=data_final.dropna()"
   ]
  },
  {
   "cell_type": "code",
   "execution_count": 123,
   "metadata": {},
   "outputs": [
    {
     "data": {
      "text/plain": [
       "1907397"
      ]
     },
     "execution_count": 123,
     "metadata": {},
     "output_type": "execute_result"
    }
   ],
   "source": [
    "data_earnings['ppsn'].nunique()"
   ]
  },
  {
   "cell_type": "code",
   "execution_count": 124,
   "metadata": {},
   "outputs": [
    {
     "data": {
      "text/plain": [
       "110364"
      ]
     },
     "execution_count": 124,
     "metadata": {},
     "output_type": "execute_result"
    }
   ],
   "source": [
    "data_jp['ppsn'].nunique()"
   ]
  },
  {
   "cell_type": "code",
   "execution_count": 125,
   "metadata": {},
   "outputs": [
    {
     "data": {
      "text/plain": [
       "110364"
      ]
     },
     "execution_count": 125,
     "metadata": {},
     "output_type": "execute_result"
    }
   ],
   "source": [
    "df['ppsn'].nunique()"
   ]
  },
  {
   "cell_type": "code",
   "execution_count": 10,
   "metadata": {},
   "outputs": [
    {
     "data": {
      "text/plain": [
       "['cluster',\n",
       " 'ppsn',\n",
       " 'age',\n",
       " 'duration_days_0',\n",
       " 'sex',\n",
       " 'LM_code_rank_P1',\n",
       " 'occupation_rank_P1',\n",
       " 'ada_code_rank_P1',\n",
       " 'family_flag_rank_P1',\n",
       " 'marital_status_rank_P1',\n",
       " 'LM_code_rank_P2',\n",
       " 'occupation_rank_P2',\n",
       " 'ada_code_rank_P2',\n",
       " 'family_flag_rank_P2',\n",
       " 'marital_status_rank_P2',\n",
       " 'LM_code_rank_P3',\n",
       " 'occupation_rank_P3',\n",
       " 'ada_code_rank_P3',\n",
       " 'family_flag_rank_P3',\n",
       " 'marital_status_rank_P3',\n",
       " 'LM_code_rank_P4',\n",
       " 'occupation_rank_P4',\n",
       " 'ada_code_rank_P4',\n",
       " 'family_flag_rank_P4',\n",
       " 'marital_status_rank_P4',\n",
       " 'LM_code_rank_P5',\n",
       " 'occupation_rank_P5',\n",
       " 'ada_code_rank_P5',\n",
       " 'family_flag_rank_P5',\n",
       " 'marital_status_rank_P5',\n",
       " 'LM_code_rank_P6',\n",
       " 'occupation_rank_P6',\n",
       " 'ada_code_rank_P6',\n",
       " 'family_flag_rank_P6',\n",
       " 'marital_status_rank_P6',\n",
       " 'LM_code_rank_P7',\n",
       " 'occupation_rank_P7',\n",
       " 'ada_code_rank_P7',\n",
       " 'family_flag_rank_P7',\n",
       " 'LM_code_rank_P8',\n",
       " 'occupation_rank_P8',\n",
       " 'ada_code_rank_P8',\n",
       " 'family_flag_rank_P8',\n",
       " 'marital_status_rank_P7',\n",
       " 'marital_status_rank_P8',\n",
       " 'jp_started_P1',\n",
       " 'jp_started_P2',\n",
       " 'jp_started_P3',\n",
       " 'jp_started_P4',\n",
       " 'jp_started_P5',\n",
       " 'jp_started_P6',\n",
       " 'jp_started_P7',\n",
       " 'jp_started_P8',\n",
       " 'Duration Bands',\n",
       " 'Class_A_Earn2013',\n",
       " 'Class_A_Earn2014',\n",
       " 'Class_A_Earn2015',\n",
       " 'Class_A_Earn2016',\n",
       " 'Class_A_Earn2017']"
      ]
     },
     "execution_count": 10,
     "metadata": {},
     "output_type": "execute_result"
    }
   ],
   "source": [
    "list(data_final)"
   ]
  },
  {
   "cell_type": "code",
   "execution_count": 11,
   "metadata": {},
   "outputs": [
    {
     "data": {
      "text/html": [
       "<div>\n",
       "<style scoped>\n",
       "    .dataframe tbody tr th:only-of-type {\n",
       "        vertical-align: middle;\n",
       "    }\n",
       "\n",
       "    .dataframe tbody tr th {\n",
       "        vertical-align: top;\n",
       "    }\n",
       "\n",
       "    .dataframe thead th {\n",
       "        text-align: right;\n",
       "    }\n",
       "</style>\n",
       "<table border=\"1\" class=\"dataframe\">\n",
       "  <thead>\n",
       "    <tr style=\"text-align: right;\">\n",
       "      <th></th>\n",
       "      <th>cluster</th>\n",
       "      <th>ppsn</th>\n",
       "      <th>age</th>\n",
       "      <th>duration_days_0</th>\n",
       "      <th>sex</th>\n",
       "      <th>LM_code_rank_P1</th>\n",
       "      <th>occupation_rank_P1</th>\n",
       "      <th>ada_code_rank_P1</th>\n",
       "      <th>family_flag_rank_P1</th>\n",
       "      <th>marital_status_rank_P1</th>\n",
       "      <th>...</th>\n",
       "      <th>jp_started_P5</th>\n",
       "      <th>jp_started_P6</th>\n",
       "      <th>jp_started_P7</th>\n",
       "      <th>jp_started_P8</th>\n",
       "      <th>Duration Bands</th>\n",
       "      <th>Class_A_Earn2013</th>\n",
       "      <th>Class_A_Earn2014</th>\n",
       "      <th>Class_A_Earn2015</th>\n",
       "      <th>Class_A_Earn2016</th>\n",
       "      <th>Class_A_Earn2017</th>\n",
       "    </tr>\n",
       "  </thead>\n",
       "  <tbody>\n",
       "    <tr>\n",
       "      <th>0</th>\n",
       "      <td>2</td>\n",
       "      <td>0099665M</td>\n",
       "      <td>54.0</td>\n",
       "      <td>6316</td>\n",
       "      <td>1.0</td>\n",
       "      <td>6.0</td>\n",
       "      <td>2.0</td>\n",
       "      <td>5</td>\n",
       "      <td>3</td>\n",
       "      <td>2.0</td>\n",
       "      <td>...</td>\n",
       "      <td>0</td>\n",
       "      <td>0</td>\n",
       "      <td>0</td>\n",
       "      <td>0</td>\n",
       "      <td>3</td>\n",
       "      <td>NaN</td>\n",
       "      <td>NaN</td>\n",
       "      <td>NaN</td>\n",
       "      <td>NaN</td>\n",
       "      <td>NaN</td>\n",
       "    </tr>\n",
       "    <tr>\n",
       "      <th>1</th>\n",
       "      <td>2</td>\n",
       "      <td>0206477C</td>\n",
       "      <td>59.0</td>\n",
       "      <td>3964</td>\n",
       "      <td>2.0</td>\n",
       "      <td>6.0</td>\n",
       "      <td>5.0</td>\n",
       "      <td>5</td>\n",
       "      <td>3</td>\n",
       "      <td>2.0</td>\n",
       "      <td>...</td>\n",
       "      <td>0</td>\n",
       "      <td>0</td>\n",
       "      <td>0</td>\n",
       "      <td>0</td>\n",
       "      <td>3</td>\n",
       "      <td>NaN</td>\n",
       "      <td>NaN</td>\n",
       "      <td>NaN</td>\n",
       "      <td>NaN</td>\n",
       "      <td>NaN</td>\n",
       "    </tr>\n",
       "    <tr>\n",
       "      <th>2</th>\n",
       "      <td>2</td>\n",
       "      <td>0202920T</td>\n",
       "      <td>59.0</td>\n",
       "      <td>1285</td>\n",
       "      <td>2.0</td>\n",
       "      <td>6.0</td>\n",
       "      <td>7.0</td>\n",
       "      <td>4</td>\n",
       "      <td>1</td>\n",
       "      <td>2.0</td>\n",
       "      <td>...</td>\n",
       "      <td>0</td>\n",
       "      <td>0</td>\n",
       "      <td>0</td>\n",
       "      <td>0</td>\n",
       "      <td>3</td>\n",
       "      <td>0.0</td>\n",
       "      <td>0.0</td>\n",
       "      <td>0.0</td>\n",
       "      <td>0.0</td>\n",
       "      <td>0.0</td>\n",
       "    </tr>\n",
       "    <tr>\n",
       "      <th>3</th>\n",
       "      <td>5</td>\n",
       "      <td>0205276K</td>\n",
       "      <td>55.0</td>\n",
       "      <td>1415</td>\n",
       "      <td>2.0</td>\n",
       "      <td>6.0</td>\n",
       "      <td>2.0</td>\n",
       "      <td>6</td>\n",
       "      <td>3</td>\n",
       "      <td>2.0</td>\n",
       "      <td>...</td>\n",
       "      <td>0</td>\n",
       "      <td>0</td>\n",
       "      <td>0</td>\n",
       "      <td>0</td>\n",
       "      <td>3</td>\n",
       "      <td>0.0</td>\n",
       "      <td>0.0</td>\n",
       "      <td>0.0</td>\n",
       "      <td>0.0</td>\n",
       "      <td>0.0</td>\n",
       "    </tr>\n",
       "    <tr>\n",
       "      <th>4</th>\n",
       "      <td>2</td>\n",
       "      <td>0202425J</td>\n",
       "      <td>59.0</td>\n",
       "      <td>2445</td>\n",
       "      <td>2.0</td>\n",
       "      <td>6.0</td>\n",
       "      <td>7.0</td>\n",
       "      <td>5</td>\n",
       "      <td>3</td>\n",
       "      <td>2.0</td>\n",
       "      <td>...</td>\n",
       "      <td>0</td>\n",
       "      <td>0</td>\n",
       "      <td>0</td>\n",
       "      <td>0</td>\n",
       "      <td>3</td>\n",
       "      <td>0.0</td>\n",
       "      <td>0.0</td>\n",
       "      <td>0.0</td>\n",
       "      <td>0.0</td>\n",
       "      <td>0.0</td>\n",
       "    </tr>\n",
       "  </tbody>\n",
       "</table>\n",
       "<p>5 rows × 59 columns</p>\n",
       "</div>"
      ],
      "text/plain": [
       "   cluster      ppsn   age  duration_days_0  sex  LM_code_rank_P1  \\\n",
       "0        2  0099665M  54.0             6316  1.0              6.0   \n",
       "1        2  0206477C  59.0             3964  2.0              6.0   \n",
       "2        2  0202920T  59.0             1285  2.0              6.0   \n",
       "3        5  0205276K  55.0             1415  2.0              6.0   \n",
       "4        2  0202425J  59.0             2445  2.0              6.0   \n",
       "\n",
       "   occupation_rank_P1  ada_code_rank_P1  family_flag_rank_P1  \\\n",
       "0                 2.0                 5                    3   \n",
       "1                 5.0                 5                    3   \n",
       "2                 7.0                 4                    1   \n",
       "3                 2.0                 6                    3   \n",
       "4                 7.0                 5                    3   \n",
       "\n",
       "   marital_status_rank_P1        ...         jp_started_P5  jp_started_P6  \\\n",
       "0                     2.0        ...                     0              0   \n",
       "1                     2.0        ...                     0              0   \n",
       "2                     2.0        ...                     0              0   \n",
       "3                     2.0        ...                     0              0   \n",
       "4                     2.0        ...                     0              0   \n",
       "\n",
       "   jp_started_P7  jp_started_P8  Duration Bands  Class_A_Earn2013  \\\n",
       "0              0              0               3               NaN   \n",
       "1              0              0               3               NaN   \n",
       "2              0              0               3               0.0   \n",
       "3              0              0               3               0.0   \n",
       "4              0              0               3               0.0   \n",
       "\n",
       "   Class_A_Earn2014  Class_A_Earn2015  Class_A_Earn2016  Class_A_Earn2017  \n",
       "0               NaN               NaN               NaN               NaN  \n",
       "1               NaN               NaN               NaN               NaN  \n",
       "2               0.0               0.0               0.0               0.0  \n",
       "3               0.0               0.0               0.0               0.0  \n",
       "4               0.0               0.0               0.0               0.0  \n",
       "\n",
       "[5 rows x 59 columns]"
      ]
     },
     "execution_count": 11,
     "metadata": {},
     "output_type": "execute_result"
    }
   ],
   "source": [
    "data_final.head()"
   ]
  },
  {
   "cell_type": "code",
   "execution_count": 12,
   "metadata": {},
   "outputs": [
    {
     "data": {
      "text/html": [
       "<div>\n",
       "<style scoped>\n",
       "    .dataframe tbody tr th:only-of-type {\n",
       "        vertical-align: middle;\n",
       "    }\n",
       "\n",
       "    .dataframe tbody tr th {\n",
       "        vertical-align: top;\n",
       "    }\n",
       "\n",
       "    .dataframe thead th {\n",
       "        text-align: right;\n",
       "    }\n",
       "</style>\n",
       "<table border=\"1\" class=\"dataframe\">\n",
       "  <thead>\n",
       "    <tr style=\"text-align: right;\">\n",
       "      <th></th>\n",
       "      <th>cluster</th>\n",
       "      <th>age</th>\n",
       "      <th>duration_days_0</th>\n",
       "      <th>sex</th>\n",
       "      <th>LM_code_rank_P1</th>\n",
       "      <th>occupation_rank_P1</th>\n",
       "      <th>ada_code_rank_P1</th>\n",
       "      <th>family_flag_rank_P1</th>\n",
       "      <th>marital_status_rank_P1</th>\n",
       "      <th>LM_code_rank_P2</th>\n",
       "      <th>...</th>\n",
       "      <th>jp_started_P5</th>\n",
       "      <th>jp_started_P6</th>\n",
       "      <th>jp_started_P7</th>\n",
       "      <th>jp_started_P8</th>\n",
       "      <th>Duration Bands</th>\n",
       "      <th>Class_A_Earn2013</th>\n",
       "      <th>Class_A_Earn2014</th>\n",
       "      <th>Class_A_Earn2015</th>\n",
       "      <th>Class_A_Earn2016</th>\n",
       "      <th>Class_A_Earn2017</th>\n",
       "    </tr>\n",
       "  </thead>\n",
       "  <tbody>\n",
       "    <tr>\n",
       "      <th>count</th>\n",
       "      <td>110364.000000</td>\n",
       "      <td>110364.000000</td>\n",
       "      <td>110364.000000</td>\n",
       "      <td>110364.000000</td>\n",
       "      <td>110364.000000</td>\n",
       "      <td>101488.000000</td>\n",
       "      <td>110364.000000</td>\n",
       "      <td>110364.000000</td>\n",
       "      <td>101487.000000</td>\n",
       "      <td>110364.000000</td>\n",
       "      <td>...</td>\n",
       "      <td>110364.000000</td>\n",
       "      <td>110364.000000</td>\n",
       "      <td>110364.000000</td>\n",
       "      <td>110364.000000</td>\n",
       "      <td>110364.000000</td>\n",
       "      <td>92040.000000</td>\n",
       "      <td>92040.000000</td>\n",
       "      <td>92040.000000</td>\n",
       "      <td>92040.000000</td>\n",
       "      <td>92040.00000</td>\n",
       "    </tr>\n",
       "    <tr>\n",
       "      <th>mean</th>\n",
       "      <td>2.142800</td>\n",
       "      <td>38.754114</td>\n",
       "      <td>1516.957241</td>\n",
       "      <td>1.306585</td>\n",
       "      <td>5.603920</td>\n",
       "      <td>4.404491</td>\n",
       "      <td>2.592421</td>\n",
       "      <td>1.780119</td>\n",
       "      <td>1.290195</td>\n",
       "      <td>5.422801</td>\n",
       "      <td>...</td>\n",
       "      <td>0.062575</td>\n",
       "      <td>0.051883</td>\n",
       "      <td>0.041354</td>\n",
       "      <td>0.039660</td>\n",
       "      <td>2.047153</td>\n",
       "      <td>2333.747687</td>\n",
       "      <td>2011.638020</td>\n",
       "      <td>452.880428</td>\n",
       "      <td>2893.911005</td>\n",
       "      <td>5599.48490</td>\n",
       "    </tr>\n",
       "    <tr>\n",
       "      <th>std</th>\n",
       "      <td>1.288434</td>\n",
       "      <td>11.086053</td>\n",
       "      <td>1285.190853</td>\n",
       "      <td>0.461078</td>\n",
       "      <td>1.216321</td>\n",
       "      <td>2.232159</td>\n",
       "      <td>1.877848</td>\n",
       "      <td>1.175375</td>\n",
       "      <td>0.461305</td>\n",
       "      <td>1.384111</td>\n",
       "      <td>...</td>\n",
       "      <td>0.242198</td>\n",
       "      <td>0.221792</td>\n",
       "      <td>0.199109</td>\n",
       "      <td>0.195159</td>\n",
       "      <td>1.039887</td>\n",
       "      <td>7316.979194</td>\n",
       "      <td>8032.305929</td>\n",
       "      <td>2984.376232</td>\n",
       "      <td>6027.668195</td>\n",
       "      <td>9440.71345</td>\n",
       "    </tr>\n",
       "    <tr>\n",
       "      <th>min</th>\n",
       "      <td>0.000000</td>\n",
       "      <td>18.000000</td>\n",
       "      <td>300.000000</td>\n",
       "      <td>1.000000</td>\n",
       "      <td>1.000000</td>\n",
       "      <td>1.000000</td>\n",
       "      <td>1.000000</td>\n",
       "      <td>1.000000</td>\n",
       "      <td>1.000000</td>\n",
       "      <td>1.000000</td>\n",
       "      <td>...</td>\n",
       "      <td>0.000000</td>\n",
       "      <td>0.000000</td>\n",
       "      <td>0.000000</td>\n",
       "      <td>0.000000</td>\n",
       "      <td>0.000000</td>\n",
       "      <td>0.000000</td>\n",
       "      <td>0.000000</td>\n",
       "      <td>0.000000</td>\n",
       "      <td>0.000000</td>\n",
       "      <td>0.00000</td>\n",
       "    </tr>\n",
       "    <tr>\n",
       "      <th>25%</th>\n",
       "      <td>1.000000</td>\n",
       "      <td>29.000000</td>\n",
       "      <td>556.000000</td>\n",
       "      <td>1.000000</td>\n",
       "      <td>6.000000</td>\n",
       "      <td>3.000000</td>\n",
       "      <td>1.000000</td>\n",
       "      <td>1.000000</td>\n",
       "      <td>1.000000</td>\n",
       "      <td>6.000000</td>\n",
       "      <td>...</td>\n",
       "      <td>0.000000</td>\n",
       "      <td>0.000000</td>\n",
       "      <td>0.000000</td>\n",
       "      <td>0.000000</td>\n",
       "      <td>1.000000</td>\n",
       "      <td>0.000000</td>\n",
       "      <td>0.000000</td>\n",
       "      <td>0.000000</td>\n",
       "      <td>0.000000</td>\n",
       "      <td>0.00000</td>\n",
       "    </tr>\n",
       "    <tr>\n",
       "      <th>50%</th>\n",
       "      <td>2.000000</td>\n",
       "      <td>38.000000</td>\n",
       "      <td>1057.000000</td>\n",
       "      <td>1.000000</td>\n",
       "      <td>6.000000</td>\n",
       "      <td>4.000000</td>\n",
       "      <td>2.000000</td>\n",
       "      <td>1.000000</td>\n",
       "      <td>1.000000</td>\n",
       "      <td>6.000000</td>\n",
       "      <td>...</td>\n",
       "      <td>0.000000</td>\n",
       "      <td>0.000000</td>\n",
       "      <td>0.000000</td>\n",
       "      <td>0.000000</td>\n",
       "      <td>2.000000</td>\n",
       "      <td>0.000000</td>\n",
       "      <td>0.000000</td>\n",
       "      <td>0.000000</td>\n",
       "      <td>0.000000</td>\n",
       "      <td>0.00000</td>\n",
       "    </tr>\n",
       "    <tr>\n",
       "      <th>75%</th>\n",
       "      <td>2.000000</td>\n",
       "      <td>48.000000</td>\n",
       "      <td>2234.000000</td>\n",
       "      <td>2.000000</td>\n",
       "      <td>6.000000</td>\n",
       "      <td>6.000000</td>\n",
       "      <td>4.000000</td>\n",
       "      <td>2.000000</td>\n",
       "      <td>2.000000</td>\n",
       "      <td>6.000000</td>\n",
       "      <td>...</td>\n",
       "      <td>0.000000</td>\n",
       "      <td>0.000000</td>\n",
       "      <td>0.000000</td>\n",
       "      <td>0.000000</td>\n",
       "      <td>3.000000</td>\n",
       "      <td>0.000000</td>\n",
       "      <td>0.000000</td>\n",
       "      <td>0.000000</td>\n",
       "      <td>3168.000000</td>\n",
       "      <td>9006.00000</td>\n",
       "    </tr>\n",
       "    <tr>\n",
       "      <th>max</th>\n",
       "      <td>6.000000</td>\n",
       "      <td>59.000000</td>\n",
       "      <td>14647.000000</td>\n",
       "      <td>2.000000</td>\n",
       "      <td>6.000000</td>\n",
       "      <td>10.000000</td>\n",
       "      <td>11.000000</td>\n",
       "      <td>4.000000</td>\n",
       "      <td>3.000000</td>\n",
       "      <td>6.000000</td>\n",
       "      <td>...</td>\n",
       "      <td>1.000000</td>\n",
       "      <td>1.000000</td>\n",
       "      <td>1.000000</td>\n",
       "      <td>1.000000</td>\n",
       "      <td>3.000000</td>\n",
       "      <td>197987.000000</td>\n",
       "      <td>987720.000000</td>\n",
       "      <td>422918.000000</td>\n",
       "      <td>156536.000000</td>\n",
       "      <td>713494.00000</td>\n",
       "    </tr>\n",
       "  </tbody>\n",
       "</table>\n",
       "<p>8 rows × 58 columns</p>\n",
       "</div>"
      ],
      "text/plain": [
       "             cluster            age  duration_days_0            sex  \\\n",
       "count  110364.000000  110364.000000    110364.000000  110364.000000   \n",
       "mean        2.142800      38.754114      1516.957241       1.306585   \n",
       "std         1.288434      11.086053      1285.190853       0.461078   \n",
       "min         0.000000      18.000000       300.000000       1.000000   \n",
       "25%         1.000000      29.000000       556.000000       1.000000   \n",
       "50%         2.000000      38.000000      1057.000000       1.000000   \n",
       "75%         2.000000      48.000000      2234.000000       2.000000   \n",
       "max         6.000000      59.000000     14647.000000       2.000000   \n",
       "\n",
       "       LM_code_rank_P1  occupation_rank_P1  ada_code_rank_P1  \\\n",
       "count    110364.000000       101488.000000     110364.000000   \n",
       "mean          5.603920            4.404491          2.592421   \n",
       "std           1.216321            2.232159          1.877848   \n",
       "min           1.000000            1.000000          1.000000   \n",
       "25%           6.000000            3.000000          1.000000   \n",
       "50%           6.000000            4.000000          2.000000   \n",
       "75%           6.000000            6.000000          4.000000   \n",
       "max           6.000000           10.000000         11.000000   \n",
       "\n",
       "       family_flag_rank_P1  marital_status_rank_P1  LM_code_rank_P2  \\\n",
       "count        110364.000000           101487.000000    110364.000000   \n",
       "mean              1.780119                1.290195         5.422801   \n",
       "std               1.175375                0.461305         1.384111   \n",
       "min               1.000000                1.000000         1.000000   \n",
       "25%               1.000000                1.000000         6.000000   \n",
       "50%               1.000000                1.000000         6.000000   \n",
       "75%               2.000000                2.000000         6.000000   \n",
       "max               4.000000                3.000000         6.000000   \n",
       "\n",
       "             ...         jp_started_P5  jp_started_P6  jp_started_P7  \\\n",
       "count        ...         110364.000000  110364.000000  110364.000000   \n",
       "mean         ...              0.062575       0.051883       0.041354   \n",
       "std          ...              0.242198       0.221792       0.199109   \n",
       "min          ...              0.000000       0.000000       0.000000   \n",
       "25%          ...              0.000000       0.000000       0.000000   \n",
       "50%          ...              0.000000       0.000000       0.000000   \n",
       "75%          ...              0.000000       0.000000       0.000000   \n",
       "max          ...              1.000000       1.000000       1.000000   \n",
       "\n",
       "       jp_started_P8  Duration Bands  Class_A_Earn2013  Class_A_Earn2014  \\\n",
       "count  110364.000000   110364.000000      92040.000000      92040.000000   \n",
       "mean        0.039660        2.047153       2333.747687       2011.638020   \n",
       "std         0.195159        1.039887       7316.979194       8032.305929   \n",
       "min         0.000000        0.000000          0.000000          0.000000   \n",
       "25%         0.000000        1.000000          0.000000          0.000000   \n",
       "50%         0.000000        2.000000          0.000000          0.000000   \n",
       "75%         0.000000        3.000000          0.000000          0.000000   \n",
       "max         1.000000        3.000000     197987.000000     987720.000000   \n",
       "\n",
       "       Class_A_Earn2015  Class_A_Earn2016  Class_A_Earn2017  \n",
       "count      92040.000000      92040.000000       92040.00000  \n",
       "mean         452.880428       2893.911005        5599.48490  \n",
       "std         2984.376232       6027.668195        9440.71345  \n",
       "min            0.000000          0.000000           0.00000  \n",
       "25%            0.000000          0.000000           0.00000  \n",
       "50%            0.000000          0.000000           0.00000  \n",
       "75%            0.000000       3168.000000        9006.00000  \n",
       "max       422918.000000     156536.000000      713494.00000  \n",
       "\n",
       "[8 rows x 58 columns]"
      ]
     },
     "execution_count": 12,
     "metadata": {},
     "output_type": "execute_result"
    }
   ],
   "source": [
    "data_final.describe()"
   ]
  },
  {
   "cell_type": "code",
   "execution_count": 13,
   "metadata": {},
   "outputs": [],
   "source": [
    "path_payments =\"\\\\\\cskma0294\\\\F\\\\Evaluations\\\\JobPath\"\n",
    "os.chdir(path_payments)\n",
    "payments = pd.read_csv('ALL_PPSNS_with_payments.csv')\n"
   ]
  },
  {
   "cell_type": "code",
   "execution_count": 14,
   "metadata": {},
   "outputs": [
    {
     "data": {
      "text/plain": [
       "ppsn             0\n",
       "Quarter          0\n",
       "scheme           0\n",
       "total_payment    0\n",
       "dtype: int64"
      ]
     },
     "execution_count": 14,
     "metadata": {},
     "output_type": "execute_result"
    }
   ],
   "source": [
    "payments.isnull().sum()"
   ]
  },
  {
   "cell_type": "code",
   "execution_count": 15,
   "metadata": {},
   "outputs": [],
   "source": [
    "payments['Year'],payments['Q'] = zip(*payments[\"Quarter\"].apply(lambda x: x.split('_')))"
   ]
  },
  {
   "cell_type": "code",
   "execution_count": 16,
   "metadata": {},
   "outputs": [
    {
     "data": {
      "text/html": [
       "<div>\n",
       "<style scoped>\n",
       "    .dataframe tbody tr th:only-of-type {\n",
       "        vertical-align: middle;\n",
       "    }\n",
       "\n",
       "    .dataframe tbody tr th {\n",
       "        vertical-align: top;\n",
       "    }\n",
       "\n",
       "    .dataframe thead th {\n",
       "        text-align: right;\n",
       "    }\n",
       "</style>\n",
       "<table border=\"1\" class=\"dataframe\">\n",
       "  <thead>\n",
       "    <tr style=\"text-align: right;\">\n",
       "      <th></th>\n",
       "      <th>ppsn</th>\n",
       "      <th>Quarter</th>\n",
       "      <th>scheme</th>\n",
       "      <th>total_payment</th>\n",
       "      <th>Year</th>\n",
       "      <th>Q</th>\n",
       "    </tr>\n",
       "  </thead>\n",
       "  <tbody>\n",
       "    <tr>\n",
       "      <th>0</th>\n",
       "      <td>0045405F</td>\n",
       "      <td>2013_Q3</td>\n",
       "      <td>CB</td>\n",
       "      <td>780.0</td>\n",
       "      <td>2013</td>\n",
       "      <td>Q3</td>\n",
       "    </tr>\n",
       "    <tr>\n",
       "      <th>1</th>\n",
       "      <td>0045405F</td>\n",
       "      <td>2013_Q3</td>\n",
       "      <td>INTN</td>\n",
       "      <td>3481.4</td>\n",
       "      <td>2013</td>\n",
       "      <td>Q3</td>\n",
       "    </tr>\n",
       "    <tr>\n",
       "      <th>2</th>\n",
       "      <td>0045405F</td>\n",
       "      <td>2013_Q4</td>\n",
       "      <td>CB</td>\n",
       "      <td>780.0</td>\n",
       "      <td>2013</td>\n",
       "      <td>Q4</td>\n",
       "    </tr>\n",
       "    <tr>\n",
       "      <th>3</th>\n",
       "      <td>0045405F</td>\n",
       "      <td>2013_Q4</td>\n",
       "      <td>INTN</td>\n",
       "      <td>1071.2</td>\n",
       "      <td>2013</td>\n",
       "      <td>Q4</td>\n",
       "    </tr>\n",
       "    <tr>\n",
       "      <th>4</th>\n",
       "      <td>0045405F</td>\n",
       "      <td>2013_Q4</td>\n",
       "      <td>UB</td>\n",
       "      <td>1980.2</td>\n",
       "      <td>2013</td>\n",
       "      <td>Q4</td>\n",
       "    </tr>\n",
       "  </tbody>\n",
       "</table>\n",
       "</div>"
      ],
      "text/plain": [
       "       ppsn  Quarter scheme  total_payment  Year   Q\n",
       "0  0045405F  2013_Q3     CB          780.0  2013  Q3\n",
       "1  0045405F  2013_Q3   INTN         3481.4  2013  Q3\n",
       "2  0045405F  2013_Q4     CB          780.0  2013  Q4\n",
       "3  0045405F  2013_Q4   INTN         1071.2  2013  Q4\n",
       "4  0045405F  2013_Q4     UB         1980.2  2013  Q4"
      ]
     },
     "execution_count": 16,
     "metadata": {},
     "output_type": "execute_result"
    }
   ],
   "source": [
    "payments.head()"
   ]
  },
  {
   "cell_type": "code",
   "execution_count": 17,
   "metadata": {},
   "outputs": [],
   "source": [
    "#df=payments.groupby(['ppsn', 'Year'])['total_payment'].sum()\n",
    "df=pd.pivot_table(payments,index=['ppsn', 'Year'], values='total_payment', aggfunc=np.sum)"
   ]
  },
  {
   "cell_type": "code",
   "execution_count": 18,
   "metadata": {},
   "outputs": [],
   "source": [
    "df=df.reset_index()"
   ]
  },
  {
   "cell_type": "code",
   "execution_count": 19,
   "metadata": {},
   "outputs": [],
   "source": [
    "df2 = df.pivot(index=\"ppsn\", columns=\"Year\", values=\"total_payment\")\n",
    "df2.fillna(0, inplace=True)"
   ]
  },
  {
   "cell_type": "code",
   "execution_count": 20,
   "metadata": {},
   "outputs": [
    {
     "data": {
      "text/html": [
       "<div>\n",
       "<style scoped>\n",
       "    .dataframe tbody tr th:only-of-type {\n",
       "        vertical-align: middle;\n",
       "    }\n",
       "\n",
       "    .dataframe tbody tr th {\n",
       "        vertical-align: top;\n",
       "    }\n",
       "\n",
       "    .dataframe thead th {\n",
       "        text-align: right;\n",
       "    }\n",
       "</style>\n",
       "<table border=\"1\" class=\"dataframe\">\n",
       "  <thead>\n",
       "    <tr style=\"text-align: right;\">\n",
       "      <th></th>\n",
       "      <th>sw_pay_2013</th>\n",
       "      <th>sw_pay_2014</th>\n",
       "      <th>sw_pay_2015</th>\n",
       "      <th>sw_pay_2016</th>\n",
       "      <th>sw_pay_2017</th>\n",
       "      <th>sw_pay_2018</th>\n",
       "    </tr>\n",
       "  </thead>\n",
       "  <tbody>\n",
       "    <tr>\n",
       "      <th>count</th>\n",
       "      <td>734127.000000</td>\n",
       "      <td>734127.000000</td>\n",
       "      <td>734127.000000</td>\n",
       "      <td>734127.000000</td>\n",
       "      <td>734127.000000</td>\n",
       "      <td>734127.000000</td>\n",
       "    </tr>\n",
       "    <tr>\n",
       "      <th>mean</th>\n",
       "      <td>3003.403420</td>\n",
       "      <td>6216.503940</td>\n",
       "      <td>6058.006460</td>\n",
       "      <td>5814.183613</td>\n",
       "      <td>5344.161411</td>\n",
       "      <td>2549.794580</td>\n",
       "    </tr>\n",
       "    <tr>\n",
       "      <th>std</th>\n",
       "      <td>3150.394533</td>\n",
       "      <td>5994.538136</td>\n",
       "      <td>6001.336699</td>\n",
       "      <td>6067.258992</td>\n",
       "      <td>6240.792499</td>\n",
       "      <td>3240.138347</td>\n",
       "    </tr>\n",
       "    <tr>\n",
       "      <th>min</th>\n",
       "      <td>0.000000</td>\n",
       "      <td>0.000000</td>\n",
       "      <td>0.000000</td>\n",
       "      <td>0.000000</td>\n",
       "      <td>0.000000</td>\n",
       "      <td>0.000000</td>\n",
       "    </tr>\n",
       "    <tr>\n",
       "      <th>25%</th>\n",
       "      <td>0.000000</td>\n",
       "      <td>1116.700000</td>\n",
       "      <td>866.700000</td>\n",
       "      <td>235.700000</td>\n",
       "      <td>0.000000</td>\n",
       "      <td>0.000000</td>\n",
       "    </tr>\n",
       "    <tr>\n",
       "      <th>50%</th>\n",
       "      <td>2340.000000</td>\n",
       "      <td>4963.200000</td>\n",
       "      <td>4708.800000</td>\n",
       "      <td>4198.100000</td>\n",
       "      <td>3321.600000</td>\n",
       "      <td>882.200000</td>\n",
       "    </tr>\n",
       "    <tr>\n",
       "      <th>75%</th>\n",
       "      <td>4888.000000</td>\n",
       "      <td>9823.000000</td>\n",
       "      <td>9917.000000</td>\n",
       "      <td>9860.350000</td>\n",
       "      <td>9836.330000</td>\n",
       "      <td>5044.000000</td>\n",
       "    </tr>\n",
       "    <tr>\n",
       "      <th>max</th>\n",
       "      <td>52276.000000</td>\n",
       "      <td>61901.300000</td>\n",
       "      <td>70593.500000</td>\n",
       "      <td>135420.600000</td>\n",
       "      <td>82089.250000</td>\n",
       "      <td>55879.500000</td>\n",
       "    </tr>\n",
       "  </tbody>\n",
       "</table>\n",
       "</div>"
      ],
      "text/plain": [
       "         sw_pay_2013    sw_pay_2014    sw_pay_2015    sw_pay_2016  \\\n",
       "count  734127.000000  734127.000000  734127.000000  734127.000000   \n",
       "mean     3003.403420    6216.503940    6058.006460    5814.183613   \n",
       "std      3150.394533    5994.538136    6001.336699    6067.258992   \n",
       "min         0.000000       0.000000       0.000000       0.000000   \n",
       "25%         0.000000    1116.700000     866.700000     235.700000   \n",
       "50%      2340.000000    4963.200000    4708.800000    4198.100000   \n",
       "75%      4888.000000    9823.000000    9917.000000    9860.350000   \n",
       "max     52276.000000   61901.300000   70593.500000  135420.600000   \n",
       "\n",
       "         sw_pay_2017    sw_pay_2018  \n",
       "count  734127.000000  734127.000000  \n",
       "mean     5344.161411    2549.794580  \n",
       "std      6240.792499    3240.138347  \n",
       "min         0.000000       0.000000  \n",
       "25%         0.000000       0.000000  \n",
       "50%      3321.600000     882.200000  \n",
       "75%      9836.330000    5044.000000  \n",
       "max     82089.250000   55879.500000  "
      ]
     },
     "execution_count": 20,
     "metadata": {},
     "output_type": "execute_result"
    }
   ],
   "source": [
    "newcols = [\"sw_pay_\"+str(col) for col in range(2013, 2019)]\n",
    "df2.columns = newcols\n",
    "df2.describe()"
   ]
  },
  {
   "cell_type": "code",
   "execution_count": 21,
   "metadata": {},
   "outputs": [],
   "source": [
    "array=[\"2013\", \"2014\", \"2015\"]\n",
    "df1=df.loc[df['Year'].isin(array)]"
   ]
  },
  {
   "cell_type": "code",
   "execution_count": 22,
   "metadata": {},
   "outputs": [],
   "source": [
    "df1=pd.pivot_table(df1,index=['ppsn'], values='total_payment', aggfunc=np.mean)\n",
    "df1.fillna(0, inplace=True)"
   ]
  },
  {
   "cell_type": "code",
   "execution_count": 23,
   "metadata": {},
   "outputs": [
    {
     "data": {
      "text/plain": [
       "total_payment    0\n",
       "dtype: int64"
      ]
     },
     "execution_count": 23,
     "metadata": {},
     "output_type": "execute_result"
    }
   ],
   "source": [
    "df1.isnull().sum()"
   ]
  },
  {
   "cell_type": "code",
   "execution_count": 24,
   "metadata": {
    "scrolled": true
   },
   "outputs": [],
   "source": [
    "#df1['total_pay_3yr']=df1.groupby(by=['ppsn'])[[\"total_payment\"]].sum()\n",
    "#df.groupby(by=['type'])['qty'].sum()\n",
    "#df1.pivot_table(index='ppsn',columns='total_payment',aggfunc=sum)\n",
    "df1.columns = ['mean_payment_2013_to_2015']\n",
    "df1.fillna(0, inplace=True)"
   ]
  },
  {
   "cell_type": "code",
   "execution_count": 25,
   "metadata": {},
   "outputs": [
    {
     "data": {
      "text/html": [
       "<div>\n",
       "<style scoped>\n",
       "    .dataframe tbody tr th:only-of-type {\n",
       "        vertical-align: middle;\n",
       "    }\n",
       "\n",
       "    .dataframe tbody tr th {\n",
       "        vertical-align: top;\n",
       "    }\n",
       "\n",
       "    .dataframe thead th {\n",
       "        text-align: right;\n",
       "    }\n",
       "</style>\n",
       "<table border=\"1\" class=\"dataframe\">\n",
       "  <thead>\n",
       "    <tr style=\"text-align: right;\">\n",
       "      <th></th>\n",
       "      <th>ppsn</th>\n",
       "      <th>Year</th>\n",
       "      <th>total_payment</th>\n",
       "    </tr>\n",
       "  </thead>\n",
       "  <tbody>\n",
       "    <tr>\n",
       "      <th>0</th>\n",
       "      <td>0040557D</td>\n",
       "      <td>2015</td>\n",
       "      <td>2491.5</td>\n",
       "    </tr>\n",
       "    <tr>\n",
       "      <th>1</th>\n",
       "      <td>0040557D</td>\n",
       "      <td>2016</td>\n",
       "      <td>11082.7</td>\n",
       "    </tr>\n",
       "    <tr>\n",
       "      <th>2</th>\n",
       "      <td>0040557D</td>\n",
       "      <td>2017</td>\n",
       "      <td>11280.0</td>\n",
       "    </tr>\n",
       "    <tr>\n",
       "      <th>3</th>\n",
       "      <td>0040557D</td>\n",
       "      <td>2018</td>\n",
       "      <td>5632.2</td>\n",
       "    </tr>\n",
       "    <tr>\n",
       "      <th>4</th>\n",
       "      <td>0045405F</td>\n",
       "      <td>2013</td>\n",
       "      <td>8092.8</td>\n",
       "    </tr>\n",
       "  </tbody>\n",
       "</table>\n",
       "</div>"
      ],
      "text/plain": [
       "       ppsn  Year  total_payment\n",
       "0  0040557D  2015         2491.5\n",
       "1  0040557D  2016        11082.7\n",
       "2  0040557D  2017        11280.0\n",
       "3  0040557D  2018         5632.2\n",
       "4  0045405F  2013         8092.8"
      ]
     },
     "execution_count": 25,
     "metadata": {},
     "output_type": "execute_result"
    }
   ],
   "source": [
    "df.head()"
   ]
  },
  {
   "cell_type": "code",
   "execution_count": 26,
   "metadata": {},
   "outputs": [
    {
     "data": {
      "text/html": [
       "<div>\n",
       "<style scoped>\n",
       "    .dataframe tbody tr th:only-of-type {\n",
       "        vertical-align: middle;\n",
       "    }\n",
       "\n",
       "    .dataframe tbody tr th {\n",
       "        vertical-align: top;\n",
       "    }\n",
       "\n",
       "    .dataframe thead th {\n",
       "        text-align: right;\n",
       "    }\n",
       "</style>\n",
       "<table border=\"1\" class=\"dataframe\">\n",
       "  <thead>\n",
       "    <tr style=\"text-align: right;\">\n",
       "      <th></th>\n",
       "      <th>ppsn</th>\n",
       "      <th>Year</th>\n",
       "      <th>payment_2017</th>\n",
       "    </tr>\n",
       "  </thead>\n",
       "  <tbody>\n",
       "    <tr>\n",
       "      <th>2</th>\n",
       "      <td>0040557D</td>\n",
       "      <td>2017</td>\n",
       "      <td>11280.00</td>\n",
       "    </tr>\n",
       "    <tr>\n",
       "      <th>8</th>\n",
       "      <td>0045405F</td>\n",
       "      <td>2017</td>\n",
       "      <td>140.00</td>\n",
       "    </tr>\n",
       "    <tr>\n",
       "      <th>13</th>\n",
       "      <td>0059916K</td>\n",
       "      <td>2017</td>\n",
       "      <td>9920.70</td>\n",
       "    </tr>\n",
       "    <tr>\n",
       "      <th>17</th>\n",
       "      <td>0070688N</td>\n",
       "      <td>2017</td>\n",
       "      <td>3647.57</td>\n",
       "    </tr>\n",
       "    <tr>\n",
       "      <th>23</th>\n",
       "      <td>0099665M</td>\n",
       "      <td>2017</td>\n",
       "      <td>10735.10</td>\n",
       "    </tr>\n",
       "  </tbody>\n",
       "</table>\n",
       "</div>"
      ],
      "text/plain": [
       "        ppsn  Year  payment_2017\n",
       "2   0040557D  2017      11280.00\n",
       "8   0045405F  2017        140.00\n",
       "13  0059916K  2017       9920.70\n",
       "17  0070688N  2017       3647.57\n",
       "23  0099665M  2017      10735.10"
      ]
     },
     "execution_count": 26,
     "metadata": {},
     "output_type": "execute_result"
    }
   ],
   "source": [
    "array=[\"2017\"]\n",
    "df2017=df.loc[df['Year'].isin(array)]\n",
    "df2017.columns = ['ppsn', 'Year', 'payment_2017']\n",
    "df2017.head()"
   ]
  },
  {
   "cell_type": "markdown",
   "metadata": {},
   "source": [
    "### Total payments over three years sorted (and possibly put into banded amounts or percentiles)\n",
    "#### three-year sum for payments, three-year average for earnings (though called 'sum'), payments for next year, earnings for next year\n",
    "sort from lowest to highest for earnings, and highest to lowest for payments - assign order expressed in column\n",
    "\n",
    "\n"
   ]
  },
  {
   "cell_type": "code",
   "execution_count": 27,
   "metadata": {
    "scrolled": true
   },
   "outputs": [],
   "source": [
    "pay_earn_jp=pd.merge(data_final, df2, on='ppsn', how='left')"
   ]
  },
  {
   "cell_type": "code",
   "execution_count": 28,
   "metadata": {},
   "outputs": [],
   "source": [
    "pay_earn_jp.fillna(value=0, inplace=True)\n",
    "pay_earn_jp[\"sw_mean_2013_2015\"] = (pay_earn_jp['sw_pay_2013'] + pay_earn_jp['sw_pay_2014'] + pay_earn_jp['sw_pay_2015']) / 3\n",
    "pay_earn_jp[\"emp_mean_2013_2015\"] = (pay_earn_jp['Class_A_Earn2013'] + pay_earn_jp['Class_A_Earn2014'] + pay_earn_jp['Class_A_Earn2015']) / 3\n",
    "pay_earn_jp.rename(index=str, columns={'Class_A_Earn2017': 'emp_2017'}, inplace=True)"
   ]
  },
  {
   "cell_type": "code",
   "execution_count": 29,
   "metadata": {},
   "outputs": [],
   "source": [
    "df = pay_earn_jp\n",
    "df['emp_sw_dur'] = df['emp_mean_2013_2015'].round(0).multiply(10**11) + df['sw_mean_2013_2015'].round(0).multiply(10**5) + df['duration_days_0'].round(0)\n",
    "#df_T.sort_values(by=['emp_sw_dur'], inplace=True)\n",
    "#df_T.describe()\n",
    "# df['emp_mean_2013_2015'].round(0).multiply(10**11) + df['sw_mean_2013_2015'].round(0).multiply(10**5) +"
   ]
  },
  {
   "cell_type": "code",
   "execution_count": 30,
   "metadata": {},
   "outputs": [],
   "source": [
    "df_T=df.loc[df['jp_started_P1']==1]\n",
    "\n",
    "#pay_earn_jp_P1_0 = pay_earn_jp_P1.loc[pay_earn_jp['cluster']==0]"
   ]
  },
  {
   "cell_type": "code",
   "execution_count": 31,
   "metadata": {},
   "outputs": [],
   "source": [
    "df_C=df.loc[df['jp_started_P1']==0]"
   ]
  },
  {
   "cell_type": "code",
   "execution_count": 32,
   "metadata": {},
   "outputs": [
    {
     "name": "stderr",
     "output_type": "stream",
     "text": [
      "C:\\ProgramData\\Anaconda3\\lib\\site-packages\\ipykernel_launcher.py:1: SettingWithCopyWarning: \n",
      "A value is trying to be set on a copy of a slice from a DataFrame.\n",
      "Try using .loc[row_indexer,col_indexer] = value instead\n",
      "\n",
      "See the caveats in the documentation: http://pandas.pydata.org/pandas-docs/stable/indexing.html#indexing-view-versus-copy\n",
      "  \"\"\"Entry point for launching an IPython kernel.\n"
     ]
    }
   ],
   "source": [
    "df_T['centile'], bins = pd.qcut(df_T['emp_sw_dur'], 100, retbins=True, labels=False)"
   ]
  },
  {
   "cell_type": "code",
   "execution_count": 33,
   "metadata": {},
   "outputs": [],
   "source": [
    "t_count = df_T['centile'].count()\n",
    "t_centile_weights = df_T.groupby(['centile'])['emp_sw_dur'].count().divide(t_count)"
   ]
  },
  {
   "cell_type": "code",
   "execution_count": 34,
   "metadata": {},
   "outputs": [
    {
     "name": "stderr",
     "output_type": "stream",
     "text": [
      "C:\\ProgramData\\Anaconda3\\lib\\site-packages\\ipykernel_launcher.py:1: SettingWithCopyWarning: \n",
      "A value is trying to be set on a copy of a slice from a DataFrame.\n",
      "Try using .loc[row_indexer,col_indexer] = value instead\n",
      "\n",
      "See the caveats in the documentation: http://pandas.pydata.org/pandas-docs/stable/indexing.html#indexing-view-versus-copy\n",
      "  \"\"\"Entry point for launching an IPython kernel.\n",
      "C:\\ProgramData\\Anaconda3\\lib\\site-packages\\ipykernel_launcher.py:6: SettingWithCopyWarning: \n",
      "A value is trying to be set on a copy of a slice from a DataFrame.\n",
      "Try using .loc[row_indexer,col_indexer] = value instead\n",
      "\n",
      "See the caveats in the documentation: http://pandas.pydata.org/pandas-docs/stable/indexing.html#indexing-view-versus-copy\n",
      "  \n"
     ]
    }
   ],
   "source": [
    "df_C['t_centile'] = pd.cut(df_C['emp_sw_dur'], bins, labels=range(len(bins)-1))\n",
    "c_count = df_C['t_centile'].count()\n",
    "#df_C.groupby(['t_centile'])['ppsn'].count()\n",
    "c_t_centile_weights = df_C.groupby(['t_centile'])['t_centile'].count().divide(c_count)\n",
    "c_weights = t_centile_weights / c_t_centile_weights\n",
    "df_C['weight'] = df_C['t_centile'].map(c_weights)"
   ]
  },
  {
   "cell_type": "code",
   "execution_count": 35,
   "metadata": {},
   "outputs": [
    {
     "data": {
      "text/plain": [
       "103212"
      ]
     },
     "execution_count": 35,
     "metadata": {},
     "output_type": "execute_result"
    }
   ],
   "source": [
    "c_count\n"
   ]
  },
  {
   "cell_type": "code",
   "execution_count": 36,
   "metadata": {},
   "outputs": [
    {
     "data": {
      "text/plain": [
       "(0.006569003604232066, 0.033436034569623685, 1.0)"
      ]
     },
     "execution_count": 36,
     "metadata": {},
     "output_type": "execute_result"
    }
   ],
   "source": [
    "a = (c_t_centile_weights.min(), c_t_centile_weights.max(), c_t_centile_weights.sum())\n",
    "a"
   ]
  },
  {
   "cell_type": "code",
   "execution_count": 37,
   "metadata": {},
   "outputs": [
    {
     "data": {
      "text/plain": [
       "(0.009806791569086652, 0.01009953161592506, 0.9999999999999997)"
      ]
     },
     "execution_count": 37,
     "metadata": {},
     "output_type": "execute_result"
    }
   ],
   "source": [
    "a = (t_centile_weights.min(), t_centile_weights.max(), t_centile_weights.sum())\n",
    "a"
   ]
  },
  {
   "cell_type": "code",
   "execution_count": 38,
   "metadata": {},
   "outputs": [
    {
     "data": {
      "text/plain": [
       "(0.302055304880573, 1.5374525916561317, 105.85959989894519, 100)"
      ]
     },
     "execution_count": 38,
     "metadata": {},
     "output_type": "execute_result"
    }
   ],
   "source": [
    "a = (c_weights.min(), c_weights.max(), c_weights.sum(), c_weights.count())\n",
    "a"
   ]
  },
  {
   "cell_type": "code",
   "execution_count": 39,
   "metadata": {},
   "outputs": [
    {
     "data": {
      "text/plain": [
       "t_centile\n",
       "0     1546\n",
       "1     1742\n",
       "2     1357\n",
       "3     1289\n",
       "4     1408\n",
       "5     1225\n",
       "6      974\n",
       "7     1467\n",
       "8     1068\n",
       "9     1086\n",
       "10     923\n",
       "11     743\n",
       "12     800\n",
       "13     941\n",
       "14    1009\n",
       "15    1002\n",
       "16     941\n",
       "17     835\n",
       "18    1214\n",
       "19    1052\n",
       "20    1155\n",
       "21     795\n",
       "22     808\n",
       "23     907\n",
       "24     705\n",
       "25     843\n",
       "26     813\n",
       "27     886\n",
       "28     773\n",
       "29     778\n",
       "      ... \n",
       "70     938\n",
       "71    1025\n",
       "72     901\n",
       "73     892\n",
       "74     852\n",
       "75     930\n",
       "76     867\n",
       "77     789\n",
       "78     963\n",
       "79     923\n",
       "80    1326\n",
       "81    1189\n",
       "82    1162\n",
       "83    1028\n",
       "84    1162\n",
       "85    1143\n",
       "86    1087\n",
       "87    1099\n",
       "88    1210\n",
       "89    1315\n",
       "90     959\n",
       "91    1120\n",
       "92    1219\n",
       "93    1307\n",
       "94    1357\n",
       "95    1071\n",
       "96    1258\n",
       "97    1858\n",
       "98    1588\n",
       "99    3451\n",
       "Name: t_centile, Length: 100, dtype: int64"
      ]
     },
     "execution_count": 39,
     "metadata": {},
     "output_type": "execute_result"
    }
   ],
   "source": [
    "df_C.groupby(['t_centile'])['t_centile'].count()"
   ]
  },
  {
   "cell_type": "code",
   "execution_count": null,
   "metadata": {},
   "outputs": [],
   "source": []
  },
  {
   "cell_type": "code",
   "execution_count": 40,
   "metadata": {},
   "outputs": [
    {
     "name": "stderr",
     "output_type": "stream",
     "text": [
      "C:\\ProgramData\\Anaconda3\\lib\\site-packages\\ipykernel_launcher.py:3: SettingWithCopyWarning: \n",
      "A value is trying to be set on a copy of a slice from a DataFrame.\n",
      "Try using .loc[row_indexer,col_indexer] = value instead\n",
      "\n",
      "See the caveats in the documentation: http://pandas.pydata.org/pandas-docs/stable/indexing.html#indexing-view-versus-copy\n",
      "  This is separate from the ipykernel package so we can avoid doing imports until\n"
     ]
    }
   ],
   "source": [
    "c_t_centile_weights = df_C.groupby(['t_centile'])['t_centile'].count().divide(c_count)\n",
    "c_weights = t_centile_weights / c_t_centile_weights\n",
    "df_C['weight'] = df_C['t_centile'].map(c_weights)"
   ]
  },
  {
   "cell_type": "code",
   "execution_count": 41,
   "metadata": {},
   "outputs": [
    {
     "data": {
      "text/plain": [
       "t_centile\n",
       "0     0.674252\n",
       "1     0.589716\n",
       "2     0.757027\n",
       "3     0.808683\n",
       "4     0.729606\n",
       "5     0.838601\n",
       "6     1.070219\n",
       "7     0.700263\n",
       "8     0.961878\n",
       "9     0.959846\n",
       "10    1.112986\n",
       "11    1.382619\n",
       "12    1.302991\n",
       "13    1.091696\n",
       "14    1.018123\n",
       "15    1.025235\n",
       "16    1.107750\n",
       "17    1.230282\n",
       "18    0.846199\n",
       "19    0.990868\n",
       "20    0.889425\n",
       "21    1.292183\n",
       "22    1.290090\n",
       "23    1.132619\n",
       "24    1.457143\n",
       "25    1.236528\n",
       "26    1.263574\n",
       "27    1.159465\n",
       "28    1.328960\n",
       "29    1.339837\n",
       "        ...   \n",
       "70    1.111293\n",
       "71    1.002230\n",
       "72    1.140162\n",
       "73    1.151666\n",
       "74    1.223466\n",
       "75    1.104608\n",
       "76    1.184874\n",
       "77    1.321157\n",
       "78    1.066756\n",
       "79    1.112986\n",
       "80    0.786118\n",
       "81    0.863991\n",
       "82    0.884067\n",
       "83    1.014001\n",
       "84    0.884067\n",
       "85    0.898763\n",
       "86    0.945065\n",
       "87    0.948492\n",
       "88    0.848996\n",
       "89    0.781206\n",
       "90    1.086958\n",
       "91    0.917219\n",
       "92    0.842728\n",
       "93    0.797546\n",
       "94    0.757027\n",
       "95    0.959184\n",
       "96    0.828611\n",
       "97    0.552899\n",
       "98    0.646905\n",
       "99    0.302055\n",
       "Name: weight, Length: 100, dtype: float64"
      ]
     },
     "execution_count": 41,
     "metadata": {},
     "output_type": "execute_result"
    }
   ],
   "source": [
    "df_C.groupby(df_C['t_centile'])['weight'].mean()\n",
    "#df_C['weight'].agg([min, max])"
   ]
  },
  {
   "cell_type": "code",
   "execution_count": 42,
   "metadata": {},
   "outputs": [
    {
     "data": {
      "text/html": [
       "<div>\n",
       "<style scoped>\n",
       "    .dataframe tbody tr th:only-of-type {\n",
       "        vertical-align: middle;\n",
       "    }\n",
       "\n",
       "    .dataframe tbody tr th {\n",
       "        vertical-align: top;\n",
       "    }\n",
       "\n",
       "    .dataframe thead th {\n",
       "        text-align: right;\n",
       "    }\n",
       "</style>\n",
       "<table border=\"1\" class=\"dataframe\">\n",
       "  <thead>\n",
       "    <tr style=\"text-align: right;\">\n",
       "      <th></th>\n",
       "      <th>cluster</th>\n",
       "      <th>age</th>\n",
       "      <th>duration_days_0</th>\n",
       "      <th>sex</th>\n",
       "      <th>LM_code_rank_P1</th>\n",
       "      <th>occupation_rank_P1</th>\n",
       "      <th>ada_code_rank_P1</th>\n",
       "      <th>family_flag_rank_P1</th>\n",
       "      <th>marital_status_rank_P1</th>\n",
       "      <th>LM_code_rank_P2</th>\n",
       "      <th>...</th>\n",
       "      <th>sw_pay_2013</th>\n",
       "      <th>sw_pay_2014</th>\n",
       "      <th>sw_pay_2015</th>\n",
       "      <th>sw_pay_2016</th>\n",
       "      <th>sw_pay_2017</th>\n",
       "      <th>sw_pay_2018</th>\n",
       "      <th>sw_mean_2013_2015</th>\n",
       "      <th>emp_mean_2013_2015</th>\n",
       "      <th>emp_sw_dur</th>\n",
       "      <th>weight</th>\n",
       "    </tr>\n",
       "  </thead>\n",
       "  <tbody>\n",
       "    <tr>\n",
       "      <th>count</th>\n",
       "      <td>103532.000000</td>\n",
       "      <td>103532.000000</td>\n",
       "      <td>103532.000000</td>\n",
       "      <td>103532.000000</td>\n",
       "      <td>103532.000000</td>\n",
       "      <td>103532.000000</td>\n",
       "      <td>103532.000000</td>\n",
       "      <td>103532.000000</td>\n",
       "      <td>103532.000000</td>\n",
       "      <td>103532.000000</td>\n",
       "      <td>...</td>\n",
       "      <td>103532.000000</td>\n",
       "      <td>103532.000000</td>\n",
       "      <td>103532.000000</td>\n",
       "      <td>103532.000000</td>\n",
       "      <td>103532.000000</td>\n",
       "      <td>103532.000000</td>\n",
       "      <td>103532.000000</td>\n",
       "      <td>103532.00000</td>\n",
       "      <td>1.035320e+05</td>\n",
       "      <td>103212.000000</td>\n",
       "    </tr>\n",
       "    <tr>\n",
       "      <th>mean</th>\n",
       "      <td>2.140024</td>\n",
       "      <td>38.644458</td>\n",
       "      <td>1502.539283</td>\n",
       "      <td>1.307557</td>\n",
       "      <td>5.590368</td>\n",
       "      <td>4.034154</td>\n",
       "      <td>2.586543</td>\n",
       "      <td>1.777760</td>\n",
       "      <td>1.180997</td>\n",
       "      <td>5.413891</td>\n",
       "      <td>...</td>\n",
       "      <td>4878.904862</td>\n",
       "      <td>10658.558791</td>\n",
       "      <td>12168.462904</td>\n",
       "      <td>10708.946100</td>\n",
       "      <td>9275.858862</td>\n",
       "      <td>4326.170463</td>\n",
       "      <td>9235.308852</td>\n",
       "      <td>1377.64435</td>\n",
       "      <td>1.377652e+14</td>\n",
       "      <td>1.000000</td>\n",
       "    </tr>\n",
       "    <tr>\n",
       "      <th>std</th>\n",
       "      <td>1.290281</td>\n",
       "      <td>11.096460</td>\n",
       "      <td>1275.452944</td>\n",
       "      <td>0.461484</td>\n",
       "      <td>1.234262</td>\n",
       "      <td>2.463388</td>\n",
       "      <td>1.879423</td>\n",
       "      <td>1.174391</td>\n",
       "      <td>0.567317</td>\n",
       "      <td>1.391067</td>\n",
       "      <td>...</td>\n",
       "      <td>3326.540023</td>\n",
       "      <td>6229.906460</td>\n",
       "      <td>5675.742762</td>\n",
       "      <td>6289.296577</td>\n",
       "      <td>6983.651611</td>\n",
       "      <td>3671.797641</td>\n",
       "      <td>4706.391348</td>\n",
       "      <td>4596.33723</td>\n",
       "      <td>4.596336e+14</td>\n",
       "      <td>0.242137</td>\n",
       "    </tr>\n",
       "    <tr>\n",
       "      <th>min</th>\n",
       "      <td>0.000000</td>\n",
       "      <td>18.000000</td>\n",
       "      <td>300.000000</td>\n",
       "      <td>1.000000</td>\n",
       "      <td>1.000000</td>\n",
       "      <td>0.000000</td>\n",
       "      <td>1.000000</td>\n",
       "      <td>1.000000</td>\n",
       "      <td>0.000000</td>\n",
       "      <td>1.000000</td>\n",
       "      <td>...</td>\n",
       "      <td>0.000000</td>\n",
       "      <td>0.000000</td>\n",
       "      <td>0.000000</td>\n",
       "      <td>0.000000</td>\n",
       "      <td>0.000000</td>\n",
       "      <td>0.000000</td>\n",
       "      <td>0.000000</td>\n",
       "      <td>0.00000</td>\n",
       "      <td>3.250000e+02</td>\n",
       "      <td>0.302055</td>\n",
       "    </tr>\n",
       "    <tr>\n",
       "      <th>25%</th>\n",
       "      <td>1.000000</td>\n",
       "      <td>29.000000</td>\n",
       "      <td>555.000000</td>\n",
       "      <td>1.000000</td>\n",
       "      <td>6.000000</td>\n",
       "      <td>2.000000</td>\n",
       "      <td>1.000000</td>\n",
       "      <td>1.000000</td>\n",
       "      <td>1.000000</td>\n",
       "      <td>6.000000</td>\n",
       "      <td>...</td>\n",
       "      <td>2708.225000</td>\n",
       "      <td>7439.800000</td>\n",
       "      <td>9701.995000</td>\n",
       "      <td>6947.875000</td>\n",
       "      <td>3917.675000</td>\n",
       "      <td>840.000000</td>\n",
       "      <td>6627.108333</td>\n",
       "      <td>0.00000</td>\n",
       "      <td>8.209006e+08</td>\n",
       "      <td>0.846199</td>\n",
       "    </tr>\n",
       "    <tr>\n",
       "      <th>50%</th>\n",
       "      <td>2.000000</td>\n",
       "      <td>38.000000</td>\n",
       "      <td>1038.000000</td>\n",
       "      <td>1.000000</td>\n",
       "      <td>6.000000</td>\n",
       "      <td>4.000000</td>\n",
       "      <td>2.000000</td>\n",
       "      <td>1.000000</td>\n",
       "      <td>1.000000</td>\n",
       "      <td>6.000000</td>\n",
       "      <td>...</td>\n",
       "      <td>4888.000000</td>\n",
       "      <td>9823.000000</td>\n",
       "      <td>10157.000000</td>\n",
       "      <td>9935.800000</td>\n",
       "      <td>9834.150000</td>\n",
       "      <td>4842.100000</td>\n",
       "      <td>8209.333333</td>\n",
       "      <td>0.00000</td>\n",
       "      <td>1.042703e+09</td>\n",
       "      <td>1.025235</td>\n",
       "    </tr>\n",
       "    <tr>\n",
       "      <th>75%</th>\n",
       "      <td>2.000000</td>\n",
       "      <td>48.000000</td>\n",
       "      <td>2215.000000</td>\n",
       "      <td>2.000000</td>\n",
       "      <td>6.000000</td>\n",
       "      <td>6.000000</td>\n",
       "      <td>4.000000</td>\n",
       "      <td>2.000000</td>\n",
       "      <td>2.000000</td>\n",
       "      <td>6.000000</td>\n",
       "      <td>...</td>\n",
       "      <td>6167.850000</td>\n",
       "      <td>12899.675000</td>\n",
       "      <td>13831.775000</td>\n",
       "      <td>12824.700000</td>\n",
       "      <td>11789.912500</td>\n",
       "      <td>5669.500000</td>\n",
       "      <td>10802.641667</td>\n",
       "      <td>208.00000</td>\n",
       "      <td>2.080084e+13</td>\n",
       "      <td>1.178080</td>\n",
       "    </tr>\n",
       "    <tr>\n",
       "      <th>max</th>\n",
       "      <td>6.000000</td>\n",
       "      <td>59.000000</td>\n",
       "      <td>14647.000000</td>\n",
       "      <td>2.000000</td>\n",
       "      <td>6.000000</td>\n",
       "      <td>10.000000</td>\n",
       "      <td>11.000000</td>\n",
       "      <td>4.000000</td>\n",
       "      <td>3.000000</td>\n",
       "      <td>6.000000</td>\n",
       "      <td>...</td>\n",
       "      <td>35523.400000</td>\n",
       "      <td>59000.100000</td>\n",
       "      <td>66569.500000</td>\n",
       "      <td>94529.270000</td>\n",
       "      <td>67409.800000</td>\n",
       "      <td>42518.950000</td>\n",
       "      <td>47615.633333</td>\n",
       "      <td>329656.00000</td>\n",
       "      <td>3.296560e+16</td>\n",
       "      <td>1.537453</td>\n",
       "    </tr>\n",
       "  </tbody>\n",
       "</table>\n",
       "<p>8 rows × 68 columns</p>\n",
       "</div>"
      ],
      "text/plain": [
       "             cluster            age  duration_days_0            sex  \\\n",
       "count  103532.000000  103532.000000    103532.000000  103532.000000   \n",
       "mean        2.140024      38.644458      1502.539283       1.307557   \n",
       "std         1.290281      11.096460      1275.452944       0.461484   \n",
       "min         0.000000      18.000000       300.000000       1.000000   \n",
       "25%         1.000000      29.000000       555.000000       1.000000   \n",
       "50%         2.000000      38.000000      1038.000000       1.000000   \n",
       "75%         2.000000      48.000000      2215.000000       2.000000   \n",
       "max         6.000000      59.000000     14647.000000       2.000000   \n",
       "\n",
       "       LM_code_rank_P1  occupation_rank_P1  ada_code_rank_P1  \\\n",
       "count    103532.000000       103532.000000     103532.000000   \n",
       "mean          5.590368            4.034154          2.586543   \n",
       "std           1.234262            2.463388          1.879423   \n",
       "min           1.000000            0.000000          1.000000   \n",
       "25%           6.000000            2.000000          1.000000   \n",
       "50%           6.000000            4.000000          2.000000   \n",
       "75%           6.000000            6.000000          4.000000   \n",
       "max           6.000000           10.000000         11.000000   \n",
       "\n",
       "       family_flag_rank_P1  marital_status_rank_P1  LM_code_rank_P2  \\\n",
       "count        103532.000000           103532.000000    103532.000000   \n",
       "mean              1.777760                1.180997         5.413891   \n",
       "std               1.174391                0.567317         1.391067   \n",
       "min               1.000000                0.000000         1.000000   \n",
       "25%               1.000000                1.000000         6.000000   \n",
       "50%               1.000000                1.000000         6.000000   \n",
       "75%               2.000000                2.000000         6.000000   \n",
       "max               4.000000                3.000000         6.000000   \n",
       "\n",
       "           ...          sw_pay_2013    sw_pay_2014    sw_pay_2015  \\\n",
       "count      ...        103532.000000  103532.000000  103532.000000   \n",
       "mean       ...          4878.904862   10658.558791   12168.462904   \n",
       "std        ...          3326.540023    6229.906460    5675.742762   \n",
       "min        ...             0.000000       0.000000       0.000000   \n",
       "25%        ...          2708.225000    7439.800000    9701.995000   \n",
       "50%        ...          4888.000000    9823.000000   10157.000000   \n",
       "75%        ...          6167.850000   12899.675000   13831.775000   \n",
       "max        ...         35523.400000   59000.100000   66569.500000   \n",
       "\n",
       "         sw_pay_2016    sw_pay_2017    sw_pay_2018  sw_mean_2013_2015  \\\n",
       "count  103532.000000  103532.000000  103532.000000      103532.000000   \n",
       "mean    10708.946100    9275.858862    4326.170463        9235.308852   \n",
       "std      6289.296577    6983.651611    3671.797641        4706.391348   \n",
       "min         0.000000       0.000000       0.000000           0.000000   \n",
       "25%      6947.875000    3917.675000     840.000000        6627.108333   \n",
       "50%      9935.800000    9834.150000    4842.100000        8209.333333   \n",
       "75%     12824.700000   11789.912500    5669.500000       10802.641667   \n",
       "max     94529.270000   67409.800000   42518.950000       47615.633333   \n",
       "\n",
       "       emp_mean_2013_2015    emp_sw_dur         weight  \n",
       "count        103532.00000  1.035320e+05  103212.000000  \n",
       "mean           1377.64435  1.377652e+14       1.000000  \n",
       "std            4596.33723  4.596336e+14       0.242137  \n",
       "min               0.00000  3.250000e+02       0.302055  \n",
       "25%               0.00000  8.209006e+08       0.846199  \n",
       "50%               0.00000  1.042703e+09       1.025235  \n",
       "75%             208.00000  2.080084e+13       1.178080  \n",
       "max          329656.00000  3.296560e+16       1.537453  \n",
       "\n",
       "[8 rows x 68 columns]"
      ]
     },
     "execution_count": 42,
     "metadata": {},
     "output_type": "execute_result"
    }
   ],
   "source": [
    "df_C.describe()"
   ]
  },
  {
   "cell_type": "code",
   "execution_count": 43,
   "metadata": {},
   "outputs": [
    {
     "data": {
      "text/plain": [
       "cluster                     0\n",
       "ppsn                        0\n",
       "age                         0\n",
       "duration_days_0             0\n",
       "sex                         0\n",
       "LM_code_rank_P1             0\n",
       "occupation_rank_P1          0\n",
       "ada_code_rank_P1            0\n",
       "family_flag_rank_P1         0\n",
       "marital_status_rank_P1      0\n",
       "LM_code_rank_P2             0\n",
       "occupation_rank_P2          0\n",
       "ada_code_rank_P2            0\n",
       "family_flag_rank_P2         0\n",
       "marital_status_rank_P2      0\n",
       "LM_code_rank_P3             0\n",
       "occupation_rank_P3          0\n",
       "ada_code_rank_P3            0\n",
       "family_flag_rank_P3         0\n",
       "marital_status_rank_P3      0\n",
       "LM_code_rank_P4             0\n",
       "occupation_rank_P4          0\n",
       "ada_code_rank_P4            0\n",
       "family_flag_rank_P4         0\n",
       "marital_status_rank_P4      0\n",
       "LM_code_rank_P5             0\n",
       "occupation_rank_P5          0\n",
       "ada_code_rank_P5            0\n",
       "family_flag_rank_P5         0\n",
       "marital_status_rank_P5      0\n",
       "                         ... \n",
       "occupation_rank_P8          0\n",
       "ada_code_rank_P8            0\n",
       "family_flag_rank_P8         0\n",
       "marital_status_rank_P7      0\n",
       "marital_status_rank_P8      0\n",
       "jp_started_P1               0\n",
       "jp_started_P2               0\n",
       "jp_started_P3               0\n",
       "jp_started_P4               0\n",
       "jp_started_P5               0\n",
       "jp_started_P6               0\n",
       "jp_started_P7               0\n",
       "jp_started_P8               0\n",
       "Duration Bands              0\n",
       "Class_A_Earn2013            0\n",
       "Class_A_Earn2014            0\n",
       "Class_A_Earn2015            0\n",
       "Class_A_Earn2016            0\n",
       "emp_2017                    0\n",
       "sw_pay_2013                 0\n",
       "sw_pay_2014                 0\n",
       "sw_pay_2015                 0\n",
       "sw_pay_2016                 0\n",
       "sw_pay_2017                 0\n",
       "sw_pay_2018                 0\n",
       "sw_mean_2013_2015           0\n",
       "emp_mean_2013_2015          0\n",
       "emp_sw_dur                  0\n",
       "t_centile                 320\n",
       "weight                    320\n",
       "Length: 70, dtype: int64"
      ]
     },
     "execution_count": 43,
     "metadata": {},
     "output_type": "execute_result"
    }
   ],
   "source": [
    "df_C.isnull().sum()"
   ]
  },
  {
   "cell_type": "markdown",
   "metadata": {},
   "source": [
    "## Weighted Control Payment and Earning Means "
   ]
  },
  {
   "cell_type": "code",
   "execution_count": 44,
   "metadata": {},
   "outputs": [
    {
     "data": {
      "text/plain": [
       "4410.783333333333"
      ]
     },
     "execution_count": 44,
     "metadata": {},
     "output_type": "execute_result"
    }
   ],
   "source": [
    "#df_C = df_C.dropna(subset=['t_centile'])\n",
    "#remove outliers\n",
    "#top 5% earners in treatment\n",
    "T_95_percentile_earnings = df_T['emp_mean_2013_2015'].quantile(0.95)\n",
    "T_95_percentile_earnings"
   ]
  },
  {
   "cell_type": "code",
   "execution_count": 45,
   "metadata": {},
   "outputs": [],
   "source": [
    "df_T1 = df_T.loc[df_T['emp_mean_2013_2015'] < T_95_percentile_earnings]"
   ]
  },
  {
   "cell_type": "code",
   "execution_count": 46,
   "metadata": {},
   "outputs": [],
   "source": [
    "df_C1 = df_C.loc[df_C['emp_mean_2013_2015'] < T_95_percentile_earnings]"
   ]
  },
  {
   "cell_type": "code",
   "execution_count": 47,
   "metadata": {},
   "outputs": [
    {
     "name": "stderr",
     "output_type": "stream",
     "text": [
      "C:\\ProgramData\\Anaconda3\\lib\\site-packages\\ipykernel_launcher.py:1: SettingWithCopyWarning: \n",
      "A value is trying to be set on a copy of a slice from a DataFrame.\n",
      "Try using .loc[row_indexer,col_indexer] = value instead\n",
      "\n",
      "See the caveats in the documentation: http://pandas.pydata.org/pandas-docs/stable/indexing.html#indexing-view-versus-copy\n",
      "  \"\"\"Entry point for launching an IPython kernel.\n",
      "C:\\ProgramData\\Anaconda3\\lib\\site-packages\\ipykernel_launcher.py:2: SettingWithCopyWarning: \n",
      "A value is trying to be set on a copy of a slice from a DataFrame.\n",
      "Try using .loc[row_indexer,col_indexer] = value instead\n",
      "\n",
      "See the caveats in the documentation: http://pandas.pydata.org/pandas-docs/stable/indexing.html#indexing-view-versus-copy\n",
      "  \n",
      "C:\\ProgramData\\Anaconda3\\lib\\site-packages\\ipykernel_launcher.py:3: SettingWithCopyWarning: \n",
      "A value is trying to be set on a copy of a slice from a DataFrame.\n",
      "Try using .loc[row_indexer,col_indexer] = value instead\n",
      "\n",
      "See the caveats in the documentation: http://pandas.pydata.org/pandas-docs/stable/indexing.html#indexing-view-versus-copy\n",
      "  This is separate from the ipykernel package so we can avoid doing imports until\n",
      "C:\\ProgramData\\Anaconda3\\lib\\site-packages\\ipykernel_launcher.py:4: SettingWithCopyWarning: \n",
      "A value is trying to be set on a copy of a slice from a DataFrame.\n",
      "Try using .loc[row_indexer,col_indexer] = value instead\n",
      "\n",
      "See the caveats in the documentation: http://pandas.pydata.org/pandas-docs/stable/indexing.html#indexing-view-versus-copy\n",
      "  after removing the cwd from sys.path.\n"
     ]
    }
   ],
   "source": [
    "df_C['emp_mean_weight_2013_2015'] = df_C['emp_mean_2013_2015']*df_C['weight']\n",
    "df_C['sw_mean_2013_2015_weight'] = df_C['sw_mean_2013_2015']*df_C['weight']\n",
    "df_C['emp_2017_weight'] = df_C['emp_2017'] * df_C['weight']\n",
    "df_C['sw_pay_2017_weight'] =df_C['sw_pay_2017'] * df_C['weight']"
   ]
  },
  {
   "cell_type": "code",
   "execution_count": 48,
   "metadata": {},
   "outputs": [
    {
     "name": "stderr",
     "output_type": "stream",
     "text": [
      "C:\\ProgramData\\Anaconda3\\lib\\site-packages\\ipykernel_launcher.py:1: SettingWithCopyWarning: \n",
      "A value is trying to be set on a copy of a slice from a DataFrame.\n",
      "Try using .loc[row_indexer,col_indexer] = value instead\n",
      "\n",
      "See the caveats in the documentation: http://pandas.pydata.org/pandas-docs/stable/indexing.html#indexing-view-versus-copy\n",
      "  \"\"\"Entry point for launching an IPython kernel.\n",
      "C:\\ProgramData\\Anaconda3\\lib\\site-packages\\ipykernel_launcher.py:2: SettingWithCopyWarning: \n",
      "A value is trying to be set on a copy of a slice from a DataFrame.\n",
      "Try using .loc[row_indexer,col_indexer] = value instead\n",
      "\n",
      "See the caveats in the documentation: http://pandas.pydata.org/pandas-docs/stable/indexing.html#indexing-view-versus-copy\n",
      "  \n",
      "C:\\ProgramData\\Anaconda3\\lib\\site-packages\\ipykernel_launcher.py:3: SettingWithCopyWarning: \n",
      "A value is trying to be set on a copy of a slice from a DataFrame.\n",
      "Try using .loc[row_indexer,col_indexer] = value instead\n",
      "\n",
      "See the caveats in the documentation: http://pandas.pydata.org/pandas-docs/stable/indexing.html#indexing-view-versus-copy\n",
      "  This is separate from the ipykernel package so we can avoid doing imports until\n",
      "C:\\ProgramData\\Anaconda3\\lib\\site-packages\\ipykernel_launcher.py:4: SettingWithCopyWarning: \n",
      "A value is trying to be set on a copy of a slice from a DataFrame.\n",
      "Try using .loc[row_indexer,col_indexer] = value instead\n",
      "\n",
      "See the caveats in the documentation: http://pandas.pydata.org/pandas-docs/stable/indexing.html#indexing-view-versus-copy\n",
      "  after removing the cwd from sys.path.\n"
     ]
    }
   ],
   "source": [
    "df_C1['emp_mean_weight_2013_2015'] = df_C1['emp_mean_2013_2015']*df_C1['weight']\n",
    "df_C1['sw_mean_2013_2015_weight'] = df_C1['sw_mean_2013_2015']*df_C1['weight']\n",
    "df_C1['emp_2017_weight'] = df_C1['emp_2017'] * df_C1['weight']\n",
    "df_C1['sw_pay_2017_weight'] =df_C1['sw_pay_2017'] * df_C1['weight']"
   ]
  },
  {
   "cell_type": "code",
   "execution_count": 49,
   "metadata": {},
   "outputs": [
    {
     "data": {
      "text/plain": [
       "689.2185088482314"
      ]
     },
     "execution_count": 49,
     "metadata": {},
     "output_type": "execute_result"
    }
   ],
   "source": [
    "df_C['emp_mean_weight_2013_2015'].mean()"
   ]
  },
  {
   "cell_type": "code",
   "execution_count": 50,
   "metadata": {},
   "outputs": [
    {
     "data": {
      "text/plain": [
       "9695.978487700599"
      ]
     },
     "execution_count": 50,
     "metadata": {},
     "output_type": "execute_result"
    }
   ],
   "source": [
    "df_C['sw_mean_2013_2015_weight'].mean()\n"
   ]
  },
  {
   "cell_type": "code",
   "execution_count": 51,
   "metadata": {},
   "outputs": [
    {
     "data": {
      "text/plain": [
       "4187.34224116621"
      ]
     },
     "execution_count": 51,
     "metadata": {},
     "output_type": "execute_result"
    }
   ],
   "source": [
    "df_C['emp_2017_weight'].mean() \n"
   ]
  },
  {
   "cell_type": "code",
   "execution_count": 52,
   "metadata": {},
   "outputs": [
    {
     "data": {
      "text/plain": [
       "9667.196249267503"
      ]
     },
     "execution_count": 52,
     "metadata": {},
     "output_type": "execute_result"
    }
   ],
   "source": [
    "df_C['sw_pay_2017_weight'].mean()"
   ]
  },
  {
   "cell_type": "code",
   "execution_count": 53,
   "metadata": {},
   "outputs": [
    {
     "data": {
      "text/plain": [
       "273.5174443744298"
      ]
     },
     "execution_count": 53,
     "metadata": {},
     "output_type": "execute_result"
    }
   ],
   "source": [
    "df_C1['emp_mean_weight_2013_2015'].mean()"
   ]
  },
  {
   "cell_type": "code",
   "execution_count": 54,
   "metadata": {},
   "outputs": [
    {
     "data": {
      "text/plain": [
       "10261.1724898453"
      ]
     },
     "execution_count": 54,
     "metadata": {},
     "output_type": "execute_result"
    }
   ],
   "source": [
    "df_C1['sw_mean_2013_2015_weight'].mean()"
   ]
  },
  {
   "cell_type": "code",
   "execution_count": 55,
   "metadata": {},
   "outputs": [
    {
     "data": {
      "text/plain": [
       "14.84894754456428"
      ]
     },
     "execution_count": 55,
     "metadata": {},
     "output_type": "execute_result"
    }
   ],
   "source": [
    "df_C1['emp_2017_weight'].mean()/df_C1['emp_mean_weight_2013_2015'].mean()"
   ]
  },
  {
   "cell_type": "code",
   "execution_count": 56,
   "metadata": {},
   "outputs": [
    {
     "data": {
      "text/plain": [
       "10222.559970950218"
      ]
     },
     "execution_count": 56,
     "metadata": {},
     "output_type": "execute_result"
    }
   ],
   "source": [
    "df_C1['sw_pay_2017_weight'].mean()"
   ]
  },
  {
   "cell_type": "markdown",
   "metadata": {},
   "source": [
    "## Treatment Group Earnings and Payment Means"
   ]
  },
  {
   "cell_type": "code",
   "execution_count": 57,
   "metadata": {},
   "outputs": [
    {
     "data": {
      "text/plain": [
       "670.4523024004684"
      ]
     },
     "execution_count": 57,
     "metadata": {},
     "output_type": "execute_result"
    }
   ],
   "source": [
    "df_T['emp_mean_2013_2015'].mean()"
   ]
  },
  {
   "cell_type": "code",
   "execution_count": 58,
   "metadata": {},
   "outputs": [
    {
     "data": {
      "text/plain": [
       "9798.257362412245"
      ]
     },
     "execution_count": 58,
     "metadata": {},
     "output_type": "execute_result"
    }
   ],
   "source": [
    "df_T['sw_mean_2013_2015'].mean()"
   ]
  },
  {
   "cell_type": "code",
   "execution_count": 59,
   "metadata": {},
   "outputs": [
    {
     "data": {
      "text/plain": [
       "4169.757489754098"
      ]
     },
     "execution_count": 59,
     "metadata": {},
     "output_type": "execute_result"
    }
   ],
   "source": [
    "df_T['emp_2017'].mean()"
   ]
  },
  {
   "cell_type": "code",
   "execution_count": 60,
   "metadata": {},
   "outputs": [
    {
     "data": {
      "text/plain": [
       "9947.673480679403"
      ]
     },
     "execution_count": 60,
     "metadata": {},
     "output_type": "execute_result"
    }
   ],
   "source": [
    "df_T['sw_pay_2017'].mean()"
   ]
  },
  {
   "cell_type": "code",
   "execution_count": 61,
   "metadata": {},
   "outputs": [
    {
     "data": {
      "text/plain": [
       "262.0691427837698"
      ]
     },
     "execution_count": 61,
     "metadata": {},
     "output_type": "execute_result"
    }
   ],
   "source": [
    "df_T1['emp_mean_2013_2015'].mean()"
   ]
  },
  {
   "cell_type": "code",
   "execution_count": 62,
   "metadata": {},
   "outputs": [
    {
     "data": {
      "text/plain": [
       "9899.609549563498"
      ]
     },
     "execution_count": 62,
     "metadata": {},
     "output_type": "execute_result"
    }
   ],
   "source": [
    "df_T1['sw_mean_2013_2015'].mean()"
   ]
  },
  {
   "cell_type": "code",
   "execution_count": 63,
   "metadata": {},
   "outputs": [
    {
     "data": {
      "text/plain": [
       "14.721696241487741"
      ]
     },
     "execution_count": 63,
     "metadata": {},
     "output_type": "execute_result"
    }
   ],
   "source": [
    "df_T1['emp_2017'].mean()/df_T1['emp_mean_2013_2015'].mean()"
   ]
  },
  {
   "cell_type": "code",
   "execution_count": 64,
   "metadata": {},
   "outputs": [
    {
     "data": {
      "text/plain": [
       "10076.195451464051"
      ]
     },
     "execution_count": 64,
     "metadata": {},
     "output_type": "execute_result"
    }
   ],
   "source": [
    "df_T1['sw_pay_2017'].mean()"
   ]
  },
  {
   "cell_type": "code",
   "execution_count": 65,
   "metadata": {},
   "outputs": [
    {
     "data": {
      "text/plain": [
       "<matplotlib.axes._subplots.AxesSubplot at 0x129db03c8>"
      ]
     },
     "execution_count": 65,
     "metadata": {},
     "output_type": "execute_result"
    },
    {
     "data": {
      "image/png": "[encoded data removed]",
      "text/plain": [
       "<Figure size 432x288 with 1 Axes>"
      ]
     },
     "metadata": {},
     "output_type": "display_data"
    }
   ],
   "source": [
    "df_C.emp_mean_2013_2015.plot(kind='hist', bins=100)"
   ]
  },
  {
   "cell_type": "code",
   "execution_count": 66,
   "metadata": {},
   "outputs": [
    {
     "data": {
      "text/plain": [
       "<matplotlib.axes._subplots.AxesSubplot at 0x12951ea90>"
      ]
     },
     "execution_count": 66,
     "metadata": {},
     "output_type": "execute_result"
    },
    {
     "data": {
      "image/png": "[encoded data removed]",
      "text/plain": [
       "<Figure size 432x288 with 1 Axes>"
      ]
     },
     "metadata": {},
     "output_type": "display_data"
    }
   ],
   "source": [
    "df_C.dropna(subset=['t_centile']).emp_mean_2013_2015.plot(kind='hist', bins=100)\n",
    "# df_C.loc[df_C['emp_mean_2013_2015'] < T_95_percentile_earnings].dropna(subset=['t_centile']).emp_mean_2013_2015.plot(kind='hist', bins=100)"
   ]
  },
  {
   "cell_type": "code",
   "execution_count": 68,
   "metadata": {},
   "outputs": [
    {
     "data": {
      "text/plain": [
       "<matplotlib.axes._subplots.AxesSubplot at 0x12c2a78d0>"
      ]
     },
     "execution_count": 68,
     "metadata": {},
     "output_type": "execute_result"
    },
    {
     "data": {
      "image/png": "[encoded data removed]",
      "text/plain": [
       "<Figure size 432x288 with 1 Axes>"
      ]
     },
     "metadata": {},
     "output_type": "display_data"
    }
   ],
   "source": [
    "df_C.dropna(subset=['t_centile']).emp_mean_2013_2015.plot(kind='hist',weights=df_C.dropna(subset=['t_centile']).weight.values, bins=100)"
   ]
  },
  {
   "cell_type": "code",
   "execution_count": 69,
   "metadata": {},
   "outputs": [
    {
     "data": {
      "text/plain": [
       "<matplotlib.axes._subplots.AxesSubplot at 0x12a0a3f28>"
      ]
     },
     "execution_count": 69,
     "metadata": {},
     "output_type": "execute_result"
    },
    {
     "data": {
      "image/png": "[encoded data removed]",
      "text/plain": [
       "<Figure size 432x288 with 1 Axes>"
      ]
     },
     "metadata": {},
     "output_type": "display_data"
    }
   ],
   "source": [
    "df_T.emp_mean_2013_2015.plot(kind='hist', bins=100)"
   ]
  },
  {
   "cell_type": "code",
   "execution_count": 70,
   "metadata": {},
   "outputs": [
    {
     "data": {
      "text/plain": [
       "<matplotlib.axes._subplots.AxesSubplot at 0x12c499e10>"
      ]
     },
     "execution_count": 70,
     "metadata": {},
     "output_type": "execute_result"
    },
    {
     "data": {
      "image/png": "[encoded data removed]",
      "text/plain": [
       "<Figure size 432x288 with 1 Axes>"
      ]
     },
     "metadata": {},
     "output_type": "display_data"
    }
   ],
   "source": [
    "df_C.loc[df_C['emp_mean_2013_2015'] > 0].dropna(subset=['t_centile']).emp_mean_2013_2015.plot(kind='hist', bins=20)"
   ]
  },
  {
   "cell_type": "code",
   "execution_count": 71,
   "metadata": {},
   "outputs": [
    {
     "data": {
      "text/plain": [
       "<matplotlib.axes._subplots.AxesSubplot at 0x12c766a20>"
      ]
     },
     "execution_count": 71,
     "metadata": {},
     "output_type": "execute_result"
    },
    {
     "data": {
      "image/png": "[encoded data removed]",
      "text/plain": [
       "<Figure size 432x288 with 1 Axes>"
      ]
     },
     "metadata": {},
     "output_type": "display_data"
    }
   ],
   "source": [
    "df_C.loc[df_C['emp_mean_2013_2015'] > 0].dropna(subset=['t_centile']).emp_mean_2013_2015.plot(kind='hist', bins=20, weights=df_C.loc[df_C['emp_mean_2013_2015'] > 0].dropna(subset=['t_centile']).weight.values)"
   ]
  },
  {
   "cell_type": "code",
   "execution_count": 72,
   "metadata": {},
   "outputs": [
    {
     "data": {
      "text/plain": [
       "<matplotlib.axes._subplots.AxesSubplot at 0x12c766e80>"
      ]
     },
     "execution_count": 72,
     "metadata": {},
     "output_type": "execute_result"
    },
    {
     "data": {
      "image/png": "[encoded data removed]",
      "text/plain": [
       "<Figure size 432x288 with 1 Axes>"
      ]
     },
     "metadata": {},
     "output_type": "display_data"
    }
   ],
   "source": [
    "df_T.loc[df_T['emp_mean_2013_2015'] > 0].emp_mean_2013_2015.plot(kind='hist',bins=20)"
   ]
  },
  {
   "cell_type": "code",
   "execution_count": 73,
   "metadata": {},
   "outputs": [
    {
     "data": {
      "text/plain": [
       "<matplotlib.axes._subplots.AxesSubplot at 0x12c830400>"
      ]
     },
     "execution_count": 73,
     "metadata": {},
     "output_type": "execute_result"
    },
    {
     "data": {
      "image/png": "[encoded data removed]",
      "text/plain": [
       "<Figure size 432x288 with 1 Axes>"
      ]
     },
     "metadata": {},
     "output_type": "display_data"
    }
   ],
   "source": [
    "df_C.loc[(df_C['emp_2017'] > 0) & \n",
    "         (df_C['emp_2017'] < 50000)].dropna(subset=['t_centile']).emp_2017.plot(kind='hist', bins=20)"
   ]
  },
  {
   "cell_type": "code",
   "execution_count": 74,
   "metadata": {},
   "outputs": [
    {
     "data": {
      "text/plain": [
       "<matplotlib.axes._subplots.AxesSubplot at 0x12ca74390>"
      ]
     },
     "execution_count": 74,
     "metadata": {},
     "output_type": "execute_result"
    },
    {
     "data": {
      "image/png": "[encoded data removed]",
      "text/plain": [
       "<Figure size 432x288 with 1 Axes>"
      ]
     },
     "metadata": {},
     "output_type": "display_data"
    }
   ],
   "source": [
    "df_C.loc[(df_C['emp_2017'] > 0) & \n",
    "         (df_C['emp_2017'] < 50000)].dropna(subset=['t_centile']).emp_2017.plot(kind='density')"
   ]
  },
  {
   "cell_type": "code",
   "execution_count": 75,
   "metadata": {},
   "outputs": [
    {
     "data": {
      "text/plain": [
       "<matplotlib.axes._subplots.AxesSubplot at 0x129cdbb38>"
      ]
     },
     "execution_count": 75,
     "metadata": {},
     "output_type": "execute_result"
    },
    {
     "data": {
      "image/png": "[encoded data removed]",
      "text/plain": [
       "<Figure size 432x288 with 1 Axes>"
      ]
     },
     "metadata": {},
     "output_type": "display_data"
    }
   ],
   "source": [
    "#df_C.dropna(subset=['t_centile'])[\"emp_2017\"] <.emp_2017.plot(kind='hist',weights=df_C.weight.values, bins=100)\n",
    "df_C.loc[(df_C['emp_2017'] > 0) & \n",
    "         (df_C['emp_2017'] < 50000)].dropna(subset=['t_centile']).emp_2017.plot(kind='hist', bins=20, \n",
    "                                                                                weights=df_C.loc[(df_C['emp_2017'] > 0) & \n",
    "                                                                                                 (df_C['emp_2017'] < 50000)].dropna(subset = \n",
    "                                                                                                                                    ['t_centile']).weight.values)"
   ]
  },
  {
   "cell_type": "code",
   "execution_count": 76,
   "metadata": {},
   "outputs": [
    {
     "data": {
      "text/plain": [
       "<matplotlib.axes._subplots.AxesSubplot at 0x12ceb4a90>"
      ]
     },
     "execution_count": 76,
     "metadata": {},
     "output_type": "execute_result"
    },
    {
     "data": {
      "image/png": "[encoded data removed]",
      "text/plain": [
       "<Figure size 432x288 with 1 Axes>"
      ]
     },
     "metadata": {},
     "output_type": "display_data"
    }
   ],
   "source": [
    "df_T[(df_T['emp_2017'] > 0) & (df_T['emp_2017'] < 50000)].emp_2017.plot(kind='hist',bins=20) #,ylim = (0, 100))"
   ]
  },
  {
   "cell_type": "code",
   "execution_count": 83,
   "metadata": {},
   "outputs": [
    {
     "data": {
      "text/plain": [
       "32397.0"
      ]
     },
     "execution_count": 83,
     "metadata": {},
     "output_type": "execute_result"
    }
   ],
   "source": [
    "df_T['emp_mean_2013_2015'].max()"
   ]
  },
  {
   "cell_type": "code",
   "execution_count": 87,
   "metadata": {},
   "outputs": [
    {
     "data": {
      "text/plain": [
       "69925.0"
      ]
     },
     "execution_count": 87,
     "metadata": {},
     "output_type": "execute_result"
    }
   ],
   "source": [
    "df_T['emp_2017'].max()"
   ]
  },
  {
   "cell_type": "code",
   "execution_count": 84,
   "metadata": {},
   "outputs": [
    {
     "data": {
      "text/plain": [
       "32382.666666666668"
      ]
     },
     "execution_count": 84,
     "metadata": {},
     "output_type": "execute_result"
    }
   ],
   "source": [
    "df_C.dropna(subset=['t_centile'])['emp_mean_2013_2015'].max()"
   ]
  },
  {
   "cell_type": "code",
   "execution_count": 88,
   "metadata": {},
   "outputs": [
    {
     "data": {
      "text/plain": [
       "713494.0"
      ]
     },
     "execution_count": 88,
     "metadata": {},
     "output_type": "execute_result"
    }
   ],
   "source": [
    "df_C.dropna(subset=['t_centile'])['emp_2017'].max()"
   ]
  },
  {
   "cell_type": "code",
   "execution_count": 89,
   "metadata": {},
   "outputs": [
    {
     "data": {
      "text/plain": [
       "(0, 40000)"
      ]
     },
     "execution_count": 89,
     "metadata": {},
     "output_type": "execute_result"
    },
    {
     "data": {
      "image/png": "[encoded data removed]",
      "text/plain": [
       "<Figure size 432x288 with 1 Axes>"
      ]
     },
     "metadata": {},
     "output_type": "display_data"
    }
   ],
   "source": [
    "# Two plots\n",
    "sns.distplot(df_T[(df_T['emp_mean_2013_2015'] > 0)].emp_2017, hist = False, kde = True,\n",
    "             kde_kws = {'linewidth': 3}, label = 'Treatment (income > 0)')\n",
    "sns.distplot(df_C.loc[(df_C['emp_mean_2013_2015'] > 0)].dropna(subset=['t_centile']).emp_2017, hist = False, kde = True,\n",
    "             kde_kws = {'linewidth': 3}, label = 'Unweighted control (income > 0)')\n",
    "# Plot formatting\n",
    "plt.legend(prop={'size': 10}, title = 'Job Path treatment and control')\n",
    "plt.title('Job Path Density Plot of treatment and control incomes > 0')\n",
    "plt.xlabel('2013-15 mean earnings')\n",
    "plt.ylabel('Density')\n",
    "plt.xlim(0, 40000)\n"
   ]
  },
  {
   "cell_type": "code",
   "execution_count": 90,
   "metadata": {},
   "outputs": [
    {
     "data": {
      "text/plain": [
       "(0, 70000)"
      ]
     },
     "execution_count": 90,
     "metadata": {},
     "output_type": "execute_result"
    },
    {
     "data": {
      "image/png": "[encoded data removed]",
      "text/plain": [
       "<Figure size 432x288 with 1 Axes>"
      ]
     },
     "metadata": {},
     "output_type": "display_data"
    }
   ],
   "source": [
    "# Two plots\n",
    "sns.distplot(df_T[(df_T['emp_2017'] > 0)].emp_2017, hist = False, kde = True,\n",
    "             kde_kws = {'linewidth': 3}, label = 'Treatment (income > 0)')\n",
    "sns.distplot(df_C.loc[(df_C['emp_2017'] > 0)].dropna(subset=['t_centile']).emp_2017, hist = False, kde = True,\n",
    "             kde_kws = {'linewidth': 3}, label = 'Unweighted control (income > 0)')\n",
    "# Plot formatting\n",
    "plt.legend(prop={'size': 10}, title = 'Job Path treatment and control')\n",
    "plt.title('Job Path Density Plot of treatment and control incomes > 0')\n",
    "plt.xlabel('2017 earnings')\n",
    "plt.ylabel('Density')\n",
    "plt.xlim(0, 70000)"
   ]
  },
  {
   "cell_type": "code",
   "execution_count": 91,
   "metadata": {},
   "outputs": [
    {
     "data": {
      "text/plain": [
       "(0, 70000)"
      ]
     },
     "execution_count": 91,
     "metadata": {},
     "output_type": "execute_result"
    },
    {
     "data": {
      "image/png": "[encoded data removed]",
      "text/plain": [
       "<Figure size 432x288 with 1 Axes>"
      ]
     },
     "metadata": {},
     "output_type": "display_data"
    }
   ],
   "source": [
    "# Two plots\n",
    "sns.distplot(df_T[(df_T['emp_mean_2013_2015'] > 0)].emp_2017, hist = False, kde = True,\n",
    "             kde_kws = {'linewidth': 3}, label = 'Treatment (2013-15 income > 0)')\n",
    "sns.distplot(df_C.loc[(df_C['emp_mean_2013_2015'] > 0)].dropna(subset=['t_centile']).emp_2017, hist = False, kde = True,\n",
    "             kde_kws = {'linewidth': 3}, label = 'Unweighted control (2013-15 income > 0)')\n",
    "# Plot formatting\n",
    "plt.legend(prop={'size': 10}, title = 'Job Path treatment and control')\n",
    "plt.title('Job Path Density Plot of treatment and control incomes > 0')\n",
    "plt.xlabel('2017 earnings')\n",
    "plt.ylabel('Density')\n",
    "plt.xlim(0, 70000)"
   ]
  },
  {
   "cell_type": "code",
   "execution_count": 88,
   "metadata": {},
   "outputs": [
    {
     "data": {
      "text/plain": [
       "<matplotlib.axes._subplots.AxesSubplot at 0x12cc8ebe0>"
      ]
     },
     "execution_count": 88,
     "metadata": {},
     "output_type": "execute_result"
    },
    {
     "data": {
      "image/png": "[encoded data removed]",
      "text/plain": [
       "<Figure size 432x288 with 1 Axes>"
      ]
     },
     "metadata": {},
     "output_type": "display_data"
    }
   ],
   "source": [
    "df_T.emp_2017.plot(kind='hist',bins=100)"
   ]
  },
  {
   "cell_type": "markdown",
   "metadata": {},
   "source": [
    "# Check weights."
   ]
  },
  {
   "cell_type": "code",
   "execution_count": 150,
   "metadata": {},
   "outputs": [
    {
     "data": {
      "text/plain": [
       "99    3451\n",
       "97    1858\n",
       "1     1742\n",
       "98    1588\n",
       "0     1546\n",
       "7     1467\n",
       "4     1408\n",
       "94    1357\n",
       "2     1357\n",
       "80    1326\n",
       "89    1315\n",
       "93    1307\n",
       "3     1289\n",
       "96    1258\n",
       "5     1225\n",
       "92    1219\n",
       "18    1214\n",
       "88    1210\n",
       "81    1189\n",
       "48    1163\n",
       "84    1162\n",
       "82    1162\n",
       "20    1155\n",
       "85    1143\n",
       "91    1120\n",
       "87    1099\n",
       "58    1097\n",
       "86    1087\n",
       "9     1086\n",
       "95    1071\n",
       "      ... \n",
       "46     872\n",
       "76     867\n",
       "59     855\n",
       "74     852\n",
       "62     851\n",
       "25     843\n",
       "42     842\n",
       "53     841\n",
       "17     835\n",
       "69     832\n",
       "35     830\n",
       "40     828\n",
       "44     823\n",
       "57     815\n",
       "26     813\n",
       "51     809\n",
       "22     808\n",
       "12     800\n",
       "52     797\n",
       "21     795\n",
       "77     789\n",
       "30     780\n",
       "29     778\n",
       "41     774\n",
       "28     773\n",
       "33     771\n",
       "11     743\n",
       "24     705\n",
       "31     704\n",
       "64     678\n",
       "Name: t_centile, Length: 100, dtype: int64"
      ]
     },
     "execution_count": 150,
     "metadata": {},
     "output_type": "execute_result"
    }
   ],
   "source": [
    "# We would expect the frequency of the weights to match the frequency of the t_centile. \n",
    "# We would also expect the weights to be inversely related to their frequencies. \n",
    "# However, this isn't always true, since some t_centile will have the same frequency and the same weight.\n",
    "# Given that, the figures appear to line up as expected, with 5 cases where different t_centile pairs have the same weight.\n",
    "df_C['t_centile'].value_counts()"
   ]
  },
  {
   "cell_type": "code",
   "execution_count": 151,
   "metadata": {},
   "outputs": [
    {
     "data": {
      "text/plain": [
       "0.302055    3451\n",
       "0.757027    2714\n",
       "0.884067    2324\n",
       "1.107750    1882\n",
       "1.111293    1876\n",
       "0.552899    1858\n",
       "1.112986    1846\n",
       "0.589716    1742\n",
       "0.646905    1588\n",
       "0.674252    1546\n",
       "0.700263    1467\n",
       "0.729606    1408\n",
       "0.786118    1326\n",
       "0.781206    1315\n",
       "0.797546    1307\n",
       "0.808683    1289\n",
       "0.828611    1258\n",
       "0.838601    1225\n",
       "0.842728    1219\n",
       "0.846199    1214\n",
       "0.848996    1210\n",
       "0.863991    1189\n",
       "0.896297    1163\n",
       "0.889425    1155\n",
       "0.898763    1143\n",
       "0.917219    1120\n",
       "0.948492    1099\n",
       "0.950221    1097\n",
       "0.945065    1087\n",
       "0.959846    1086\n",
       "            ... \n",
       "1.195405     872\n",
       "1.184874     867\n",
       "1.201504     855\n",
       "1.223466     852\n",
       "1.207151     851\n",
       "1.236528     843\n",
       "1.220054     842\n",
       "1.221505     841\n",
       "1.230282     835\n",
       "1.234718     832\n",
       "1.255895     830\n",
       "1.240683     828\n",
       "1.248221     823\n",
       "1.260473     815\n",
       "1.263574     813\n",
       "1.288495     809\n",
       "1.290090     808\n",
       "1.302991     800\n",
       "1.288941     797\n",
       "1.292183     795\n",
       "1.321157     789\n",
       "1.336401     780\n",
       "1.339837     778\n",
       "1.346761     774\n",
       "1.328960     773\n",
       "1.332407     771\n",
       "1.382619     743\n",
       "1.457143     705\n",
       "1.437754     704\n",
       "1.537453     678\n",
       "Name: weight, Length: 95, dtype: int64"
      ]
     },
     "execution_count": 151,
     "metadata": {},
     "output_type": "execute_result"
    }
   ],
   "source": [
    "df_C['weight'].value_counts()"
   ]
  },
  {
   "cell_type": "markdown",
   "metadata": {},
   "source": [
    "# By cluster"
   ]
  },
  {
   "cell_type": "code",
   "execution_count": 97,
   "metadata": {},
   "outputs": [
    {
     "data": {
      "text/plain": [
       "Text(0,0.5,'Density')"
      ]
     },
     "execution_count": 97,
     "metadata": {},
     "output_type": "execute_result"
    },
    {
     "data": {
      "image/png": "[encoded data removed]",
      "text/plain": [
       "<Figure size 432x288 with 1 Axes>"
      ]
     },
     "metadata": {},
     "output_type": "display_data"
    }
   ],
   "source": [
    "# plot(s)\n",
    "sns.distplot(df_T[(df_T['cluster'] == 0)].age, hist = False, kde = True,\n",
    "             kde_kws = {'linewidth': 3}, label = 'Treatment: age')\n",
    "sns.distplot(df_C.loc[(df_C['cluster'] == 0)].dropna(subset=['t_centile']).age, hist = False, kde = True,\n",
    "             kde_kws = {'linewidth': 3}, label = 'Control: age (unweighted)')\n",
    "# Plot formatting\n",
    "plt.legend(prop={'size': 10}, title = 'Job Path treatment and control')\n",
    "plt.title('Job Path Density Plot of the ages of treatment and control in cluster 0')\n",
    "plt.xlabel('Age')\n",
    "plt.ylabel('Density')\n",
    "#plt.xlim(0, 75)"
   ]
  },
  {
   "cell_type": "code",
   "execution_count": 119,
   "metadata": {},
   "outputs": [],
   "source": [
    "# plots\n",
    "\n",
    "#ordered_clusters = df.cluster.value_counts().index\n",
    "#g = sns.FacetGrid(df, row=\"cluster\", row_order=ordered_clusters)\n",
    "\n",
    "#g.map(sns.distplot, \"age\", hist=False, rug=True);"
   ]
  },
  {
   "cell_type": "code",
   "execution_count": 121,
   "metadata": {},
   "outputs": [
    {
     "name": "stderr",
     "output_type": "stream",
     "text": [
      "No handles with labels found to put in legend.\n"
     ]
    },
    {
     "data": {
      "text/plain": [
       "Text(0,0.5,'Density')"
      ]
     },
     "execution_count": 121,
     "metadata": {},
     "output_type": "execute_result"
    },
    {
     "data": {
      "image/png": "[encoded data removed]",
      "text/plain": [
       "<Figure size 432x288 with 2 Axes>"
      ]
     },
     "metadata": {},
     "output_type": "display_data"
    }
   ],
   "source": [
    "fig, (ax1, ax2) = plt.subplots(ncols=2, sharey=True)\n",
    "sns.distplot(df[(df['cluster'] == 0) & (df['sex'] == 1.0)].age, hist = False, kde = True,\n",
    "             kde_kws = {'linewidth': 3}, label = 'Male: age', ax=ax1)\n",
    "sns.distplot(df[(df['cluster'] == 0) & (df['sex'] == 2.0)].age, hist = False, kde = True,\n",
    "             kde_kws = {'linewidth': 3}, label = 'Female: age', ax=ax1)\n",
    "# Plot formatting\n",
    "plt.legend(prop={'size': 10}, title = 'Job Path cluster 0')\n",
    "plt.title('Ages of eligible workers in Job Path cluster 0')\n",
    "plt.xlabel('Age')\n",
    "plt.ylabel('Density')\n",
    "\n",
    "sns.distplot(df[(df['cluster'] == 1) & (df['sex'] == 1.0)].age, hist = False, kde = True,\n",
    "             kde_kws = {'linewidth': 3}, label = 'Male: age', ax=ax2)\n",
    "sns.distplot(df[(df['cluster'] == 1) & (df['sex'] == 2.0)].age, hist = False, kde = True,\n",
    "             kde_kws = {'linewidth': 3}, label = 'Female: age', ax=ax2)\n",
    "# Plot formatting\n",
    "plt.legend(prop={'size': 10}, title = 'Job Path cluster 1')\n",
    "plt.title('Ages of eligible workers in Job Path cluster 1')\n",
    "plt.xlabel('Age')\n",
    "plt.ylabel('Density')"
   ]
  },
  {
   "cell_type": "code",
   "execution_count": 116,
   "metadata": {},
   "outputs": [
    {
     "data": {
      "text/plain": [
       "Text(0,0.5,'Density')"
      ]
     },
     "execution_count": 116,
     "metadata": {},
     "output_type": "execute_result"
    },
    {
     "data": {
      "image/png": "[encoded data removed]",
      "text/plain": [
       "<Figure size 432x288 with 1 Axes>"
      ]
     },
     "metadata": {},
     "output_type": "display_data"
    }
   ],
   "source": [
    "# plots\n",
    "sns.distplot(df[(df['cluster'] == 0) & (df['sex'] == 1.0)].age, hist = False, kde = True,\n",
    "             kde_kws = {'linewidth': 3}, label = 'Male: age')\n",
    "sns.distplot(df[(df['cluster'] == 0) & (df['sex'] == 2.0)].age, hist = False, kde = True,\n",
    "             kde_kws = {'linewidth': 3}, label = 'Female: age')\n",
    "# Plot formatting\n",
    "plt.legend(prop={'size': 10}, title = 'Job Path cluster 0')\n",
    "plt.title('Ages of eligible workers in Job Path cluster 0')\n",
    "plt.xlabel('Age')\n",
    "plt.ylabel('Density')\n"
   ]
  },
  {
   "cell_type": "code",
   "execution_count": 112,
   "metadata": {},
   "outputs": [
    {
     "data": {
      "text/plain": [
       "1.0    1986\n",
       "2.0    1156\n",
       "Name: sex, dtype: int64"
      ]
     },
     "execution_count": 112,
     "metadata": {},
     "output_type": "execute_result"
    }
   ],
   "source": [
    "df[df['cluster'] == 0]['sex'].value_counts()"
   ]
  },
  {
   "cell_type": "code",
   "execution_count": 113,
   "metadata": {},
   "outputs": [
    {
     "data": {
      "text/plain": [
       "1.0    0.63\n",
       "2.0    0.37\n",
       "Name: sex, dtype: float64"
      ]
     },
     "execution_count": 113,
     "metadata": {},
     "output_type": "execute_result"
    }
   ],
   "source": [
    "round(df[df['cluster'] == 0]['sex'].value_counts() / df[df['cluster'] == 0]['sex'].count(), 2)"
   ]
  },
  {
   "cell_type": "code",
   "execution_count": 114,
   "metadata": {},
   "outputs": [
    {
     "data": {
      "text/plain": [
       "Text(0,0.5,'Density')"
      ]
     },
     "execution_count": 114,
     "metadata": {},
     "output_type": "execute_result"
    },
    {
     "data": {
      "image/png": "[encoded data removed]",
      "text/plain": [
       "<Figure size 432x288 with 1 Axes>"
      ]
     },
     "metadata": {},
     "output_type": "display_data"
    }
   ],
   "source": [
    "# plot(s)\n",
    "sns.distplot(df[(df['cluster'] == 1) & (df['sex'] == 1.0)].age, hist = False, kde = True,\n",
    "             kde_kws = {'linewidth': 3}, label = 'Male: age')\n",
    "sns.distplot(df[(df['cluster'] == 1) & (df['sex'] == 2.0)].age, hist = False, kde = True,\n",
    "             kde_kws = {'linewidth': 3}, label = 'Female: age')\n",
    "# Plot formatting\n",
    "plt.legend(prop={'size': 10}, title = 'Job Path cluster 1')\n",
    "plt.title('Ages of eligible workers in Job Path cluster 1')\n",
    "plt.xlabel('Age')\n",
    "plt.ylabel('Density')\n",
    "#plt.xlim(0, 75)"
   ]
  },
  {
   "cell_type": "markdown",
   "metadata": {},
   "source": [
    "## P - Values of variables"
   ]
  },
  {
   "cell_type": "code",
   "execution_count": null,
   "metadata": {},
   "outputs": [],
   "source": []
  },
  {
   "cell_type": "code",
   "execution_count": null,
   "metadata": {
    "scrolled": true
   },
   "outputs": [],
   "source": [
    "from sklearn import datasets, linear_model\n",
    "from sklearn.linear_model import LinearRegression\n",
    "import statsmodels.api as sm\n",
    "from scipy import stats\n",
    "\n",
    "x=['cluster',\n",
    "'age',\n",
    "'Duration Bands',\n",
    "'sex',\n",
    "]\n",
    "y=['jp_started_P1']\n",
    "X=data_final[x]\n",
    "Y=data_final[y]\n",
    "\n",
    "X2 = sm.add_constant(X)\n",
    "est = sm.OLS(Y, X2)\n",
    "est2 = est.fit()\n",
    "print(est2.summary())"
   ]
  },
  {
   "cell_type": "markdown",
   "metadata": {},
   "source": [
    "## Variable importance by logistic"
   ]
  },
  {
   "cell_type": "code",
   "execution_count": null,
   "metadata": {},
   "outputs": [],
   "source": [
    "import numpy as np    \n",
    "from sklearn.linear_model import LogisticRegression\n",
    "\n",
    "x=['cluster',\n",
    "'age',\n",
    "'Duration Bands',\n",
    "'sex',\n",
    "]\n",
    "y=['jp_started_P1']\n",
    "X=data_final[x]\n",
    "Y=data_final[y]\n",
    "\n",
    "m = LogisticRegression()\n",
    "m.fit(X/ np.std(X, 0), Y)\n",
    "\n",
    "# The estimated coefficients will all be around 1:\n",
    "print(m.coef_)\n",
    "\n"
   ]
  },
  {
   "cell_type": "markdown",
   "metadata": {},
   "source": [
    "## Variable importance by Random forest"
   ]
  },
  {
   "cell_type": "code",
   "execution_count": null,
   "metadata": {},
   "outputs": [],
   "source": [
    "from sklearn.ensemble import RandomForestRegressor\n",
    "model = RandomForestRegressor()\n",
    "x=['cluster',\n",
    "   'age',\n",
    "'Duration Bands',\n",
    "'sex',\n",
    "'LM_code_rank_P1',\n",
    "'occupation_rank_P1',\n",
    "'ada_code_rank_P1',\n",
    "'family_flag_rank_P1',\n",
    "'marital_status_rank_P1','Sum_2012-2015']\n",
    "y=['jp_started_P1']\n",
    "\n",
    "X=data_final[x]\n",
    "Y=data_final[y]\n",
    "model.fit(X,Y)\n",
    "# display the relative importance of each attribute\n",
    "importances = model.feature_importances_\n",
    "#Sort it\n",
    "print (\"Sorted Feature Importance:\")\n",
    "sorted_feature_importance = sorted(zip(importances, list(X)), reverse=True)\n",
    "print (sorted_feature_importance)"
   ]
  },
  {
   "cell_type": "markdown",
   "metadata": {},
   "source": [
    "## Propensity Scores Calculation for 8 quarters (Logistic Regression)"
   ]
  },
  {
   "cell_type": "code",
   "execution_count": null,
   "metadata": {},
   "outputs": [],
   "source": [
    "appended_data = []\n",
    "for i in range(1,9):\n",
    "    #variable initialization \n",
    "    jp_started = 'jp_started_P'+str(i)\n",
    "    data_jp_i = 'data_jp_i'+str(i)\n",
    "    data_jp_i = data_final[(data_final[jp_started] == 1) | (data_final[jp_started] == 0) ]\n",
    "    LM_code_rank = 'LM_code_rank_P'+str(i)\n",
    "    age = 'age'\n",
    "    sex = 'sex'\n",
    "    ada_code_rank = 'ada_code_rank_P'+str(i)\n",
    "    family_flag_rank = 'family_flag_rank_P'+str(i)\n",
    "    marital_status_rank = 'marital_status_rank_P'+str(i)\n",
    "    Propensity='Propensity'+str(i)\n",
    "    Probability='Probability'+str(i)\n",
    "    # propensity score calculation\n",
    "    from sklearn.linear_model import LogisticRegression\n",
    "    names = [age,'Duration Bands',sex]\n",
    "    propensity = LogisticRegression()\n",
    "    propensity = propensity.fit(data_jp_i[names], data_jp_i[jp_started])\n",
    "    pscore = propensity.predict_proba(data_jp_i[names])[:,1] # The predicted propensities by the model\n",
    "    data_jp_i[Propensity] = pscore\n",
    "    data_jp_i[Probability] = 1-pscore\n",
    "    keep = [Propensity,Probability, age, sex,jp_started]\n",
    "    data_jp_i = data_jp_i[keep]\n",
    "    appended_data.append(data_jp_i)\n",
    "    \n",
    "appended_data = pd.concat(appended_data, axis=1)"
   ]
  },
  {
   "cell_type": "code",
   "execution_count": null,
   "metadata": {},
   "outputs": [],
   "source": [
    "appended_data.head()"
   ]
  },
  {
   "cell_type": "code",
   "execution_count": null,
   "metadata": {},
   "outputs": [],
   "source": [
    "appended_data_final = []\n",
    "# Common attributes\n",
    "keep1 = ['cluster','ppsn','age','sex','Duration Bands']\n",
    "df = data_final[(data_final[jp_started] == 1) | (data_final[jp_started] == 0) ]\n",
    "df = df[keep1]\n",
    "appended_data_final = pd.concat([df,appended_data], axis=1)\n",
    "appended_data_final.to_csv('propensity_scores.csv')"
   ]
  },
  {
   "cell_type": "code",
   "execution_count": null,
   "metadata": {},
   "outputs": [],
   "source": []
  },
  {
   "cell_type": "markdown",
   "metadata": {},
   "source": [
    "## Propensity Scores Calculation for 1 quarter (Random Forest)"
   ]
  },
  {
   "cell_type": "code",
   "execution_count": null,
   "metadata": {},
   "outputs": [],
   "source": [
    "non_treated_df = data_final[data_final.jp_started_P1 == 0]\n",
    "treated_df = data_final[data_final.jp_started_P1 == 1]\n",
    "data_jp=pd.concat([treated_df,non_treated_df])\n",
    "data_jp=data_jp.reset_index()\n",
    "\n",
    "from sklearn.ensemble import RandomForestRegressor\n",
    "\n",
    "names2 = ['Sum_2012-2015', 'age',  'occupation_rank_P1','Duration Bands','ada_code_rank_P1', 'cluster']\n",
    "\n",
    "propensity2 = RandomForestRegressor()\n",
    "\n",
    "propensity2 = propensity2.fit(data_jp[names2], data_jp.jp_started_P1)\n",
    "pscore2 = propensity2.predict(data_jp[names2]) # The predicted propensities by the model\n",
    "print(pscore2[:5])\n",
    "\n",
    "data_jp['Propensity_RF'] = pscore2"
   ]
  },
  {
   "cell_type": "markdown",
   "metadata": {},
   "source": [
    "## Propensity Score distribution Graphically "
   ]
  },
  {
   "cell_type": "code",
   "execution_count": null,
   "metadata": {},
   "outputs": [],
   "source": [
    "import matplotlib.pyplot as plt\n",
    "\n",
    "\n",
    "ax1 = plt.subplot2grid((1,1), (0,0))\n",
    "\n",
    "\n",
    "data_jp.groupby(\"jp_started_P1\").Propensity.plot(kind='hist', ax=ax1,alpha=0.6,bins = np.arange(min(data_jp['Propensity']),max(data_jp['Propensity']),.05))\n",
    "data_jp.groupby(\"jp_started_P1\").Propensity.plot(kind='kde', ax=ax1,secondary_y=True,legend = True)\n"
   ]
  },
  {
   "cell_type": "code",
   "execution_count": null,
   "metadata": {},
   "outputs": [],
   "source": [
    "import numpy as np\n",
    "import pandas as pd\n",
    "import seaborn as sns\n",
    "\n",
    "\n",
    "unique_vals = data_jp['jp_started_P1'].unique()\n",
    "print(unique_vals)\n",
    "\n",
    "# Sort the dataframe by target\n",
    "# Use a list comprehension to create list of sliced dataframes\n",
    "targets = [data_jp.loc[data_jp['jp_started_P1'] == val] for val in unique_vals]\n",
    "\n",
    "# Iterate through list and plot the sliced dataframe\n",
    "for target in targets:\n",
    "    sns.distplot(target[['Propensity']], hist = False, kde = True,\n",
    "                 kde_kws = {'shade': True, 'linewidth': 3})\n"
   ]
  },
  {
   "cell_type": "code",
   "execution_count": null,
   "metadata": {},
   "outputs": [],
   "source": [
    "data_jp.Propensity.hist(by=data_jp.jp_started_P1)"
   ]
  },
  {
   "cell_type": "code",
   "execution_count": null,
   "metadata": {},
   "outputs": [],
   "source": [
    "data_jp.Propensity_RF.hist(by=data_jp.jp_started_P1)"
   ]
  },
  {
   "cell_type": "code",
   "execution_count": null,
   "metadata": {},
   "outputs": [],
   "source": [
    "import numpy as np\n",
    "import pandas as pd\n",
    "import seaborn as sns\n",
    "\n",
    "\n",
    "unique_vals = data_jp['jp_started_P1'].unique()\n",
    "print(unique_vals)\n",
    "\n",
    "# Sort the dataframe by target\n",
    "# Use a list comprehension to create list of sliced dataframes\n",
    "targets = [data_jp.loc[data_jp['jp_started_P1'] == val] for val in unique_vals]\n",
    "\n",
    "# Iterate through list and plot the sliced dataframe\n",
    "for target in targets:\n",
    "    sns.distplot(target[['Propensity_RF']], hist = False, kde = True,\n",
    "                 kde_kws = {'shade': True, 'linewidth': 3})"
   ]
  },
  {
   "cell_type": "markdown",
   "metadata": {},
   "source": [
    "## Matching of Propensity score between Treatment & Control Group"
   ]
  },
  {
   "cell_type": "code",
   "execution_count": null,
   "metadata": {},
   "outputs": [],
   "source": [
    "def Match(groups, propensity, caliper = 0.05):\n",
    "    \n",
    "    # Check inputs\n",
    "    if any(propensity <0) or any(propensity >1):\n",
    "        raise ValueError('Propensity scores must be between 0 and 1')\n",
    "    elif not(0<caliper<1):\n",
    "        raise ValueError('Caliper must be between 0 and 1')\n",
    "    elif len(groups)!= len(propensity):\n",
    "        raise ValueError('groups and propensity scores must be same dimension')\n",
    "    elif len(groups.unique()) != 2:\n",
    "        raise ValueError('wrong number of groups')\n",
    "\n",
    "\n",
    "    # Code groups as 0 and 1\n",
    "    groups = groups == groups.unique()[0]\n",
    "    N = len(groups)\n",
    "    N1 = groups.sum(); N2 = N-N1\n",
    "    g1, g2 = propensity[groups == 1], (propensity[groups == 0])\n",
    "\n",
    "    # Check if treatment groups got flipped - treatment (coded 1) should be the smaller\n",
    "    if N1 > N2:\n",
    "       N1, N2, g1, g2 = N2, N1, g2, g1 \n",
    "\n",
    "    \n",
    "    # Randomly permute the smaller group to get order for matching\n",
    "    morder = np.random.permutation(N1)\n",
    "    matches = pd.Series(np.empty(N1))\n",
    "    matches[:] = np.NAN\n",
    "    for m in morder:\n",
    "        dist = abs(g1[m]- g2)\n",
    "        if dist.min() <= caliper:\n",
    "            matches[m] = dist.idxmin()\n",
    "            g2 = g2.drop(matches[m])\n",
    "    return (matches)"
   ]
  },
  {
   "cell_type": "code",
   "execution_count": null,
   "metadata": {},
   "outputs": [],
   "source": [
    "#Displaying propensity scores side by side for both the groups\n",
    "\n",
    "stuff = Match(data_jp.jp_started_P1, data_jp.Propensity)\n",
    "g1, g2 = data_jp.Propensity[data_jp.jp_started_P1==1], data_jp.Propensity[data_jp.jp_started_P1==0]\n",
    "stuff = stuff.dropna()\n",
    "stuff = stuff.astype(int)"
   ]
  },
  {
   "cell_type": "code",
   "execution_count": null,
   "metadata": {},
   "outputs": [],
   "source": [
    "line = []\n",
    "line1 =[]\n",
    "for i, v in stuff.iteritems():\n",
    "    \n",
    "    #Logistic\n",
    "    line=[g1[i],g2[v],data_jp['ppsn'][i],data_jp['Duration Bands'][i],data_jp.cluster[i],data_jp.LM_code_rank_P1[i],data_jp.marital_status_rank_P1[i],data_jp.family_flag_rank_P1[i],data_jp['Sum_2012-2015'][i],data_jp['ppsn'][v],data_jp['Duration Bands'][v],data_jp.cluster[v],data_jp.LM_code_rank_P1[v],data_jp.marital_status_rank_P1[v],data_jp.family_flag_rank_P1[v],data_jp['Sum_2012-2015'][v]]\n",
    "    #Random \n",
    "    #line=[g1[i],g2[v],data_jp['ppsn'][i],data_jp['Duration Bands'][i],data_jp.cluster[i],data_jp.age[i],data_jp.ada_code_rank_P1[i],data_jp.occupation_rank_P1[i],data_jp['Sum_2012-2015'][i],data_jp['ppsn'][v],data_jp['Duration Bands'][v],data_jp.cluster[v],data_jp.age[v],data_jp.ada_code_rank_P1[v],data_jp.occupation_rank_P1[v],data_jp['Sum_2012-2015'][v]]\n",
    "    \n",
    "    line1.append(line)\n",
    "    \n",
    "df=pd.DataFrame(line1)"
   ]
  },
  {
   "cell_type": "code",
   "execution_count": null,
   "metadata": {},
   "outputs": [],
   "source": [
    "#df.to_csv('propensity_Random.csv')\n",
    "df.to_csv('propensity_logistic.csv')"
   ]
  },
  {
   "cell_type": "markdown",
   "metadata": {},
   "source": [
    "### Description of outcome, by cluster"
   ]
  },
  {
   "cell_type": "code",
   "execution_count": null,
   "metadata": {},
   "outputs": [],
   "source": [
    "list(data_jp)"
   ]
  },
  {
   "cell_type": "code",
   "execution_count": null,
   "metadata": {},
   "outputs": [],
   "source": [
    "print(' ')\n",
    "# Crosstab of outcomes, raw numbers\n",
    "tab_lab_detoutcome_countsP1 = pd.crosstab(index = data_jp['status_simple_P1'], \n",
    "                                      columns = data_jp['cluster'], \n",
    "                                      margins = True).round(2)\n",
    "\n",
    "display(tab_lab_detoutcome_countsP1)\n",
    "# Select totals columns \n",
    "# totals = tab_lab_detoutcome_counts['All'].map(lambda x: \"{:,}\".format(x))\n",
    "\n",
    "# # Cross tab of outcomes, normalised for each nationality group.\n",
    "tab_lab_detoutcome_freq1 = pd.crosstab(index = data_jp['status_simple_P1'], \n",
    "                                       columns = data_jp['cluster'], \n",
    "                                       normalize = 'columns').round(2)\n",
    "                                       \n",
    "display(tab_lab_detoutcome_freq1)\n",
    "\n",
    "\n",
    "tab_lab_detoutcome_freq2 = pd.crosstab(index = data_jp['status_simple_P2'], \n",
    "                                       columns = data_jp['cluster'], \n",
    "                                       normalize = 'columns').round(2)\n",
    "                                       \n",
    "display(tab_lab_detoutcome_freq2)\n",
    "\n",
    "tab_lab_detoutcome_freq3 = pd.crosstab(index = data_jp['status_simple_P3'], \n",
    "                                       columns = data_jp['cluster'], \n",
    "                                       normalize = 'columns').round(2)\n",
    "                                       \n",
    "display(tab_lab_detoutcome_freq3)\n",
    "\n",
    "tab_lab_detoutcome_freq4 = pd.crosstab(index = data_jp['status_simple_P4'], \n",
    "                                       columns = data_jp['cluster'], \n",
    "                                       normalize = 'columns').round(2)\n",
    "                                       \n",
    "display(tab_lab_detoutcome_freq4)\n",
    "\n",
    "tab_lab_detoutcome_freq5 = pd.crosstab(index = data_jp['status_simple_P5'], \n",
    "                                       columns = data_jp['cluster'], \n",
    "                                       normalize = 'columns').round(2)\n",
    "                                       \n",
    "display(tab_lab_detoutcome_freq5)\n",
    "\n",
    "tab_lab_detoutcome_freq6 = pd.crosstab(index = data_jp['status_simple_P6'], \n",
    "                                       columns = data_jp['cluster'], \n",
    "                                       normalize = 'columns').round(2)\n",
    "                                       \n",
    "display(tab_lab_detoutcome_freq6)\n",
    "\n",
    "\n",
    "# # Reorder columns\n",
    "# tab_lab_detoutcome_freq = tab_lab_detoutcome_freq[column_order]\n",
    "\n",
    "# # Create a row containing totals\n",
    "# tab_lab_detoutcome_freq.loc['All'] = tab_lab_detoutcome_freq.sum().round(1)\n",
    "\n",
    "# # Join totals and frequency tables\n",
    "# joined_table = pd.concat([tab_lab_detoutcome_freq, totals], axis = 1)   \n",
    "\n",
    "# # rename rows and columns\n",
    "# joined_table = joined_table.rename(columns = {'All' : 'N'})\n",
    "# joined_table = joined_table.rename({'All' : 'All outcomes'})\n",
    "\n",
    "# # output\n",
    "# display(joined_table)\n",
    "\n",
    "# # spacing for output\n",
    "# print(color.BOLD + 'Table 18: ' + color.END +' Labour market outcomes by nationality group' )\n",
    "# print('(Source: DEASP Administrative Data)')\n",
    "\n",
    "\n",
    "print(' ')\n",
    "in_LR =  data_jp.loc[ data_jp['status_simple_P2'] == 'On Live Register']\n",
    "\n",
    "\n",
    "in_LR_by_sex = pd.crosstab(index = in_LR['sex'], \n",
    "                                      columns = in_LR['cluster'],\n",
    "                                      margins = True).round(2)\n",
    "\n",
    "\n",
    "display(in_LR_by_sex)\n",
    "#in_emp_by_age = in_emp_by_age[column_order]\n",
    "#in_LR_by_sex['Total'] = in_LR_by_sex.sum(axis =1)\n",
    "\n",
    "\n",
    "# display(in_emp_by_age.applymap(lambda x: \"{:,}\".format(x)))\n",
    "# print(color.BOLD + 'Table X: ' + color.END)\n",
    "\n",
    "\n",
    "# display(claims_by_age_nat.astype(int).applymap(lambda x: \"{:,}\".format(x)))\n",
    "# print(color.BOLD + 'Table X: ' + color.END)\n",
    "\n",
    "#proportion_employment = in_emp_by_age.div(claims_by_age_nat).mul(100).round(2)\n",
    "\n",
    "#display(proportion_employment[:-1])\n"
   ]
  },
  {
   "cell_type": "code",
   "execution_count": null,
   "metadata": {},
   "outputs": [],
   "source": []
  }
 ],
 "metadata": {
  "kernelspec": {
   "display_name": "Python 3",
   "language": "python",
   "name": "python3"
  },
  "language_info": {
   "codemirror_mode": {
    "name": "ipython",
    "version": 3
   },
   "file_extension": ".py",
   "mimetype": "text/x-python",
   "name": "python",
   "nbconvert_exporter": "python",
   "pygments_lexer": "ipython3",
   "version": "3.6.5"
  }
 },
 "nbformat": 4,
 "nbformat_minor": 2
}
