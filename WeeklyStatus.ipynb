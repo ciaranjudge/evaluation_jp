{
 "cells": [
  {
   "cell_type": "markdown",
   "metadata": {},
   "source": [
    "# Weekly Status"
   ]
  },
  {
   "cell_type": "code",
   "execution_count": 1,
   "metadata": {},
   "outputs": [],
   "source": [
    "import sys\n",
    "import pandas as pd              # python package for dataframes\n",
    "import os                        # used to change directory paths\n",
    "import matplotlib.pyplot as plt  # python package for plotting\n",
    "import numpy as np\n",
    "import seaborn as sns #package for plotting\n",
    "from scipy.stats import norm\n",
    "from sklearn.preprocessing import StandardScaler\n",
    "from scipy import stats\n",
    "from IPython.display import display, HTML  # Make tables pretty\n",
    "from datetime import datetime\n",
    "import pandas as pd\n",
    "import zipfile\n"
   ]
  },
  {
   "cell_type": "markdown",
   "metadata": {},
   "source": [
    "Zipped csv, output from SAS project, Jpathquarters [\\\\cskma0294\\F\\SH\\Jpathquarters.egp] imported below\n",
    "\n",
    "<em>Commented out temporarily</em>"
   ]
  },
  {
   "cell_type": "code",
   "execution_count": 2,
   "metadata": {},
   "outputs": [],
   "source": [
    "\n",
    "#zf = zipfile.ZipFile('\\\\\\\\cskma0294\\\\F\\\\Evaluations\\\\JobPath\\\\jp_outcomes.zip')\n",
    "#df = pd.read_csv(zf.open('jp_outcomes.csv'))\n",
    "\n",
    "# filename_jp_zip = 'jp_outcomes.csv'\n",
    "# path_jp_zip = '\\\\\\\\cskma0294\\\\F\\\\Evaluations\\\\JobPath'\n",
    "\n",
    "# data_jp = pd.read_csv(path_jp_zip+filename_jp)"
   ]
  },
  {
   "cell_type": "code",
   "execution_count": 3,
   "metadata": {},
   "outputs": [],
   "source": [
    "#df.head()"
   ]
  },
  {
   "cell_type": "markdown",
   "metadata": {},
   "source": [
    "## Import WeeklyStatus.csv into a DataFrame and tidy"
   ]
  },
  {
   "cell_type": "markdown",
   "metadata": {},
   "source": [
    "### Import WeeklyStatus.csv"
   ]
  },
  {
   "cell_type": "code",
   "execution_count": 4,
   "metadata": {},
   "outputs": [
    {
     "data": {
      "text/html": [
       "<div>\n",
       "<style scoped>\n",
       "    .dataframe tbody tr th:only-of-type {\n",
       "        vertical-align: middle;\n",
       "    }\n",
       "\n",
       "    .dataframe tbody tr th {\n",
       "        vertical-align: top;\n",
       "    }\n",
       "\n",
       "    .dataframe thead th {\n",
       "        text-align: right;\n",
       "    }\n",
       "</style>\n",
       "<table border=\"1\" class=\"dataframe\">\n",
       "  <thead>\n",
       "    <tr style=\"text-align: right;\">\n",
       "      <th></th>\n",
       "      <th>ppsn</th>\n",
       "      <th>Purge_ind</th>\n",
       "      <th>StatusEnd_01Apr2018</th>\n",
       "      <th>StatusEnd_01Feb2015</th>\n",
       "      <th>StatusEnd_01Jan2017</th>\n",
       "      <th>StatusEnd_01Jul2018</th>\n",
       "      <th>StatusEnd_01Jun2014</th>\n",
       "      <th>StatusEnd_01Mar2015</th>\n",
       "      <th>StatusEnd_01May2016</th>\n",
       "      <th>StatusEnd_01Nov2015</th>\n",
       "      <th>...</th>\n",
       "      <th>StatusEnd_30Aug2015</th>\n",
       "      <th>StatusEnd_30Jul2017</th>\n",
       "      <th>StatusEnd_30Nov2014</th>\n",
       "      <th>StatusEnd_30Oct2016</th>\n",
       "      <th>StatusEnd_30Sep2018</th>\n",
       "      <th>StatusEnd_31Aug2014</th>\n",
       "      <th>StatusEnd_31Dec2017</th>\n",
       "      <th>StatusEnd_31Jan2016</th>\n",
       "      <th>StatusEnd_31Jul2016</th>\n",
       "      <th>StatusEnd_31May2015</th>\n",
       "    </tr>\n",
       "  </thead>\n",
       "  <tbody>\n",
       "    <tr>\n",
       "      <th>0</th>\n",
       "      <td>0001147L</td>\n",
       "      <td>1</td>\n",
       "      <td>NaN</td>\n",
       "      <td>NaN</td>\n",
       "      <td>NaN</td>\n",
       "      <td>NaN</td>\n",
       "      <td>NaN</td>\n",
       "      <td>NaN</td>\n",
       "      <td>NaN</td>\n",
       "      <td>NaN</td>\n",
       "      <td>...</td>\n",
       "      <td>NaN</td>\n",
       "      <td>NaN</td>\n",
       "      <td>NaN</td>\n",
       "      <td>NaN</td>\n",
       "      <td>NaN</td>\n",
       "      <td>NaN</td>\n",
       "      <td>NaN</td>\n",
       "      <td>NaN</td>\n",
       "      <td>NaN</td>\n",
       "      <td>NaN</td>\n",
       "    </tr>\n",
       "    <tr>\n",
       "      <th>1</th>\n",
       "      <td>0001841E</td>\n",
       "      <td>1</td>\n",
       "      <td>NaN</td>\n",
       "      <td>NaN</td>\n",
       "      <td>NaN</td>\n",
       "      <td>NaN</td>\n",
       "      <td>NaN</td>\n",
       "      <td>NaN</td>\n",
       "      <td>NaN</td>\n",
       "      <td>NaN</td>\n",
       "      <td>...</td>\n",
       "      <td>NaN</td>\n",
       "      <td>NaN</td>\n",
       "      <td>NaN</td>\n",
       "      <td>NaN</td>\n",
       "      <td>NaN</td>\n",
       "      <td>NaN</td>\n",
       "      <td>NaN</td>\n",
       "      <td>NaN</td>\n",
       "      <td>NaN</td>\n",
       "      <td>NaN</td>\n",
       "    </tr>\n",
       "    <tr>\n",
       "      <th>2</th>\n",
       "      <td>0001870L</td>\n",
       "      <td>1</td>\n",
       "      <td>NaN</td>\n",
       "      <td>NaN</td>\n",
       "      <td>NaN</td>\n",
       "      <td>NaN</td>\n",
       "      <td>NaN</td>\n",
       "      <td>NaN</td>\n",
       "      <td>NaN</td>\n",
       "      <td>NaN</td>\n",
       "      <td>...</td>\n",
       "      <td>NaN</td>\n",
       "      <td>NaN</td>\n",
       "      <td>NaN</td>\n",
       "      <td>NaN</td>\n",
       "      <td>NaN</td>\n",
       "      <td>NaN</td>\n",
       "      <td>NaN</td>\n",
       "      <td>NaN</td>\n",
       "      <td>NaN</td>\n",
       "      <td>NaN</td>\n",
       "    </tr>\n",
       "    <tr>\n",
       "      <th>3</th>\n",
       "      <td>0009292O</td>\n",
       "      <td>1</td>\n",
       "      <td>NaN</td>\n",
       "      <td>NaN</td>\n",
       "      <td>NaN</td>\n",
       "      <td>NaN</td>\n",
       "      <td>NaN</td>\n",
       "      <td>NaN</td>\n",
       "      <td>NaN</td>\n",
       "      <td>NaN</td>\n",
       "      <td>...</td>\n",
       "      <td>NaN</td>\n",
       "      <td>NaN</td>\n",
       "      <td>NaN</td>\n",
       "      <td>NaN</td>\n",
       "      <td>NaN</td>\n",
       "      <td>NaN</td>\n",
       "      <td>NaN</td>\n",
       "      <td>NaN</td>\n",
       "      <td>NaN</td>\n",
       "      <td>NaN</td>\n",
       "    </tr>\n",
       "    <tr>\n",
       "      <th>4</th>\n",
       "      <td>0009502W</td>\n",
       "      <td>1</td>\n",
       "      <td>NaN</td>\n",
       "      <td>NaN</td>\n",
       "      <td>NaN</td>\n",
       "      <td>NaN</td>\n",
       "      <td>NaN</td>\n",
       "      <td>NaN</td>\n",
       "      <td>NaN</td>\n",
       "      <td>NaN</td>\n",
       "      <td>...</td>\n",
       "      <td>NaN</td>\n",
       "      <td>NaN</td>\n",
       "      <td>NaN</td>\n",
       "      <td>NaN</td>\n",
       "      <td>NaN</td>\n",
       "      <td>NaN</td>\n",
       "      <td>NaN</td>\n",
       "      <td>NaN</td>\n",
       "      <td>NaN</td>\n",
       "      <td>NaN</td>\n",
       "    </tr>\n",
       "  </tbody>\n",
       "</table>\n",
       "<p>5 rows × 237 columns</p>\n",
       "</div>"
      ],
      "text/plain": [
       "       ppsn  Purge_ind StatusEnd_01Apr2018 StatusEnd_01Feb2015  \\\n",
       "0  0001147L          1                 NaN                 NaN   \n",
       "1  0001841E          1                 NaN                 NaN   \n",
       "2  0001870L          1                 NaN                 NaN   \n",
       "3  0009292O          1                 NaN                 NaN   \n",
       "4  0009502W          1                 NaN                 NaN   \n",
       "\n",
       "  StatusEnd_01Jan2017 StatusEnd_01Jul2018 StatusEnd_01Jun2014  \\\n",
       "0                 NaN                 NaN                 NaN   \n",
       "1                 NaN                 NaN                 NaN   \n",
       "2                 NaN                 NaN                 NaN   \n",
       "3                 NaN                 NaN                 NaN   \n",
       "4                 NaN                 NaN                 NaN   \n",
       "\n",
       "  StatusEnd_01Mar2015 StatusEnd_01May2016 StatusEnd_01Nov2015  \\\n",
       "0                 NaN                 NaN                 NaN   \n",
       "1                 NaN                 NaN                 NaN   \n",
       "2                 NaN                 NaN                 NaN   \n",
       "3                 NaN                 NaN                 NaN   \n",
       "4                 NaN                 NaN                 NaN   \n",
       "\n",
       "          ...         StatusEnd_30Aug2015 StatusEnd_30Jul2017  \\\n",
       "0         ...                         NaN                 NaN   \n",
       "1         ...                         NaN                 NaN   \n",
       "2         ...                         NaN                 NaN   \n",
       "3         ...                         NaN                 NaN   \n",
       "4         ...                         NaN                 NaN   \n",
       "\n",
       "  StatusEnd_30Nov2014 StatusEnd_30Oct2016 StatusEnd_30Sep2018  \\\n",
       "0                 NaN                 NaN                 NaN   \n",
       "1                 NaN                 NaN                 NaN   \n",
       "2                 NaN                 NaN                 NaN   \n",
       "3                 NaN                 NaN                 NaN   \n",
       "4                 NaN                 NaN                 NaN   \n",
       "\n",
       "  StatusEnd_31Aug2014 StatusEnd_31Dec2017 StatusEnd_31Jan2016  \\\n",
       "0                 NaN                 NaN                 NaN   \n",
       "1                 NaN                 NaN                 NaN   \n",
       "2                 NaN                 NaN                 NaN   \n",
       "3                 NaN                 NaN                 NaN   \n",
       "4                 NaN                 NaN                 NaN   \n",
       "\n",
       "  StatusEnd_31Jul2016 StatusEnd_31May2015  \n",
       "0                 NaN                 NaN  \n",
       "1                 NaN                 NaN  \n",
       "2                 NaN                 NaN  \n",
       "3                 NaN                 NaN  \n",
       "4                 NaN                 NaN  \n",
       "\n",
       "[5 rows x 237 columns]"
      ]
     },
     "execution_count": 4,
     "metadata": {},
     "output_type": "execute_result"
    }
   ],
   "source": [
    "zf2 = zipfile.ZipFile('\\\\\\\\cskma0294\\\\F\\\\Evaluations\\\\JobPath\\\\\\Quarterly_status\\\\WeeklyStatus.zip')\n",
    "df2 = pd.read_csv(zf2.open('WeeklyStatus.csv'))\n",
    "\n",
    "df2.head()         "
   ]
  },
  {
   "cell_type": "markdown",
   "metadata": {},
   "source": [
    "### Rename 'StatusEnd_ddmmmyyyy' column names\n",
    "Change 'StatusEnd_ddmmmyyyy' column name strings to integers of the form yyyymmdd, which can then be ordered by date and – if converted to integers with <em>int()</em> – manipulated numerically"
   ]
  },
  {
   "cell_type": "code",
   "execution_count": 5,
   "metadata": {},
   "outputs": [],
   "source": [
    "original_columns = df2.columns.values\n",
    "new_columns = original_columns.copy()\n",
    "\n",
    "months = {\n",
    "    \"Jan\": \"01\",\n",
    "    \"Feb\": \"02\",\n",
    "    \"Mar\": \"03\",\n",
    "    \"Apr\": \"04\",\n",
    "    \"May\": \"05\",\n",
    "    \"Jun\": \"06\",\n",
    "    \"Jul\": \"07\",\n",
    "    \"Aug\": \"08\",\n",
    "    \"Sep\": \"09\",\n",
    "    \"Oct\": \"10\",\n",
    "    \"Nov\": \"11\",\n",
    "    \"Dec\": \"12\"\n",
    "}\n",
    "\n",
    "for i in range(2, len(original_columns)):\n",
    "    year = original_columns[i][15:]\n",
    "    month = months[original_columns[i][12:15]]\n",
    "    day = original_columns[i][10:12]\n",
    "    new_columns[i] = year + month + day"
   ]
  },
  {
   "cell_type": "code",
   "execution_count": 6,
   "metadata": {
    "scrolled": true
   },
   "outputs": [
    {
     "data": {
      "text/html": [
       "<div>\n",
       "<style scoped>\n",
       "    .dataframe tbody tr th:only-of-type {\n",
       "        vertical-align: middle;\n",
       "    }\n",
       "\n",
       "    .dataframe tbody tr th {\n",
       "        vertical-align: top;\n",
       "    }\n",
       "\n",
       "    .dataframe thead th {\n",
       "        text-align: right;\n",
       "    }\n",
       "</style>\n",
       "<table border=\"1\" class=\"dataframe\">\n",
       "  <thead>\n",
       "    <tr style=\"text-align: right;\">\n",
       "      <th></th>\n",
       "      <th>ppsn</th>\n",
       "      <th>Purge_ind</th>\n",
       "      <th>20180401</th>\n",
       "      <th>20150201</th>\n",
       "      <th>20170101</th>\n",
       "      <th>20180701</th>\n",
       "      <th>20140601</th>\n",
       "      <th>20150301</th>\n",
       "      <th>20160501</th>\n",
       "      <th>20151101</th>\n",
       "      <th>...</th>\n",
       "      <th>20150830</th>\n",
       "      <th>20170730</th>\n",
       "      <th>20141130</th>\n",
       "      <th>20161030</th>\n",
       "      <th>20180930</th>\n",
       "      <th>20140831</th>\n",
       "      <th>20171231</th>\n",
       "      <th>20160131</th>\n",
       "      <th>20160731</th>\n",
       "      <th>20150531</th>\n",
       "    </tr>\n",
       "  </thead>\n",
       "  <tbody>\n",
       "    <tr>\n",
       "      <th>0</th>\n",
       "      <td>0001147L</td>\n",
       "      <td>1</td>\n",
       "      <td>NaN</td>\n",
       "      <td>NaN</td>\n",
       "      <td>NaN</td>\n",
       "      <td>NaN</td>\n",
       "      <td>NaN</td>\n",
       "      <td>NaN</td>\n",
       "      <td>NaN</td>\n",
       "      <td>NaN</td>\n",
       "      <td>...</td>\n",
       "      <td>NaN</td>\n",
       "      <td>NaN</td>\n",
       "      <td>NaN</td>\n",
       "      <td>NaN</td>\n",
       "      <td>NaN</td>\n",
       "      <td>NaN</td>\n",
       "      <td>NaN</td>\n",
       "      <td>NaN</td>\n",
       "      <td>NaN</td>\n",
       "      <td>NaN</td>\n",
       "    </tr>\n",
       "    <tr>\n",
       "      <th>1</th>\n",
       "      <td>0001841E</td>\n",
       "      <td>1</td>\n",
       "      <td>NaN</td>\n",
       "      <td>NaN</td>\n",
       "      <td>NaN</td>\n",
       "      <td>NaN</td>\n",
       "      <td>NaN</td>\n",
       "      <td>NaN</td>\n",
       "      <td>NaN</td>\n",
       "      <td>NaN</td>\n",
       "      <td>...</td>\n",
       "      <td>NaN</td>\n",
       "      <td>NaN</td>\n",
       "      <td>NaN</td>\n",
       "      <td>NaN</td>\n",
       "      <td>NaN</td>\n",
       "      <td>NaN</td>\n",
       "      <td>NaN</td>\n",
       "      <td>NaN</td>\n",
       "      <td>NaN</td>\n",
       "      <td>NaN</td>\n",
       "    </tr>\n",
       "    <tr>\n",
       "      <th>2</th>\n",
       "      <td>0001870L</td>\n",
       "      <td>1</td>\n",
       "      <td>NaN</td>\n",
       "      <td>NaN</td>\n",
       "      <td>NaN</td>\n",
       "      <td>NaN</td>\n",
       "      <td>NaN</td>\n",
       "      <td>NaN</td>\n",
       "      <td>NaN</td>\n",
       "      <td>NaN</td>\n",
       "      <td>...</td>\n",
       "      <td>NaN</td>\n",
       "      <td>NaN</td>\n",
       "      <td>NaN</td>\n",
       "      <td>NaN</td>\n",
       "      <td>NaN</td>\n",
       "      <td>NaN</td>\n",
       "      <td>NaN</td>\n",
       "      <td>NaN</td>\n",
       "      <td>NaN</td>\n",
       "      <td>NaN</td>\n",
       "    </tr>\n",
       "    <tr>\n",
       "      <th>3</th>\n",
       "      <td>0009292O</td>\n",
       "      <td>1</td>\n",
       "      <td>NaN</td>\n",
       "      <td>NaN</td>\n",
       "      <td>NaN</td>\n",
       "      <td>NaN</td>\n",
       "      <td>NaN</td>\n",
       "      <td>NaN</td>\n",
       "      <td>NaN</td>\n",
       "      <td>NaN</td>\n",
       "      <td>...</td>\n",
       "      <td>NaN</td>\n",
       "      <td>NaN</td>\n",
       "      <td>NaN</td>\n",
       "      <td>NaN</td>\n",
       "      <td>NaN</td>\n",
       "      <td>NaN</td>\n",
       "      <td>NaN</td>\n",
       "      <td>NaN</td>\n",
       "      <td>NaN</td>\n",
       "      <td>NaN</td>\n",
       "    </tr>\n",
       "    <tr>\n",
       "      <th>4</th>\n",
       "      <td>0009502W</td>\n",
       "      <td>1</td>\n",
       "      <td>NaN</td>\n",
       "      <td>NaN</td>\n",
       "      <td>NaN</td>\n",
       "      <td>NaN</td>\n",
       "      <td>NaN</td>\n",
       "      <td>NaN</td>\n",
       "      <td>NaN</td>\n",
       "      <td>NaN</td>\n",
       "      <td>...</td>\n",
       "      <td>NaN</td>\n",
       "      <td>NaN</td>\n",
       "      <td>NaN</td>\n",
       "      <td>NaN</td>\n",
       "      <td>NaN</td>\n",
       "      <td>NaN</td>\n",
       "      <td>NaN</td>\n",
       "      <td>NaN</td>\n",
       "      <td>NaN</td>\n",
       "      <td>NaN</td>\n",
       "    </tr>\n",
       "  </tbody>\n",
       "</table>\n",
       "<p>5 rows × 237 columns</p>\n",
       "</div>"
      ],
      "text/plain": [
       "       ppsn  Purge_ind 20180401 20150201 20170101 20180701 20140601 20150301  \\\n",
       "0  0001147L          1      NaN      NaN      NaN      NaN      NaN      NaN   \n",
       "1  0001841E          1      NaN      NaN      NaN      NaN      NaN      NaN   \n",
       "2  0001870L          1      NaN      NaN      NaN      NaN      NaN      NaN   \n",
       "3  0009292O          1      NaN      NaN      NaN      NaN      NaN      NaN   \n",
       "4  0009502W          1      NaN      NaN      NaN      NaN      NaN      NaN   \n",
       "\n",
       "  20160501 20151101   ...    20150830 20170730 20141130 20161030 20180930  \\\n",
       "0      NaN      NaN   ...         NaN      NaN      NaN      NaN      NaN   \n",
       "1      NaN      NaN   ...         NaN      NaN      NaN      NaN      NaN   \n",
       "2      NaN      NaN   ...         NaN      NaN      NaN      NaN      NaN   \n",
       "3      NaN      NaN   ...         NaN      NaN      NaN      NaN      NaN   \n",
       "4      NaN      NaN   ...         NaN      NaN      NaN      NaN      NaN   \n",
       "\n",
       "  20140831 20171231 20160131 20160731 20150531  \n",
       "0      NaN      NaN      NaN      NaN      NaN  \n",
       "1      NaN      NaN      NaN      NaN      NaN  \n",
       "2      NaN      NaN      NaN      NaN      NaN  \n",
       "3      NaN      NaN      NaN      NaN      NaN  \n",
       "4      NaN      NaN      NaN      NaN      NaN  \n",
       "\n",
       "[5 rows x 237 columns]"
      ]
     },
     "execution_count": 6,
     "metadata": {},
     "output_type": "execute_result"
    }
   ],
   "source": [
    "df2.columns = new_columns\n",
    "df2.head()"
   ]
  },
  {
   "cell_type": "markdown",
   "metadata": {},
   "source": [
    "### Sort columns by date"
   ]
  },
  {
   "cell_type": "code",
   "execution_count": 7,
   "metadata": {},
   "outputs": [
    {
     "data": {
      "text/html": [
       "<div>\n",
       "<style scoped>\n",
       "    .dataframe tbody tr th:only-of-type {\n",
       "        vertical-align: middle;\n",
       "    }\n",
       "\n",
       "    .dataframe tbody tr th {\n",
       "        vertical-align: top;\n",
       "    }\n",
       "\n",
       "    .dataframe thead th {\n",
       "        text-align: right;\n",
       "    }\n",
       "</style>\n",
       "<table border=\"1\" class=\"dataframe\">\n",
       "  <thead>\n",
       "    <tr style=\"text-align: right;\">\n",
       "      <th></th>\n",
       "      <th>ppsn</th>\n",
       "      <th>Purge_ind</th>\n",
       "      <th>20140406</th>\n",
       "      <th>20140413</th>\n",
       "      <th>20140420</th>\n",
       "      <th>20140427</th>\n",
       "      <th>20140504</th>\n",
       "      <th>20140511</th>\n",
       "      <th>20140518</th>\n",
       "      <th>20140525</th>\n",
       "      <th>...</th>\n",
       "      <th>20180729</th>\n",
       "      <th>20180805</th>\n",
       "      <th>20180812</th>\n",
       "      <th>20180819</th>\n",
       "      <th>20180826</th>\n",
       "      <th>20180902</th>\n",
       "      <th>20180909</th>\n",
       "      <th>20180916</th>\n",
       "      <th>20180923</th>\n",
       "      <th>20180930</th>\n",
       "    </tr>\n",
       "  </thead>\n",
       "  <tbody>\n",
       "    <tr>\n",
       "      <th>0</th>\n",
       "      <td>0001147L</td>\n",
       "      <td>1</td>\n",
       "      <td>NaN</td>\n",
       "      <td>NaN</td>\n",
       "      <td>NaN</td>\n",
       "      <td>NaN</td>\n",
       "      <td>NaN</td>\n",
       "      <td>NaN</td>\n",
       "      <td>NaN</td>\n",
       "      <td>NaN</td>\n",
       "      <td>...</td>\n",
       "      <td>NaN</td>\n",
       "      <td>NaN</td>\n",
       "      <td>NaN</td>\n",
       "      <td>NaN</td>\n",
       "      <td>NaN</td>\n",
       "      <td>NaN</td>\n",
       "      <td>NaN</td>\n",
       "      <td>NaN</td>\n",
       "      <td>NaN</td>\n",
       "      <td>NaN</td>\n",
       "    </tr>\n",
       "    <tr>\n",
       "      <th>1</th>\n",
       "      <td>0001841E</td>\n",
       "      <td>1</td>\n",
       "      <td>NaN</td>\n",
       "      <td>NaN</td>\n",
       "      <td>NaN</td>\n",
       "      <td>NaN</td>\n",
       "      <td>NaN</td>\n",
       "      <td>NaN</td>\n",
       "      <td>NaN</td>\n",
       "      <td>NaN</td>\n",
       "      <td>...</td>\n",
       "      <td>NaN</td>\n",
       "      <td>NaN</td>\n",
       "      <td>NaN</td>\n",
       "      <td>NaN</td>\n",
       "      <td>NaN</td>\n",
       "      <td>NaN</td>\n",
       "      <td>NaN</td>\n",
       "      <td>NaN</td>\n",
       "      <td>NaN</td>\n",
       "      <td>NaN</td>\n",
       "    </tr>\n",
       "    <tr>\n",
       "      <th>2</th>\n",
       "      <td>0001870L</td>\n",
       "      <td>1</td>\n",
       "      <td>NaN</td>\n",
       "      <td>NaN</td>\n",
       "      <td>NaN</td>\n",
       "      <td>NaN</td>\n",
       "      <td>NaN</td>\n",
       "      <td>NaN</td>\n",
       "      <td>NaN</td>\n",
       "      <td>NaN</td>\n",
       "      <td>...</td>\n",
       "      <td>NaN</td>\n",
       "      <td>NaN</td>\n",
       "      <td>NaN</td>\n",
       "      <td>NaN</td>\n",
       "      <td>NaN</td>\n",
       "      <td>NaN</td>\n",
       "      <td>NaN</td>\n",
       "      <td>NaN</td>\n",
       "      <td>NaN</td>\n",
       "      <td>NaN</td>\n",
       "    </tr>\n",
       "    <tr>\n",
       "      <th>3</th>\n",
       "      <td>0009292O</td>\n",
       "      <td>1</td>\n",
       "      <td>NaN</td>\n",
       "      <td>NaN</td>\n",
       "      <td>NaN</td>\n",
       "      <td>NaN</td>\n",
       "      <td>NaN</td>\n",
       "      <td>NaN</td>\n",
       "      <td>NaN</td>\n",
       "      <td>NaN</td>\n",
       "      <td>...</td>\n",
       "      <td>NaN</td>\n",
       "      <td>NaN</td>\n",
       "      <td>NaN</td>\n",
       "      <td>NaN</td>\n",
       "      <td>NaN</td>\n",
       "      <td>NaN</td>\n",
       "      <td>NaN</td>\n",
       "      <td>NaN</td>\n",
       "      <td>NaN</td>\n",
       "      <td>NaN</td>\n",
       "    </tr>\n",
       "    <tr>\n",
       "      <th>4</th>\n",
       "      <td>0009502W</td>\n",
       "      <td>1</td>\n",
       "      <td>NaN</td>\n",
       "      <td>NaN</td>\n",
       "      <td>NaN</td>\n",
       "      <td>NaN</td>\n",
       "      <td>NaN</td>\n",
       "      <td>NaN</td>\n",
       "      <td>NaN</td>\n",
       "      <td>NaN</td>\n",
       "      <td>...</td>\n",
       "      <td>NaN</td>\n",
       "      <td>NaN</td>\n",
       "      <td>NaN</td>\n",
       "      <td>NaN</td>\n",
       "      <td>NaN</td>\n",
       "      <td>NaN</td>\n",
       "      <td>NaN</td>\n",
       "      <td>NaN</td>\n",
       "      <td>NaN</td>\n",
       "      <td>NaN</td>\n",
       "    </tr>\n",
       "  </tbody>\n",
       "</table>\n",
       "<p>5 rows × 237 columns</p>\n",
       "</div>"
      ],
      "text/plain": [
       "       ppsn  Purge_ind 20140406 20140413 20140420 20140427 20140504 20140511  \\\n",
       "0  0001147L          1      NaN      NaN      NaN      NaN      NaN      NaN   \n",
       "1  0001841E          1      NaN      NaN      NaN      NaN      NaN      NaN   \n",
       "2  0001870L          1      NaN      NaN      NaN      NaN      NaN      NaN   \n",
       "3  0009292O          1      NaN      NaN      NaN      NaN      NaN      NaN   \n",
       "4  0009502W          1      NaN      NaN      NaN      NaN      NaN      NaN   \n",
       "\n",
       "  20140518 20140525   ...    20180729 20180805 20180812 20180819 20180826  \\\n",
       "0      NaN      NaN   ...         NaN      NaN      NaN      NaN      NaN   \n",
       "1      NaN      NaN   ...         NaN      NaN      NaN      NaN      NaN   \n",
       "2      NaN      NaN   ...         NaN      NaN      NaN      NaN      NaN   \n",
       "3      NaN      NaN   ...         NaN      NaN      NaN      NaN      NaN   \n",
       "4      NaN      NaN   ...         NaN      NaN      NaN      NaN      NaN   \n",
       "\n",
       "  20180902 20180909 20180916 20180923 20180930  \n",
       "0      NaN      NaN      NaN      NaN      NaN  \n",
       "1      NaN      NaN      NaN      NaN      NaN  \n",
       "2      NaN      NaN      NaN      NaN      NaN  \n",
       "3      NaN      NaN      NaN      NaN      NaN  \n",
       "4      NaN      NaN      NaN      NaN      NaN  \n",
       "\n",
       "[5 rows x 237 columns]"
      ]
     },
     "execution_count": 7,
     "metadata": {},
     "output_type": "execute_result"
    }
   ],
   "source": [
    "sorted_columns = np.append(new_columns[:2], sorted(new_columns[2:]))\n",
    "df2 = df2[sorted_columns]\n",
    "df2.head()"
   ]
  },
  {
   "cell_type": "markdown",
   "metadata": {},
   "source": [
    "## Transform the DataFrame so that it has a single date column and a single status column\n",
    "### Split the DataFrame into 3\n",
    "Split the DataFrame in 3 across its width. This is to reduce the memory requirement when melt is used below.\n",
    "\n",
    "First we separate the ppsn column into a DataFrame <em>df_id</em>, which we can concatenate to each of the segments of the original DataFrame."
   ]
  },
  {
   "cell_type": "code",
   "execution_count": 8,
   "metadata": {},
   "outputs": [
    {
     "data": {
      "text/html": [
       "<div>\n",
       "<style scoped>\n",
       "    .dataframe tbody tr th:only-of-type {\n",
       "        vertical-align: middle;\n",
       "    }\n",
       "\n",
       "    .dataframe tbody tr th {\n",
       "        vertical-align: top;\n",
       "    }\n",
       "\n",
       "    .dataframe thead th {\n",
       "        text-align: right;\n",
       "    }\n",
       "</style>\n",
       "<table border=\"1\" class=\"dataframe\">\n",
       "  <thead>\n",
       "    <tr style=\"text-align: right;\">\n",
       "      <th></th>\n",
       "      <th>ppsn</th>\n",
       "    </tr>\n",
       "  </thead>\n",
       "  <tbody>\n",
       "    <tr>\n",
       "      <th>0</th>\n",
       "      <td>0001147L</td>\n",
       "    </tr>\n",
       "    <tr>\n",
       "      <th>1</th>\n",
       "      <td>0001841E</td>\n",
       "    </tr>\n",
       "    <tr>\n",
       "      <th>2</th>\n",
       "      <td>0001870L</td>\n",
       "    </tr>\n",
       "    <tr>\n",
       "      <th>3</th>\n",
       "      <td>0009292O</td>\n",
       "    </tr>\n",
       "    <tr>\n",
       "      <th>4</th>\n",
       "      <td>0009502W</td>\n",
       "    </tr>\n",
       "  </tbody>\n",
       "</table>\n",
       "</div>"
      ],
      "text/plain": [
       "       ppsn\n",
       "0  0001147L\n",
       "1  0001841E\n",
       "2  0001870L\n",
       "3  0009292O\n",
       "4  0009502W"
      ]
     },
     "execution_count": 8,
     "metadata": {},
     "output_type": "execute_result"
    }
   ],
   "source": [
    "df2_id = df2.iloc[:,0:1]\n",
    "df2_id.head()"
   ]
  },
  {
   "cell_type": "markdown",
   "metadata": {},
   "source": [
    "Split the DataFrame into parts and concatenate <em>df_id</em> to the left of each part.\n",
    "\n",
    "<em>For now we are just taking the first 10 date columns</em>."
   ]
  },
  {
   "cell_type": "code",
   "execution_count": 9,
   "metadata": {},
   "outputs": [],
   "source": [
    "cutoff1 = 10\n",
    "#cutoff2 = 160\n",
    "df2_part1 = pd.concat([df2_id, df2.iloc[:,2:cutoff1]], axis=1)\n",
    "#df2_part2 = pd.concat([df2_id, df2.iloc[:,cutoff1:cutoff2]], axis=1)\n",
    "#df2_part3 = pd.concat([df2_id, df2.iloc[:,cutoff2:]], axis=1)"
   ]
  },
  {
   "cell_type": "code",
   "execution_count": 10,
   "metadata": {},
   "outputs": [
    {
     "data": {
      "text/html": [
       "<div>\n",
       "<style scoped>\n",
       "    .dataframe tbody tr th:only-of-type {\n",
       "        vertical-align: middle;\n",
       "    }\n",
       "\n",
       "    .dataframe tbody tr th {\n",
       "        vertical-align: top;\n",
       "    }\n",
       "\n",
       "    .dataframe thead th {\n",
       "        text-align: right;\n",
       "    }\n",
       "</style>\n",
       "<table border=\"1\" class=\"dataframe\">\n",
       "  <thead>\n",
       "    <tr style=\"text-align: right;\">\n",
       "      <th></th>\n",
       "      <th>ppsn</th>\n",
       "      <th>20140406</th>\n",
       "      <th>20140413</th>\n",
       "      <th>20140420</th>\n",
       "      <th>20140427</th>\n",
       "      <th>20140504</th>\n",
       "      <th>20140511</th>\n",
       "      <th>20140518</th>\n",
       "      <th>20140525</th>\n",
       "    </tr>\n",
       "  </thead>\n",
       "  <tbody>\n",
       "    <tr>\n",
       "      <th>0</th>\n",
       "      <td>0001147L</td>\n",
       "      <td>NaN</td>\n",
       "      <td>NaN</td>\n",
       "      <td>NaN</td>\n",
       "      <td>NaN</td>\n",
       "      <td>NaN</td>\n",
       "      <td>NaN</td>\n",
       "      <td>NaN</td>\n",
       "      <td>NaN</td>\n",
       "    </tr>\n",
       "  </tbody>\n",
       "</table>\n",
       "</div>"
      ],
      "text/plain": [
       "       ppsn 20140406 20140413 20140420 20140427 20140504 20140511 20140518  \\\n",
       "0  0001147L      NaN      NaN      NaN      NaN      NaN      NaN      NaN   \n",
       "\n",
       "  20140525  \n",
       "0      NaN  "
      ]
     },
     "execution_count": 10,
     "metadata": {},
     "output_type": "execute_result"
    }
   ],
   "source": [
    "df2_part1.head(1)"
   ]
  },
  {
   "cell_type": "markdown",
   "metadata": {},
   "source": [
    "### Melt each of the parts into long DataFrames with a single date column and a single status column"
   ]
  },
  {
   "cell_type": "code",
   "execution_count": 11,
   "metadata": {},
   "outputs": [],
   "source": [
    "df3_part1 = pd.melt(df2_part1, id_vars = ['ppsn'], var_name = 'date', value_name = 'status_codes')\n",
    "#df3_part2 = pd.melt(df2_part2, id_vars = ['ppsn'], var_name = 'date', value_name = 'status_codes')\n",
    "#df3_part3 = pd.melt(df2_part3, id_vars = ['ppsn'], var_name = 'date', value_name = 'status_codes')"
   ]
  },
  {
   "cell_type": "markdown",
   "metadata": {},
   "source": [
    "## Export as CSVs (optional)"
   ]
  },
  {
   "cell_type": "code",
   "execution_count": 12,
   "metadata": {},
   "outputs": [],
   "source": [
    "# df3_part1.to_csv('\\\\\\\\cskma0294\\\\F\\\\Evaluations\\\\JobPath\\\\WeeklyStatus_long.csv')\n",
    "# .."
   ]
  },
  {
   "cell_type": "markdown",
   "metadata": {},
   "source": [
    "## Import as CSV (alternative to running all of the above if file exists)"
   ]
  },
  {
   "cell_type": "code",
   "execution_count": 13,
   "metadata": {},
   "outputs": [],
   "source": [
    "# df3_part1 = pd.read_csv('\\\\\\\\cskma0294\\\\F\\\\Evaluations\\\\JobPath\\\\WeeklyStatus_long.csv')\n",
    "# .."
   ]
  },
  {
   "cell_type": "markdown",
   "metadata": {},
   "source": [
    "## Split status codes\n",
    "Code to split a string containing multiple status codes into a List of single status codes"
   ]
  },
  {
   "cell_type": "code",
   "execution_count": 14,
   "metadata": {},
   "outputs": [],
   "source": [
    "# str_split_in_n takes a string x and splits it into a sorted list using a separator (default value '+') of length n. \n",
    "# If the length of the list is less than n, them one or two  are more\n",
    "def str_split_in_n(x, n, sep='+', descend = False):\n",
    "    s = str.split(str(x),sep)\n",
    "    s.sort(reverse = descend)\n",
    "    l = len(s)\n",
    "    for i in range(len(s),n):\n",
    "        s.append(float('nan'))             # could use '' instead of float('nan')\n",
    "    if len(s) > n:\n",
    "        s[n-1] = '+'.join(s[n-1:])\n",
    "    return s[:n]"
   ]
  },
  {
   "cell_type": "markdown",
   "metadata": {},
   "source": [
    "Examples"
   ]
  },
  {
   "cell_type": "code",
   "execution_count": 15,
   "metadata": {},
   "outputs": [
    {
     "name": "stdout",
     "output_type": "stream",
     "text": [
      "['WCP', 'UBCO', 'FIS']\n",
      "['UA', 'SPNC', 'SPC', 'O 65', nan, nan]\n"
     ]
    }
   ],
   "source": [
    "s1 = str_split_in_n('WCP+FIS+UBCO', 3, descend = True)\n",
    "print(s1)\n",
    "s2 = str_split_in_n('SPC+SPNC+UA+O 65', 6, descend = True)\n",
    "print(s2)"
   ]
  },
  {
   "cell_type": "markdown",
   "metadata": {},
   "source": [
    "Code to select the element in the position <em>series_index</em> in a series created by splitting string <em>s</em> \n",
    "into a series of length <em>series_length</em> using <em>str_split_in_n</em>, using a separator (default value '+'), in ascending order (default)."
   ]
  },
  {
   "cell_type": "code",
   "execution_count": 16,
   "metadata": {},
   "outputs": [],
   "source": [
    "def select_from_str_split(s, series_length, series_index, sep = '+', descend = False):\n",
    "    return(str_split_in_n(s, series_length, sep, descend)[series_index])\n"
   ]
  },
  {
   "cell_type": "markdown",
   "metadata": {},
   "source": [
    "Split the status codes in 4 in descending order and select the 1st to 4th status codes and put them in new columns."
   ]
  },
  {
   "cell_type": "code",
   "execution_count": 18,
   "metadata": {},
   "outputs": [],
   "source": [
    "num_status_columns = 4     # Number of status columns\n",
    "loc_status_codes = 2       # Column index of combined status codes\n",
    "df3_part1['status_1'] = df3_part1.apply(lambda row: \n",
    "                                        select_from_str_split(row[loc_status_codes], num_status_columns, 0, descend = True), \n",
    "                                        axis=1)"
   ]
  },
  {
   "cell_type": "code",
   "execution_count": 21,
   "metadata": {},
   "outputs": [],
   "source": [
    "df3_part1['status_2'] = df3_part1.apply(lambda row: \n",
    "                                        select_from_str_split(row[loc_status_codes], num_status_columns, 1, descend = True), axis=1)\n",
    "df3_part1['status_3'] = df3_part1.apply(lambda row: \n",
    "                                        select_from_str_split(row[loc_status_codes], num_status_columns, 2, descend = True), axis=1)\n",
    "df3_part1['status_4'] = df3_part1.apply(lambda row: \n",
    "                                        select_from_str_split(row[loc_status_codes], num_status_columns, 3, descend = True), axis=1)"
   ]
  },
  {
   "cell_type": "code",
   "execution_count": 22,
   "metadata": {},
   "outputs": [
    {
     "data": {
      "text/html": [
       "<div>\n",
       "<style scoped>\n",
       "    .dataframe tbody tr th:only-of-type {\n",
       "        vertical-align: middle;\n",
       "    }\n",
       "\n",
       "    .dataframe tbody tr th {\n",
       "        vertical-align: top;\n",
       "    }\n",
       "\n",
       "    .dataframe thead th {\n",
       "        text-align: right;\n",
       "    }\n",
       "</style>\n",
       "<table border=\"1\" class=\"dataframe\">\n",
       "  <thead>\n",
       "    <tr style=\"text-align: right;\">\n",
       "      <th></th>\n",
       "      <th>ppsn</th>\n",
       "      <th>date</th>\n",
       "      <th>status_codes</th>\n",
       "      <th>status_1</th>\n",
       "      <th>status_2</th>\n",
       "      <th>status_3</th>\n",
       "      <th>status_4</th>\n",
       "    </tr>\n",
       "  </thead>\n",
       "  <tbody>\n",
       "    <tr>\n",
       "      <th>0</th>\n",
       "      <td>0001147L</td>\n",
       "      <td>20140406</td>\n",
       "      <td>NaN</td>\n",
       "      <td>nan</td>\n",
       "      <td>NaN</td>\n",
       "      <td>NaN</td>\n",
       "      <td>NaN</td>\n",
       "    </tr>\n",
       "    <tr>\n",
       "      <th>1</th>\n",
       "      <td>0001841E</td>\n",
       "      <td>20140406</td>\n",
       "      <td>NaN</td>\n",
       "      <td>nan</td>\n",
       "      <td>NaN</td>\n",
       "      <td>NaN</td>\n",
       "      <td>NaN</td>\n",
       "    </tr>\n",
       "    <tr>\n",
       "      <th>2</th>\n",
       "      <td>0001870L</td>\n",
       "      <td>20140406</td>\n",
       "      <td>NaN</td>\n",
       "      <td>nan</td>\n",
       "      <td>NaN</td>\n",
       "      <td>NaN</td>\n",
       "      <td>NaN</td>\n",
       "    </tr>\n",
       "    <tr>\n",
       "      <th>3</th>\n",
       "      <td>0009292O</td>\n",
       "      <td>20140406</td>\n",
       "      <td>NaN</td>\n",
       "      <td>nan</td>\n",
       "      <td>NaN</td>\n",
       "      <td>NaN</td>\n",
       "      <td>NaN</td>\n",
       "    </tr>\n",
       "    <tr>\n",
       "      <th>4</th>\n",
       "      <td>0009502W</td>\n",
       "      <td>20140406</td>\n",
       "      <td>NaN</td>\n",
       "      <td>nan</td>\n",
       "      <td>NaN</td>\n",
       "      <td>NaN</td>\n",
       "      <td>NaN</td>\n",
       "    </tr>\n",
       "  </tbody>\n",
       "</table>\n",
       "</div>"
      ],
      "text/plain": [
       "       ppsn      date status_codes status_1 status_2 status_3 status_4\n",
       "0  0001147L  20140406          NaN      nan      NaN      NaN      NaN\n",
       "1  0001841E  20140406          NaN      nan      NaN      NaN      NaN\n",
       "2  0001870L  20140406          NaN      nan      NaN      NaN      NaN\n",
       "3  0009292O  20140406          NaN      nan      NaN      NaN      NaN\n",
       "4  0009502W  20140406          NaN      nan      NaN      NaN      NaN"
      ]
     },
     "execution_count": 22,
     "metadata": {},
     "output_type": "execute_result"
    }
   ],
   "source": [
    "df3_part1.head()"
   ]
  },
  {
   "cell_type": "code",
   "execution_count": 23,
   "metadata": {},
   "outputs": [
    {
     "data": {
      "text/plain": [
       "nan       3472830\n",
       "UA        1797592\n",
       "C-UA       363949\n",
       "UBCO       266314\n",
       "UB         220985\n",
       "BTE        142481\n",
       "C-UB       134282\n",
       "OFP         90435\n",
       "INTN        39728\n",
       "FIS         32643\n",
       "BTW         26562\n",
       "O 65        22109\n",
       "CA          20215\n",
       "SEMP        19024\n",
       "WCP         16612\n",
       "SPC         10805\n",
       "DA           7531\n",
       "SST          5892\n",
       "SPT          3830\n",
       "SPNC         2880\n",
       "STEA         2101\n",
       "OFPJST       1787\n",
       "FASS         1602\n",
       "PTJI         1169\n",
       "IP            843\n",
       "LMAF          680\n",
       "WPGO          571\n",
       "PRTA          301\n",
       "FISH           79\n",
       "SMLH            8\n",
       "Name: status_1, dtype: int64"
      ]
     },
     "execution_count": 23,
     "metadata": {},
     "output_type": "execute_result"
    }
   ],
   "source": [
    "df3_part1['status_1'].value_counts()"
   ]
  },
  {
   "cell_type": "markdown",
   "metadata": {},
   "source": [
    "## Create flags for each status code"
   ]
  },
  {
   "cell_type": "code",
   "execution_count": 24,
   "metadata": {},
   "outputs": [],
   "source": [
    "status_list = ['CA', 'C-UA', 'C-UB', 'FASS', 'FISH', 'UA', 'UB', 'INTN', 'SEMP', 'SST', 'STEA', 'DA', 'IP', 'OFP', \n",
    "               'OFPJST', 'PRTA', 'SPC', 'WCP', 'O 65', 'BTE', 'BTW', 'FIS', 'PTJI', 'UBCO', 'SPNC', 'SPT', 'LMAF', \n",
    "               'WPGO', 'SPFT', 'YDI', 'SMLH'] # add more?\n",
    "\n",
    "def match_in_range(s, row, start_range, end_range):\n",
    "    match = 0\n",
    "    for i in range(start_range, end_range):\n",
    "        if s == row[i]:\n",
    "            match = 1\n",
    "    return match        \n",
    "    "
   ]
  },
  {
   "cell_type": "code",
   "execution_count": 25,
   "metadata": {},
   "outputs": [],
   "source": [
    "for e in status_list:\n",
    "    df3_part1[e] = df3_part1.apply(lambda row: match_in_range(e, row, 3, 6), axis=1)"
   ]
  },
  {
   "cell_type": "markdown",
   "metadata": {},
   "source": [
    "See all the status codes in column 1"
   ]
  },
  {
   "cell_type": "code",
   "execution_count": 26,
   "metadata": {},
   "outputs": [
    {
     "data": {
      "text/plain": [
       "nan       3472830\n",
       "UA        1797592\n",
       "C-UA       363949\n",
       "UBCO       266314\n",
       "UB         220985\n",
       "BTE        142481\n",
       "C-UB       134282\n",
       "OFP         90435\n",
       "INTN        39728\n",
       "FIS         32643\n",
       "BTW         26562\n",
       "O 65        22109\n",
       "CA          20215\n",
       "SEMP        19024\n",
       "WCP         16612\n",
       "SPC         10805\n",
       "DA           7531\n",
       "SST          5892\n",
       "SPT          3830\n",
       "SPNC         2880\n",
       "STEA         2101\n",
       "OFPJST       1787\n",
       "FASS         1602\n",
       "PTJI         1169\n",
       "IP            843\n",
       "LMAF          680\n",
       "WPGO          571\n",
       "PRTA          301\n",
       "FISH           79\n",
       "SMLH            8\n",
       "Name: status_1, dtype: int64"
      ]
     },
     "execution_count": 26,
     "metadata": {},
     "output_type": "execute_result"
    }
   ],
   "source": [
    "df3_part1['status_1'].value_counts()"
   ]
  },
  {
   "cell_type": "markdown",
   "metadata": {},
   "source": [
    "See all the status codes in column 2. \n",
    "A code will appear in this column, for each individual, for each time point where they have more than one status. "
   ]
  },
  {
   "cell_type": "code",
   "execution_count": 27,
   "metadata": {},
   "outputs": [
    {
     "data": {
      "text/plain": [
       "O 65      10521\n",
       "CA         8907\n",
       "UBCO       8584\n",
       "DA         7006\n",
       "FIS        5682\n",
       "OFP        4768\n",
       "SPC        1835\n",
       "IP          615\n",
       "C-UA        530\n",
       "C-UB        287\n",
       "UA          269\n",
       "BTE         155\n",
       "UB          147\n",
       "SPT          72\n",
       "SEMP         26\n",
       "OFPJST       24\n",
       "INTN         24\n",
       "SPNC         15\n",
       "SST           8\n",
       "BTW           1\n",
       "Name: status_2, dtype: int64"
      ]
     },
     "execution_count": 27,
     "metadata": {},
     "output_type": "execute_result"
    }
   ],
   "source": [
    "df3_part1['status_2'].value_counts()"
   ]
  },
  {
   "cell_type": "markdown",
   "metadata": {},
   "source": [
    "See all the status codes in column 3.<br>\n",
    "A code will appear in this column, for each individual, for each time point where they have more than one status. "
   ]
  },
  {
   "cell_type": "code",
   "execution_count": 28,
   "metadata": {},
   "outputs": [
    {
     "data": {
      "text/plain": [
       "O 65    962\n",
       "CA      173\n",
       "FIS      29\n",
       "SPC      23\n",
       "C-UA      8\n",
       "OFP       8\n",
       "Name: status_3, dtype: int64"
      ]
     },
     "execution_count": 28,
     "metadata": {},
     "output_type": "execute_result"
    }
   ],
   "source": [
    "df3_part1['status_3'].value_counts()"
   ]
  },
  {
   "cell_type": "markdown",
   "metadata": {},
   "source": [
    "See all the status codes in column 4.<br>\n",
    "A code will appear in this column, for each individual, for each time point where they have more than one status. "
   ]
  },
  {
   "cell_type": "code",
   "execution_count": 29,
   "metadata": {},
   "outputs": [
    {
     "data": {
      "text/plain": [
       "CA      8\n",
       "O 65    7\n",
       "Name: status_4, dtype: int64"
      ]
     },
     "execution_count": 29,
     "metadata": {},
     "output_type": "execute_result"
    }
   ],
   "source": [
    "df3_part1['status_4'].value_counts()"
   ]
  },
  {
   "cell_type": "markdown",
   "metadata": {},
   "source": [
    "## Find all status values"
   ]
  },
  {
   "cell_type": "markdown",
   "metadata": {},
   "source": [
    "Find out all the different status codes in the DataFrame. This may be useful when everything is put back into a single DataFrame."
   ]
  },
  {
   "cell_type": "code",
   "execution_count": 31,
   "metadata": {},
   "outputs": [],
   "source": [
    "#all_status = np.unique(df3_part1.iloc[:, 3:7].values)\n",
    "#all_status"
   ]
  },
  {
   "cell_type": "code",
   "execution_count": 32,
   "metadata": {},
   "outputs": [],
   "source": [
    "#np.unique(df2.iloc[:, 2:3].values) # This code takes a little while to run"
   ]
  },
  {
   "cell_type": "markdown",
   "metadata": {},
   "source": [
    "## Create summary flags for different status codes"
   ]
  },
  {
   "cell_type": "markdown",
   "metadata": {},
   "source": [
    "Initial thoughts on flags:<br> \n",
    "EMPL==1 if values in FIS C-UA C-UB WFP BTW<br>\n",
    "    WSWP-LF==1 if values in JA JB JST C-UA C-UB BTW<br>\n",
    "    WSWP=1 if values in DA IP OFP CA Mat<br>\n",
    "    EducTrain==1 if values in BTEA MOM<br>\n",
    "    LR flag==1 if values in C-UA C-UB UBCO UA UB<br>\n",
    "    CasualFlag==1 if values in C-UA C-UB<br>\n",
    "    CreditsFlag==1 if values in UBCO<br>\n",
    "    OverlapFlag==1 if WSWP-LF==1 and WSWP==1<br>"
   ]
  },
  {
   "cell_type": "markdown",
   "metadata": {},
   "source": [
    "Implementation of 5 flags (differs a little from the above note)"
   ]
  },
  {
   "cell_type": "code",
   "execution_count": 33,
   "metadata": {},
   "outputs": [],
   "source": [
    "df3_part1['LM_WSW'] = df3_part1.apply(lambda row: min(row['C-UA'] + row['C-UB'] + row['FASS'] + row['FISH'] + row['UA'] + \n",
    "                                                      row['UB'] + row['INTN'] + row['SEMP'] + row['SST'] + row['YDI'] + \n",
    "                                                      row['STEA'] + row['SMLH'], 1), axis=1)"
   ]
  },
  {
   "cell_type": "code",
   "execution_count": 34,
   "metadata": {},
   "outputs": [],
   "source": [
    "df3_part1['WSW_Non_LM'] = df3_part1.apply(lambda row: min(row['CA'] + row['DA'] + row['IP'] + row['OFP'] + row['OFPJST'] + \n",
    "                                                          row['PRTA'] + row['SPC'] + row['WCP'] + row['O 65'] + \n",
    "                                                          row['SPNC'] + row['SPT'] + row['WPGO'], 1), axis=1)\n",
    "\n",
    "df3_part1['Ed_or_Training'] = df3_part1.apply(lambda row: min(row['BTE'] + row['SPFT'], 1), axis=1)\n",
    "\n",
    "df3_part1['Empl'] = df3_part1.apply(lambda row: min(row['BTW'] + row['C-UA'] + row['C-UB'] + row['FIS'] + row['INTN'] + \n",
    "                                                    row['PTJI'] + row['SEMP'] + row['SST'] + row['STEA'], 1), axis=1)"
   ]
  },
  {
   "cell_type": "code",
   "execution_count": 35,
   "metadata": {},
   "outputs": [],
   "source": [
    "df3_part1['LR'] = df3_part1.apply(lambda row: min(row['C-UA'] + row['C-UB'] + row['UA'] + row['UB'] + row['UBCO'], 1), axis=1)"
   ]
  },
  {
   "cell_type": "code",
   "execution_count": 36,
   "metadata": {},
   "outputs": [
    {
     "data": {
      "text/html": [
       "<div>\n",
       "<style scoped>\n",
       "    .dataframe tbody tr th:only-of-type {\n",
       "        vertical-align: middle;\n",
       "    }\n",
       "\n",
       "    .dataframe tbody tr th {\n",
       "        vertical-align: top;\n",
       "    }\n",
       "\n",
       "    .dataframe thead th {\n",
       "        text-align: right;\n",
       "    }\n",
       "</style>\n",
       "<table border=\"1\" class=\"dataframe\">\n",
       "  <thead>\n",
       "    <tr style=\"text-align: right;\">\n",
       "      <th></th>\n",
       "      <th>ppsn</th>\n",
       "      <th>date</th>\n",
       "      <th>status_codes</th>\n",
       "      <th>status_1</th>\n",
       "      <th>status_2</th>\n",
       "      <th>status_3</th>\n",
       "      <th>status_4</th>\n",
       "      <th>CA</th>\n",
       "      <th>C-UA</th>\n",
       "      <th>C-UB</th>\n",
       "      <th>...</th>\n",
       "      <th>LMAF</th>\n",
       "      <th>WPGO</th>\n",
       "      <th>SPFT</th>\n",
       "      <th>YDI</th>\n",
       "      <th>SMLH</th>\n",
       "      <th>LM_WSW</th>\n",
       "      <th>WSW_Non_LM</th>\n",
       "      <th>Ed_or_Training</th>\n",
       "      <th>Empl</th>\n",
       "      <th>LR</th>\n",
       "    </tr>\n",
       "  </thead>\n",
       "  <tbody>\n",
       "    <tr>\n",
       "      <th>0</th>\n",
       "      <td>0001147L</td>\n",
       "      <td>20140406</td>\n",
       "      <td>NaN</td>\n",
       "      <td>nan</td>\n",
       "      <td>NaN</td>\n",
       "      <td>NaN</td>\n",
       "      <td>NaN</td>\n",
       "      <td>0</td>\n",
       "      <td>0</td>\n",
       "      <td>0</td>\n",
       "      <td>...</td>\n",
       "      <td>0</td>\n",
       "      <td>0</td>\n",
       "      <td>0</td>\n",
       "      <td>0</td>\n",
       "      <td>0</td>\n",
       "      <td>0</td>\n",
       "      <td>0</td>\n",
       "      <td>0</td>\n",
       "      <td>0</td>\n",
       "      <td>0</td>\n",
       "    </tr>\n",
       "    <tr>\n",
       "      <th>1</th>\n",
       "      <td>0001841E</td>\n",
       "      <td>20140406</td>\n",
       "      <td>NaN</td>\n",
       "      <td>nan</td>\n",
       "      <td>NaN</td>\n",
       "      <td>NaN</td>\n",
       "      <td>NaN</td>\n",
       "      <td>0</td>\n",
       "      <td>0</td>\n",
       "      <td>0</td>\n",
       "      <td>...</td>\n",
       "      <td>0</td>\n",
       "      <td>0</td>\n",
       "      <td>0</td>\n",
       "      <td>0</td>\n",
       "      <td>0</td>\n",
       "      <td>0</td>\n",
       "      <td>0</td>\n",
       "      <td>0</td>\n",
       "      <td>0</td>\n",
       "      <td>0</td>\n",
       "    </tr>\n",
       "    <tr>\n",
       "      <th>2</th>\n",
       "      <td>0001870L</td>\n",
       "      <td>20140406</td>\n",
       "      <td>NaN</td>\n",
       "      <td>nan</td>\n",
       "      <td>NaN</td>\n",
       "      <td>NaN</td>\n",
       "      <td>NaN</td>\n",
       "      <td>0</td>\n",
       "      <td>0</td>\n",
       "      <td>0</td>\n",
       "      <td>...</td>\n",
       "      <td>0</td>\n",
       "      <td>0</td>\n",
       "      <td>0</td>\n",
       "      <td>0</td>\n",
       "      <td>0</td>\n",
       "      <td>0</td>\n",
       "      <td>0</td>\n",
       "      <td>0</td>\n",
       "      <td>0</td>\n",
       "      <td>0</td>\n",
       "    </tr>\n",
       "    <tr>\n",
       "      <th>3</th>\n",
       "      <td>0009292O</td>\n",
       "      <td>20140406</td>\n",
       "      <td>NaN</td>\n",
       "      <td>nan</td>\n",
       "      <td>NaN</td>\n",
       "      <td>NaN</td>\n",
       "      <td>NaN</td>\n",
       "      <td>0</td>\n",
       "      <td>0</td>\n",
       "      <td>0</td>\n",
       "      <td>...</td>\n",
       "      <td>0</td>\n",
       "      <td>0</td>\n",
       "      <td>0</td>\n",
       "      <td>0</td>\n",
       "      <td>0</td>\n",
       "      <td>0</td>\n",
       "      <td>0</td>\n",
       "      <td>0</td>\n",
       "      <td>0</td>\n",
       "      <td>0</td>\n",
       "    </tr>\n",
       "    <tr>\n",
       "      <th>4</th>\n",
       "      <td>0009502W</td>\n",
       "      <td>20140406</td>\n",
       "      <td>NaN</td>\n",
       "      <td>nan</td>\n",
       "      <td>NaN</td>\n",
       "      <td>NaN</td>\n",
       "      <td>NaN</td>\n",
       "      <td>0</td>\n",
       "      <td>0</td>\n",
       "      <td>0</td>\n",
       "      <td>...</td>\n",
       "      <td>0</td>\n",
       "      <td>0</td>\n",
       "      <td>0</td>\n",
       "      <td>0</td>\n",
       "      <td>0</td>\n",
       "      <td>0</td>\n",
       "      <td>0</td>\n",
       "      <td>0</td>\n",
       "      <td>0</td>\n",
       "      <td>0</td>\n",
       "    </tr>\n",
       "  </tbody>\n",
       "</table>\n",
       "<p>5 rows × 43 columns</p>\n",
       "</div>"
      ],
      "text/plain": [
       "       ppsn      date status_codes status_1 status_2 status_3 status_4  CA  \\\n",
       "0  0001147L  20140406          NaN      nan      NaN      NaN      NaN   0   \n",
       "1  0001841E  20140406          NaN      nan      NaN      NaN      NaN   0   \n",
       "2  0001870L  20140406          NaN      nan      NaN      NaN      NaN   0   \n",
       "3  0009292O  20140406          NaN      nan      NaN      NaN      NaN   0   \n",
       "4  0009502W  20140406          NaN      nan      NaN      NaN      NaN   0   \n",
       "\n",
       "   C-UA  C-UB ...  LMAF  WPGO  SPFT  YDI  SMLH  LM_WSW  WSW_Non_LM  \\\n",
       "0     0     0 ...     0     0     0    0     0       0           0   \n",
       "1     0     0 ...     0     0     0    0     0       0           0   \n",
       "2     0     0 ...     0     0     0    0     0       0           0   \n",
       "3     0     0 ...     0     0     0    0     0       0           0   \n",
       "4     0     0 ...     0     0     0    0     0       0           0   \n",
       "\n",
       "   Ed_or_Training  Empl  LR  \n",
       "0               0     0   0  \n",
       "1               0     0   0  \n",
       "2               0     0   0  \n",
       "3               0     0   0  \n",
       "4               0     0   0  \n",
       "\n",
       "[5 rows x 43 columns]"
      ]
     },
     "execution_count": 36,
     "metadata": {},
     "output_type": "execute_result"
    }
   ],
   "source": [
    "df3_part1.head()"
   ]
  },
  {
   "cell_type": "code",
   "execution_count": 37,
   "metadata": {},
   "outputs": [
    {
     "data": {
      "text/html": [
       "<div>\n",
       "<style scoped>\n",
       "    .dataframe tbody tr th:only-of-type {\n",
       "        vertical-align: middle;\n",
       "    }\n",
       "\n",
       "    .dataframe tbody tr th {\n",
       "        vertical-align: top;\n",
       "    }\n",
       "\n",
       "    .dataframe thead th {\n",
       "        text-align: right;\n",
       "    }\n",
       "</style>\n",
       "<table border=\"1\" class=\"dataframe\">\n",
       "  <thead>\n",
       "    <tr style=\"text-align: right;\">\n",
       "      <th></th>\n",
       "      <th>CA</th>\n",
       "      <th>C-UA</th>\n",
       "      <th>C-UB</th>\n",
       "      <th>FASS</th>\n",
       "      <th>FISH</th>\n",
       "      <th>UA</th>\n",
       "      <th>UB</th>\n",
       "      <th>INTN</th>\n",
       "      <th>SEMP</th>\n",
       "      <th>SST</th>\n",
       "      <th>...</th>\n",
       "      <th>LMAF</th>\n",
       "      <th>WPGO</th>\n",
       "      <th>SPFT</th>\n",
       "      <th>YDI</th>\n",
       "      <th>SMLH</th>\n",
       "      <th>LM_WSW</th>\n",
       "      <th>WSW_Non_LM</th>\n",
       "      <th>Ed_or_Training</th>\n",
       "      <th>Empl</th>\n",
       "      <th>LR</th>\n",
       "    </tr>\n",
       "  </thead>\n",
       "  <tbody>\n",
       "    <tr>\n",
       "      <th>count</th>\n",
       "      <td>6.705840e+06</td>\n",
       "      <td>6.705840e+06</td>\n",
       "      <td>6.705840e+06</td>\n",
       "      <td>6.705840e+06</td>\n",
       "      <td>6.705840e+06</td>\n",
       "      <td>6.705840e+06</td>\n",
       "      <td>6.705840e+06</td>\n",
       "      <td>6.705840e+06</td>\n",
       "      <td>6.705840e+06</td>\n",
       "      <td>6.705840e+06</td>\n",
       "      <td>...</td>\n",
       "      <td>6.705840e+06</td>\n",
       "      <td>6.705840e+06</td>\n",
       "      <td>6705840.0</td>\n",
       "      <td>6705840.0</td>\n",
       "      <td>6.705840e+06</td>\n",
       "      <td>6.705840e+06</td>\n",
       "      <td>6.705840e+06</td>\n",
       "      <td>6.705840e+06</td>\n",
       "      <td>6.705840e+06</td>\n",
       "      <td>6.705840e+06</td>\n",
       "    </tr>\n",
       "    <tr>\n",
       "      <th>mean</th>\n",
       "      <td>4.368580e-03</td>\n",
       "      <td>5.435367e-02</td>\n",
       "      <td>2.006743e-02</td>\n",
       "      <td>2.388962e-04</td>\n",
       "      <td>1.178078e-05</td>\n",
       "      <td>2.681038e-01</td>\n",
       "      <td>3.297603e-02</td>\n",
       "      <td>5.926774e-03</td>\n",
       "      <td>2.840807e-03</td>\n",
       "      <td>8.798301e-04</td>\n",
       "      <td>...</td>\n",
       "      <td>1.014041e-04</td>\n",
       "      <td>8.514966e-05</td>\n",
       "      <td>0.0</td>\n",
       "      <td>0.0</td>\n",
       "      <td>1.192990e-06</td>\n",
       "      <td>3.857135e-01</td>\n",
       "      <td>2.957661e-02</td>\n",
       "      <td>2.127042e-02</td>\n",
       "      <td>9.423174e-02</td>\n",
       "      <td>4.164947e-01</td>\n",
       "    </tr>\n",
       "    <tr>\n",
       "      <th>std</th>\n",
       "      <td>6.595071e-02</td>\n",
       "      <td>2.267143e-01</td>\n",
       "      <td>1.402310e-01</td>\n",
       "      <td>1.545442e-02</td>\n",
       "      <td>3.432294e-03</td>\n",
       "      <td>4.429720e-01</td>\n",
       "      <td>1.785738e-01</td>\n",
       "      <td>7.675707e-02</td>\n",
       "      <td>5.322347e-02</td>\n",
       "      <td>2.964888e-02</td>\n",
       "      <td>...</td>\n",
       "      <td>1.006945e-02</td>\n",
       "      <td>9.227265e-03</td>\n",
       "      <td>0.0</td>\n",
       "      <td>0.0</td>\n",
       "      <td>1.092240e-03</td>\n",
       "      <td>4.867634e-01</td>\n",
       "      <td>1.694162e-01</td>\n",
       "      <td>1.442844e-01</td>\n",
       "      <td>2.921509e-01</td>\n",
       "      <td>4.929776e-01</td>\n",
       "    </tr>\n",
       "    <tr>\n",
       "      <th>min</th>\n",
       "      <td>0.000000e+00</td>\n",
       "      <td>0.000000e+00</td>\n",
       "      <td>0.000000e+00</td>\n",
       "      <td>0.000000e+00</td>\n",
       "      <td>0.000000e+00</td>\n",
       "      <td>0.000000e+00</td>\n",
       "      <td>0.000000e+00</td>\n",
       "      <td>0.000000e+00</td>\n",
       "      <td>0.000000e+00</td>\n",
       "      <td>0.000000e+00</td>\n",
       "      <td>...</td>\n",
       "      <td>0.000000e+00</td>\n",
       "      <td>0.000000e+00</td>\n",
       "      <td>0.0</td>\n",
       "      <td>0.0</td>\n",
       "      <td>0.000000e+00</td>\n",
       "      <td>0.000000e+00</td>\n",
       "      <td>0.000000e+00</td>\n",
       "      <td>0.000000e+00</td>\n",
       "      <td>0.000000e+00</td>\n",
       "      <td>0.000000e+00</td>\n",
       "    </tr>\n",
       "    <tr>\n",
       "      <th>25%</th>\n",
       "      <td>0.000000e+00</td>\n",
       "      <td>0.000000e+00</td>\n",
       "      <td>0.000000e+00</td>\n",
       "      <td>0.000000e+00</td>\n",
       "      <td>0.000000e+00</td>\n",
       "      <td>0.000000e+00</td>\n",
       "      <td>0.000000e+00</td>\n",
       "      <td>0.000000e+00</td>\n",
       "      <td>0.000000e+00</td>\n",
       "      <td>0.000000e+00</td>\n",
       "      <td>...</td>\n",
       "      <td>0.000000e+00</td>\n",
       "      <td>0.000000e+00</td>\n",
       "      <td>0.0</td>\n",
       "      <td>0.0</td>\n",
       "      <td>0.000000e+00</td>\n",
       "      <td>0.000000e+00</td>\n",
       "      <td>0.000000e+00</td>\n",
       "      <td>0.000000e+00</td>\n",
       "      <td>0.000000e+00</td>\n",
       "      <td>0.000000e+00</td>\n",
       "    </tr>\n",
       "    <tr>\n",
       "      <th>50%</th>\n",
       "      <td>0.000000e+00</td>\n",
       "      <td>0.000000e+00</td>\n",
       "      <td>0.000000e+00</td>\n",
       "      <td>0.000000e+00</td>\n",
       "      <td>0.000000e+00</td>\n",
       "      <td>0.000000e+00</td>\n",
       "      <td>0.000000e+00</td>\n",
       "      <td>0.000000e+00</td>\n",
       "      <td>0.000000e+00</td>\n",
       "      <td>0.000000e+00</td>\n",
       "      <td>...</td>\n",
       "      <td>0.000000e+00</td>\n",
       "      <td>0.000000e+00</td>\n",
       "      <td>0.0</td>\n",
       "      <td>0.0</td>\n",
       "      <td>0.000000e+00</td>\n",
       "      <td>0.000000e+00</td>\n",
       "      <td>0.000000e+00</td>\n",
       "      <td>0.000000e+00</td>\n",
       "      <td>0.000000e+00</td>\n",
       "      <td>0.000000e+00</td>\n",
       "    </tr>\n",
       "    <tr>\n",
       "      <th>75%</th>\n",
       "      <td>0.000000e+00</td>\n",
       "      <td>0.000000e+00</td>\n",
       "      <td>0.000000e+00</td>\n",
       "      <td>0.000000e+00</td>\n",
       "      <td>0.000000e+00</td>\n",
       "      <td>1.000000e+00</td>\n",
       "      <td>0.000000e+00</td>\n",
       "      <td>0.000000e+00</td>\n",
       "      <td>0.000000e+00</td>\n",
       "      <td>0.000000e+00</td>\n",
       "      <td>...</td>\n",
       "      <td>0.000000e+00</td>\n",
       "      <td>0.000000e+00</td>\n",
       "      <td>0.0</td>\n",
       "      <td>0.0</td>\n",
       "      <td>0.000000e+00</td>\n",
       "      <td>1.000000e+00</td>\n",
       "      <td>0.000000e+00</td>\n",
       "      <td>0.000000e+00</td>\n",
       "      <td>0.000000e+00</td>\n",
       "      <td>1.000000e+00</td>\n",
       "    </tr>\n",
       "    <tr>\n",
       "      <th>max</th>\n",
       "      <td>1.000000e+00</td>\n",
       "      <td>1.000000e+00</td>\n",
       "      <td>1.000000e+00</td>\n",
       "      <td>1.000000e+00</td>\n",
       "      <td>1.000000e+00</td>\n",
       "      <td>1.000000e+00</td>\n",
       "      <td>1.000000e+00</td>\n",
       "      <td>1.000000e+00</td>\n",
       "      <td>1.000000e+00</td>\n",
       "      <td>1.000000e+00</td>\n",
       "      <td>...</td>\n",
       "      <td>1.000000e+00</td>\n",
       "      <td>1.000000e+00</td>\n",
       "      <td>0.0</td>\n",
       "      <td>0.0</td>\n",
       "      <td>1.000000e+00</td>\n",
       "      <td>1.000000e+00</td>\n",
       "      <td>1.000000e+00</td>\n",
       "      <td>1.000000e+00</td>\n",
       "      <td>1.000000e+00</td>\n",
       "      <td>1.000000e+00</td>\n",
       "    </tr>\n",
       "  </tbody>\n",
       "</table>\n",
       "<p>8 rows × 36 columns</p>\n",
       "</div>"
      ],
      "text/plain": [
       "                 CA          C-UA          C-UB          FASS          FISH  \\\n",
       "count  6.705840e+06  6.705840e+06  6.705840e+06  6.705840e+06  6.705840e+06   \n",
       "mean   4.368580e-03  5.435367e-02  2.006743e-02  2.388962e-04  1.178078e-05   \n",
       "std    6.595071e-02  2.267143e-01  1.402310e-01  1.545442e-02  3.432294e-03   \n",
       "min    0.000000e+00  0.000000e+00  0.000000e+00  0.000000e+00  0.000000e+00   \n",
       "25%    0.000000e+00  0.000000e+00  0.000000e+00  0.000000e+00  0.000000e+00   \n",
       "50%    0.000000e+00  0.000000e+00  0.000000e+00  0.000000e+00  0.000000e+00   \n",
       "75%    0.000000e+00  0.000000e+00  0.000000e+00  0.000000e+00  0.000000e+00   \n",
       "max    1.000000e+00  1.000000e+00  1.000000e+00  1.000000e+00  1.000000e+00   \n",
       "\n",
       "                 UA            UB          INTN          SEMP           SST  \\\n",
       "count  6.705840e+06  6.705840e+06  6.705840e+06  6.705840e+06  6.705840e+06   \n",
       "mean   2.681038e-01  3.297603e-02  5.926774e-03  2.840807e-03  8.798301e-04   \n",
       "std    4.429720e-01  1.785738e-01  7.675707e-02  5.322347e-02  2.964888e-02   \n",
       "min    0.000000e+00  0.000000e+00  0.000000e+00  0.000000e+00  0.000000e+00   \n",
       "25%    0.000000e+00  0.000000e+00  0.000000e+00  0.000000e+00  0.000000e+00   \n",
       "50%    0.000000e+00  0.000000e+00  0.000000e+00  0.000000e+00  0.000000e+00   \n",
       "75%    1.000000e+00  0.000000e+00  0.000000e+00  0.000000e+00  0.000000e+00   \n",
       "max    1.000000e+00  1.000000e+00  1.000000e+00  1.000000e+00  1.000000e+00   \n",
       "\n",
       "           ...               LMAF          WPGO       SPFT        YDI  \\\n",
       "count      ...       6.705840e+06  6.705840e+06  6705840.0  6705840.0   \n",
       "mean       ...       1.014041e-04  8.514966e-05        0.0        0.0   \n",
       "std        ...       1.006945e-02  9.227265e-03        0.0        0.0   \n",
       "min        ...       0.000000e+00  0.000000e+00        0.0        0.0   \n",
       "25%        ...       0.000000e+00  0.000000e+00        0.0        0.0   \n",
       "50%        ...       0.000000e+00  0.000000e+00        0.0        0.0   \n",
       "75%        ...       0.000000e+00  0.000000e+00        0.0        0.0   \n",
       "max        ...       1.000000e+00  1.000000e+00        0.0        0.0   \n",
       "\n",
       "               SMLH        LM_WSW    WSW_Non_LM  Ed_or_Training          Empl  \\\n",
       "count  6.705840e+06  6.705840e+06  6.705840e+06    6.705840e+06  6.705840e+06   \n",
       "mean   1.192990e-06  3.857135e-01  2.957661e-02    2.127042e-02  9.423174e-02   \n",
       "std    1.092240e-03  4.867634e-01  1.694162e-01    1.442844e-01  2.921509e-01   \n",
       "min    0.000000e+00  0.000000e+00  0.000000e+00    0.000000e+00  0.000000e+00   \n",
       "25%    0.000000e+00  0.000000e+00  0.000000e+00    0.000000e+00  0.000000e+00   \n",
       "50%    0.000000e+00  0.000000e+00  0.000000e+00    0.000000e+00  0.000000e+00   \n",
       "75%    0.000000e+00  1.000000e+00  0.000000e+00    0.000000e+00  0.000000e+00   \n",
       "max    1.000000e+00  1.000000e+00  1.000000e+00    1.000000e+00  1.000000e+00   \n",
       "\n",
       "                 LR  \n",
       "count  6.705840e+06  \n",
       "mean   4.164947e-01  \n",
       "std    4.929776e-01  \n",
       "min    0.000000e+00  \n",
       "25%    0.000000e+00  \n",
       "50%    0.000000e+00  \n",
       "75%    1.000000e+00  \n",
       "max    1.000000e+00  \n",
       "\n",
       "[8 rows x 36 columns]"
      ]
     },
     "execution_count": 37,
     "metadata": {},
     "output_type": "execute_result"
    }
   ],
   "source": [
    "df3_part1.describe()"
   ]
  },
  {
   "cell_type": "code",
   "execution_count": 38,
   "metadata": {},
   "outputs": [
    {
     "data": {
      "text/plain": [
       "0    4119307\n",
       "1    2586533\n",
       "Name: LM_WSW, dtype: int64"
      ]
     },
     "execution_count": 38,
     "metadata": {},
     "output_type": "execute_result"
    }
   ],
   "source": [
    "df3_part1['LM_WSW'].value_counts()"
   ]
  },
  {
   "cell_type": "code",
   "execution_count": 39,
   "metadata": {},
   "outputs": [
    {
     "data": {
      "text/plain": [
       "0    6507504\n",
       "1     198336\n",
       "Name: WSW_Non_LM, dtype: int64"
      ]
     },
     "execution_count": 39,
     "metadata": {},
     "output_type": "execute_result"
    }
   ],
   "source": [
    "df3_part1['WSW_Non_LM'].value_counts()"
   ]
  },
  {
   "cell_type": "code",
   "execution_count": 40,
   "metadata": {},
   "outputs": [
    {
     "data": {
      "text/plain": [
       "0    6563204\n",
       "1     142636\n",
       "Name: Ed_or_Training, dtype: int64"
      ]
     },
     "execution_count": 40,
     "metadata": {},
     "output_type": "execute_result"
    }
   ],
   "source": [
    "df3_part1['Ed_or_Training'].value_counts()"
   ]
  },
  {
   "cell_type": "code",
   "execution_count": 41,
   "metadata": {},
   "outputs": [
    {
     "data": {
      "text/plain": [
       "0    6073937\n",
       "1     631903\n",
       "Name: Empl, dtype: int64"
      ]
     },
     "execution_count": 41,
     "metadata": {},
     "output_type": "execute_result"
    }
   ],
   "source": [
    "df3_part1['Empl'].value_counts()"
   ]
  },
  {
   "cell_type": "markdown",
   "metadata": {},
   "source": [
    "## Export DataFrame to CSV"
   ]
  },
  {
   "cell_type": "code",
   "execution_count": 50,
   "metadata": {},
   "outputs": [
    {
     "data": {
      "text/plain": [
       "'\\\\\\\\cskma0294\\\\F\\\\Evaluations\\\\JobPath\\\\WeeklyStatus_part1_2018-12-20.csv'"
      ]
     },
     "execution_count": 50,
     "metadata": {},
     "output_type": "execute_result"
    }
   ],
   "source": [
    "import datetime\n",
    "\n",
    "'\\\\\\\\cskma0294\\\\F\\\\Evaluations\\\\JobPath\\\\WeeklyStatus_part1_'+str(datetime.datetime.now()).split('.')[0][0:10]+'.csv'"
   ]
  },
  {
   "cell_type": "code",
   "execution_count": null,
   "metadata": {},
   "outputs": [],
   "source": [
    "df3_part1.to_csv('\\\\\\\\cskma0294\\\\F\\\\Evaluations\\\\JobPath\\\\WeeklyStatus_part1_'+str(datetime.datetime.now()).split('.')[0][0:10]+'.csv')"
   ]
  },
  {
   "cell_type": "code",
   "execution_count": null,
   "metadata": {},
   "outputs": [],
   "source": [
    "#df3['LM_WSW'] = df3.apply(lambda row: max(row['CA'] + row['C-UA'] + row['C-UB'] + row['FASS'] + row['FISH'] + \n",
    "#                                          row['UA'] + row['UB'] + row['INTN'] + row['SEMP'] + row['SST'] + \n",
    "#                                          row['STEA'], 1), axis=1)\n",
    "#df3['WSW_Non_LM'] = df3.apply(lambda row: max(row['DA'] + row['IP'] + row['OFP'] + row['OFPJST'] + row['PRTA'] + \n",
    "#                                              row['SPC'] + row['WCP'] + row['O 65'], 1), axis=1)\n",
    "#df3['Ed_or_Training'] = df3.apply(lambda row: row['BTE'], axis=1)\n",
    "#df3['Empl'] = df3.apply(lambda row: max(row['BTW'] + row['C-UA'] + row['C-UB'] + row['FIS'] + row['INTN'] + \n",
    "#                                        row['PTJI'] + row['SEMP'] + row['SST'] + row['STEA'], 1), axis=1)\n"
   ]
  },
  {
   "cell_type": "markdown",
   "metadata": {},
   "source": [
    "## Combine the parts back into a single DataFrame\n",
    "\n",
    "In the case where there are 3 parts:"
   ]
  },
  {
   "cell_type": "code",
   "execution_count": null,
   "metadata": {},
   "outputs": [],
   "source": [
    "#df3 = pd.concat([df3_part1, df3_part2, df3_part3])"
   ]
  },
  {
   "cell_type": "code",
   "execution_count": null,
   "metadata": {},
   "outputs": [],
   "source": [
    "#df3.tail()"
   ]
  },
  {
   "cell_type": "code",
   "execution_count": null,
   "metadata": {},
   "outputs": [],
   "source": [
    "#df3.head()"
   ]
  },
  {
   "cell_type": "markdown",
   "metadata": {},
   "source": [
    "## <em>Alternative approach to creating flags across different status codes</em>"
   ]
  },
  {
   "cell_type": "code",
   "execution_count": null,
   "metadata": {},
   "outputs": [],
   "source": [
    "def isLR(x):\n",
    "    \n",
    "    lr_types = ['C-UA', 'C-UB', 'UBCO', 'JA', 'JB']\n",
    "    if type(x) is str:\n",
    "        # just returns it untouched\n",
    "        if x in lr_types:\n",
    "            return 1\n",
    "        else:\n",
    "            return 0\n",
    "    else:\n",
    "        return x"
   ]
  },
  {
   "cell_type": "code",
   "execution_count": null,
   "metadata": {},
   "outputs": [],
   "source": [
    "#dfLR = df2.applymap(isLR)\n",
    "#dfLR.columns = new_columns\n",
    "#dfLR.head()"
   ]
  }
 ],
 "metadata": {
  "kernelspec": {
   "display_name": "Python 3",
   "language": "python",
   "name": "python3"
  },
  "language_info": {
   "codemirror_mode": {
    "name": "ipython",
    "version": 3
   },
   "file_extension": ".py",
   "mimetype": "text/x-python",
   "name": "python",
   "nbconvert_exporter": "python",
   "pygments_lexer": "ipython3",
   "version": "3.6.5"
  }
 },
 "nbformat": 4,
 "nbformat_minor": 2
}
