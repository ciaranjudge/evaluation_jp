{
 "cells": [
  {
   "cell_type": "code",
   "execution_count": 1,
   "metadata": {},
   "outputs": [],
   "source": [
    "import sys\n",
    "import pandas as pd              # python package for dataframes\n",
    "import os                        # used to change directory paths\n",
    "import matplotlib.pyplot as plt  # python package for plotting\n",
    "import numpy as np\n",
    "#can't import seaborn\n",
    "import seaborn as sns #package for plotting\n",
    "from scipy.stats import norm\n",
    "from sklearn.preprocessing import StandardScaler\n",
    "from scipy import stats\n",
    "from IPython.display import display, HTML  # Make tables pretty\n",
    "from datetime import datetime\n",
    "import pandas as pd\n"
   ]
  },
  {
   "cell_type": "markdown",
   "metadata": {},
   "source": [
    "## Import Data"
   ]
  },
  {
   "cell_type": "code",
   "execution_count": 2,
   "metadata": {},
   "outputs": [],
   "source": [
    "path_jp = '//cskma0294/F/Evaluations/JobPath/Python/Analysis/JPOutcomes/'\n",
    "filename_jp = 'linkedclaims_casuals_2018m04_v2_flat_20160101_with_income_36Vars__7BGM_full_clusters_jp_summary_status.csv'\n",
    "path_earnings='//cskma0294/F/Evaluations/JobPath/Python/Data/Earnings/'\n",
    "filename_earnings = 'new_earnings_11jul2018.csv'\n",
    "data_jp = pd.read_csv(path_jp+filename_jp, encoding= 'utf-8')\n",
    "data_jp=data_jp[~data_jp['hist_lr_0'].str.contains('C', case=False)]\n",
    "data_jp=data_jp[data_jp['age']<60]\n",
    "data_jp=data_jp[data_jp['jp_flag_before_aw']!= 1]\n",
    "data_jp=data_jp[data_jp['duration_days_0'] > 299]\n",
    "data_earnings = pd.read_csv(path_earnings+filename_earnings, encoding= 'utf-8')\n"
   ]
  },
  {
   "cell_type": "code",
   "execution_count": 3,
   "metadata": {},
   "outputs": [
    {
     "data": {
      "text/plain": [
       "['RSI_NO',\n",
       " 'Class_A_Earn2005',\n",
       " 'Class_A_Earn2006',\n",
       " 'Class_A_Earn2007',\n",
       " 'Class_A_Earn2008',\n",
       " 'Class_A_Earn2009',\n",
       " 'Class_A_Earn2010',\n",
       " 'Class_A_Earn2011',\n",
       " 'Class_A_Earn2012',\n",
       " 'Class_A_Earn2013',\n",
       " 'Class_A_Earn2014',\n",
       " 'Class_A_Earn2015',\n",
       " 'Class_A_Earn2016',\n",
       " 'Class_A_Earn2017',\n",
       " 'Class_S_Earn2005',\n",
       " 'Class_S_Earn2006',\n",
       " 'Class_S_Earn2007',\n",
       " 'Class_S_Earn2008',\n",
       " 'Class_S_Earn2009',\n",
       " 'Class_S_Earn2010',\n",
       " 'Class_S_Earn2011',\n",
       " 'Class_S_Earn2012',\n",
       " 'Class_S_Earn2013',\n",
       " 'Class_S_Earn2014',\n",
       " 'Class_S_Earn2015',\n",
       " 'Class_S_Earn2016',\n",
       " 'Class_S_Earn2017',\n",
       " 'Class_Other_Earn2005',\n",
       " 'Class_Other_Earn2006',\n",
       " 'Class_Other_Earn2007',\n",
       " 'Class_Other_Earn2008',\n",
       " 'Class_Other_Earn2009',\n",
       " 'Class_Other_Earn2010',\n",
       " 'Class_Other_Earn2011',\n",
       " 'Class_Other_Earn2012',\n",
       " 'Class_Other_Earn2013',\n",
       " 'Class_Other_Earn2014',\n",
       " 'Class_Other_Earn2015',\n",
       " 'Class_Other_Earn2016',\n",
       " 'Class_Other_Earn2017',\n",
       " 'Class_A_weeks2005',\n",
       " 'Class_A_weeks2006',\n",
       " 'Class_A_weeks2007',\n",
       " 'Class_A_weeks2008',\n",
       " 'Class_A_weeks2009',\n",
       " 'Class_A_weeks2010',\n",
       " 'Class_A_weeks2011',\n",
       " 'Class_A_weeks2012',\n",
       " 'Class_A_weeks2013',\n",
       " 'Class_A_weeks2014',\n",
       " 'Class_A_weeks2015',\n",
       " 'Class_A_weeks2016',\n",
       " 'Class_A_weeks2017']"
      ]
     },
     "execution_count": 3,
     "metadata": {},
     "output_type": "execute_result"
    }
   ],
   "source": [
    "list(data_earnings)"
   ]
  },
  {
   "cell_type": "code",
   "execution_count": 4,
   "metadata": {},
   "outputs": [
    {
     "name": "stdout",
     "output_type": "stream",
     "text": [
      "(1907397, 53)\n"
     ]
    },
    {
     "data": {
      "text/html": [
       "<div>\n",
       "<style scoped>\n",
       "    .dataframe tbody tr th:only-of-type {\n",
       "        vertical-align: middle;\n",
       "    }\n",
       "\n",
       "    .dataframe tbody tr th {\n",
       "        vertical-align: top;\n",
       "    }\n",
       "\n",
       "    .dataframe thead th {\n",
       "        text-align: right;\n",
       "    }\n",
       "</style>\n",
       "<table border=\"1\" class=\"dataframe\">\n",
       "  <thead>\n",
       "    <tr style=\"text-align: right;\">\n",
       "      <th></th>\n",
       "      <th>RSI_NO</th>\n",
       "      <th>Class_A_Earn2005</th>\n",
       "      <th>Class_A_Earn2006</th>\n",
       "      <th>Class_A_Earn2007</th>\n",
       "      <th>Class_A_Earn2008</th>\n",
       "      <th>Class_A_Earn2009</th>\n",
       "      <th>Class_A_Earn2010</th>\n",
       "      <th>Class_A_Earn2011</th>\n",
       "      <th>Class_A_Earn2012</th>\n",
       "      <th>Class_A_Earn2013</th>\n",
       "      <th>...</th>\n",
       "      <th>Class_A_weeks2008</th>\n",
       "      <th>Class_A_weeks2009</th>\n",
       "      <th>Class_A_weeks2010</th>\n",
       "      <th>Class_A_weeks2011</th>\n",
       "      <th>Class_A_weeks2012</th>\n",
       "      <th>Class_A_weeks2013</th>\n",
       "      <th>Class_A_weeks2014</th>\n",
       "      <th>Class_A_weeks2015</th>\n",
       "      <th>Class_A_weeks2016</th>\n",
       "      <th>Class_A_weeks2017</th>\n",
       "    </tr>\n",
       "  </thead>\n",
       "  <tbody>\n",
       "    <tr>\n",
       "      <th>0</th>\n",
       "      <td>0006908M</td>\n",
       "      <td>NaN</td>\n",
       "      <td>NaN</td>\n",
       "      <td>NaN</td>\n",
       "      <td>NaN</td>\n",
       "      <td>NaN</td>\n",
       "      <td>12500.0</td>\n",
       "      <td>16866.0</td>\n",
       "      <td>1023.0</td>\n",
       "      <td>NaN</td>\n",
       "      <td>...</td>\n",
       "      <td>NaN</td>\n",
       "      <td>NaN</td>\n",
       "      <td>28.0</td>\n",
       "      <td>46.0</td>\n",
       "      <td>5.0</td>\n",
       "      <td>NaN</td>\n",
       "      <td>NaN</td>\n",
       "      <td>NaN</td>\n",
       "      <td>NaN</td>\n",
       "      <td>NaN</td>\n",
       "    </tr>\n",
       "    <tr>\n",
       "      <th>1</th>\n",
       "      <td>0028794W</td>\n",
       "      <td>5572.0</td>\n",
       "      <td>NaN</td>\n",
       "      <td>NaN</td>\n",
       "      <td>NaN</td>\n",
       "      <td>NaN</td>\n",
       "      <td>NaN</td>\n",
       "      <td>NaN</td>\n",
       "      <td>NaN</td>\n",
       "      <td>NaN</td>\n",
       "      <td>...</td>\n",
       "      <td>NaN</td>\n",
       "      <td>NaN</td>\n",
       "      <td>NaN</td>\n",
       "      <td>NaN</td>\n",
       "      <td>NaN</td>\n",
       "      <td>NaN</td>\n",
       "      <td>NaN</td>\n",
       "      <td>NaN</td>\n",
       "      <td>NaN</td>\n",
       "      <td>NaN</td>\n",
       "    </tr>\n",
       "  </tbody>\n",
       "</table>\n",
       "<p>2 rows × 53 columns</p>\n",
       "</div>"
      ],
      "text/plain": [
       "     RSI_NO  Class_A_Earn2005  Class_A_Earn2006  Class_A_Earn2007  \\\n",
       "0  0006908M               NaN               NaN               NaN   \n",
       "1  0028794W            5572.0               NaN               NaN   \n",
       "\n",
       "   Class_A_Earn2008  Class_A_Earn2009  Class_A_Earn2010  Class_A_Earn2011  \\\n",
       "0               NaN               NaN           12500.0           16866.0   \n",
       "1               NaN               NaN               NaN               NaN   \n",
       "\n",
       "   Class_A_Earn2012  Class_A_Earn2013        ...          Class_A_weeks2008  \\\n",
       "0            1023.0               NaN        ...                        NaN   \n",
       "1               NaN               NaN        ...                        NaN   \n",
       "\n",
       "   Class_A_weeks2009  Class_A_weeks2010  Class_A_weeks2011  Class_A_weeks2012  \\\n",
       "0                NaN               28.0               46.0                5.0   \n",
       "1                NaN                NaN                NaN                NaN   \n",
       "\n",
       "   Class_A_weeks2013  Class_A_weeks2014  Class_A_weeks2015  Class_A_weeks2016  \\\n",
       "0                NaN                NaN                NaN                NaN   \n",
       "1                NaN                NaN                NaN                NaN   \n",
       "\n",
       "   Class_A_weeks2017  \n",
       "0                NaN  \n",
       "1                NaN  \n",
       "\n",
       "[2 rows x 53 columns]"
      ]
     },
     "execution_count": 4,
     "metadata": {},
     "output_type": "execute_result"
    }
   ],
   "source": [
    "print (data_earnings.shape)\n",
    "data_earnings.head(2)"
   ]
  },
  {
   "cell_type": "code",
   "execution_count": 5,
   "metadata": {},
   "outputs": [
    {
     "name": "stdout",
     "output_type": "stream",
     "text": [
      "(110364, 295)\n"
     ]
    },
    {
     "data": {
      "text/html": [
       "<div>\n",
       "<style scoped>\n",
       "    .dataframe tbody tr th:only-of-type {\n",
       "        vertical-align: middle;\n",
       "    }\n",
       "\n",
       "    .dataframe tbody tr th {\n",
       "        vertical-align: top;\n",
       "    }\n",
       "\n",
       "    .dataframe thead th {\n",
       "        text-align: right;\n",
       "    }\n",
       "</style>\n",
       "<table border=\"1\" class=\"dataframe\">\n",
       "  <thead>\n",
       "    <tr style=\"text-align: right;\">\n",
       "      <th></th>\n",
       "      <th>cluster</th>\n",
       "      <th>ppsn</th>\n",
       "      <th>Amended Referral Status</th>\n",
       "      <th>Cancellationsubcategory</th>\n",
       "      <th>Claim Office Code</th>\n",
       "      <th>Claim Office Name</th>\n",
       "      <th>Date of Cancellation</th>\n",
       "      <th>Date of Interview</th>\n",
       "      <th>Date_paused</th>\n",
       "      <th>Dateresumed</th>\n",
       "      <th>...</th>\n",
       "      <th>StartDate_P16</th>\n",
       "      <th>ada_code_rank_P16</th>\n",
       "      <th>family_flag_rank_P16</th>\n",
       "      <th>hist_lls_P16</th>\n",
       "      <th>hist_lr_P16</th>\n",
       "      <th>lr_flag_P16</th>\n",
       "      <th>marital_status_rank_P16</th>\n",
       "      <th>occupation_rank_P16</th>\n",
       "      <th>status_simple_P16</th>\n",
       "      <th>status_P16</th>\n",
       "    </tr>\n",
       "  </thead>\n",
       "  <tbody>\n",
       "    <tr>\n",
       "      <th>0</th>\n",
       "      <td>2</td>\n",
       "      <td>0099665M</td>\n",
       "      <td>b'nan'</td>\n",
       "      <td>b'nan'</td>\n",
       "      <td>NaN</td>\n",
       "      <td>NaN</td>\n",
       "      <td>NaN</td>\n",
       "      <td>2016-08-15</td>\n",
       "      <td>NaN</td>\n",
       "      <td>NaN</td>\n",
       "      <td>...</td>\n",
       "      <td>1998-09-16</td>\n",
       "      <td>5</td>\n",
       "      <td>3</td>\n",
       "      <td>UA-UAJPTH-UA</td>\n",
       "      <td>UA</td>\n",
       "      <td>1</td>\n",
       "      <td>2.0</td>\n",
       "      <td>2.0</td>\n",
       "      <td>On Live Register</td>\n",
       "      <td>On Live Register (excluding casual workers) - JA</td>\n",
       "    </tr>\n",
       "    <tr>\n",
       "      <th>11</th>\n",
       "      <td>2</td>\n",
       "      <td>0206477C</td>\n",
       "      <td>NaN</td>\n",
       "      <td>NaN</td>\n",
       "      <td>NaN</td>\n",
       "      <td>NaN</td>\n",
       "      <td>NaN</td>\n",
       "      <td>NaN</td>\n",
       "      <td>NaN</td>\n",
       "      <td>NaN</td>\n",
       "      <td>...</td>\n",
       "      <td>2005-02-23</td>\n",
       "      <td>5</td>\n",
       "      <td>3</td>\n",
       "      <td>UA</td>\n",
       "      <td>UA</td>\n",
       "      <td>1</td>\n",
       "      <td>2.0</td>\n",
       "      <td>5.0</td>\n",
       "      <td>On Live Register</td>\n",
       "      <td>On Live Register (excluding casual workers) - JA</td>\n",
       "    </tr>\n",
       "  </tbody>\n",
       "</table>\n",
       "<p>2 rows × 295 columns</p>\n",
       "</div>"
      ],
      "text/plain": [
       "    cluster      ppsn Amended Referral Status Cancellationsubcategory  \\\n",
       "0         2  0099665M                  b'nan'                  b'nan'   \n",
       "11        2  0206477C                     NaN                     NaN   \n",
       "\n",
       "    Claim Office Code Claim Office Name Date of Cancellation  \\\n",
       "0                 NaN               NaN                  NaN   \n",
       "11                NaN               NaN                  NaN   \n",
       "\n",
       "   Date of Interview Date_paused Dateresumed  \\\n",
       "0         2016-08-15         NaN         NaN   \n",
       "11               NaN         NaN         NaN   \n",
       "\n",
       "                          ...                        StartDate_P16  \\\n",
       "0                         ...                           1998-09-16   \n",
       "11                        ...                           2005-02-23   \n",
       "\n",
       "    ada_code_rank_P16 family_flag_rank_P16  hist_lls_P16 hist_lr_P16  \\\n",
       "0                   5                    3  UA-UAJPTH-UA          UA   \n",
       "11                  5                    3            UA          UA   \n",
       "\n",
       "   lr_flag_P16 marital_status_rank_P16  occupation_rank_P16 status_simple_P16  \\\n",
       "0            1                     2.0                  2.0  On Live Register   \n",
       "11           1                     2.0                  5.0  On Live Register   \n",
       "\n",
       "                                          status_P16  \n",
       "0   On Live Register (excluding casual workers) - JA  \n",
       "11  On Live Register (excluding casual workers) - JA  \n",
       "\n",
       "[2 rows x 295 columns]"
      ]
     },
     "execution_count": 5,
     "metadata": {},
     "output_type": "execute_result"
    }
   ],
   "source": [
    "print (data_jp.shape)\n",
    "data_jp.head(2)"
   ]
  },
  {
   "cell_type": "markdown",
   "metadata": {},
   "source": [
    "##  Data merging & manipulation"
   ]
  },
  {
   "cell_type": "code",
   "execution_count": 6,
   "metadata": {},
   "outputs": [],
   "source": [
    "data_earnings.fillna(0, inplace=True)\n",
    "\n",
    "col_list2013_2015= ['Class_A_Earn2013', 'Class_A_Earn2014', 'Class_A_Earn2015', 'Class_S_Earn2013', 'Class_S_Earn2014', \n",
    "                    'Class_S_Earn2015', 'Class_Other_Earn2013', 'Class_Other_Earn2014','Class_Other_Earn2015']\n",
    "\n",
    "data_earnings['Sum_2013_2015'] = (data_earnings[col_list2013_2015].sum(axis=1))\n",
    "\n",
    "col_list2013 = ['Class_A_Earn2013', 'Class_S_Earn2013', 'Class_Other_Earn2013']\n",
    "col_list2014 = ['Class_A_Earn2014', 'Class_S_Earn2014', 'Class_Other_Earn2014']\n",
    "col_list2015 = ['Class_A_Earn2015', 'Class_S_Earn2015', 'Class_Other_Earn2015']\n",
    "\n",
    "data_earnings['Sum_2013'] = (data_earnings[col_list2013].sum(axis=1))\n",
    "data_earnings['Sum_2014'] = (data_earnings[col_list2014].sum(axis=1))\n",
    "data_earnings['Sum_2015'] = (data_earnings[col_list2015].sum(axis=1))\n",
    "\n",
    "col_list_sum_2013_2015 = ['Sum_2013', 'Sum_2014', 'Sum_2015']\n",
    "\n",
    "data_earnings['mean_2013_2015'] = (data_earnings[col_list_sum_2013_2015].mean(axis=1))\n",
    "\n",
    "\n",
    "to_keep=['RSI_NO','Sum_2013_2015', 'Sum_2013', 'Sum_2014', 'Sum_2015', 'mean_2013_2015']\n",
    "data_earnings=data_earnings[to_keep]\n",
    "data_earnings.isnull().any()\n",
    "data_earnings.rename(columns={'RSI_NO': 'ppsn'}, inplace=True)\n",
    "to_keep_jp = ['cluster','ppsn','age',\n",
    "'duration_days_0',\n",
    "'sex',\n",
    "'LM_code_rank_P1',\n",
    "'occupation_rank_P1',\n",
    "'ada_code_rank_P1',\n",
    "'family_flag_rank_P1',\n",
    "'marital_status_rank_P1',\n",
    "'LM_code_rank_P2',\n",
    "'occupation_rank_P2',\n",
    "'ada_code_rank_P2',\n",
    "'family_flag_rank_P2',\n",
    "'marital_status_rank_P2',\n",
    "'LM_code_rank_P3',\n",
    "'occupation_rank_P3',\n",
    "'ada_code_rank_P3',\n",
    "'family_flag_rank_P3',\n",
    "'marital_status_rank_P3',\n",
    "'LM_code_rank_P4',\n",
    "'occupation_rank_P4',\n",
    "'ada_code_rank_P4',\n",
    "'family_flag_rank_P4',\n",
    "'marital_status_rank_P4',\n",
    "'LM_code_rank_P5',\n",
    "'occupation_rank_P5',\n",
    "'ada_code_rank_P5',\n",
    "'family_flag_rank_P5',\n",
    "'marital_status_rank_P5',\n",
    "'LM_code_rank_P6',\n",
    "'occupation_rank_P6',\n",
    "'ada_code_rank_P6',\n",
    "'family_flag_rank_P6',\n",
    "'marital_status_rank_P6',\n",
    "'LM_code_rank_P7',\n",
    "'occupation_rank_P7',\n",
    "'ada_code_rank_P7',\n",
    "'family_flag_rank_P7',\n",
    "'LM_code_rank_P8',\n",
    "'occupation_rank_P8',\n",
    "'ada_code_rank_P8',\n",
    "'family_flag_rank_P8',\n",
    "'marital_status_rank_P7',\n",
    "'marital_status_rank_P8',\n",
    "'jp_started_P1',\n",
    "'jp_started_P2',\n",
    "'jp_started_P3', 'jp_started_P4', 'jp_started_P5', 'jp_started_P6', \n",
    "'jp_started_P7', 'jp_started_P8']\n",
    "\n",
    "data_jp=data_jp[to_keep_jp]\n",
    "data_jp.loc[:, 'Duration Bands'] = (data_jp['duration_days_0']).apply(lambda x : \"0\" if x < 365 else (\"1\"   if x < 730 else (\"2\" if x < 1095 else (\"3\"))))\n",
    "data_jp['Duration Bands']=data_jp['Duration Bands'].astype(int)\n",
    "data_final=pd.merge(data_jp, data_earnings, on='ppsn', how='left')\n",
    "data_final.fillna({'Sum_2013_2015':0, 'Sum_2013':0, 'Sum_2014':0, 'Sum_2015':0, 'mean_2013_2015':0, 'Sum_2017':0}, inplace=True)\n",
    "#data_final=data_final.dropna()"
   ]
  },
  {
   "cell_type": "code",
   "execution_count": 7,
   "metadata": {},
   "outputs": [
    {
     "data": {
      "text/plain": [
       "(110364, 59)"
      ]
     },
     "execution_count": 7,
     "metadata": {},
     "output_type": "execute_result"
    }
   ],
   "source": [
    "data_final.shape"
   ]
  },
  {
   "cell_type": "code",
   "execution_count": null,
   "metadata": {},
   "outputs": [],
   "source": [
    "list(data_final)"
   ]
  },
  {
   "cell_type": "code",
   "execution_count": null,
   "metadata": {},
   "outputs": [],
   "source": [
    "data_final.head()"
   ]
  },
  {
   "cell_type": "code",
   "execution_count": null,
   "metadata": {},
   "outputs": [],
   "source": [
    "data_final.describe()"
   ]
  },
  {
   "cell_type": "code",
   "execution_count": 9,
   "metadata": {},
   "outputs": [],
   "source": [
    "path_payments =\"\\\\\\cskma0294\\\\F\\\\Evaluations\\\\JobPath\"\n",
    "os.chdir(path_payments)\n",
    "payments = pd.read_csv('ALL_PPSNS_with_payments.csv')\n"
   ]
  },
  {
   "cell_type": "code",
   "execution_count": 10,
   "metadata": {},
   "outputs": [
    {
     "data": {
      "text/plain": [
       "ppsn             0\n",
       "Quarter          0\n",
       "scheme           0\n",
       "total_payment    0\n",
       "dtype: int64"
      ]
     },
     "execution_count": 10,
     "metadata": {},
     "output_type": "execute_result"
    }
   ],
   "source": [
    "payments.isnull().sum()"
   ]
  },
  {
   "cell_type": "code",
   "execution_count": 11,
   "metadata": {},
   "outputs": [],
   "source": [
    "payments['Year'],payments['Q'] = zip(*payments[\"Quarter\"].apply(lambda x: x.split('_')))"
   ]
  },
  {
   "cell_type": "code",
   "execution_count": 12,
   "metadata": {},
   "outputs": [
    {
     "data": {
      "text/html": [
       "<div>\n",
       "<style scoped>\n",
       "    .dataframe tbody tr th:only-of-type {\n",
       "        vertical-align: middle;\n",
       "    }\n",
       "\n",
       "    .dataframe tbody tr th {\n",
       "        vertical-align: top;\n",
       "    }\n",
       "\n",
       "    .dataframe thead th {\n",
       "        text-align: right;\n",
       "    }\n",
       "</style>\n",
       "<table border=\"1\" class=\"dataframe\">\n",
       "  <thead>\n",
       "    <tr style=\"text-align: right;\">\n",
       "      <th></th>\n",
       "      <th>ppsn</th>\n",
       "      <th>Quarter</th>\n",
       "      <th>scheme</th>\n",
       "      <th>total_payment</th>\n",
       "      <th>Year</th>\n",
       "      <th>Q</th>\n",
       "    </tr>\n",
       "  </thead>\n",
       "  <tbody>\n",
       "    <tr>\n",
       "      <th>0</th>\n",
       "      <td>0045405F</td>\n",
       "      <td>2013_Q3</td>\n",
       "      <td>CB</td>\n",
       "      <td>780.0</td>\n",
       "      <td>2013</td>\n",
       "      <td>Q3</td>\n",
       "    </tr>\n",
       "    <tr>\n",
       "      <th>1</th>\n",
       "      <td>0045405F</td>\n",
       "      <td>2013_Q3</td>\n",
       "      <td>INTN</td>\n",
       "      <td>3481.4</td>\n",
       "      <td>2013</td>\n",
       "      <td>Q3</td>\n",
       "    </tr>\n",
       "    <tr>\n",
       "      <th>2</th>\n",
       "      <td>0045405F</td>\n",
       "      <td>2013_Q4</td>\n",
       "      <td>CB</td>\n",
       "      <td>780.0</td>\n",
       "      <td>2013</td>\n",
       "      <td>Q4</td>\n",
       "    </tr>\n",
       "    <tr>\n",
       "      <th>3</th>\n",
       "      <td>0045405F</td>\n",
       "      <td>2013_Q4</td>\n",
       "      <td>INTN</td>\n",
       "      <td>1071.2</td>\n",
       "      <td>2013</td>\n",
       "      <td>Q4</td>\n",
       "    </tr>\n",
       "    <tr>\n",
       "      <th>4</th>\n",
       "      <td>0045405F</td>\n",
       "      <td>2013_Q4</td>\n",
       "      <td>UB</td>\n",
       "      <td>1980.2</td>\n",
       "      <td>2013</td>\n",
       "      <td>Q4</td>\n",
       "    </tr>\n",
       "  </tbody>\n",
       "</table>\n",
       "</div>"
      ],
      "text/plain": [
       "       ppsn  Quarter scheme  total_payment  Year   Q\n",
       "0  0045405F  2013_Q3     CB          780.0  2013  Q3\n",
       "1  0045405F  2013_Q3   INTN         3481.4  2013  Q3\n",
       "2  0045405F  2013_Q4     CB          780.0  2013  Q4\n",
       "3  0045405F  2013_Q4   INTN         1071.2  2013  Q4\n",
       "4  0045405F  2013_Q4     UB         1980.2  2013  Q4"
      ]
     },
     "execution_count": 12,
     "metadata": {},
     "output_type": "execute_result"
    }
   ],
   "source": [
    "payments.head()"
   ]
  },
  {
   "cell_type": "code",
   "execution_count": 13,
   "metadata": {},
   "outputs": [],
   "source": [
    "#df=payments.groupby(['ppsn', 'Year'])['total_payment'].sum()\n",
    "df=pd.pivot_table(payments,index=['ppsn', 'Year'], values='total_payment', aggfunc=np.sum)"
   ]
  },
  {
   "cell_type": "code",
   "execution_count": 14,
   "metadata": {},
   "outputs": [],
   "source": [
    "df=df.reset_index(['Year'])"
   ]
  },
  {
   "cell_type": "code",
   "execution_count": 15,
   "metadata": {},
   "outputs": [
    {
     "data": {
      "text/plain": [
       "pandas.core.series.Series"
      ]
     },
     "execution_count": 15,
     "metadata": {},
     "output_type": "execute_result"
    }
   ],
   "source": [
    "type(df['Year'])"
   ]
  },
  {
   "cell_type": "code",
   "execution_count": 17,
   "metadata": {},
   "outputs": [
    {
     "data": {
      "text/plain": [
       "Year             0\n",
       "total_payment    0\n",
       "dtype: int64"
      ]
     },
     "execution_count": 17,
     "metadata": {},
     "output_type": "execute_result"
    }
   ],
   "source": [
    "df.isnull().sum()"
   ]
  },
  {
   "cell_type": "code",
   "execution_count": 18,
   "metadata": {},
   "outputs": [
    {
     "data": {
      "text/html": [
       "<div>\n",
       "<style scoped>\n",
       "    .dataframe tbody tr th:only-of-type {\n",
       "        vertical-align: middle;\n",
       "    }\n",
       "\n",
       "    .dataframe tbody tr th {\n",
       "        vertical-align: top;\n",
       "    }\n",
       "\n",
       "    .dataframe thead th {\n",
       "        text-align: right;\n",
       "    }\n",
       "</style>\n",
       "<table border=\"1\" class=\"dataframe\">\n",
       "  <thead>\n",
       "    <tr style=\"text-align: right;\">\n",
       "      <th></th>\n",
       "      <th>Year</th>\n",
       "      <th>total_payment</th>\n",
       "    </tr>\n",
       "    <tr>\n",
       "      <th>ppsn</th>\n",
       "      <th></th>\n",
       "      <th></th>\n",
       "    </tr>\n",
       "  </thead>\n",
       "  <tbody>\n",
       "    <tr>\n",
       "      <th>0040557D</th>\n",
       "      <td>2015</td>\n",
       "      <td>2491.5</td>\n",
       "    </tr>\n",
       "    <tr>\n",
       "      <th>0040557D</th>\n",
       "      <td>2016</td>\n",
       "      <td>11082.7</td>\n",
       "    </tr>\n",
       "    <tr>\n",
       "      <th>0040557D</th>\n",
       "      <td>2017</td>\n",
       "      <td>11280.0</td>\n",
       "    </tr>\n",
       "    <tr>\n",
       "      <th>0040557D</th>\n",
       "      <td>2018</td>\n",
       "      <td>5632.2</td>\n",
       "    </tr>\n",
       "    <tr>\n",
       "      <th>0045405F</th>\n",
       "      <td>2013</td>\n",
       "      <td>8092.8</td>\n",
       "    </tr>\n",
       "  </tbody>\n",
       "</table>\n",
       "</div>"
      ],
      "text/plain": [
       "          Year  total_payment\n",
       "ppsn                         \n",
       "0040557D  2015         2491.5\n",
       "0040557D  2016        11082.7\n",
       "0040557D  2017        11280.0\n",
       "0040557D  2018         5632.2\n",
       "0045405F  2013         8092.8"
      ]
     },
     "execution_count": 18,
     "metadata": {},
     "output_type": "execute_result"
    }
   ],
   "source": [
    "df.head()"
   ]
  },
  {
   "cell_type": "code",
   "execution_count": 19,
   "metadata": {},
   "outputs": [],
   "source": [
    "\n",
    "array=[\"2013\", \"2014\", \"2015\"]\n",
    "df1=df.loc[df['Year'].isin(array)]\n",
    "#o_credit = dataframe.loc[dataframe['cas_or_ful'].isin(['Casual','Full'])]"
   ]
  },
  {
   "cell_type": "code",
   "execution_count": 20,
   "metadata": {
    "scrolled": true
   },
   "outputs": [
    {
     "data": {
      "text/plain": [
       "Year             0\n",
       "total_payment    0\n",
       "dtype: int64"
      ]
     },
     "execution_count": 20,
     "metadata": {},
     "output_type": "execute_result"
    }
   ],
   "source": [
    "df1.isnull().sum()"
   ]
  },
  {
   "cell_type": "code",
   "execution_count": 21,
   "metadata": {},
   "outputs": [],
   "source": [
    "df1=pd.pivot_table(df1,index=['ppsn'], values='total_payment', aggfunc=np.mean, dropna = True)"
   ]
  },
  {
   "cell_type": "code",
   "execution_count": 22,
   "metadata": {},
   "outputs": [
    {
     "data": {
      "text/plain": [
       "total_payment    0\n",
       "dtype: int64"
      ]
     },
     "execution_count": 22,
     "metadata": {},
     "output_type": "execute_result"
    }
   ],
   "source": [
    "df1.isnull().sum()"
   ]
  },
  {
   "cell_type": "code",
   "execution_count": 23,
   "metadata": {
    "scrolled": true
   },
   "outputs": [
    {
     "data": {
      "text/html": [
       "<div>\n",
       "<style scoped>\n",
       "    .dataframe tbody tr th:only-of-type {\n",
       "        vertical-align: middle;\n",
       "    }\n",
       "\n",
       "    .dataframe tbody tr th {\n",
       "        vertical-align: top;\n",
       "    }\n",
       "\n",
       "    .dataframe thead th {\n",
       "        text-align: right;\n",
       "    }\n",
       "</style>\n",
       "<table border=\"1\" class=\"dataframe\">\n",
       "  <thead>\n",
       "    <tr style=\"text-align: right;\">\n",
       "      <th></th>\n",
       "      <th>mean_payment_2013_to_2015</th>\n",
       "    </tr>\n",
       "    <tr>\n",
       "      <th>ppsn</th>\n",
       "      <th></th>\n",
       "    </tr>\n",
       "  </thead>\n",
       "  <tbody>\n",
       "    <tr>\n",
       "      <th>0040557D</th>\n",
       "      <td>2491.500000</td>\n",
       "    </tr>\n",
       "    <tr>\n",
       "      <th>0045405F</th>\n",
       "      <td>5356.400000</td>\n",
       "    </tr>\n",
       "    <tr>\n",
       "      <th>0059916K</th>\n",
       "      <td>8209.333333</td>\n",
       "    </tr>\n",
       "    <tr>\n",
       "      <th>0070688N</th>\n",
       "      <td>407.300000</td>\n",
       "    </tr>\n",
       "    <tr>\n",
       "      <th>0099665M</th>\n",
       "      <td>14300.866667</td>\n",
       "    </tr>\n",
       "  </tbody>\n",
       "</table>\n",
       "</div>"
      ],
      "text/plain": [
       "          mean_payment_2013_to_2015\n",
       "ppsn                               \n",
       "0040557D                2491.500000\n",
       "0045405F                5356.400000\n",
       "0059916K                8209.333333\n",
       "0070688N                 407.300000\n",
       "0099665M               14300.866667"
      ]
     },
     "execution_count": 23,
     "metadata": {},
     "output_type": "execute_result"
    }
   ],
   "source": [
    "#df1['total_pay_3yr']=df1.groupby(by=['ppsn'])[[\"total_payment\"]].sum()\n",
    "#df.groupby(by=['type'])['qty'].sum()\n",
    "#df1.pivot_table(index='ppsn',columns='total_payment',aggfunc=sum)\n",
    "df1.columns = ['mean_payment_2013_to_2015']\n",
    "df1.head()"
   ]
  },
  {
   "cell_type": "code",
   "execution_count": 24,
   "metadata": {},
   "outputs": [
    {
     "data": {
      "text/html": [
       "<div>\n",
       "<style scoped>\n",
       "    .dataframe tbody tr th:only-of-type {\n",
       "        vertical-align: middle;\n",
       "    }\n",
       "\n",
       "    .dataframe tbody tr th {\n",
       "        vertical-align: top;\n",
       "    }\n",
       "\n",
       "    .dataframe thead th {\n",
       "        text-align: right;\n",
       "    }\n",
       "</style>\n",
       "<table border=\"1\" class=\"dataframe\">\n",
       "  <thead>\n",
       "    <tr style=\"text-align: right;\">\n",
       "      <th></th>\n",
       "      <th>Year</th>\n",
       "      <th>payment_2017</th>\n",
       "    </tr>\n",
       "    <tr>\n",
       "      <th>ppsn</th>\n",
       "      <th></th>\n",
       "      <th></th>\n",
       "    </tr>\n",
       "  </thead>\n",
       "  <tbody>\n",
       "    <tr>\n",
       "      <th>0040557D</th>\n",
       "      <td>2017</td>\n",
       "      <td>11280.00</td>\n",
       "    </tr>\n",
       "    <tr>\n",
       "      <th>0045405F</th>\n",
       "      <td>2017</td>\n",
       "      <td>140.00</td>\n",
       "    </tr>\n",
       "    <tr>\n",
       "      <th>0059916K</th>\n",
       "      <td>2017</td>\n",
       "      <td>9920.70</td>\n",
       "    </tr>\n",
       "    <tr>\n",
       "      <th>0070688N</th>\n",
       "      <td>2017</td>\n",
       "      <td>3647.57</td>\n",
       "    </tr>\n",
       "    <tr>\n",
       "      <th>0099665M</th>\n",
       "      <td>2017</td>\n",
       "      <td>10735.10</td>\n",
       "    </tr>\n",
       "  </tbody>\n",
       "</table>\n",
       "</div>"
      ],
      "text/plain": [
       "          Year  payment_2017\n",
       "ppsn                        \n",
       "0040557D  2017      11280.00\n",
       "0045405F  2017        140.00\n",
       "0059916K  2017       9920.70\n",
       "0070688N  2017       3647.57\n",
       "0099665M  2017      10735.10"
      ]
     },
     "execution_count": 24,
     "metadata": {},
     "output_type": "execute_result"
    }
   ],
   "source": [
    "array=[\"2017\"]\n",
    "df2017=df.loc[df['Year'].isin(array)]\n",
    "df2017.columns = ['Year', 'payment_2017']\n",
    "df2017.head()"
   ]
  },
  {
   "cell_type": "markdown",
   "metadata": {},
   "source": [
    "### Total payments over three years sorted (and possibly put into banded amounts or percentiles)\n",
    "#### three-year sum for payments, three-year average for earnings (though called 'sum'), payments for next year, earnings for next year\n",
    "sort from lowest to highest for earnings, and highest to lowest for payments - assign order expressed in column\n",
    "\n",
    "\n"
   ]
  },
  {
   "cell_type": "code",
   "execution_count": 25,
   "metadata": {
    "scrolled": true
   },
   "outputs": [],
   "source": [
    "df2=df1.reset_index()"
   ]
  },
  {
   "cell_type": "code",
   "execution_count": 26,
   "metadata": {},
   "outputs": [
    {
     "data": {
      "text/html": [
       "<div>\n",
       "<style scoped>\n",
       "    .dataframe tbody tr th:only-of-type {\n",
       "        vertical-align: middle;\n",
       "    }\n",
       "\n",
       "    .dataframe tbody tr th {\n",
       "        vertical-align: top;\n",
       "    }\n",
       "\n",
       "    .dataframe thead th {\n",
       "        text-align: right;\n",
       "    }\n",
       "</style>\n",
       "<table border=\"1\" class=\"dataframe\">\n",
       "  <thead>\n",
       "    <tr style=\"text-align: right;\">\n",
       "      <th></th>\n",
       "      <th>ppsn</th>\n",
       "      <th>mean_payment_2013_to_2015</th>\n",
       "    </tr>\n",
       "  </thead>\n",
       "  <tbody>\n",
       "    <tr>\n",
       "      <th>0</th>\n",
       "      <td>0040557D</td>\n",
       "      <td>2491.500000</td>\n",
       "    </tr>\n",
       "    <tr>\n",
       "      <th>1</th>\n",
       "      <td>0045405F</td>\n",
       "      <td>5356.400000</td>\n",
       "    </tr>\n",
       "    <tr>\n",
       "      <th>2</th>\n",
       "      <td>0059916K</td>\n",
       "      <td>8209.333333</td>\n",
       "    </tr>\n",
       "    <tr>\n",
       "      <th>3</th>\n",
       "      <td>0070688N</td>\n",
       "      <td>407.300000</td>\n",
       "    </tr>\n",
       "    <tr>\n",
       "      <th>4</th>\n",
       "      <td>0099665M</td>\n",
       "      <td>14300.866667</td>\n",
       "    </tr>\n",
       "  </tbody>\n",
       "</table>\n",
       "</div>"
      ],
      "text/plain": [
       "       ppsn  mean_payment_2013_to_2015\n",
       "0  0040557D                2491.500000\n",
       "1  0045405F                5356.400000\n",
       "2  0059916K                8209.333333\n",
       "3  0070688N                 407.300000\n",
       "4  0099665M               14300.866667"
      ]
     },
     "execution_count": 26,
     "metadata": {},
     "output_type": "execute_result"
    }
   ],
   "source": [
    "df2.head()"
   ]
  },
  {
   "cell_type": "code",
   "execution_count": 27,
   "metadata": {},
   "outputs": [
    {
     "data": {
      "text/plain": [
       "ppsn                         0\n",
       "mean_payment_2013_to_2015    0\n",
       "dtype: int64"
      ]
     },
     "execution_count": 27,
     "metadata": {},
     "output_type": "execute_result"
    }
   ],
   "source": [
    "df2.isnull().sum()"
   ]
  },
  {
   "cell_type": "code",
   "execution_count": null,
   "metadata": {},
   "outputs": [],
   "source": [
    "list(df2)"
   ]
  },
  {
   "cell_type": "code",
   "execution_count": 28,
   "metadata": {
    "scrolled": true
   },
   "outputs": [
    {
     "data": {
      "text/plain": [
       "(110364, 60)"
      ]
     },
     "execution_count": 28,
     "metadata": {},
     "output_type": "execute_result"
    }
   ],
   "source": [
    "pay_earn_jp1=pd.merge(data_final, df2, on='ppsn', how='left')\n",
    "pay_earn_jp1.shape"
   ]
  },
  {
   "cell_type": "code",
   "execution_count": 29,
   "metadata": {},
   "outputs": [
    {
     "data": {
      "text/plain": [
       "cluster                          0\n",
       "ppsn                             0\n",
       "age                              0\n",
       "duration_days_0                  0\n",
       "sex                              0\n",
       "LM_code_rank_P1                  0\n",
       "occupation_rank_P1            8876\n",
       "ada_code_rank_P1                 0\n",
       "family_flag_rank_P1              0\n",
       "marital_status_rank_P1        8877\n",
       "LM_code_rank_P2                  0\n",
       "occupation_rank_P2           13139\n",
       "ada_code_rank_P2                 0\n",
       "family_flag_rank_P2              0\n",
       "marital_status_rank_P2       13140\n",
       "LM_code_rank_P3                  0\n",
       "occupation_rank_P3           16215\n",
       "ada_code_rank_P3                 0\n",
       "family_flag_rank_P3              0\n",
       "marital_status_rank_P3       16216\n",
       "LM_code_rank_P4                  0\n",
       "occupation_rank_P4           17909\n",
       "ada_code_rank_P4                 0\n",
       "family_flag_rank_P4              0\n",
       "marital_status_rank_P4       17910\n",
       "LM_code_rank_P5                  0\n",
       "occupation_rank_P5           18134\n",
       "ada_code_rank_P5                 0\n",
       "family_flag_rank_P5              0\n",
       "marital_status_rank_P5       18135\n",
       "LM_code_rank_P6                  0\n",
       "occupation_rank_P6           18082\n",
       "ada_code_rank_P6                 0\n",
       "family_flag_rank_P6              0\n",
       "marital_status_rank_P6       18083\n",
       "LM_code_rank_P7                  0\n",
       "occupation_rank_P7           18337\n",
       "ada_code_rank_P7                 0\n",
       "family_flag_rank_P7              0\n",
       "LM_code_rank_P8                  0\n",
       "occupation_rank_P8           18076\n",
       "ada_code_rank_P8                 0\n",
       "family_flag_rank_P8              0\n",
       "marital_status_rank_P7       18338\n",
       "marital_status_rank_P8       18077\n",
       "jp_started_P1                    0\n",
       "jp_started_P2                    0\n",
       "jp_started_P3                    0\n",
       "jp_started_P4                    0\n",
       "jp_started_P5                    0\n",
       "jp_started_P6                    0\n",
       "jp_started_P7                    0\n",
       "jp_started_P8                    0\n",
       "Duration Bands                   0\n",
       "Sum_2013_2015                    0\n",
       "Sum_2013                         0\n",
       "Sum_2014                         0\n",
       "Sum_2015                         0\n",
       "mean_2013_2015                   0\n",
       "mean_payment_2013_to_2015       21\n",
       "dtype: int64"
      ]
     },
     "execution_count": 29,
     "metadata": {},
     "output_type": "execute_result"
    }
   ],
   "source": [
    "pay_earn_jp1.isnull().sum()"
   ]
  },
  {
   "cell_type": "code",
   "execution_count": 30,
   "metadata": {},
   "outputs": [
    {
     "data": {
      "text/plain": [
       "cluster                          0\n",
       "ppsn                             0\n",
       "age                              0\n",
       "duration_days_0                  0\n",
       "sex                              0\n",
       "LM_code_rank_P1                  0\n",
       "occupation_rank_P1            8875\n",
       "ada_code_rank_P1                 0\n",
       "family_flag_rank_P1              0\n",
       "marital_status_rank_P1        8875\n",
       "LM_code_rank_P2                  0\n",
       "occupation_rank_P2           13138\n",
       "ada_code_rank_P2                 0\n",
       "family_flag_rank_P2              0\n",
       "marital_status_rank_P2       13138\n",
       "LM_code_rank_P3                  0\n",
       "occupation_rank_P3           16212\n",
       "ada_code_rank_P3                 0\n",
       "family_flag_rank_P3              0\n",
       "marital_status_rank_P3       16212\n",
       "LM_code_rank_P4                  0\n",
       "occupation_rank_P4           17906\n",
       "ada_code_rank_P4                 0\n",
       "family_flag_rank_P4              0\n",
       "marital_status_rank_P4       17906\n",
       "LM_code_rank_P5                  0\n",
       "occupation_rank_P5           18130\n",
       "ada_code_rank_P5                 0\n",
       "family_flag_rank_P5              0\n",
       "marital_status_rank_P5       18130\n",
       "LM_code_rank_P6                  0\n",
       "occupation_rank_P6           18077\n",
       "ada_code_rank_P6                 0\n",
       "family_flag_rank_P6              0\n",
       "marital_status_rank_P6       18077\n",
       "LM_code_rank_P7                  0\n",
       "occupation_rank_P7           18333\n",
       "ada_code_rank_P7                 0\n",
       "family_flag_rank_P7              0\n",
       "LM_code_rank_P8                  0\n",
       "occupation_rank_P8           18072\n",
       "ada_code_rank_P8                 0\n",
       "family_flag_rank_P8              0\n",
       "marital_status_rank_P7       18333\n",
       "marital_status_rank_P8       18072\n",
       "jp_started_P1                    0\n",
       "jp_started_P2                    0\n",
       "jp_started_P3                    0\n",
       "jp_started_P4                    0\n",
       "jp_started_P5                    0\n",
       "jp_started_P6                    0\n",
       "jp_started_P7                    0\n",
       "jp_started_P8                    0\n",
       "Duration Bands                   0\n",
       "Sum_2013_2015                    0\n",
       "Sum_2013                         0\n",
       "Sum_2014                         0\n",
       "Sum_2015                         0\n",
       "mean_2013_2015                   0\n",
       "mean_payment_2013_to_2015        0\n",
       "dtype: int64"
      ]
     },
     "execution_count": 30,
     "metadata": {},
     "output_type": "execute_result"
    }
   ],
   "source": [
    "#merged df contains Nan in \n",
    "# check with df2.isnull().sum()\n",
    "#drop with:\n",
    "pay_earn_jp1 = pay_earn_jp1.dropna(subset=['mean_payment_2013_to_2015'])\n",
    "pay_earn_jp1.isnull().sum()"
   ]
  },
  {
   "cell_type": "code",
   "execution_count": 31,
   "metadata": {},
   "outputs": [],
   "source": [
    "df2017_pay=df2017.reset_index()"
   ]
  },
  {
   "cell_type": "code",
   "execution_count": 32,
   "metadata": {},
   "outputs": [
    {
     "data": {
      "text/plain": [
       "(492307, 3)"
      ]
     },
     "execution_count": 32,
     "metadata": {},
     "output_type": "execute_result"
    }
   ],
   "source": [
    "df2017_pay.shape"
   ]
  },
  {
   "cell_type": "code",
   "execution_count": 33,
   "metadata": {},
   "outputs": [],
   "source": [
    "#pay_earn_jp1.drop(['total_payment'], axis=1)"
   ]
  },
  {
   "cell_type": "code",
   "execution_count": 34,
   "metadata": {},
   "outputs": [],
   "source": [
    "pay_earn_jp=pd.merge(pay_earn_jp1, df2017_pay, on='ppsn', how='left')\n"
   ]
  },
  {
   "cell_type": "code",
   "execution_count": 35,
   "metadata": {},
   "outputs": [
    {
     "data": {
      "text/plain": [
       "['cluster',\n",
       " 'ppsn',\n",
       " 'age',\n",
       " 'duration_days_0',\n",
       " 'sex',\n",
       " 'LM_code_rank_P1',\n",
       " 'occupation_rank_P1',\n",
       " 'ada_code_rank_P1',\n",
       " 'family_flag_rank_P1',\n",
       " 'marital_status_rank_P1',\n",
       " 'LM_code_rank_P2',\n",
       " 'occupation_rank_P2',\n",
       " 'ada_code_rank_P2',\n",
       " 'family_flag_rank_P2',\n",
       " 'marital_status_rank_P2',\n",
       " 'LM_code_rank_P3',\n",
       " 'occupation_rank_P3',\n",
       " 'ada_code_rank_P3',\n",
       " 'family_flag_rank_P3',\n",
       " 'marital_status_rank_P3',\n",
       " 'LM_code_rank_P4',\n",
       " 'occupation_rank_P4',\n",
       " 'ada_code_rank_P4',\n",
       " 'family_flag_rank_P4',\n",
       " 'marital_status_rank_P4',\n",
       " 'LM_code_rank_P5',\n",
       " 'occupation_rank_P5',\n",
       " 'ada_code_rank_P5',\n",
       " 'family_flag_rank_P5',\n",
       " 'marital_status_rank_P5',\n",
       " 'LM_code_rank_P6',\n",
       " 'occupation_rank_P6',\n",
       " 'ada_code_rank_P6',\n",
       " 'family_flag_rank_P6',\n",
       " 'marital_status_rank_P6',\n",
       " 'LM_code_rank_P7',\n",
       " 'occupation_rank_P7',\n",
       " 'ada_code_rank_P7',\n",
       " 'family_flag_rank_P7',\n",
       " 'LM_code_rank_P8',\n",
       " 'occupation_rank_P8',\n",
       " 'ada_code_rank_P8',\n",
       " 'family_flag_rank_P8',\n",
       " 'marital_status_rank_P7',\n",
       " 'marital_status_rank_P8',\n",
       " 'jp_started_P1',\n",
       " 'jp_started_P2',\n",
       " 'jp_started_P3',\n",
       " 'jp_started_P4',\n",
       " 'jp_started_P5',\n",
       " 'jp_started_P6',\n",
       " 'jp_started_P7',\n",
       " 'jp_started_P8',\n",
       " 'Duration Bands',\n",
       " 'Sum_2013_2015',\n",
       " 'Sum_2013',\n",
       " 'Sum_2014',\n",
       " 'Sum_2015',\n",
       " 'mean_2013_2015',\n",
       " 'mean_payment_2013_to_2015',\n",
       " 'Year',\n",
       " 'payment_2017']"
      ]
     },
     "execution_count": 35,
     "metadata": {},
     "output_type": "execute_result"
    }
   ],
   "source": [
    "list(pay_earn_jp)\n",
    "#pay_earn_jp['total_payment'].describe"
   ]
  },
  {
   "cell_type": "code",
   "execution_count": 36,
   "metadata": {},
   "outputs": [],
   "source": [
    "#pd.qcut(pay_earn_jp['total_payment_x', 100).value_counts()"
   ]
  },
  {
   "cell_type": "code",
   "execution_count": 37,
   "metadata": {},
   "outputs": [],
   "source": [
    "pay_earn_jp['mean_earnings_less_payment_2013_to_2015'] = pay_earn_jp.apply(lambda row: row.mean_2013_2015 - \n",
    "                                                                           row.mean_payment_2013_to_2015, axis=1)"
   ]
  },
  {
   "cell_type": "code",
   "execution_count": 38,
   "metadata": {},
   "outputs": [
    {
     "data": {
      "text/html": [
       "<div>\n",
       "<style scoped>\n",
       "    .dataframe tbody tr th:only-of-type {\n",
       "        vertical-align: middle;\n",
       "    }\n",
       "\n",
       "    .dataframe tbody tr th {\n",
       "        vertical-align: top;\n",
       "    }\n",
       "\n",
       "    .dataframe thead th {\n",
       "        text-align: right;\n",
       "    }\n",
       "</style>\n",
       "<table border=\"1\" class=\"dataframe\">\n",
       "  <thead>\n",
       "    <tr style=\"text-align: right;\">\n",
       "      <th></th>\n",
       "      <th>cluster</th>\n",
       "      <th>ppsn</th>\n",
       "      <th>age</th>\n",
       "      <th>duration_days_0</th>\n",
       "      <th>sex</th>\n",
       "      <th>LM_code_rank_P1</th>\n",
       "      <th>occupation_rank_P1</th>\n",
       "      <th>ada_code_rank_P1</th>\n",
       "      <th>family_flag_rank_P1</th>\n",
       "      <th>marital_status_rank_P1</th>\n",
       "      <th>...</th>\n",
       "      <th>Duration Bands</th>\n",
       "      <th>Sum_2013_2015</th>\n",
       "      <th>Sum_2013</th>\n",
       "      <th>Sum_2014</th>\n",
       "      <th>Sum_2015</th>\n",
       "      <th>mean_2013_2015</th>\n",
       "      <th>mean_payment_2013_to_2015</th>\n",
       "      <th>Year</th>\n",
       "      <th>payment_2017</th>\n",
       "      <th>mean_earnings_less_payment_2013_to_2015</th>\n",
       "    </tr>\n",
       "  </thead>\n",
       "  <tbody>\n",
       "    <tr>\n",
       "      <th>0</th>\n",
       "      <td>2</td>\n",
       "      <td>0099665M</td>\n",
       "      <td>54.0</td>\n",
       "      <td>6316</td>\n",
       "      <td>1.0</td>\n",
       "      <td>6.0</td>\n",
       "      <td>2.0</td>\n",
       "      <td>5</td>\n",
       "      <td>3</td>\n",
       "      <td>2.0</td>\n",
       "      <td>...</td>\n",
       "      <td>3</td>\n",
       "      <td>0.0</td>\n",
       "      <td>0.0</td>\n",
       "      <td>0.0</td>\n",
       "      <td>0.0</td>\n",
       "      <td>0.0</td>\n",
       "      <td>14300.866667</td>\n",
       "      <td>2017</td>\n",
       "      <td>10735.1</td>\n",
       "      <td>-14300.866667</td>\n",
       "    </tr>\n",
       "    <tr>\n",
       "      <th>1</th>\n",
       "      <td>2</td>\n",
       "      <td>0206477C</td>\n",
       "      <td>59.0</td>\n",
       "      <td>3964</td>\n",
       "      <td>2.0</td>\n",
       "      <td>6.0</td>\n",
       "      <td>5.0</td>\n",
       "      <td>5</td>\n",
       "      <td>3</td>\n",
       "      <td>2.0</td>\n",
       "      <td>...</td>\n",
       "      <td>3</td>\n",
       "      <td>0.0</td>\n",
       "      <td>0.0</td>\n",
       "      <td>0.0</td>\n",
       "      <td>0.0</td>\n",
       "      <td>0.0</td>\n",
       "      <td>14092.266667</td>\n",
       "      <td>2017</td>\n",
       "      <td>17179.6</td>\n",
       "      <td>-14092.266667</td>\n",
       "    </tr>\n",
       "    <tr>\n",
       "      <th>2</th>\n",
       "      <td>2</td>\n",
       "      <td>0202920T</td>\n",
       "      <td>59.0</td>\n",
       "      <td>1285</td>\n",
       "      <td>2.0</td>\n",
       "      <td>6.0</td>\n",
       "      <td>7.0</td>\n",
       "      <td>4</td>\n",
       "      <td>1</td>\n",
       "      <td>2.0</td>\n",
       "      <td>...</td>\n",
       "      <td>3</td>\n",
       "      <td>0.0</td>\n",
       "      <td>0.0</td>\n",
       "      <td>0.0</td>\n",
       "      <td>0.0</td>\n",
       "      <td>0.0</td>\n",
       "      <td>6829.466667</td>\n",
       "      <td>2017</td>\n",
       "      <td>8445.5</td>\n",
       "      <td>-6829.466667</td>\n",
       "    </tr>\n",
       "    <tr>\n",
       "      <th>3</th>\n",
       "      <td>5</td>\n",
       "      <td>0205276K</td>\n",
       "      <td>55.0</td>\n",
       "      <td>1415</td>\n",
       "      <td>2.0</td>\n",
       "      <td>6.0</td>\n",
       "      <td>2.0</td>\n",
       "      <td>6</td>\n",
       "      <td>3</td>\n",
       "      <td>2.0</td>\n",
       "      <td>...</td>\n",
       "      <td>3</td>\n",
       "      <td>0.0</td>\n",
       "      <td>0.0</td>\n",
       "      <td>0.0</td>\n",
       "      <td>0.0</td>\n",
       "      <td>0.0</td>\n",
       "      <td>6649.550000</td>\n",
       "      <td>NaN</td>\n",
       "      <td>NaN</td>\n",
       "      <td>-6649.550000</td>\n",
       "    </tr>\n",
       "    <tr>\n",
       "      <th>4</th>\n",
       "      <td>2</td>\n",
       "      <td>0202425J</td>\n",
       "      <td>59.0</td>\n",
       "      <td>2445</td>\n",
       "      <td>2.0</td>\n",
       "      <td>6.0</td>\n",
       "      <td>7.0</td>\n",
       "      <td>5</td>\n",
       "      <td>3</td>\n",
       "      <td>2.0</td>\n",
       "      <td>...</td>\n",
       "      <td>3</td>\n",
       "      <td>0.0</td>\n",
       "      <td>0.0</td>\n",
       "      <td>0.0</td>\n",
       "      <td>0.0</td>\n",
       "      <td>0.0</td>\n",
       "      <td>14125.600000</td>\n",
       "      <td>2017</td>\n",
       "      <td>17472.1</td>\n",
       "      <td>-14125.600000</td>\n",
       "    </tr>\n",
       "  </tbody>\n",
       "</table>\n",
       "<p>5 rows × 63 columns</p>\n",
       "</div>"
      ],
      "text/plain": [
       "   cluster      ppsn   age  duration_days_0  sex  LM_code_rank_P1  \\\n",
       "0        2  0099665M  54.0             6316  1.0              6.0   \n",
       "1        2  0206477C  59.0             3964  2.0              6.0   \n",
       "2        2  0202920T  59.0             1285  2.0              6.0   \n",
       "3        5  0205276K  55.0             1415  2.0              6.0   \n",
       "4        2  0202425J  59.0             2445  2.0              6.0   \n",
       "\n",
       "   occupation_rank_P1  ada_code_rank_P1  family_flag_rank_P1  \\\n",
       "0                 2.0                 5                    3   \n",
       "1                 5.0                 5                    3   \n",
       "2                 7.0                 4                    1   \n",
       "3                 2.0                 6                    3   \n",
       "4                 7.0                 5                    3   \n",
       "\n",
       "   marital_status_rank_P1                   ...                     \\\n",
       "0                     2.0                   ...                      \n",
       "1                     2.0                   ...                      \n",
       "2                     2.0                   ...                      \n",
       "3                     2.0                   ...                      \n",
       "4                     2.0                   ...                      \n",
       "\n",
       "   Duration Bands  Sum_2013_2015  Sum_2013  Sum_2014  Sum_2015  \\\n",
       "0               3            0.0       0.0       0.0       0.0   \n",
       "1               3            0.0       0.0       0.0       0.0   \n",
       "2               3            0.0       0.0       0.0       0.0   \n",
       "3               3            0.0       0.0       0.0       0.0   \n",
       "4               3            0.0       0.0       0.0       0.0   \n",
       "\n",
       "   mean_2013_2015  mean_payment_2013_to_2015  Year  payment_2017  \\\n",
       "0             0.0               14300.866667  2017       10735.1   \n",
       "1             0.0               14092.266667  2017       17179.6   \n",
       "2             0.0                6829.466667  2017        8445.5   \n",
       "3             0.0                6649.550000   NaN           NaN   \n",
       "4             0.0               14125.600000  2017       17472.1   \n",
       "\n",
       "   mean_earnings_less_payment_2013_to_2015  \n",
       "0                            -14300.866667  \n",
       "1                            -14092.266667  \n",
       "2                             -6829.466667  \n",
       "3                             -6649.550000  \n",
       "4                            -14125.600000  \n",
       "\n",
       "[5 rows x 63 columns]"
      ]
     },
     "execution_count": 38,
     "metadata": {},
     "output_type": "execute_result"
    }
   ],
   "source": [
    "pay_earn_jp.head()"
   ]
  },
  {
   "cell_type": "code",
   "execution_count": 39,
   "metadata": {},
   "outputs": [
    {
     "data": {
      "text/plain": [
       "0.0      100.000000\n",
       "0.1     4891.856667\n",
       "0.2     6655.940000\n",
       "0.3     7801.900000\n",
       "0.4     8207.233333\n",
       "0.5     8274.000000\n",
       "0.6     8695.652000\n",
       "0.7    10136.780000\n",
       "0.8    12258.253333\n",
       "0.9    16391.040000\n",
       "1.0    47615.633333\n",
       "Name: mean_payment_2013_to_2015, dtype: float64"
      ]
     },
     "execution_count": 39,
     "metadata": {},
     "output_type": "execute_result"
    }
   ],
   "source": [
    "pay_earn_jp['mean_payment_2013_to_2015'].quantile([0, 0.1, 0.2, 0.3, 0.4, 0.5, 0.6, 0.7, 0.8, 0.9, 1])"
   ]
  },
  {
   "cell_type": "code",
   "execution_count": 40,
   "metadata": {},
   "outputs": [
    {
     "data": {
      "text/plain": [
       "0.0        0.000\n",
       "0.1     2758.372\n",
       "0.2     5108.960\n",
       "0.3     7412.700\n",
       "0.4     9363.600\n",
       "0.5    10150.100\n",
       "0.6    10529.200\n",
       "0.7    11380.900\n",
       "0.8    14168.820\n",
       "0.9    19297.100\n",
       "1.0    67409.800\n",
       "Name: payment_2017, dtype: float64"
      ]
     },
     "execution_count": 40,
     "metadata": {},
     "output_type": "execute_result"
    }
   ],
   "source": [
    "pay_earn_jp['payment_2017'].quantile([0, 0.1, 0.2, 0.3, 0.4, 0.5, 0.6, 0.7, 0.8, 0.9, 1])"
   ]
  },
  {
   "cell_type": "code",
   "execution_count": 41,
   "metadata": {},
   "outputs": [
    {
     "data": {
      "text/plain": [
       "0.0         0.000000\n",
       "0.1         0.000000\n",
       "0.2         0.000000\n",
       "0.3         0.000000\n",
       "0.4         0.000000\n",
       "0.5         0.000000\n",
       "0.6         0.000000\n",
       "0.7       212.000000\n",
       "0.8      1434.533333\n",
       "0.9      4253.988000\n",
       "1.0    329656.000000\n",
       "Name: mean_2013_2015, dtype: float64"
      ]
     },
     "execution_count": 41,
     "metadata": {},
     "output_type": "execute_result"
    }
   ],
   "source": [
    "pay_earn_jp['mean_2013_2015'].quantile([0, 0.1, 0.2, 0.3, 0.4, 0.5, 0.6, 0.7, 0.8, 0.9, 1])"
   ]
  },
  {
   "cell_type": "code",
   "execution_count": 42,
   "metadata": {},
   "outputs": [],
   "source": [
    "percentile_list = []\n",
    "for x in range (1, 101):\n",
    "    percentile_list.append(x/100)\n",
    "earnings_percentiles = pay_earn_jp['mean_2013_2015'].quantile(percentile_list)\n",
    "payment_percentiles = pay_earn_jp['mean_payment_2013_to_2015'].quantile(percentile_list)\n",
    "payment_percentiles_2017 = pay_earn_jp['payment_2017'].quantile(percentile_list)"
   ]
  },
  {
   "cell_type": "code",
   "execution_count": 43,
   "metadata": {},
   "outputs": [
    {
     "data": {
      "text/plain": [
       "<matplotlib.axes._subplots.AxesSubplot at 0x129feb908>"
      ]
     },
     "execution_count": 43,
     "metadata": {},
     "output_type": "execute_result"
    },
    {
     "data": {
      "image/png": "[encoded data removed]",
      "text/plain": [
       "<Figure size 432x288 with 1 Axes>"
      ]
     },
     "metadata": {},
     "output_type": "display_data"
    }
   ],
   "source": [
    "earnings_percentiles.hist(bins=100)"
   ]
  },
  {
   "cell_type": "code",
   "execution_count": 44,
   "metadata": {},
   "outputs": [
    {
     "data": {
      "text/plain": [
       "<matplotlib.axes._subplots.AxesSubplot at 0x143dc4ba8>"
      ]
     },
     "execution_count": 44,
     "metadata": {},
     "output_type": "execute_result"
    },
    {
     "data": {
      "image/png": "[encoded data removed]",
      "text/plain": [
       "<Figure size 432x288 with 1 Axes>"
      ]
     },
     "metadata": {},
     "output_type": "display_data"
    }
   ],
   "source": [
    "payment_percentiles.hist(bins=50)"
   ]
  },
  {
   "cell_type": "code",
   "execution_count": 45,
   "metadata": {},
   "outputs": [
    {
     "data": {
      "text/plain": [
       "<matplotlib.axes._subplots.AxesSubplot at 0x10bb325f8>"
      ]
     },
     "execution_count": 45,
     "metadata": {},
     "output_type": "execute_result"
    },
    {
     "data": {
      "image/png": "[encoded data removed]",
      "text/plain": [
       "<Figure size 432x288 with 1 Axes>"
      ]
     },
     "metadata": {},
     "output_type": "display_data"
    }
   ],
   "source": [
    "payment_percentiles_2017.hist(bins=50)"
   ]
  },
  {
   "cell_type": "code",
   "execution_count": 46,
   "metadata": {},
   "outputs": [],
   "source": [
    "#pay_earn_jp['earnings_percentile'] = pay_earn_jp.apply(lambda row: row.Sum_2013_2015, axis=1)"
   ]
  },
  {
   "cell_type": "code",
   "execution_count": 47,
   "metadata": {},
   "outputs": [
    {
     "data": {
      "text/plain": [
       "0.01         0.000000\n",
       "0.02         0.000000\n",
       "0.03         0.000000\n",
       "0.04         0.000000\n",
       "0.05         0.000000\n",
       "0.06         0.000000\n",
       "0.07         0.000000\n",
       "0.08         0.000000\n",
       "0.09         0.000000\n",
       "0.10         0.000000\n",
       "0.11         0.000000\n",
       "0.12         0.000000\n",
       "0.13         0.000000\n",
       "0.14         0.000000\n",
       "0.15         0.000000\n",
       "0.16         0.000000\n",
       "0.17         0.000000\n",
       "0.18         0.000000\n",
       "0.19         0.000000\n",
       "0.20         0.000000\n",
       "0.21         0.000000\n",
       "0.22         0.000000\n",
       "0.23         0.000000\n",
       "0.24         0.000000\n",
       "0.25         0.000000\n",
       "0.26         0.000000\n",
       "0.27         0.000000\n",
       "0.28         0.000000\n",
       "0.29         0.000000\n",
       "0.30         0.000000\n",
       "            ...      \n",
       "0.71       295.990400\n",
       "0.72       372.400000\n",
       "0.73       465.333333\n",
       "0.74       556.803733\n",
       "0.75       672.368333\n",
       "0.76       786.666667\n",
       "0.77       928.453267\n",
       "0.78      1079.747733\n",
       "0.79      1256.726667\n",
       "0.80      1434.533333\n",
       "0.81      1623.333333\n",
       "0.82      1833.333333\n",
       "0.83      2067.114667\n",
       "0.84      2317.042933\n",
       "0.85      2576.386667\n",
       "0.86      2842.666667\n",
       "0.87      3145.183067\n",
       "0.88      3512.653333\n",
       "0.89      3787.333333\n",
       "0.90      4253.988000\n",
       "0.91      4815.666667\n",
       "0.92      5499.520000\n",
       "0.93      6284.666667\n",
       "0.94      7224.813333\n",
       "0.95      8397.000000\n",
       "0.96     10084.773333\n",
       "0.97     12318.060000\n",
       "0.98     15616.266667\n",
       "0.99     21554.966667\n",
       "1.00    329656.000000\n",
       "Name: mean_2013_2015, Length: 100, dtype: float64"
      ]
     },
     "execution_count": 47,
     "metadata": {},
     "output_type": "execute_result"
    }
   ],
   "source": [
    "earnings_percentiles"
   ]
  },
  {
   "cell_type": "code",
   "execution_count": 48,
   "metadata": {},
   "outputs": [
    {
     "data": {
      "text/plain": [
       "67409.8"
      ]
     },
     "execution_count": 48,
     "metadata": {},
     "output_type": "execute_result"
    }
   ],
   "source": [
    "pay_earn_jp['payment_2017'].max()"
   ]
  },
  {
   "cell_type": "code",
   "execution_count": 49,
   "metadata": {},
   "outputs": [],
   "source": [
    "pay_earn_jp_P1=pay_earn_jp.loc[pay_earn_jp['jp_started_P1']==1]\n",
    "\n",
    "#pay_earn_jp_P1_0 = pay_earn_jp_P1.loc[pay_earn_jp['cluster']==0]"
   ]
  },
  {
   "cell_type": "code",
   "execution_count": 50,
   "metadata": {},
   "outputs": [],
   "source": [
    "pay_earn_jp_not_P1=pay_earn_jp.loc[pay_earn_jp['jp_started_P1']==0]"
   ]
  },
  {
   "cell_type": "code",
   "execution_count": 51,
   "metadata": {},
   "outputs": [
    {
     "data": {
      "text/html": [
       "<div>\n",
       "<style scoped>\n",
       "    .dataframe tbody tr th:only-of-type {\n",
       "        vertical-align: middle;\n",
       "    }\n",
       "\n",
       "    .dataframe tbody tr th {\n",
       "        vertical-align: top;\n",
       "    }\n",
       "\n",
       "    .dataframe thead th {\n",
       "        text-align: right;\n",
       "    }\n",
       "</style>\n",
       "<table border=\"1\" class=\"dataframe\">\n",
       "  <thead>\n",
       "    <tr style=\"text-align: right;\">\n",
       "      <th></th>\n",
       "      <th>cluster</th>\n",
       "      <th>ppsn</th>\n",
       "      <th>age</th>\n",
       "      <th>duration_days_0</th>\n",
       "      <th>sex</th>\n",
       "      <th>LM_code_rank_P1</th>\n",
       "      <th>occupation_rank_P1</th>\n",
       "      <th>ada_code_rank_P1</th>\n",
       "      <th>family_flag_rank_P1</th>\n",
       "      <th>marital_status_rank_P1</th>\n",
       "      <th>...</th>\n",
       "      <th>Sum_2013_2015</th>\n",
       "      <th>Sum_2013</th>\n",
       "      <th>Sum_2014</th>\n",
       "      <th>Sum_2015</th>\n",
       "      <th>mean_2013_2015</th>\n",
       "      <th>mean_payment_2013_to_2015</th>\n",
       "      <th>Year</th>\n",
       "      <th>payment_2017</th>\n",
       "      <th>mean_earnings_less_payment_2013_to_2015</th>\n",
       "      <th>cut_value</th>\n",
       "    </tr>\n",
       "  </thead>\n",
       "  <tbody>\n",
       "    <tr>\n",
       "      <th>78929</th>\n",
       "      <td>2</td>\n",
       "      <td>7167866L</td>\n",
       "      <td>36.0</td>\n",
       "      <td>3384</td>\n",
       "      <td>1.0</td>\n",
       "      <td>6.0</td>\n",
       "      <td>3.0</td>\n",
       "      <td>5</td>\n",
       "      <td>4</td>\n",
       "      <td>1.0</td>\n",
       "      <td>...</td>\n",
       "      <td>0.0</td>\n",
       "      <td>0.0</td>\n",
       "      <td>0.0</td>\n",
       "      <td>0.0</td>\n",
       "      <td>0.0</td>\n",
       "      <td>643.833333</td>\n",
       "      <td>2017</td>\n",
       "      <td>509.5</td>\n",
       "      <td>-643.833333</td>\n",
       "      <td>64403384</td>\n",
       "    </tr>\n",
       "    <tr>\n",
       "      <th>32067</th>\n",
       "      <td>5</td>\n",
       "      <td>5775190C</td>\n",
       "      <td>56.0</td>\n",
       "      <td>357</td>\n",
       "      <td>1.0</td>\n",
       "      <td>6.0</td>\n",
       "      <td>4.0</td>\n",
       "      <td>2</td>\n",
       "      <td>1</td>\n",
       "      <td>1.0</td>\n",
       "      <td>...</td>\n",
       "      <td>0.0</td>\n",
       "      <td>0.0</td>\n",
       "      <td>0.0</td>\n",
       "      <td>0.0</td>\n",
       "      <td>0.0</td>\n",
       "      <td>704.700000</td>\n",
       "      <td>2017</td>\n",
       "      <td>178.0</td>\n",
       "      <td>-704.700000</td>\n",
       "      <td>70500357</td>\n",
       "    </tr>\n",
       "    <tr>\n",
       "      <th>106888</th>\n",
       "      <td>2</td>\n",
       "      <td>3997865F</td>\n",
       "      <td>46.0</td>\n",
       "      <td>345</td>\n",
       "      <td>2.0</td>\n",
       "      <td>6.0</td>\n",
       "      <td>3.0</td>\n",
       "      <td>6</td>\n",
       "      <td>3</td>\n",
       "      <td>1.0</td>\n",
       "      <td>...</td>\n",
       "      <td>0.0</td>\n",
       "      <td>0.0</td>\n",
       "      <td>0.0</td>\n",
       "      <td>0.0</td>\n",
       "      <td>0.0</td>\n",
       "      <td>846.600000</td>\n",
       "      <td>NaN</td>\n",
       "      <td>NaN</td>\n",
       "      <td>-846.600000</td>\n",
       "      <td>84700345</td>\n",
       "    </tr>\n",
       "    <tr>\n",
       "      <th>49678</th>\n",
       "      <td>2</td>\n",
       "      <td>4471896Q</td>\n",
       "      <td>40.0</td>\n",
       "      <td>724</td>\n",
       "      <td>1.0</td>\n",
       "      <td>6.0</td>\n",
       "      <td>2.0</td>\n",
       "      <td>5</td>\n",
       "      <td>4</td>\n",
       "      <td>2.0</td>\n",
       "      <td>...</td>\n",
       "      <td>0.0</td>\n",
       "      <td>0.0</td>\n",
       "      <td>0.0</td>\n",
       "      <td>0.0</td>\n",
       "      <td>0.0</td>\n",
       "      <td>881.300000</td>\n",
       "      <td>2017</td>\n",
       "      <td>612.4</td>\n",
       "      <td>-881.300000</td>\n",
       "      <td>88100724</td>\n",
       "    </tr>\n",
       "    <tr>\n",
       "      <th>26310</th>\n",
       "      <td>2</td>\n",
       "      <td>3620774T</td>\n",
       "      <td>50.0</td>\n",
       "      <td>2213</td>\n",
       "      <td>2.0</td>\n",
       "      <td>6.0</td>\n",
       "      <td>4.0</td>\n",
       "      <td>6</td>\n",
       "      <td>3</td>\n",
       "      <td>2.0</td>\n",
       "      <td>...</td>\n",
       "      <td>0.0</td>\n",
       "      <td>0.0</td>\n",
       "      <td>0.0</td>\n",
       "      <td>0.0</td>\n",
       "      <td>0.0</td>\n",
       "      <td>1018.666667</td>\n",
       "      <td>2017</td>\n",
       "      <td>21695.6</td>\n",
       "      <td>-1018.666667</td>\n",
       "      <td>101902213</td>\n",
       "    </tr>\n",
       "  </tbody>\n",
       "</table>\n",
       "<p>5 rows × 64 columns</p>\n",
       "</div>"
      ],
      "text/plain": [
       "        cluster      ppsn   age  duration_days_0  sex  LM_code_rank_P1  \\\n",
       "78929         2  7167866L  36.0             3384  1.0              6.0   \n",
       "32067         5  5775190C  56.0              357  1.0              6.0   \n",
       "106888        2  3997865F  46.0              345  2.0              6.0   \n",
       "49678         2  4471896Q  40.0              724  1.0              6.0   \n",
       "26310         2  3620774T  50.0             2213  2.0              6.0   \n",
       "\n",
       "        occupation_rank_P1  ada_code_rank_P1  family_flag_rank_P1  \\\n",
       "78929                  3.0                 5                    4   \n",
       "32067                  4.0                 2                    1   \n",
       "106888                 3.0                 6                    3   \n",
       "49678                  2.0                 5                    4   \n",
       "26310                  4.0                 6                    3   \n",
       "\n",
       "        marital_status_rank_P1    ...      Sum_2013_2015  Sum_2013  Sum_2014  \\\n",
       "78929                      1.0    ...                0.0       0.0       0.0   \n",
       "32067                      1.0    ...                0.0       0.0       0.0   \n",
       "106888                     1.0    ...                0.0       0.0       0.0   \n",
       "49678                      2.0    ...                0.0       0.0       0.0   \n",
       "26310                      2.0    ...                0.0       0.0       0.0   \n",
       "\n",
       "        Sum_2015  mean_2013_2015  mean_payment_2013_to_2015  Year  \\\n",
       "78929        0.0             0.0                 643.833333  2017   \n",
       "32067        0.0             0.0                 704.700000  2017   \n",
       "106888       0.0             0.0                 846.600000   NaN   \n",
       "49678        0.0             0.0                 881.300000  2017   \n",
       "26310        0.0             0.0                1018.666667  2017   \n",
       "\n",
       "        payment_2017  mean_earnings_less_payment_2013_to_2015  cut_value  \n",
       "78929          509.5                              -643.833333   64403384  \n",
       "32067          178.0                              -704.700000   70500357  \n",
       "106888           NaN                              -846.600000   84700345  \n",
       "49678          612.4                              -881.300000   88100724  \n",
       "26310        21695.6                             -1018.666667  101902213  \n",
       "\n",
       "[5 rows x 64 columns]"
      ]
     },
     "execution_count": 51,
     "metadata": {},
     "output_type": "execute_result"
    }
   ],
   "source": [
    "import math\n",
    "\n",
    "get_composite_value = lambda row: int(round(row.mean_2013_2015,0)*math.pow(10, 11) +\n",
    "                                      round(row.mean_payment_2013_to_2015,0)*math.pow(10, 5) +\n",
    "                                      round(row.duration_days_0,0))\n",
    "col = pay_earn_jp_P1.apply(get_composite_value, axis=1)\n",
    "pay_earn_jp_P1 = pay_earn_jp_P1.assign(cut_value=col.values)\n",
    "pay_earn_jp_P1.sort_values(by=['cut_value'], ascending = [True]).head()\n"
   ]
  },
  {
   "cell_type": "code",
   "execution_count": 52,
   "metadata": {},
   "outputs": [
    {
     "data": {
      "text/plain": [
       "(101,)"
      ]
     },
     "execution_count": 52,
     "metadata": {},
     "output_type": "execute_result"
    }
   ],
   "source": [
    "ser, bins = pd.qcut(pay_earn_jp_P1['cut_value'], 100, retbins=True, labels=False)\n",
    "bins.shape"
   ]
  },
  {
   "cell_type": "code",
   "execution_count": 53,
   "metadata": {},
   "outputs": [],
   "source": [
    "# Adjustment to make sure that the smallest value is included in the smallest bin\n",
    "bins[0] = bins[0] - 1"
   ]
  },
  {
   "cell_type": "code",
   "execution_count": 54,
   "metadata": {},
   "outputs": [
    {
     "data": {
      "text/html": [
       "<div>\n",
       "<style scoped>\n",
       "    .dataframe tbody tr th:only-of-type {\n",
       "        vertical-align: middle;\n",
       "    }\n",
       "\n",
       "    .dataframe tbody tr th {\n",
       "        vertical-align: top;\n",
       "    }\n",
       "\n",
       "    .dataframe thead th {\n",
       "        text-align: right;\n",
       "    }\n",
       "</style>\n",
       "<table border=\"1\" class=\"dataframe\">\n",
       "  <thead>\n",
       "    <tr style=\"text-align: right;\">\n",
       "      <th></th>\n",
       "      <th>cluster</th>\n",
       "      <th>ppsn</th>\n",
       "      <th>age</th>\n",
       "      <th>duration_days_0</th>\n",
       "      <th>sex</th>\n",
       "      <th>LM_code_rank_P1</th>\n",
       "      <th>occupation_rank_P1</th>\n",
       "      <th>ada_code_rank_P1</th>\n",
       "      <th>family_flag_rank_P1</th>\n",
       "      <th>marital_status_rank_P1</th>\n",
       "      <th>...</th>\n",
       "      <th>Sum_2013</th>\n",
       "      <th>Sum_2014</th>\n",
       "      <th>Sum_2015</th>\n",
       "      <th>mean_2013_2015</th>\n",
       "      <th>mean_payment_2013_to_2015</th>\n",
       "      <th>Year</th>\n",
       "      <th>payment_2017</th>\n",
       "      <th>mean_earnings_less_payment_2013_to_2015</th>\n",
       "      <th>cut_value</th>\n",
       "      <th>bucket_P1</th>\n",
       "    </tr>\n",
       "  </thead>\n",
       "  <tbody>\n",
       "    <tr>\n",
       "      <th>15</th>\n",
       "      <td>1</td>\n",
       "      <td>0524876Q</td>\n",
       "      <td>55.0</td>\n",
       "      <td>512</td>\n",
       "      <td>1.0</td>\n",
       "      <td>6.0</td>\n",
       "      <td>6.0</td>\n",
       "      <td>1</td>\n",
       "      <td>1</td>\n",
       "      <td>1.0</td>\n",
       "      <td>...</td>\n",
       "      <td>6925.0</td>\n",
       "      <td>2876.0</td>\n",
       "      <td>0.0</td>\n",
       "      <td>3267.000000</td>\n",
       "      <td>6299.100000</td>\n",
       "      <td>2017</td>\n",
       "      <td>10995.1</td>\n",
       "      <td>-3032.100000</td>\n",
       "      <td>326700629900512</td>\n",
       "      <td>92</td>\n",
       "    </tr>\n",
       "    <tr>\n",
       "      <th>52</th>\n",
       "      <td>2</td>\n",
       "      <td>0546004E</td>\n",
       "      <td>30.0</td>\n",
       "      <td>997</td>\n",
       "      <td>2.0</td>\n",
       "      <td>6.0</td>\n",
       "      <td>5.0</td>\n",
       "      <td>5</td>\n",
       "      <td>4</td>\n",
       "      <td>2.0</td>\n",
       "      <td>...</td>\n",
       "      <td>0.0</td>\n",
       "      <td>0.0</td>\n",
       "      <td>0.0</td>\n",
       "      <td>0.000000</td>\n",
       "      <td>17865.733333</td>\n",
       "      <td>2017</td>\n",
       "      <td>27967.4</td>\n",
       "      <td>-17865.733333</td>\n",
       "      <td>1786600997</td>\n",
       "      <td>65</td>\n",
       "    </tr>\n",
       "    <tr>\n",
       "      <th>55</th>\n",
       "      <td>1</td>\n",
       "      <td>0524066E</td>\n",
       "      <td>30.0</td>\n",
       "      <td>352</td>\n",
       "      <td>2.0</td>\n",
       "      <td>6.0</td>\n",
       "      <td>3.0</td>\n",
       "      <td>6</td>\n",
       "      <td>3</td>\n",
       "      <td>2.0</td>\n",
       "      <td>...</td>\n",
       "      <td>8286.0</td>\n",
       "      <td>0.0</td>\n",
       "      <td>0.0</td>\n",
       "      <td>2762.000000</td>\n",
       "      <td>4417.300000</td>\n",
       "      <td>2017</td>\n",
       "      <td>6779.8</td>\n",
       "      <td>-1655.300000</td>\n",
       "      <td>276200441700352</td>\n",
       "      <td>90</td>\n",
       "    </tr>\n",
       "    <tr>\n",
       "      <th>99</th>\n",
       "      <td>1</td>\n",
       "      <td>0714417P</td>\n",
       "      <td>42.0</td>\n",
       "      <td>716</td>\n",
       "      <td>1.0</td>\n",
       "      <td>6.0</td>\n",
       "      <td>6.0</td>\n",
       "      <td>4</td>\n",
       "      <td>2</td>\n",
       "      <td>2.0</td>\n",
       "      <td>...</td>\n",
       "      <td>11112.0</td>\n",
       "      <td>0.0</td>\n",
       "      <td>0.0</td>\n",
       "      <td>3704.000000</td>\n",
       "      <td>12173.066667</td>\n",
       "      <td>2017</td>\n",
       "      <td>16719.3</td>\n",
       "      <td>-8469.066667</td>\n",
       "      <td>370401217300716</td>\n",
       "      <td>93</td>\n",
       "    </tr>\n",
       "    <tr>\n",
       "      <th>109</th>\n",
       "      <td>1</td>\n",
       "      <td>0693900I</td>\n",
       "      <td>40.0</td>\n",
       "      <td>329</td>\n",
       "      <td>1.0</td>\n",
       "      <td>6.0</td>\n",
       "      <td>9.0</td>\n",
       "      <td>2</td>\n",
       "      <td>1</td>\n",
       "      <td>2.0</td>\n",
       "      <td>...</td>\n",
       "      <td>9802.0</td>\n",
       "      <td>4207.0</td>\n",
       "      <td>0.0</td>\n",
       "      <td>4669.666667</td>\n",
       "      <td>6845.500000</td>\n",
       "      <td>NaN</td>\n",
       "      <td>NaN</td>\n",
       "      <td>-2175.833333</td>\n",
       "      <td>467000684600329</td>\n",
       "      <td>94</td>\n",
       "    </tr>\n",
       "  </tbody>\n",
       "</table>\n",
       "<p>5 rows × 65 columns</p>\n",
       "</div>"
      ],
      "text/plain": [
       "     cluster      ppsn   age  duration_days_0  sex  LM_code_rank_P1  \\\n",
       "15         1  0524876Q  55.0              512  1.0              6.0   \n",
       "52         2  0546004E  30.0              997  2.0              6.0   \n",
       "55         1  0524066E  30.0              352  2.0              6.0   \n",
       "99         1  0714417P  42.0              716  1.0              6.0   \n",
       "109        1  0693900I  40.0              329  1.0              6.0   \n",
       "\n",
       "     occupation_rank_P1  ada_code_rank_P1  family_flag_rank_P1  \\\n",
       "15                  6.0                 1                    1   \n",
       "52                  5.0                 5                    4   \n",
       "55                  3.0                 6                    3   \n",
       "99                  6.0                 4                    2   \n",
       "109                 9.0                 2                    1   \n",
       "\n",
       "     marital_status_rank_P1    ...      Sum_2013  Sum_2014  Sum_2015  \\\n",
       "15                      1.0    ...        6925.0    2876.0       0.0   \n",
       "52                      2.0    ...           0.0       0.0       0.0   \n",
       "55                      2.0    ...        8286.0       0.0       0.0   \n",
       "99                      2.0    ...       11112.0       0.0       0.0   \n",
       "109                     2.0    ...        9802.0    4207.0       0.0   \n",
       "\n",
       "     mean_2013_2015  mean_payment_2013_to_2015  Year  payment_2017  \\\n",
       "15      3267.000000                6299.100000  2017       10995.1   \n",
       "52         0.000000               17865.733333  2017       27967.4   \n",
       "55      2762.000000                4417.300000  2017        6779.8   \n",
       "99      3704.000000               12173.066667  2017       16719.3   \n",
       "109     4669.666667                6845.500000   NaN           NaN   \n",
       "\n",
       "     mean_earnings_less_payment_2013_to_2015        cut_value  bucket_P1  \n",
       "15                              -3032.100000  326700629900512         92  \n",
       "52                             -17865.733333       1786600997         65  \n",
       "55                              -1655.300000  276200441700352         90  \n",
       "99                              -8469.066667  370401217300716         93  \n",
       "109                             -2175.833333  467000684600329         94  \n",
       "\n",
       "[5 rows x 65 columns]"
      ]
     },
     "execution_count": 54,
     "metadata": {},
     "output_type": "execute_result"
    }
   ],
   "source": [
    "pay_earn_jp_P1['bucket_P1'] = pd.cut(pay_earn_jp_P1.cut_value, bins, labels=False)\n",
    "pay_earn_jp_P1.head()"
   ]
  },
  {
   "cell_type": "code",
   "execution_count": 55,
   "metadata": {},
   "outputs": [
    {
     "data": {
      "text/plain": [
       "99    69\n",
       "90    69\n",
       "70    69\n",
       "58    69\n",
       "54    69\n",
       "38    69\n",
       "22    69\n",
       "6     69\n",
       "93    69\n",
       "77    69\n",
       "61    69\n",
       "45    69\n",
       "41    69\n",
       "29    69\n",
       "25    69\n",
       "9     69\n",
       "96    69\n",
       "88    69\n",
       "80    69\n",
       "64    69\n",
       "48    69\n",
       "36    69\n",
       "32    69\n",
       "16    69\n",
       "12    69\n",
       "74    69\n",
       "0     69\n",
       "51    69\n",
       "67    69\n",
       "19    69\n",
       "      ..\n",
       "15    68\n",
       "42    68\n",
       "46    68\n",
       "11    68\n",
       "43    68\n",
       "7     68\n",
       "62    68\n",
       "66    68\n",
       "98    68\n",
       "78    68\n",
       "82    68\n",
       "18    68\n",
       "97    68\n",
       "10    68\n",
       "2     68\n",
       "86    68\n",
       "49    68\n",
       "53    68\n",
       "57    68\n",
       "65    68\n",
       "69    68\n",
       "73    68\n",
       "31    68\n",
       "81    68\n",
       "85    68\n",
       "27    68\n",
       "95    68\n",
       "24    67\n",
       "89    67\n",
       "37    67\n",
       "Name: bucket_P1, Length: 100, dtype: int64"
      ]
     },
     "execution_count": 55,
     "metadata": {},
     "output_type": "execute_result"
    }
   ],
   "source": [
    "pay_earn_jp_P1['bucket_P1'].value_counts()"
   ]
  },
  {
   "cell_type": "code",
   "execution_count": 56,
   "metadata": {},
   "outputs": [
    {
     "data": {
      "text/plain": [
       "cluster                                        0\n",
       "ppsn                                           0\n",
       "age                                            0\n",
       "duration_days_0                                0\n",
       "sex                                            0\n",
       "LM_code_rank_P1                                0\n",
       "occupation_rank_P1                          8665\n",
       "ada_code_rank_P1                               0\n",
       "family_flag_rank_P1                            0\n",
       "marital_status_rank_P1                      8665\n",
       "LM_code_rank_P2                                0\n",
       "occupation_rank_P2                         12667\n",
       "ada_code_rank_P2                               0\n",
       "family_flag_rank_P2                            0\n",
       "marital_status_rank_P2                     12667\n",
       "LM_code_rank_P3                                0\n",
       "occupation_rank_P3                         15657\n",
       "ada_code_rank_P3                               0\n",
       "family_flag_rank_P3                            0\n",
       "marital_status_rank_P3                     15657\n",
       "LM_code_rank_P4                                0\n",
       "occupation_rank_P4                         17318\n",
       "ada_code_rank_P4                               0\n",
       "family_flag_rank_P4                            0\n",
       "marital_status_rank_P4                     17318\n",
       "LM_code_rank_P5                                0\n",
       "occupation_rank_P5                         17519\n",
       "ada_code_rank_P5                               0\n",
       "family_flag_rank_P5                            0\n",
       "marital_status_rank_P5                     17519\n",
       "                                           ...  \n",
       "family_flag_rank_P6                            0\n",
       "marital_status_rank_P6                     17322\n",
       "LM_code_rank_P7                                0\n",
       "occupation_rank_P7                         17310\n",
       "ada_code_rank_P7                               0\n",
       "family_flag_rank_P7                            0\n",
       "LM_code_rank_P8                                0\n",
       "occupation_rank_P8                         16922\n",
       "ada_code_rank_P8                               0\n",
       "family_flag_rank_P8                            0\n",
       "marital_status_rank_P7                     17310\n",
       "marital_status_rank_P8                     16922\n",
       "jp_started_P1                                  0\n",
       "jp_started_P2                                  0\n",
       "jp_started_P3                                  0\n",
       "jp_started_P4                                  0\n",
       "jp_started_P5                                  0\n",
       "jp_started_P6                                  0\n",
       "jp_started_P7                                  0\n",
       "jp_started_P8                                  0\n",
       "Duration Bands                                 0\n",
       "Sum_2013_2015                                  0\n",
       "Sum_2013                                       0\n",
       "Sum_2014                                       0\n",
       "Sum_2015                                       0\n",
       "mean_2013_2015                                 0\n",
       "mean_payment_2013_to_2015                      0\n",
       "Year                                       11793\n",
       "payment_2017                               11793\n",
       "mean_earnings_less_payment_2013_to_2015        0\n",
       "Length: 63, dtype: int64"
      ]
     },
     "execution_count": 56,
     "metadata": {},
     "output_type": "execute_result"
    }
   ],
   "source": [
    "pay_earn_jp_not_P1.isnull().sum()"
   ]
  },
  {
   "cell_type": "code",
   "execution_count": 57,
   "metadata": {},
   "outputs": [
    {
     "data": {
      "text/html": [
       "<div>\n",
       "<style scoped>\n",
       "    .dataframe tbody tr th:only-of-type {\n",
       "        vertical-align: middle;\n",
       "    }\n",
       "\n",
       "    .dataframe tbody tr th {\n",
       "        vertical-align: top;\n",
       "    }\n",
       "\n",
       "    .dataframe thead th {\n",
       "        text-align: right;\n",
       "    }\n",
       "</style>\n",
       "<table border=\"1\" class=\"dataframe\">\n",
       "  <thead>\n",
       "    <tr style=\"text-align: right;\">\n",
       "      <th></th>\n",
       "      <th>cluster</th>\n",
       "      <th>ppsn</th>\n",
       "      <th>age</th>\n",
       "      <th>duration_days_0</th>\n",
       "      <th>sex</th>\n",
       "      <th>LM_code_rank_P1</th>\n",
       "      <th>occupation_rank_P1</th>\n",
       "      <th>ada_code_rank_P1</th>\n",
       "      <th>family_flag_rank_P1</th>\n",
       "      <th>marital_status_rank_P1</th>\n",
       "      <th>...</th>\n",
       "      <th>Sum_2013</th>\n",
       "      <th>Sum_2014</th>\n",
       "      <th>Sum_2015</th>\n",
       "      <th>mean_2013_2015</th>\n",
       "      <th>mean_payment_2013_to_2015</th>\n",
       "      <th>Year</th>\n",
       "      <th>payment_2017</th>\n",
       "      <th>mean_earnings_less_payment_2013_to_2015</th>\n",
       "      <th>cut_value</th>\n",
       "      <th>bucket_P1</th>\n",
       "    </tr>\n",
       "  </thead>\n",
       "  <tbody>\n",
       "    <tr>\n",
       "      <th>0</th>\n",
       "      <td>2</td>\n",
       "      <td>0099665M</td>\n",
       "      <td>54.0</td>\n",
       "      <td>6316</td>\n",
       "      <td>1.0</td>\n",
       "      <td>6.0</td>\n",
       "      <td>2.0</td>\n",
       "      <td>5</td>\n",
       "      <td>3</td>\n",
       "      <td>2.0</td>\n",
       "      <td>...</td>\n",
       "      <td>0.0</td>\n",
       "      <td>0.0</td>\n",
       "      <td>0.0</td>\n",
       "      <td>0.0</td>\n",
       "      <td>14300.866667</td>\n",
       "      <td>2017</td>\n",
       "      <td>10735.1</td>\n",
       "      <td>-14300.866667</td>\n",
       "      <td>1430106316</td>\n",
       "      <td>59.0</td>\n",
       "    </tr>\n",
       "    <tr>\n",
       "      <th>1</th>\n",
       "      <td>2</td>\n",
       "      <td>0206477C</td>\n",
       "      <td>59.0</td>\n",
       "      <td>3964</td>\n",
       "      <td>2.0</td>\n",
       "      <td>6.0</td>\n",
       "      <td>5.0</td>\n",
       "      <td>5</td>\n",
       "      <td>3</td>\n",
       "      <td>2.0</td>\n",
       "      <td>...</td>\n",
       "      <td>0.0</td>\n",
       "      <td>0.0</td>\n",
       "      <td>0.0</td>\n",
       "      <td>0.0</td>\n",
       "      <td>14092.266667</td>\n",
       "      <td>2017</td>\n",
       "      <td>17179.6</td>\n",
       "      <td>-14092.266667</td>\n",
       "      <td>1409203964</td>\n",
       "      <td>58.0</td>\n",
       "    </tr>\n",
       "    <tr>\n",
       "      <th>2</th>\n",
       "      <td>2</td>\n",
       "      <td>0202920T</td>\n",
       "      <td>59.0</td>\n",
       "      <td>1285</td>\n",
       "      <td>2.0</td>\n",
       "      <td>6.0</td>\n",
       "      <td>7.0</td>\n",
       "      <td>4</td>\n",
       "      <td>1</td>\n",
       "      <td>2.0</td>\n",
       "      <td>...</td>\n",
       "      <td>0.0</td>\n",
       "      <td>0.0</td>\n",
       "      <td>0.0</td>\n",
       "      <td>0.0</td>\n",
       "      <td>6829.466667</td>\n",
       "      <td>2017</td>\n",
       "      <td>8445.5</td>\n",
       "      <td>-6829.466667</td>\n",
       "      <td>682901285</td>\n",
       "      <td>7.0</td>\n",
       "    </tr>\n",
       "    <tr>\n",
       "      <th>3</th>\n",
       "      <td>5</td>\n",
       "      <td>0205276K</td>\n",
       "      <td>55.0</td>\n",
       "      <td>1415</td>\n",
       "      <td>2.0</td>\n",
       "      <td>6.0</td>\n",
       "      <td>2.0</td>\n",
       "      <td>6</td>\n",
       "      <td>3</td>\n",
       "      <td>2.0</td>\n",
       "      <td>...</td>\n",
       "      <td>0.0</td>\n",
       "      <td>0.0</td>\n",
       "      <td>0.0</td>\n",
       "      <td>0.0</td>\n",
       "      <td>6649.550000</td>\n",
       "      <td>NaN</td>\n",
       "      <td>NaN</td>\n",
       "      <td>-6649.550000</td>\n",
       "      <td>665001415</td>\n",
       "      <td>6.0</td>\n",
       "    </tr>\n",
       "    <tr>\n",
       "      <th>4</th>\n",
       "      <td>2</td>\n",
       "      <td>0202425J</td>\n",
       "      <td>59.0</td>\n",
       "      <td>2445</td>\n",
       "      <td>2.0</td>\n",
       "      <td>6.0</td>\n",
       "      <td>7.0</td>\n",
       "      <td>5</td>\n",
       "      <td>3</td>\n",
       "      <td>2.0</td>\n",
       "      <td>...</td>\n",
       "      <td>0.0</td>\n",
       "      <td>0.0</td>\n",
       "      <td>0.0</td>\n",
       "      <td>0.0</td>\n",
       "      <td>14125.600000</td>\n",
       "      <td>2017</td>\n",
       "      <td>17472.1</td>\n",
       "      <td>-14125.600000</td>\n",
       "      <td>1412602445</td>\n",
       "      <td>58.0</td>\n",
       "    </tr>\n",
       "  </tbody>\n",
       "</table>\n",
       "<p>5 rows × 65 columns</p>\n",
       "</div>"
      ],
      "text/plain": [
       "   cluster      ppsn   age  duration_days_0  sex  LM_code_rank_P1  \\\n",
       "0        2  0099665M  54.0             6316  1.0              6.0   \n",
       "1        2  0206477C  59.0             3964  2.0              6.0   \n",
       "2        2  0202920T  59.0             1285  2.0              6.0   \n",
       "3        5  0205276K  55.0             1415  2.0              6.0   \n",
       "4        2  0202425J  59.0             2445  2.0              6.0   \n",
       "\n",
       "   occupation_rank_P1  ada_code_rank_P1  family_flag_rank_P1  \\\n",
       "0                 2.0                 5                    3   \n",
       "1                 5.0                 5                    3   \n",
       "2                 7.0                 4                    1   \n",
       "3                 2.0                 6                    3   \n",
       "4                 7.0                 5                    3   \n",
       "\n",
       "   marital_status_rank_P1    ...      Sum_2013  Sum_2014  Sum_2015  \\\n",
       "0                     2.0    ...           0.0       0.0       0.0   \n",
       "1                     2.0    ...           0.0       0.0       0.0   \n",
       "2                     2.0    ...           0.0       0.0       0.0   \n",
       "3                     2.0    ...           0.0       0.0       0.0   \n",
       "4                     2.0    ...           0.0       0.0       0.0   \n",
       "\n",
       "   mean_2013_2015  mean_payment_2013_to_2015  Year  payment_2017  \\\n",
       "0             0.0               14300.866667  2017       10735.1   \n",
       "1             0.0               14092.266667  2017       17179.6   \n",
       "2             0.0                6829.466667  2017        8445.5   \n",
       "3             0.0                6649.550000   NaN           NaN   \n",
       "4             0.0               14125.600000  2017       17472.1   \n",
       "\n",
       "   mean_earnings_less_payment_2013_to_2015   cut_value  bucket_P1  \n",
       "0                            -14300.866667  1430106316       59.0  \n",
       "1                            -14092.266667  1409203964       58.0  \n",
       "2                             -6829.466667   682901285        7.0  \n",
       "3                             -6649.550000   665001415        6.0  \n",
       "4                            -14125.600000  1412602445       58.0  \n",
       "\n",
       "[5 rows x 65 columns]"
      ]
     },
     "execution_count": 57,
     "metadata": {},
     "output_type": "execute_result"
    }
   ],
   "source": [
    "col = pay_earn_jp_not_P1.apply(get_composite_value, axis=1)\n",
    "pay_earn_jp_not_P1 = pay_earn_jp_not_P1.assign(cut_value=col.values)\n",
    "\n",
    "pay_earn_jp_not_P1['bucket_P1'] = pd.cut(pay_earn_jp_not_P1.cut_value, bins, labels=False)\n",
    "pay_earn_jp_not_P1.head()"
   ]
  },
  {
   "cell_type": "code",
   "execution_count": 58,
   "metadata": {},
   "outputs": [
    {
     "data": {
      "text/plain": [
       "99.0    3792\n",
       "2.0     1745\n",
       "97.0    1586\n",
       "98.0    1518\n",
       "96.0    1476\n",
       "4.0     1441\n",
       "0.0     1431\n",
       "93.0    1423\n",
       "3.0     1379\n",
       "14.0    1352\n",
       "1.0     1336\n",
       "95.0    1328\n",
       "92.0    1320\n",
       "87.0    1256\n",
       "79.0    1212\n",
       "94.0    1202\n",
       "85.0    1192\n",
       "5.0     1184\n",
       "88.0    1169\n",
       "76.0    1156\n",
       "86.0    1155\n",
       "74.0    1153\n",
       "80.0    1106\n",
       "10.0    1099\n",
       "90.0    1087\n",
       "91.0    1062\n",
       "32.0    1050\n",
       "51.0    1048\n",
       "43.0    1041\n",
       "78.0    1039\n",
       "        ... \n",
       "27.0     896\n",
       "35.0     892\n",
       "67.0     892\n",
       "18.0     888\n",
       "19.0     883\n",
       "89.0     882\n",
       "41.0     881\n",
       "29.0     878\n",
       "8.0      876\n",
       "63.0     855\n",
       "82.0     851\n",
       "39.0     850\n",
       "57.0     850\n",
       "55.0     837\n",
       "26.0     833\n",
       "20.0     826\n",
       "17.0     805\n",
       "12.0     803\n",
       "47.0     801\n",
       "60.0     791\n",
       "7.0      774\n",
       "28.0     771\n",
       "30.0     767\n",
       "70.0     761\n",
       "58.0     757\n",
       "9.0      753\n",
       "25.0     719\n",
       "24.0     687\n",
       "36.0     644\n",
       "21.0     612\n",
       "Name: bucket_P1, Length: 100, dtype: int64"
      ]
     },
     "execution_count": 58,
     "metadata": {},
     "output_type": "execute_result"
    }
   ],
   "source": [
    "pay_earn_jp_not_P1['bucket_P1'].value_counts()"
   ]
  },
  {
   "cell_type": "markdown",
   "metadata": {},
   "source": [
    "# Need to fix the below. Working above."
   ]
  },
  {
   "cell_type": "code",
   "execution_count": 59,
   "metadata": {},
   "outputs": [
    {
     "ename": "KeyError",
     "evalue": "100",
     "output_type": "error",
     "traceback": [
      "\u001b[1;31m---------------------------------------------------------------------------\u001b[0m",
      "\u001b[1;31mKeyError\u001b[0m                                  Traceback (most recent call last)",
      "\u001b[1;32m<ipython-input-59-c11ea1d5f8e5>\u001b[0m in \u001b[0;36m<module>\u001b[1;34m()\u001b[0m\n\u001b[0;32m     14\u001b[0m     \u001b[0mmax_p\u001b[0m\u001b[1;33m.\u001b[0m\u001b[0mappend\u001b[0m\u001b[1;33m(\u001b[0m\u001b[0mpay_earn_jp_P1\u001b[0m\u001b[1;33m.\u001b[0m\u001b[0mloc\u001b[0m\u001b[1;33m[\u001b[0m\u001b[0mpay_earn_jp_P1\u001b[0m\u001b[1;33m[\u001b[0m\u001b[1;34m'bucket_P1'\u001b[0m\u001b[1;33m]\u001b[0m\u001b[1;33m==\u001b[0m\u001b[0mi\u001b[0m\u001b[1;33m]\u001b[0m\u001b[1;33m[\u001b[0m\u001b[1;34m'mean_payment_2013_to_2015'\u001b[0m\u001b[1;33m]\u001b[0m\u001b[1;33m.\u001b[0m\u001b[0mmax\u001b[0m\u001b[1;33m(\u001b[0m\u001b[1;33m)\u001b[0m\u001b[1;33m)\u001b[0m\u001b[1;33m\u001b[0m\u001b[0m\n\u001b[0;32m     15\u001b[0m     \u001b[0mmax_d\u001b[0m\u001b[1;33m.\u001b[0m\u001b[0mappend\u001b[0m\u001b[1;33m(\u001b[0m\u001b[0mpay_earn_jp_P1\u001b[0m\u001b[1;33m.\u001b[0m\u001b[0mloc\u001b[0m\u001b[1;33m[\u001b[0m\u001b[0mpay_earn_jp_P1\u001b[0m\u001b[1;33m[\u001b[0m\u001b[1;34m'bucket_P1'\u001b[0m\u001b[1;33m]\u001b[0m\u001b[1;33m==\u001b[0m\u001b[0mi\u001b[0m\u001b[1;33m]\u001b[0m\u001b[1;33m[\u001b[0m\u001b[1;34m'duration_days_0'\u001b[0m\u001b[1;33m]\u001b[0m\u001b[1;33m.\u001b[0m\u001b[0mmax\u001b[0m\u001b[1;33m(\u001b[0m\u001b[1;33m)\u001b[0m\u001b[1;33m)\u001b[0m\u001b[1;33m\u001b[0m\u001b[0m\n\u001b[1;32m---> 16\u001b[1;33m     \u001b[0mbucket_count\u001b[0m\u001b[1;33m.\u001b[0m\u001b[0mappend\u001b[0m\u001b[1;33m(\u001b[0m\u001b[0mbucket_count_P1\u001b[0m\u001b[1;33m[\u001b[0m\u001b[0mi\u001b[0m\u001b[1;33m]\u001b[0m\u001b[1;33m)\u001b[0m\u001b[1;33m\u001b[0m\u001b[0m\n\u001b[0m\u001b[0;32m     17\u001b[0m \u001b[0mP1\u001b[0m \u001b[1;33m=\u001b[0m \u001b[0mpd\u001b[0m\u001b[1;33m.\u001b[0m\u001b[0mDataFrame\u001b[0m\u001b[1;33m(\u001b[0m\u001b[1;33m)\u001b[0m\u001b[1;33m\u001b[0m\u001b[0m\n\u001b[0;32m     18\u001b[0m \u001b[0mP1\u001b[0m\u001b[1;33m[\u001b[0m\u001b[1;34m'centile'\u001b[0m\u001b[1;33m]\u001b[0m \u001b[1;33m=\u001b[0m \u001b[0mlist\u001b[0m\u001b[1;33m(\u001b[0m\u001b[0mrange\u001b[0m\u001b[1;33m(\u001b[0m\u001b[1;36m1\u001b[0m\u001b[1;33m,\u001b[0m \u001b[1;36m101\u001b[0m\u001b[1;33m)\u001b[0m\u001b[1;33m)\u001b[0m\u001b[1;33m\u001b[0m\u001b[0m\n",
      "\u001b[1;32mC:\\ProgramData\\Anaconda3\\lib\\site-packages\\pandas\\core\\series.py\u001b[0m in \u001b[0;36m__getitem__\u001b[1;34m(self, key)\u001b[0m\n\u001b[0;32m    764\u001b[0m         \u001b[0mkey\u001b[0m \u001b[1;33m=\u001b[0m \u001b[0mcom\u001b[0m\u001b[1;33m.\u001b[0m\u001b[0m_apply_if_callable\u001b[0m\u001b[1;33m(\u001b[0m\u001b[0mkey\u001b[0m\u001b[1;33m,\u001b[0m \u001b[0mself\u001b[0m\u001b[1;33m)\u001b[0m\u001b[1;33m\u001b[0m\u001b[0m\n\u001b[0;32m    765\u001b[0m         \u001b[1;32mtry\u001b[0m\u001b[1;33m:\u001b[0m\u001b[1;33m\u001b[0m\u001b[0m\n\u001b[1;32m--> 766\u001b[1;33m             \u001b[0mresult\u001b[0m \u001b[1;33m=\u001b[0m \u001b[0mself\u001b[0m\u001b[1;33m.\u001b[0m\u001b[0mindex\u001b[0m\u001b[1;33m.\u001b[0m\u001b[0mget_value\u001b[0m\u001b[1;33m(\u001b[0m\u001b[0mself\u001b[0m\u001b[1;33m,\u001b[0m \u001b[0mkey\u001b[0m\u001b[1;33m)\u001b[0m\u001b[1;33m\u001b[0m\u001b[0m\n\u001b[0m\u001b[0;32m    767\u001b[0m \u001b[1;33m\u001b[0m\u001b[0m\n\u001b[0;32m    768\u001b[0m             \u001b[1;32mif\u001b[0m \u001b[1;32mnot\u001b[0m \u001b[0mis_scalar\u001b[0m\u001b[1;33m(\u001b[0m\u001b[0mresult\u001b[0m\u001b[1;33m)\u001b[0m\u001b[1;33m:\u001b[0m\u001b[1;33m\u001b[0m\u001b[0m\n",
      "\u001b[1;32mC:\\ProgramData\\Anaconda3\\lib\\site-packages\\pandas\\core\\indexes\\base.py\u001b[0m in \u001b[0;36mget_value\u001b[1;34m(self, series, key)\u001b[0m\n\u001b[0;32m   3101\u001b[0m         \u001b[1;32mtry\u001b[0m\u001b[1;33m:\u001b[0m\u001b[1;33m\u001b[0m\u001b[0m\n\u001b[0;32m   3102\u001b[0m             return self._engine.get_value(s, k,\n\u001b[1;32m-> 3103\u001b[1;33m                                           tz=getattr(series.dtype, 'tz', None))\n\u001b[0m\u001b[0;32m   3104\u001b[0m         \u001b[1;32mexcept\u001b[0m \u001b[0mKeyError\u001b[0m \u001b[1;32mas\u001b[0m \u001b[0me1\u001b[0m\u001b[1;33m:\u001b[0m\u001b[1;33m\u001b[0m\u001b[0m\n\u001b[0;32m   3105\u001b[0m             \u001b[1;32mif\u001b[0m \u001b[0mlen\u001b[0m\u001b[1;33m(\u001b[0m\u001b[0mself\u001b[0m\u001b[1;33m)\u001b[0m \u001b[1;33m>\u001b[0m \u001b[1;36m0\u001b[0m \u001b[1;32mand\u001b[0m \u001b[0mself\u001b[0m\u001b[1;33m.\u001b[0m\u001b[0minferred_type\u001b[0m \u001b[1;32min\u001b[0m \u001b[1;33m[\u001b[0m\u001b[1;34m'integer'\u001b[0m\u001b[1;33m,\u001b[0m \u001b[1;34m'boolean'\u001b[0m\u001b[1;33m]\u001b[0m\u001b[1;33m:\u001b[0m\u001b[1;33m\u001b[0m\u001b[0m\n",
      "\u001b[1;32mpandas\\_libs\\index.pyx\u001b[0m in \u001b[0;36mpandas._libs.index.IndexEngine.get_value\u001b[1;34m()\u001b[0m\n",
      "\u001b[1;32mpandas\\_libs\\index.pyx\u001b[0m in \u001b[0;36mpandas._libs.index.IndexEngine.get_value\u001b[1;34m()\u001b[0m\n",
      "\u001b[1;32mpandas\\_libs\\index.pyx\u001b[0m in \u001b[0;36mpandas._libs.index.IndexEngine.get_loc\u001b[1;34m()\u001b[0m\n",
      "\u001b[1;32mpandas\\_libs\\hashtable_class_helper.pxi\u001b[0m in \u001b[0;36mpandas._libs.hashtable.Int64HashTable.get_item\u001b[1;34m()\u001b[0m\n",
      "\u001b[1;32mpandas\\_libs\\hashtable_class_helper.pxi\u001b[0m in \u001b[0;36mpandas._libs.hashtable.Int64HashTable.get_item\u001b[1;34m()\u001b[0m\n",
      "\u001b[1;31mKeyError\u001b[0m: 100"
     ]
    }
   ],
   "source": [
    "min_e = []\n",
    "min_p = []\n",
    "min_d = []\n",
    "max_e = []\n",
    "max_p = []\n",
    "max_d = []\n",
    "bucket_count = []\n",
    "bucket_count_P1 = pay_earn_jp_P1['bucket_P1'].value_counts()\n",
    "for i in range (1, 101):\n",
    "    min_e.append(pay_earn_jp_P1.loc[pay_earn_jp_P1['bucket_P1']==i]['mean_2013_2015'].min())\n",
    "    min_p.append(pay_earn_jp_P1.loc[pay_earn_jp_P1['bucket_P1']==i]['mean_payment_2013_to_2015'].min())\n",
    "    min_d.append(pay_earn_jp_P1.loc[pay_earn_jp_P1['bucket_P1']==i]['duration_days_0'].min())\n",
    "    max_e.append(pay_earn_jp_P1.loc[pay_earn_jp_P1['bucket_P1']==i]['mean_2013_2015'].max())\n",
    "    max_p.append(pay_earn_jp_P1.loc[pay_earn_jp_P1['bucket_P1']==i]['mean_payment_2013_to_2015'].max())\n",
    "    max_d.append(pay_earn_jp_P1.loc[pay_earn_jp_P1['bucket_P1']==i]['duration_days_0'].max())\n",
    "    bucket_count.append(bucket_count_P1[i])\n",
    "P1 = pd.DataFrame()\n",
    "P1['centile'] = list(range(1, 101))\n",
    "P1['mean_earnings_min'] = min_e\n",
    "P1['mean_earnings_max'] = max_e\n",
    "P1['mean_payment_min'] = min_p\n",
    "P1['mean_payment_max'] = max_p\n",
    "P1['duration_min'] = min_d\n",
    "P1['duration_max'] = max_d\n",
    "P1['bucket_count'] = bucket_count\n",
    "\n",
    "P1"
   ]
  },
  {
   "cell_type": "code",
   "execution_count": null,
   "metadata": {},
   "outputs": [],
   "source": []
  },
  {
   "cell_type": "code",
   "execution_count": null,
   "metadata": {},
   "outputs": [],
   "source": []
  },
  {
   "cell_type": "code",
   "execution_count": null,
   "metadata": {},
   "outputs": [],
   "source": []
  },
  {
   "cell_type": "code",
   "execution_count": null,
   "metadata": {},
   "outputs": [],
   "source": []
  },
  {
   "cell_type": "code",
   "execution_count": null,
   "metadata": {},
   "outputs": [],
   "source": []
  },
  {
   "cell_type": "code",
   "execution_count": null,
   "metadata": {},
   "outputs": [],
   "source": []
  },
  {
   "cell_type": "code",
   "execution_count": null,
   "metadata": {},
   "outputs": [],
   "source": []
  },
  {
   "cell_type": "markdown",
   "metadata": {},
   "source": [
    "## P - Values of variables"
   ]
  },
  {
   "cell_type": "code",
   "execution_count": null,
   "metadata": {},
   "outputs": [],
   "source": []
  },
  {
   "cell_type": "code",
   "execution_count": null,
   "metadata": {
    "scrolled": true
   },
   "outputs": [],
   "source": [
    "from sklearn import datasets, linear_model\n",
    "from sklearn.linear_model import LinearRegression\n",
    "import statsmodels.api as sm\n",
    "from scipy import stats\n",
    "\n",
    "x=['cluster',\n",
    "'age',\n",
    "'Duration Bands',\n",
    "'sex',\n",
    "]\n",
    "y=['jp_started_P1']\n",
    "X=data_final[x]\n",
    "Y=data_final[y]\n",
    "\n",
    "X2 = sm.add_constant(X)\n",
    "est = sm.OLS(Y, X2)\n",
    "est2 = est.fit()\n",
    "print(est2.summary())"
   ]
  },
  {
   "cell_type": "markdown",
   "metadata": {},
   "source": [
    "## Variable importance by logistic"
   ]
  },
  {
   "cell_type": "code",
   "execution_count": null,
   "metadata": {},
   "outputs": [],
   "source": [
    "import numpy as np    \n",
    "from sklearn.linear_model import LogisticRegression\n",
    "\n",
    "x=['cluster',\n",
    "'age',\n",
    "'Duration Bands',\n",
    "'sex',\n",
    "]\n",
    "y=['jp_started_P1']\n",
    "X=data_final[x]\n",
    "Y=data_final[y]\n",
    "\n",
    "m = LogisticRegression()\n",
    "m.fit(X/ np.std(X, 0), Y)\n",
    "\n",
    "# The estimated coefficients will all be around 1:\n",
    "print(m.coef_)\n",
    "\n"
   ]
  },
  {
   "cell_type": "markdown",
   "metadata": {},
   "source": [
    "## Variable importance by Random forest"
   ]
  },
  {
   "cell_type": "code",
   "execution_count": null,
   "metadata": {},
   "outputs": [],
   "source": [
    "from sklearn.ensemble import RandomForestRegressor\n",
    "model = RandomForestRegressor()\n",
    "x=['cluster',\n",
    "   'age',\n",
    "'Duration Bands',\n",
    "'sex',\n",
    "'LM_code_rank_P1',\n",
    "'occupation_rank_P1',\n",
    "'ada_code_rank_P1',\n",
    "'family_flag_rank_P1',\n",
    "'marital_status_rank_P1','Sum_2012-2015']\n",
    "y=['jp_started_P1']\n",
    "\n",
    "X=data_final[x]\n",
    "Y=data_final[y]\n",
    "model.fit(X,Y)\n",
    "# display the relative importance of each attribute\n",
    "importances = model.feature_importances_\n",
    "#Sort it\n",
    "print (\"Sorted Feature Importance:\")\n",
    "sorted_feature_importance = sorted(zip(importances, list(X)), reverse=True)\n",
    "print (sorted_feature_importance)"
   ]
  },
  {
   "cell_type": "markdown",
   "metadata": {},
   "source": [
    "## Propensity Scores Calculation for 8 quarters (Logistic Regression)"
   ]
  },
  {
   "cell_type": "code",
   "execution_count": null,
   "metadata": {},
   "outputs": [],
   "source": [
    "appended_data = []\n",
    "for i in range(1,9):\n",
    "    #variable initialization \n",
    "    jp_started = 'jp_started_P'+str(i)\n",
    "    data_jp_i = 'data_jp_i'+str(i)\n",
    "    data_jp_i = data_final[(data_final[jp_started] == 1) | (data_final[jp_started] == 0) ]\n",
    "    LM_code_rank = 'LM_code_rank_P'+str(i)\n",
    "    age = 'age'\n",
    "    sex = 'sex'\n",
    "    ada_code_rank = 'ada_code_rank_P'+str(i)\n",
    "    family_flag_rank = 'family_flag_rank_P'+str(i)\n",
    "    marital_status_rank = 'marital_status_rank_P'+str(i)\n",
    "    Propensity='Propensity'+str(i)\n",
    "    Probability='Probability'+str(i)\n",
    "    # propensity score calculation\n",
    "    from sklearn.linear_model import LogisticRegression\n",
    "    names = [age,'Duration Bands',sex]\n",
    "    propensity = LogisticRegression()\n",
    "    propensity = propensity.fit(data_jp_i[names], data_jp_i[jp_started])\n",
    "    pscore = propensity.predict_proba(data_jp_i[names])[:,1] # The predicted propensities by the model\n",
    "    data_jp_i[Propensity] = pscore\n",
    "    data_jp_i[Probability] = 1-pscore\n",
    "    keep = [Propensity,Probability, age, sex,jp_started]\n",
    "    data_jp_i = data_jp_i[keep]\n",
    "    appended_data.append(data_jp_i)\n",
    "    \n",
    "appended_data = pd.concat(appended_data, axis=1)"
   ]
  },
  {
   "cell_type": "code",
   "execution_count": null,
   "metadata": {},
   "outputs": [],
   "source": [
    "appended_data.head()"
   ]
  },
  {
   "cell_type": "code",
   "execution_count": null,
   "metadata": {},
   "outputs": [],
   "source": [
    "appended_data_final = []\n",
    "# Common attributes\n",
    "keep1 = ['cluster','ppsn','age','sex','Duration Bands']\n",
    "df = data_final[(data_final[jp_started] == 1) | (data_final[jp_started] == 0) ]\n",
    "df = df[keep1]\n",
    "appended_data_final = pd.concat([df,appended_data], axis=1)\n",
    "appended_data_final.to_csv('propensity_scores.csv')"
   ]
  },
  {
   "cell_type": "code",
   "execution_count": null,
   "metadata": {},
   "outputs": [],
   "source": []
  },
  {
   "cell_type": "markdown",
   "metadata": {},
   "source": [
    "## Propensity Scores Calculation for 1 quarter (Random Forest)"
   ]
  },
  {
   "cell_type": "code",
   "execution_count": null,
   "metadata": {},
   "outputs": [],
   "source": [
    "non_treated_df = data_final[data_final.jp_started_P1 == 0]\n",
    "treated_df = data_final[data_final.jp_started_P1 == 1]\n",
    "data_jp=pd.concat([treated_df,non_treated_df])\n",
    "data_jp=data_jp.reset_index()\n",
    "\n",
    "from sklearn.ensemble import RandomForestRegressor\n",
    "\n",
    "names2 = ['Sum_2012-2015', 'age',  'occupation_rank_P1','Duration Bands','ada_code_rank_P1', 'cluster']\n",
    "\n",
    "propensity2 = RandomForestRegressor()\n",
    "\n",
    "propensity2 = propensity2.fit(data_jp[names2], data_jp.jp_started_P1)\n",
    "pscore2 = propensity2.predict(data_jp[names2]) # The predicted propensities by the model\n",
    "print(pscore2[:5])\n",
    "\n",
    "data_jp['Propensity_RF'] = pscore2"
   ]
  },
  {
   "cell_type": "markdown",
   "metadata": {},
   "source": [
    "## Propensity Score distribution Graphically "
   ]
  },
  {
   "cell_type": "code",
   "execution_count": null,
   "metadata": {},
   "outputs": [],
   "source": [
    "import matplotlib.pyplot as plt\n",
    "\n",
    "\n",
    "ax1 = plt.subplot2grid((1,1), (0,0))\n",
    "\n",
    "\n",
    "data_jp.groupby(\"jp_started_P1\").Propensity.plot(kind='hist', ax=ax1,alpha=0.6,bins = np.arange(min(data_jp['Propensity']),max(data_jp['Propensity']),.05))\n",
    "data_jp.groupby(\"jp_started_P1\").Propensity.plot(kind='kde', ax=ax1,secondary_y=True,legend = True)\n"
   ]
  },
  {
   "cell_type": "code",
   "execution_count": null,
   "metadata": {},
   "outputs": [],
   "source": [
    "import numpy as np\n",
    "import pandas as pd\n",
    "import seaborn as sns\n",
    "\n",
    "\n",
    "unique_vals = data_jp['jp_started_P1'].unique()\n",
    "print(unique_vals)\n",
    "\n",
    "# Sort the dataframe by target\n",
    "# Use a list comprehension to create list of sliced dataframes\n",
    "targets = [data_jp.loc[data_jp['jp_started_P1'] == val] for val in unique_vals]\n",
    "\n",
    "# Iterate through list and plot the sliced dataframe\n",
    "for target in targets:\n",
    "    sns.distplot(target[['Propensity']], hist = False, kde = True,\n",
    "                 kde_kws = {'shade': True, 'linewidth': 3})\n"
   ]
  },
  {
   "cell_type": "code",
   "execution_count": null,
   "metadata": {},
   "outputs": [],
   "source": [
    "data_jp.Propensity.hist(by=data_jp.jp_started_P1)"
   ]
  },
  {
   "cell_type": "code",
   "execution_count": null,
   "metadata": {},
   "outputs": [],
   "source": [
    "data_jp.Propensity_RF.hist(by=data_jp.jp_started_P1)"
   ]
  },
  {
   "cell_type": "code",
   "execution_count": null,
   "metadata": {},
   "outputs": [],
   "source": [
    "import numpy as np\n",
    "import pandas as pd\n",
    "import seaborn as sns\n",
    "\n",
    "\n",
    "unique_vals = data_jp['jp_started_P1'].unique()\n",
    "print(unique_vals)\n",
    "\n",
    "# Sort the dataframe by target\n",
    "# Use a list comprehension to create list of sliced dataframes\n",
    "targets = [data_jp.loc[data_jp['jp_started_P1'] == val] for val in unique_vals]\n",
    "\n",
    "# Iterate through list and plot the sliced dataframe\n",
    "for target in targets:\n",
    "    sns.distplot(target[['Propensity_RF']], hist = False, kde = True,\n",
    "                 kde_kws = {'shade': True, 'linewidth': 3})"
   ]
  },
  {
   "cell_type": "markdown",
   "metadata": {},
   "source": [
    "## Matching of Propensity score between Treatment & Control Group"
   ]
  },
  {
   "cell_type": "code",
   "execution_count": null,
   "metadata": {},
   "outputs": [],
   "source": [
    "def Match(groups, propensity, caliper = 0.05):\n",
    "    \n",
    "    # Check inputs\n",
    "    if any(propensity <0) or any(propensity >1):\n",
    "        raise ValueError('Propensity scores must be between 0 and 1')\n",
    "    elif not(0<caliper<1):\n",
    "        raise ValueError('Caliper must be between 0 and 1')\n",
    "    elif len(groups)!= len(propensity):\n",
    "        raise ValueError('groups and propensity scores must be same dimension')\n",
    "    elif len(groups.unique()) != 2:\n",
    "        raise ValueError('wrong number of groups')\n",
    "\n",
    "\n",
    "    # Code groups as 0 and 1\n",
    "    groups = groups == groups.unique()[0]\n",
    "    N = len(groups)\n",
    "    N1 = groups.sum(); N2 = N-N1\n",
    "    g1, g2 = propensity[groups == 1], (propensity[groups == 0])\n",
    "\n",
    "    # Check if treatment groups got flipped - treatment (coded 1) should be the smaller\n",
    "    if N1 > N2:\n",
    "       N1, N2, g1, g2 = N2, N1, g2, g1 \n",
    "\n",
    "    \n",
    "    # Randomly permute the smaller group to get order for matching\n",
    "    morder = np.random.permutation(N1)\n",
    "    matches = pd.Series(np.empty(N1))\n",
    "    matches[:] = np.NAN\n",
    "    for m in morder:\n",
    "        dist = abs(g1[m]- g2)\n",
    "        if dist.min() <= caliper:\n",
    "            matches[m] = dist.idxmin()\n",
    "            g2 = g2.drop(matches[m])\n",
    "    return (matches)"
   ]
  },
  {
   "cell_type": "code",
   "execution_count": null,
   "metadata": {},
   "outputs": [],
   "source": [
    "#Displaying propensity scores side by side for both the groups\n",
    "\n",
    "stuff = Match(data_jp.jp_started_P1, data_jp.Propensity)\n",
    "g1, g2 = data_jp.Propensity[data_jp.jp_started_P1==1], data_jp.Propensity[data_jp.jp_started_P1==0]\n",
    "stuff = stuff.dropna()\n",
    "stuff = stuff.astype(int)"
   ]
  },
  {
   "cell_type": "code",
   "execution_count": null,
   "metadata": {},
   "outputs": [],
   "source": [
    "line = []\n",
    "line1 =[]\n",
    "for i, v in stuff.iteritems():\n",
    "    \n",
    "    #Logistic\n",
    "    line=[g1[i],g2[v],data_jp['ppsn'][i],data_jp['Duration Bands'][i],data_jp.cluster[i],data_jp.LM_code_rank_P1[i],data_jp.marital_status_rank_P1[i],data_jp.family_flag_rank_P1[i],data_jp['Sum_2012-2015'][i],data_jp['ppsn'][v],data_jp['Duration Bands'][v],data_jp.cluster[v],data_jp.LM_code_rank_P1[v],data_jp.marital_status_rank_P1[v],data_jp.family_flag_rank_P1[v],data_jp['Sum_2012-2015'][v]]\n",
    "    #Random \n",
    "    #line=[g1[i],g2[v],data_jp['ppsn'][i],data_jp['Duration Bands'][i],data_jp.cluster[i],data_jp.age[i],data_jp.ada_code_rank_P1[i],data_jp.occupation_rank_P1[i],data_jp['Sum_2012-2015'][i],data_jp['ppsn'][v],data_jp['Duration Bands'][v],data_jp.cluster[v],data_jp.age[v],data_jp.ada_code_rank_P1[v],data_jp.occupation_rank_P1[v],data_jp['Sum_2012-2015'][v]]\n",
    "    \n",
    "    line1.append(line)\n",
    "    \n",
    "df=pd.DataFrame(line1)"
   ]
  },
  {
   "cell_type": "code",
   "execution_count": null,
   "metadata": {},
   "outputs": [],
   "source": [
    "#df.to_csv('propensity_Random.csv')\n",
    "df.to_csv('propensity_logistic.csv')"
   ]
  },
  {
   "cell_type": "markdown",
   "metadata": {},
   "source": [
    "### Description of outcome, by cluster"
   ]
  },
  {
   "cell_type": "code",
   "execution_count": null,
   "metadata": {},
   "outputs": [],
   "source": [
    "list(data_jp)"
   ]
  },
  {
   "cell_type": "code",
   "execution_count": null,
   "metadata": {},
   "outputs": [],
   "source": [
    "print(' ')\n",
    "# Crosstab of outcomes, raw numbers\n",
    "tab_lab_detoutcome_countsP1 = pd.crosstab(index = data_jp['status_simple_P1'], \n",
    "                                      columns = data_jp['cluster'], \n",
    "                                      margins = True).round(2)\n",
    "\n",
    "display(tab_lab_detoutcome_countsP1)\n",
    "# Select totals columns \n",
    "# totals = tab_lab_detoutcome_counts['All'].map(lambda x: \"{:,}\".format(x))\n",
    "\n",
    "# # Cross tab of outcomes, normalised for each nationality group.\n",
    "tab_lab_detoutcome_freq1 = pd.crosstab(index = data_jp['status_simple_P1'], \n",
    "                                       columns = data_jp['cluster'], \n",
    "                                       normalize = 'columns').round(2)\n",
    "                                       \n",
    "display(tab_lab_detoutcome_freq1)\n",
    "\n",
    "\n",
    "tab_lab_detoutcome_freq2 = pd.crosstab(index = data_jp['status_simple_P2'], \n",
    "                                       columns = data_jp['cluster'], \n",
    "                                       normalize = 'columns').round(2)\n",
    "                                       \n",
    "display(tab_lab_detoutcome_freq2)\n",
    "\n",
    "tab_lab_detoutcome_freq3 = pd.crosstab(index = data_jp['status_simple_P3'], \n",
    "                                       columns = data_jp['cluster'], \n",
    "                                       normalize = 'columns').round(2)\n",
    "                                       \n",
    "display(tab_lab_detoutcome_freq3)\n",
    "\n",
    "tab_lab_detoutcome_freq4 = pd.crosstab(index = data_jp['status_simple_P4'], \n",
    "                                       columns = data_jp['cluster'], \n",
    "                                       normalize = 'columns').round(2)\n",
    "                                       \n",
    "display(tab_lab_detoutcome_freq4)\n",
    "\n",
    "tab_lab_detoutcome_freq5 = pd.crosstab(index = data_jp['status_simple_P5'], \n",
    "                                       columns = data_jp['cluster'], \n",
    "                                       normalize = 'columns').round(2)\n",
    "                                       \n",
    "display(tab_lab_detoutcome_freq5)\n",
    "\n",
    "tab_lab_detoutcome_freq6 = pd.crosstab(index = data_jp['status_simple_P6'], \n",
    "                                       columns = data_jp['cluster'], \n",
    "                                       normalize = 'columns').round(2)\n",
    "                                       \n",
    "display(tab_lab_detoutcome_freq6)\n",
    "\n",
    "\n",
    "# # Reorder columns\n",
    "# tab_lab_detoutcome_freq = tab_lab_detoutcome_freq[column_order]\n",
    "\n",
    "# # Create a row containing totals\n",
    "# tab_lab_detoutcome_freq.loc['All'] = tab_lab_detoutcome_freq.sum().round(1)\n",
    "\n",
    "# # Join totals and frequency tables\n",
    "# joined_table = pd.concat([tab_lab_detoutcome_freq, totals], axis = 1)   \n",
    "\n",
    "# # rename rows and columns\n",
    "# joined_table = joined_table.rename(columns = {'All' : 'N'})\n",
    "# joined_table = joined_table.rename({'All' : 'All outcomes'})\n",
    "\n",
    "# # output\n",
    "# display(joined_table)\n",
    "\n",
    "# # spacing for output\n",
    "# print(color.BOLD + 'Table 18: ' + color.END +' Labour market outcomes by nationality group' )\n",
    "# print('(Source: DEASP Administrative Data)')\n",
    "\n",
    "\n",
    "print(' ')\n",
    "in_LR =  data_jp.loc[ data_jp['status_simple_P2'] == 'On Live Register']\n",
    "\n",
    "\n",
    "in_LR_by_sex = pd.crosstab(index = in_LR['sex'], \n",
    "                                      columns = in_LR['cluster'],\n",
    "                                      margins = True).round(2)\n",
    "\n",
    "\n",
    "display(in_LR_by_sex)\n",
    "#in_emp_by_age = in_emp_by_age[column_order]\n",
    "#in_LR_by_sex['Total'] = in_LR_by_sex.sum(axis =1)\n",
    "\n",
    "\n",
    "# display(in_emp_by_age.applymap(lambda x: \"{:,}\".format(x)))\n",
    "# print(color.BOLD + 'Table X: ' + color.END)\n",
    "\n",
    "\n",
    "# display(claims_by_age_nat.astype(int).applymap(lambda x: \"{:,}\".format(x)))\n",
    "# print(color.BOLD + 'Table X: ' + color.END)\n",
    "\n",
    "#proportion_employment = in_emp_by_age.div(claims_by_age_nat).mul(100).round(2)\n",
    "\n",
    "#display(proportion_employment[:-1])\n"
   ]
  },
  {
   "cell_type": "code",
   "execution_count": null,
   "metadata": {},
   "outputs": [],
   "source": []
  }
 ],
 "metadata": {
  "kernelspec": {
   "display_name": "Python 3",
   "language": "python",
   "name": "python3"
  },
  "language_info": {
   "codemirror_mode": {
    "name": "ipython",
    "version": 3
   },
   "file_extension": ".py",
   "mimetype": "text/x-python",
   "name": "python",
   "nbconvert_exporter": "python",
   "pygments_lexer": "ipython3",
   "version": "3.6.5"
  }
 },
 "nbformat": 4,
 "nbformat_minor": 2
}
